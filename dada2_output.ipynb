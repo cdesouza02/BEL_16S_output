{
 "cells": [
  {
   "cell_type": "code",
   "execution_count": 1,
   "id": "0c1b92f7-3c58-4f8f-927c-efddc5badeb0",
   "metadata": {
    "execution": {
     "iopub.execute_input": "2025-09-23T21:36:14.488079Z",
     "iopub.status.busy": "2025-09-23T21:36:14.486565Z",
     "iopub.status.idle": "2025-09-23T21:36:18.986365Z",
     "shell.execute_reply": "2025-09-23T21:36:18.985204Z"
    },
    "papermill": {
     "duration": 4.514078,
     "end_time": "2025-09-23T21:36:18.987395",
     "exception": false,
     "start_time": "2025-09-23T21:36:14.473317",
     "status": "completed"
    },
    "tags": []
   },
   "outputs": [
    {
     "name": "stderr",
     "output_type": "stream",
     "text": [
      "'getOption(\"repos\")' replaces Bioconductor standard repositories, see\n",
      "'help(\"repositories\", package = \"BiocManager\")' for details.\n",
      "Replacement repositories:\n",
      "    CRAN: https://cran.r-project.org\n",
      "\n"
     ]
    },
    {
     "name": "stderr",
     "output_type": "stream",
     "text": [
      "Bioconductor version 3.18 (BiocManager 1.30.22), R 4.3.3 (2024-02-29)\n",
      "\n"
     ]
    },
    {
     "name": "stderr",
     "output_type": "stream",
     "text": [
      "Warning message:\n",
      "“package(s) not installed when version(s) same as or greater than current; use\n",
      "  `force = TRUE` to re-install: 'dada2'”\n"
     ]
    },
    {
     "name": "stderr",
     "output_type": "stream",
     "text": [
      "Old packages: 'Biobase', 'BiocGenerics', 'BiocManager', 'BiocParallel',\n",
      "  'Biostrings', 'broom', 'colorspace', 'dbplyr', 'DelayedArray', 'dtplyr',\n",
      "  'evaluate', 'gargle', 'GenomeInfoDb', 'GenomicAlignments', 'GenomicRanges',\n",
      "  'ggplot2', 'googledrive', 'googlesheets4', 'IRanges', 'latticeExtra',\n",
      "  'magrittr', 'MatrixGenerics', 'pillar', 'ragg', 'RcppParallel', 'Rhtslib',\n",
      "  'Rsamtools', 'rvest', 'S4Arrays', 'S4Vectors', 'ShortRead', 'stringr',\n",
      "  'SummarizedExperiment', 'textshaping', 'vroom', 'XVector', 'zlibbioc'\n",
      "\n"
     ]
    }
   ],
   "source": [
    "if (!requireNamespace(\"BiocManager\", quietly = TRUE))\n",
    "    install.packages(\"BiocManager\")\n",
    "BiocManager::install(\"dada2\", version = \"3.18\")"
   ]
  },
  {
   "cell_type": "code",
   "execution_count": 2,
   "id": "8fbe927e-1b4b-4cc2-8298-37146147b709",
   "metadata": {
    "execution": {
     "iopub.execute_input": "2025-09-23T21:36:19.021884Z",
     "iopub.status.busy": "2025-09-23T21:36:19.003009Z",
     "iopub.status.idle": "2025-09-23T21:36:29.339446Z",
     "shell.execute_reply": "2025-09-23T21:36:29.338257Z"
    },
    "papermill": {
     "duration": 10.346641,
     "end_time": "2025-09-23T21:36:29.340682",
     "exception": false,
     "start_time": "2025-09-23T21:36:18.994041",
     "status": "completed"
    },
    "tags": []
   },
   "outputs": [
    {
     "name": "stderr",
     "output_type": "stream",
     "text": [
      "Loading required package: Rcpp\n",
      "\n"
     ]
    }
   ],
   "source": [
    "library(\"dada2\")"
   ]
  },
  {
   "cell_type": "code",
   "execution_count": 3,
   "id": "b72fa635-aad3-4bd2-9b17-fcbee93b19c3",
   "metadata": {
    "execution": {
     "iopub.execute_input": "2025-09-23T21:36:29.359818Z",
     "iopub.status.busy": "2025-09-23T21:36:29.358752Z",
     "iopub.status.idle": "2025-09-23T21:36:29.368039Z",
     "shell.execute_reply": "2025-09-23T21:36:29.367068Z"
    },
    "papermill": {
     "duration": 0.018751,
     "end_time": "2025-09-23T21:36:29.369053",
     "exception": false,
     "start_time": "2025-09-23T21:36:29.350302",
     "status": "completed"
    },
    "tags": []
   },
   "outputs": [],
   "source": [
    "pathF=\"/scratch3/workspace/caroline_desouza_uml_edu-CBC_immune_microbe/split_reads/16S/R1\"\n",
    "pathR=\"/scratch3/workspace/caroline_desouza_uml_edu-CBC_immune_microbe/split_reads/16S/R2\""
   ]
  },
  {
   "cell_type": "code",
   "execution_count": 4,
   "id": "914cba99-1bb1-421b-818e-b4bfc982c270",
   "metadata": {
    "execution": {
     "iopub.execute_input": "2025-09-23T21:36:29.386278Z",
     "iopub.status.busy": "2025-09-23T21:36:29.385476Z",
     "iopub.status.idle": "2025-09-23T21:36:29.406727Z",
     "shell.execute_reply": "2025-09-23T21:36:29.405784Z"
    },
    "papermill": {
     "duration": 0.030042,
     "end_time": "2025-09-23T21:36:29.407713",
     "exception": false,
     "start_time": "2025-09-23T21:36:29.377671",
     "status": "completed"
    },
    "tags": []
   },
   "outputs": [
    {
     "data": {
      "text/html": [
       "<style>\n",
       ".list-inline {list-style: none; margin:0; padding: 0}\n",
       ".list-inline>li {display: inline-block}\n",
       ".list-inline>li:not(:last-child)::after {content: \"\\00b7\"; padding: 0 .5ex}\n",
       "</style>\n",
       "<ol class=list-inline><li>'012024-BEL-CBC-T1-557-SSID_S56_R1_16S.fastq'</li><li>'012024-BEL-CBC-T1-563-PSTR_S68_R1_16S.fastq'</li><li>'012024-BEL-CBC-T2-601-OFAV_S58_R1_16S.fastq'</li><li>'012024-BEL-CBC-T2-605-SSID_S83_R1_16S.fastq'</li><li>'012024-BEL-CBC-T3-627-PAST_S81_R1_16S.fastq'</li><li>'012024-BEL-CBC-T3-631-MCAV_S61_R1_16S.fastq'</li><li>'012024-BEL-CBC-T3-633-MCAV_S69_R1_16S.fastq'</li><li>'012024-BEL-CBC-T3-637-SSID_S70_R1_16S.fastq'</li><li>'012024-BEL-CBC-T4-661-PSTR_S71_R1_16S.fastq'</li><li>'012024-BEL-CBC-T4-663-PSTR_S82_R1_16S.fastq'</li><li>'022024-BEL-CBC-T1-775-OANN_S93_R1_16S.fastq'</li><li>'022024-BEL-CBC-T1-776-PSTR_S59_R1_16S.fastq'</li><li>'022024-BEL-CBC-T2-804-OFAV_S87_R1_16S.fastq'</li><li>'022024-BEL-CBC-T2-814-MCAV_S1_R1_16S.fastq'</li><li>'022024-BEL-CBC-T3-851-PSTR_S13_R1_16S.fastq'</li><li>'022024-BEL-CBC-T4-874-OFAV_S89_R1_16S.fastq'</li><li>'022024-BEL-CBC-T4-875-MCAV_S76_R1_16S.fastq'</li><li>'042024-BEL-CBC-T1-927-PSTR_S67_R1_16S.fastq'</li><li>'042024-BEL-CBC-T2-1014-OFAV_S95_R1_16S.fastq'</li><li>'042024-BEL-CBC-T2-1018-PAST_S15_R1_16S.fastq'</li><li>'042024-BEL-CBC-T2-1026-OFAV_S91_R1_16S.fastq'</li><li>'042024-BEL-CBC-T2-1144-MCAV_S3_R1_16S.fastq'</li><li>'042024-BEL-CBC-T3-960-OFAV_S4_R1_16S.fastq'</li><li>'042024-BEL-CBC-T4-1046-PSTR_S60_R1_16S.fastq'</li><li>'042024-BEL-CBC-T4-1047-MCAV_S92_R1_16S.fastq'</li><li>'052022-BEL-CBC-T1-2-SSID_S8_R1_16S.fastq'</li><li>'052022-BEL-CBC-T2-1-SSID_S57_R1_16S.fastq'</li><li>'052022-BEL-CBC-T2-71-OFAV_S21_R1_16S.fastq'</li><li>'052022-BEL-CBC-T2-9-PAST_S23_R1_16S.fastq'</li><li>'052022-BEL-CBC-T3-11-PAST_S19_R1_16S.fastq'</li><li>'052022-BEL-CBC-T3-13-MCAV_S5_R1_16S.fastq'</li><li>'052022-BEL-CBC-T3-19-MCAV_S6_R1_16S.fastq'</li><li>'052022-BEL-CBC-T3-66-OFAV_S40_R1_16S.fastq'</li><li>'052022-BEL-CBC-T3-8-PAST_S17_R1_16S.fastq'</li><li>'062019-BEL-CBC-T1-21-PAST_S16_R1_16S.fastq'</li><li>'062019-BEL-CBC-T1-22-MCAV_S18_R1_16S.fastq'</li><li>'062019-BEL-CBC-T2-18-MCAV_S79_R1_16S.fastq'</li><li>'062019-BEL-CBC-T3-1-MCAV_S48_R1_16S.fastq'</li><li>'062024-BEL-CBC-T1-1347-OANN_S65_R1_16S.fastq'</li><li>'062024-BEL-CBC-T1-1353-MCAV_S86_R1_16S.fastq'</li><li>'062024-BEL-CBC-T2-1375-SSID_S33_R1_16S.fastq'</li><li>'062024-BEL-CBC-T2-1396-MCAV_S49_R1_16S.fastq'</li><li>'062024-BEL-CBC-T3-1415-MCAV_S50_R1_16S.fastq'</li><li>'062024-BEL-CBC-T3-1433-PSTR_S2_R1_16S.fastq'</li><li>'062024-BEL-CBC-T3-1439-OFAV_S41_R1_16S.fastq'</li><li>'062024-BEL-CBC-T3-1442-OFAV_S35_R1_16S.fastq'</li><li>'082024-BEL-CBC-T1-1479-PAST_S47_R1_16S.fastq'</li><li>'082024-BEL-CBC-T1-1482-OANN_S36_R1_16S.fastq'</li><li>'082024-BEL-CBC-T2-1510-PAST_S94_R1_16S.fastq'</li><li>'082024-BEL-CBC-T3-1554-OANN_S14_R1_16S.fastq'</li><li>'082024-BEL-CBC-T3-1558-MCAV_S34_R1_16S.fastq'</li><li>'082024-BEL-CBC-T3-1560-PSTR_S54_R1_16S.fastq'</li><li>'082024-BEL-CBC-T3-1561-MCAV_S38_R1_16S.fastq'</li><li>'082024-BEL-CBC-T3-1562-OFAV_S31_R1_16S.fastq'</li><li>'082024-BEL-CBC-T4-1606-PSTR_S25_R1_16S.fastq'</li><li>'082024-BEL-CBC-T4-1607-PSTR_S90_R1_16S.fastq'</li><li>'082024-BEL-CBC-T4-1609-OFAV_S12_R1_16S.fastq'</li><li>'092023-BEL-CBC-T1-171-PAST_S42_R1_16S.fastq'</li><li>'092023-BEL-CBC-T1-175-PAST_S7_R1_16S.fastq'</li><li>'092023-BEL-CBC-T2-174-SSID_S46_R1_16S.fastq'</li><li>'092023-BEL-CBC-T2-181-PAST_S63_R1_16S.fastq'</li><li>'092023-BEL-CBC-T2-184-MCAV_S37_R1_16S.fastq'</li><li>'092023-BEL-CBC-T3-171-OFAV_S78_R1_16S.fastq'</li><li>'092023-BEL-CBC-T3-173-OFAV_S84_R1_16S.fastq'</li><li>'092023-BEL-CBC-T3-178-PAST_S74_R1_16S.fastq'</li><li>'092023-BEL-CBC-T3-195-PSTR_S66_R1_16S.fastq'</li><li>'092023-BEL-CBC-T4-92-PSTR_S43_R1_16S.fastq'</li><li>'092023-BEL-CBC-T4-94-MCAV_S85_R1_16S.fastq'</li><li>'102019-BEL-CBC-T1-29-PSTR_S22_R1_16S.fastq'</li><li>'112023-BEL-CBC-T1-276-MCAV_S26_R1_16S.fastq'</li><li>'112023-BEL-CBC-T2-304-OFAV_S72_R1_16S.fastq'</li><li>'112023-BEL-CBC-T2-307-SSID_S62_R1_16S.fastq'</li><li>'112023-BEL-CBC-T2-310-MCAV_S55_R1_16S.fastq'</li><li>'112023-BEL-CBC-T3-352-PAST_S30_R1_16S.fastq'</li><li>'112023-BEL-CBC-T3-355-PSTR_S10_R1_16S.fastq'</li><li>'112023-BEL-CBC-T4-399-MCAV_S9_R1_16S.fastq'</li><li>'112023-BEL-CBC-T4-401-MCAV_S53_R1_16S.fastq'</li><li>'122022-BEL-CBC-T3-123-PAST_S20_R1_16S.fastq'</li><li>'122022-BEL-CBC-T3-124-PAST_S64_R1_16S.fastq'</li><li>'122022-BEL-CBC-T3-126-SSID_S77_R1_16S.fastq'</li><li>'122022-BEL-CBC-T3-127-OFAV_S32_R1_16S.fastq'</li><li>'122022-BEL-CBC-T3-141-PSTR_S80_R1_16S.fastq'</li><li>'122022-BEL-CBC-T3-142-MCAV_S24_R1_16S.fastq'</li><li>'122023-BEL-CBC-T1-507-PAST_S51_R1_16S.fastq'</li><li>'122023-BEL-CBC-T1-508-SSID_S75_R1_16S.fastq'</li><li>'122023-BEL-CBC-T2-513-SSID_S45_R1_16S.fastq'</li><li>'122023-BEL-CBC-T2-515-PAST_S73_R1_16S.fastq'</li><li>'122023-BEL-CBC-T2-518-MCAV_S27_R1_16S.fastq'</li><li>'122023-BEL-CBC-T2-522-MCAV_S88_R1_16S.fastq'</li><li>'122023-BEL-CBC-T3-524-OFAV_S39_R1_16S.fastq'</li><li>'122023-BEL-CBC-T3-525-PAST_S29_R1_16S.fastq'</li><li>'122023-BEL-CBC-T3-526-SSID_S11_R1_16S.fastq'</li><li>'122023-BEL-CBC-T3-531-PSTR_S28_R1_16S.fastq'</li><li>'122023-BEL-CBC-T3-532-MCAV_S52_R1_16S.fastq'</li><li>'122023-BEL-CBC-T4-539-MCAV_S44_R1_16S.fastq'</li><li>'Negative_S96_R1_16S.fastq'</li><li>'Undetermined_S0_R1_16S.fastq'</li></ol>\n"
      ],
      "text/latex": [
       "\\begin{enumerate*}\n",
       "\\item '012024-BEL-CBC-T1-557-SSID\\_S56\\_R1\\_16S.fastq'\n",
       "\\item '012024-BEL-CBC-T1-563-PSTR\\_S68\\_R1\\_16S.fastq'\n",
       "\\item '012024-BEL-CBC-T2-601-OFAV\\_S58\\_R1\\_16S.fastq'\n",
       "\\item '012024-BEL-CBC-T2-605-SSID\\_S83\\_R1\\_16S.fastq'\n",
       "\\item '012024-BEL-CBC-T3-627-PAST\\_S81\\_R1\\_16S.fastq'\n",
       "\\item '012024-BEL-CBC-T3-631-MCAV\\_S61\\_R1\\_16S.fastq'\n",
       "\\item '012024-BEL-CBC-T3-633-MCAV\\_S69\\_R1\\_16S.fastq'\n",
       "\\item '012024-BEL-CBC-T3-637-SSID\\_S70\\_R1\\_16S.fastq'\n",
       "\\item '012024-BEL-CBC-T4-661-PSTR\\_S71\\_R1\\_16S.fastq'\n",
       "\\item '012024-BEL-CBC-T4-663-PSTR\\_S82\\_R1\\_16S.fastq'\n",
       "\\item '022024-BEL-CBC-T1-775-OANN\\_S93\\_R1\\_16S.fastq'\n",
       "\\item '022024-BEL-CBC-T1-776-PSTR\\_S59\\_R1\\_16S.fastq'\n",
       "\\item '022024-BEL-CBC-T2-804-OFAV\\_S87\\_R1\\_16S.fastq'\n",
       "\\item '022024-BEL-CBC-T2-814-MCAV\\_S1\\_R1\\_16S.fastq'\n",
       "\\item '022024-BEL-CBC-T3-851-PSTR\\_S13\\_R1\\_16S.fastq'\n",
       "\\item '022024-BEL-CBC-T4-874-OFAV\\_S89\\_R1\\_16S.fastq'\n",
       "\\item '022024-BEL-CBC-T4-875-MCAV\\_S76\\_R1\\_16S.fastq'\n",
       "\\item '042024-BEL-CBC-T1-927-PSTR\\_S67\\_R1\\_16S.fastq'\n",
       "\\item '042024-BEL-CBC-T2-1014-OFAV\\_S95\\_R1\\_16S.fastq'\n",
       "\\item '042024-BEL-CBC-T2-1018-PAST\\_S15\\_R1\\_16S.fastq'\n",
       "\\item '042024-BEL-CBC-T2-1026-OFAV\\_S91\\_R1\\_16S.fastq'\n",
       "\\item '042024-BEL-CBC-T2-1144-MCAV\\_S3\\_R1\\_16S.fastq'\n",
       "\\item '042024-BEL-CBC-T3-960-OFAV\\_S4\\_R1\\_16S.fastq'\n",
       "\\item '042024-BEL-CBC-T4-1046-PSTR\\_S60\\_R1\\_16S.fastq'\n",
       "\\item '042024-BEL-CBC-T4-1047-MCAV\\_S92\\_R1\\_16S.fastq'\n",
       "\\item '052022-BEL-CBC-T1-2-SSID\\_S8\\_R1\\_16S.fastq'\n",
       "\\item '052022-BEL-CBC-T2-1-SSID\\_S57\\_R1\\_16S.fastq'\n",
       "\\item '052022-BEL-CBC-T2-71-OFAV\\_S21\\_R1\\_16S.fastq'\n",
       "\\item '052022-BEL-CBC-T2-9-PAST\\_S23\\_R1\\_16S.fastq'\n",
       "\\item '052022-BEL-CBC-T3-11-PAST\\_S19\\_R1\\_16S.fastq'\n",
       "\\item '052022-BEL-CBC-T3-13-MCAV\\_S5\\_R1\\_16S.fastq'\n",
       "\\item '052022-BEL-CBC-T3-19-MCAV\\_S6\\_R1\\_16S.fastq'\n",
       "\\item '052022-BEL-CBC-T3-66-OFAV\\_S40\\_R1\\_16S.fastq'\n",
       "\\item '052022-BEL-CBC-T3-8-PAST\\_S17\\_R1\\_16S.fastq'\n",
       "\\item '062019-BEL-CBC-T1-21-PAST\\_S16\\_R1\\_16S.fastq'\n",
       "\\item '062019-BEL-CBC-T1-22-MCAV\\_S18\\_R1\\_16S.fastq'\n",
       "\\item '062019-BEL-CBC-T2-18-MCAV\\_S79\\_R1\\_16S.fastq'\n",
       "\\item '062019-BEL-CBC-T3-1-MCAV\\_S48\\_R1\\_16S.fastq'\n",
       "\\item '062024-BEL-CBC-T1-1347-OANN\\_S65\\_R1\\_16S.fastq'\n",
       "\\item '062024-BEL-CBC-T1-1353-MCAV\\_S86\\_R1\\_16S.fastq'\n",
       "\\item '062024-BEL-CBC-T2-1375-SSID\\_S33\\_R1\\_16S.fastq'\n",
       "\\item '062024-BEL-CBC-T2-1396-MCAV\\_S49\\_R1\\_16S.fastq'\n",
       "\\item '062024-BEL-CBC-T3-1415-MCAV\\_S50\\_R1\\_16S.fastq'\n",
       "\\item '062024-BEL-CBC-T3-1433-PSTR\\_S2\\_R1\\_16S.fastq'\n",
       "\\item '062024-BEL-CBC-T3-1439-OFAV\\_S41\\_R1\\_16S.fastq'\n",
       "\\item '062024-BEL-CBC-T3-1442-OFAV\\_S35\\_R1\\_16S.fastq'\n",
       "\\item '082024-BEL-CBC-T1-1479-PAST\\_S47\\_R1\\_16S.fastq'\n",
       "\\item '082024-BEL-CBC-T1-1482-OANN\\_S36\\_R1\\_16S.fastq'\n",
       "\\item '082024-BEL-CBC-T2-1510-PAST\\_S94\\_R1\\_16S.fastq'\n",
       "\\item '082024-BEL-CBC-T3-1554-OANN\\_S14\\_R1\\_16S.fastq'\n",
       "\\item '082024-BEL-CBC-T3-1558-MCAV\\_S34\\_R1\\_16S.fastq'\n",
       "\\item '082024-BEL-CBC-T3-1560-PSTR\\_S54\\_R1\\_16S.fastq'\n",
       "\\item '082024-BEL-CBC-T3-1561-MCAV\\_S38\\_R1\\_16S.fastq'\n",
       "\\item '082024-BEL-CBC-T3-1562-OFAV\\_S31\\_R1\\_16S.fastq'\n",
       "\\item '082024-BEL-CBC-T4-1606-PSTR\\_S25\\_R1\\_16S.fastq'\n",
       "\\item '082024-BEL-CBC-T4-1607-PSTR\\_S90\\_R1\\_16S.fastq'\n",
       "\\item '082024-BEL-CBC-T4-1609-OFAV\\_S12\\_R1\\_16S.fastq'\n",
       "\\item '092023-BEL-CBC-T1-171-PAST\\_S42\\_R1\\_16S.fastq'\n",
       "\\item '092023-BEL-CBC-T1-175-PAST\\_S7\\_R1\\_16S.fastq'\n",
       "\\item '092023-BEL-CBC-T2-174-SSID\\_S46\\_R1\\_16S.fastq'\n",
       "\\item '092023-BEL-CBC-T2-181-PAST\\_S63\\_R1\\_16S.fastq'\n",
       "\\item '092023-BEL-CBC-T2-184-MCAV\\_S37\\_R1\\_16S.fastq'\n",
       "\\item '092023-BEL-CBC-T3-171-OFAV\\_S78\\_R1\\_16S.fastq'\n",
       "\\item '092023-BEL-CBC-T3-173-OFAV\\_S84\\_R1\\_16S.fastq'\n",
       "\\item '092023-BEL-CBC-T3-178-PAST\\_S74\\_R1\\_16S.fastq'\n",
       "\\item '092023-BEL-CBC-T3-195-PSTR\\_S66\\_R1\\_16S.fastq'\n",
       "\\item '092023-BEL-CBC-T4-92-PSTR\\_S43\\_R1\\_16S.fastq'\n",
       "\\item '092023-BEL-CBC-T4-94-MCAV\\_S85\\_R1\\_16S.fastq'\n",
       "\\item '102019-BEL-CBC-T1-29-PSTR\\_S22\\_R1\\_16S.fastq'\n",
       "\\item '112023-BEL-CBC-T1-276-MCAV\\_S26\\_R1\\_16S.fastq'\n",
       "\\item '112023-BEL-CBC-T2-304-OFAV\\_S72\\_R1\\_16S.fastq'\n",
       "\\item '112023-BEL-CBC-T2-307-SSID\\_S62\\_R1\\_16S.fastq'\n",
       "\\item '112023-BEL-CBC-T2-310-MCAV\\_S55\\_R1\\_16S.fastq'\n",
       "\\item '112023-BEL-CBC-T3-352-PAST\\_S30\\_R1\\_16S.fastq'\n",
       "\\item '112023-BEL-CBC-T3-355-PSTR\\_S10\\_R1\\_16S.fastq'\n",
       "\\item '112023-BEL-CBC-T4-399-MCAV\\_S9\\_R1\\_16S.fastq'\n",
       "\\item '112023-BEL-CBC-T4-401-MCAV\\_S53\\_R1\\_16S.fastq'\n",
       "\\item '122022-BEL-CBC-T3-123-PAST\\_S20\\_R1\\_16S.fastq'\n",
       "\\item '122022-BEL-CBC-T3-124-PAST\\_S64\\_R1\\_16S.fastq'\n",
       "\\item '122022-BEL-CBC-T3-126-SSID\\_S77\\_R1\\_16S.fastq'\n",
       "\\item '122022-BEL-CBC-T3-127-OFAV\\_S32\\_R1\\_16S.fastq'\n",
       "\\item '122022-BEL-CBC-T3-141-PSTR\\_S80\\_R1\\_16S.fastq'\n",
       "\\item '122022-BEL-CBC-T3-142-MCAV\\_S24\\_R1\\_16S.fastq'\n",
       "\\item '122023-BEL-CBC-T1-507-PAST\\_S51\\_R1\\_16S.fastq'\n",
       "\\item '122023-BEL-CBC-T1-508-SSID\\_S75\\_R1\\_16S.fastq'\n",
       "\\item '122023-BEL-CBC-T2-513-SSID\\_S45\\_R1\\_16S.fastq'\n",
       "\\item '122023-BEL-CBC-T2-515-PAST\\_S73\\_R1\\_16S.fastq'\n",
       "\\item '122023-BEL-CBC-T2-518-MCAV\\_S27\\_R1\\_16S.fastq'\n",
       "\\item '122023-BEL-CBC-T2-522-MCAV\\_S88\\_R1\\_16S.fastq'\n",
       "\\item '122023-BEL-CBC-T3-524-OFAV\\_S39\\_R1\\_16S.fastq'\n",
       "\\item '122023-BEL-CBC-T3-525-PAST\\_S29\\_R1\\_16S.fastq'\n",
       "\\item '122023-BEL-CBC-T3-526-SSID\\_S11\\_R1\\_16S.fastq'\n",
       "\\item '122023-BEL-CBC-T3-531-PSTR\\_S28\\_R1\\_16S.fastq'\n",
       "\\item '122023-BEL-CBC-T3-532-MCAV\\_S52\\_R1\\_16S.fastq'\n",
       "\\item '122023-BEL-CBC-T4-539-MCAV\\_S44\\_R1\\_16S.fastq'\n",
       "\\item 'Negative\\_S96\\_R1\\_16S.fastq'\n",
       "\\item 'Undetermined\\_S0\\_R1\\_16S.fastq'\n",
       "\\end{enumerate*}\n"
      ],
      "text/markdown": [
       "1. '012024-BEL-CBC-T1-557-SSID_S56_R1_16S.fastq'\n",
       "2. '012024-BEL-CBC-T1-563-PSTR_S68_R1_16S.fastq'\n",
       "3. '012024-BEL-CBC-T2-601-OFAV_S58_R1_16S.fastq'\n",
       "4. '012024-BEL-CBC-T2-605-SSID_S83_R1_16S.fastq'\n",
       "5. '012024-BEL-CBC-T3-627-PAST_S81_R1_16S.fastq'\n",
       "6. '012024-BEL-CBC-T3-631-MCAV_S61_R1_16S.fastq'\n",
       "7. '012024-BEL-CBC-T3-633-MCAV_S69_R1_16S.fastq'\n",
       "8. '012024-BEL-CBC-T3-637-SSID_S70_R1_16S.fastq'\n",
       "9. '012024-BEL-CBC-T4-661-PSTR_S71_R1_16S.fastq'\n",
       "10. '012024-BEL-CBC-T4-663-PSTR_S82_R1_16S.fastq'\n",
       "11. '022024-BEL-CBC-T1-775-OANN_S93_R1_16S.fastq'\n",
       "12. '022024-BEL-CBC-T1-776-PSTR_S59_R1_16S.fastq'\n",
       "13. '022024-BEL-CBC-T2-804-OFAV_S87_R1_16S.fastq'\n",
       "14. '022024-BEL-CBC-T2-814-MCAV_S1_R1_16S.fastq'\n",
       "15. '022024-BEL-CBC-T3-851-PSTR_S13_R1_16S.fastq'\n",
       "16. '022024-BEL-CBC-T4-874-OFAV_S89_R1_16S.fastq'\n",
       "17. '022024-BEL-CBC-T4-875-MCAV_S76_R1_16S.fastq'\n",
       "18. '042024-BEL-CBC-T1-927-PSTR_S67_R1_16S.fastq'\n",
       "19. '042024-BEL-CBC-T2-1014-OFAV_S95_R1_16S.fastq'\n",
       "20. '042024-BEL-CBC-T2-1018-PAST_S15_R1_16S.fastq'\n",
       "21. '042024-BEL-CBC-T2-1026-OFAV_S91_R1_16S.fastq'\n",
       "22. '042024-BEL-CBC-T2-1144-MCAV_S3_R1_16S.fastq'\n",
       "23. '042024-BEL-CBC-T3-960-OFAV_S4_R1_16S.fastq'\n",
       "24. '042024-BEL-CBC-T4-1046-PSTR_S60_R1_16S.fastq'\n",
       "25. '042024-BEL-CBC-T4-1047-MCAV_S92_R1_16S.fastq'\n",
       "26. '052022-BEL-CBC-T1-2-SSID_S8_R1_16S.fastq'\n",
       "27. '052022-BEL-CBC-T2-1-SSID_S57_R1_16S.fastq'\n",
       "28. '052022-BEL-CBC-T2-71-OFAV_S21_R1_16S.fastq'\n",
       "29. '052022-BEL-CBC-T2-9-PAST_S23_R1_16S.fastq'\n",
       "30. '052022-BEL-CBC-T3-11-PAST_S19_R1_16S.fastq'\n",
       "31. '052022-BEL-CBC-T3-13-MCAV_S5_R1_16S.fastq'\n",
       "32. '052022-BEL-CBC-T3-19-MCAV_S6_R1_16S.fastq'\n",
       "33. '052022-BEL-CBC-T3-66-OFAV_S40_R1_16S.fastq'\n",
       "34. '052022-BEL-CBC-T3-8-PAST_S17_R1_16S.fastq'\n",
       "35. '062019-BEL-CBC-T1-21-PAST_S16_R1_16S.fastq'\n",
       "36. '062019-BEL-CBC-T1-22-MCAV_S18_R1_16S.fastq'\n",
       "37. '062019-BEL-CBC-T2-18-MCAV_S79_R1_16S.fastq'\n",
       "38. '062019-BEL-CBC-T3-1-MCAV_S48_R1_16S.fastq'\n",
       "39. '062024-BEL-CBC-T1-1347-OANN_S65_R1_16S.fastq'\n",
       "40. '062024-BEL-CBC-T1-1353-MCAV_S86_R1_16S.fastq'\n",
       "41. '062024-BEL-CBC-T2-1375-SSID_S33_R1_16S.fastq'\n",
       "42. '062024-BEL-CBC-T2-1396-MCAV_S49_R1_16S.fastq'\n",
       "43. '062024-BEL-CBC-T3-1415-MCAV_S50_R1_16S.fastq'\n",
       "44. '062024-BEL-CBC-T3-1433-PSTR_S2_R1_16S.fastq'\n",
       "45. '062024-BEL-CBC-T3-1439-OFAV_S41_R1_16S.fastq'\n",
       "46. '062024-BEL-CBC-T3-1442-OFAV_S35_R1_16S.fastq'\n",
       "47. '082024-BEL-CBC-T1-1479-PAST_S47_R1_16S.fastq'\n",
       "48. '082024-BEL-CBC-T1-1482-OANN_S36_R1_16S.fastq'\n",
       "49. '082024-BEL-CBC-T2-1510-PAST_S94_R1_16S.fastq'\n",
       "50. '082024-BEL-CBC-T3-1554-OANN_S14_R1_16S.fastq'\n",
       "51. '082024-BEL-CBC-T3-1558-MCAV_S34_R1_16S.fastq'\n",
       "52. '082024-BEL-CBC-T3-1560-PSTR_S54_R1_16S.fastq'\n",
       "53. '082024-BEL-CBC-T3-1561-MCAV_S38_R1_16S.fastq'\n",
       "54. '082024-BEL-CBC-T3-1562-OFAV_S31_R1_16S.fastq'\n",
       "55. '082024-BEL-CBC-T4-1606-PSTR_S25_R1_16S.fastq'\n",
       "56. '082024-BEL-CBC-T4-1607-PSTR_S90_R1_16S.fastq'\n",
       "57. '082024-BEL-CBC-T4-1609-OFAV_S12_R1_16S.fastq'\n",
       "58. '092023-BEL-CBC-T1-171-PAST_S42_R1_16S.fastq'\n",
       "59. '092023-BEL-CBC-T1-175-PAST_S7_R1_16S.fastq'\n",
       "60. '092023-BEL-CBC-T2-174-SSID_S46_R1_16S.fastq'\n",
       "61. '092023-BEL-CBC-T2-181-PAST_S63_R1_16S.fastq'\n",
       "62. '092023-BEL-CBC-T2-184-MCAV_S37_R1_16S.fastq'\n",
       "63. '092023-BEL-CBC-T3-171-OFAV_S78_R1_16S.fastq'\n",
       "64. '092023-BEL-CBC-T3-173-OFAV_S84_R1_16S.fastq'\n",
       "65. '092023-BEL-CBC-T3-178-PAST_S74_R1_16S.fastq'\n",
       "66. '092023-BEL-CBC-T3-195-PSTR_S66_R1_16S.fastq'\n",
       "67. '092023-BEL-CBC-T4-92-PSTR_S43_R1_16S.fastq'\n",
       "68. '092023-BEL-CBC-T4-94-MCAV_S85_R1_16S.fastq'\n",
       "69. '102019-BEL-CBC-T1-29-PSTR_S22_R1_16S.fastq'\n",
       "70. '112023-BEL-CBC-T1-276-MCAV_S26_R1_16S.fastq'\n",
       "71. '112023-BEL-CBC-T2-304-OFAV_S72_R1_16S.fastq'\n",
       "72. '112023-BEL-CBC-T2-307-SSID_S62_R1_16S.fastq'\n",
       "73. '112023-BEL-CBC-T2-310-MCAV_S55_R1_16S.fastq'\n",
       "74. '112023-BEL-CBC-T3-352-PAST_S30_R1_16S.fastq'\n",
       "75. '112023-BEL-CBC-T3-355-PSTR_S10_R1_16S.fastq'\n",
       "76. '112023-BEL-CBC-T4-399-MCAV_S9_R1_16S.fastq'\n",
       "77. '112023-BEL-CBC-T4-401-MCAV_S53_R1_16S.fastq'\n",
       "78. '122022-BEL-CBC-T3-123-PAST_S20_R1_16S.fastq'\n",
       "79. '122022-BEL-CBC-T3-124-PAST_S64_R1_16S.fastq'\n",
       "80. '122022-BEL-CBC-T3-126-SSID_S77_R1_16S.fastq'\n",
       "81. '122022-BEL-CBC-T3-127-OFAV_S32_R1_16S.fastq'\n",
       "82. '122022-BEL-CBC-T3-141-PSTR_S80_R1_16S.fastq'\n",
       "83. '122022-BEL-CBC-T3-142-MCAV_S24_R1_16S.fastq'\n",
       "84. '122023-BEL-CBC-T1-507-PAST_S51_R1_16S.fastq'\n",
       "85. '122023-BEL-CBC-T1-508-SSID_S75_R1_16S.fastq'\n",
       "86. '122023-BEL-CBC-T2-513-SSID_S45_R1_16S.fastq'\n",
       "87. '122023-BEL-CBC-T2-515-PAST_S73_R1_16S.fastq'\n",
       "88. '122023-BEL-CBC-T2-518-MCAV_S27_R1_16S.fastq'\n",
       "89. '122023-BEL-CBC-T2-522-MCAV_S88_R1_16S.fastq'\n",
       "90. '122023-BEL-CBC-T3-524-OFAV_S39_R1_16S.fastq'\n",
       "91. '122023-BEL-CBC-T3-525-PAST_S29_R1_16S.fastq'\n",
       "92. '122023-BEL-CBC-T3-526-SSID_S11_R1_16S.fastq'\n",
       "93. '122023-BEL-CBC-T3-531-PSTR_S28_R1_16S.fastq'\n",
       "94. '122023-BEL-CBC-T3-532-MCAV_S52_R1_16S.fastq'\n",
       "95. '122023-BEL-CBC-T4-539-MCAV_S44_R1_16S.fastq'\n",
       "96. 'Negative_S96_R1_16S.fastq'\n",
       "97. 'Undetermined_S0_R1_16S.fastq'\n",
       "\n",
       "\n"
      ],
      "text/plain": [
       " [1] \"012024-BEL-CBC-T1-557-SSID_S56_R1_16S.fastq\" \n",
       " [2] \"012024-BEL-CBC-T1-563-PSTR_S68_R1_16S.fastq\" \n",
       " [3] \"012024-BEL-CBC-T2-601-OFAV_S58_R1_16S.fastq\" \n",
       " [4] \"012024-BEL-CBC-T2-605-SSID_S83_R1_16S.fastq\" \n",
       " [5] \"012024-BEL-CBC-T3-627-PAST_S81_R1_16S.fastq\" \n",
       " [6] \"012024-BEL-CBC-T3-631-MCAV_S61_R1_16S.fastq\" \n",
       " [7] \"012024-BEL-CBC-T3-633-MCAV_S69_R1_16S.fastq\" \n",
       " [8] \"012024-BEL-CBC-T3-637-SSID_S70_R1_16S.fastq\" \n",
       " [9] \"012024-BEL-CBC-T4-661-PSTR_S71_R1_16S.fastq\" \n",
       "[10] \"012024-BEL-CBC-T4-663-PSTR_S82_R1_16S.fastq\" \n",
       "[11] \"022024-BEL-CBC-T1-775-OANN_S93_R1_16S.fastq\" \n",
       "[12] \"022024-BEL-CBC-T1-776-PSTR_S59_R1_16S.fastq\" \n",
       "[13] \"022024-BEL-CBC-T2-804-OFAV_S87_R1_16S.fastq\" \n",
       "[14] \"022024-BEL-CBC-T2-814-MCAV_S1_R1_16S.fastq\"  \n",
       "[15] \"022024-BEL-CBC-T3-851-PSTR_S13_R1_16S.fastq\" \n",
       "[16] \"022024-BEL-CBC-T4-874-OFAV_S89_R1_16S.fastq\" \n",
       "[17] \"022024-BEL-CBC-T4-875-MCAV_S76_R1_16S.fastq\" \n",
       "[18] \"042024-BEL-CBC-T1-927-PSTR_S67_R1_16S.fastq\" \n",
       "[19] \"042024-BEL-CBC-T2-1014-OFAV_S95_R1_16S.fastq\"\n",
       "[20] \"042024-BEL-CBC-T2-1018-PAST_S15_R1_16S.fastq\"\n",
       "[21] \"042024-BEL-CBC-T2-1026-OFAV_S91_R1_16S.fastq\"\n",
       "[22] \"042024-BEL-CBC-T2-1144-MCAV_S3_R1_16S.fastq\" \n",
       "[23] \"042024-BEL-CBC-T3-960-OFAV_S4_R1_16S.fastq\"  \n",
       "[24] \"042024-BEL-CBC-T4-1046-PSTR_S60_R1_16S.fastq\"\n",
       "[25] \"042024-BEL-CBC-T4-1047-MCAV_S92_R1_16S.fastq\"\n",
       "[26] \"052022-BEL-CBC-T1-2-SSID_S8_R1_16S.fastq\"    \n",
       "[27] \"052022-BEL-CBC-T2-1-SSID_S57_R1_16S.fastq\"   \n",
       "[28] \"052022-BEL-CBC-T2-71-OFAV_S21_R1_16S.fastq\"  \n",
       "[29] \"052022-BEL-CBC-T2-9-PAST_S23_R1_16S.fastq\"   \n",
       "[30] \"052022-BEL-CBC-T3-11-PAST_S19_R1_16S.fastq\"  \n",
       "[31] \"052022-BEL-CBC-T3-13-MCAV_S5_R1_16S.fastq\"   \n",
       "[32] \"052022-BEL-CBC-T3-19-MCAV_S6_R1_16S.fastq\"   \n",
       "[33] \"052022-BEL-CBC-T3-66-OFAV_S40_R1_16S.fastq\"  \n",
       "[34] \"052022-BEL-CBC-T3-8-PAST_S17_R1_16S.fastq\"   \n",
       "[35] \"062019-BEL-CBC-T1-21-PAST_S16_R1_16S.fastq\"  \n",
       "[36] \"062019-BEL-CBC-T1-22-MCAV_S18_R1_16S.fastq\"  \n",
       "[37] \"062019-BEL-CBC-T2-18-MCAV_S79_R1_16S.fastq\"  \n",
       "[38] \"062019-BEL-CBC-T3-1-MCAV_S48_R1_16S.fastq\"   \n",
       "[39] \"062024-BEL-CBC-T1-1347-OANN_S65_R1_16S.fastq\"\n",
       "[40] \"062024-BEL-CBC-T1-1353-MCAV_S86_R1_16S.fastq\"\n",
       "[41] \"062024-BEL-CBC-T2-1375-SSID_S33_R1_16S.fastq\"\n",
       "[42] \"062024-BEL-CBC-T2-1396-MCAV_S49_R1_16S.fastq\"\n",
       "[43] \"062024-BEL-CBC-T3-1415-MCAV_S50_R1_16S.fastq\"\n",
       "[44] \"062024-BEL-CBC-T3-1433-PSTR_S2_R1_16S.fastq\" \n",
       "[45] \"062024-BEL-CBC-T3-1439-OFAV_S41_R1_16S.fastq\"\n",
       "[46] \"062024-BEL-CBC-T3-1442-OFAV_S35_R1_16S.fastq\"\n",
       "[47] \"082024-BEL-CBC-T1-1479-PAST_S47_R1_16S.fastq\"\n",
       "[48] \"082024-BEL-CBC-T1-1482-OANN_S36_R1_16S.fastq\"\n",
       "[49] \"082024-BEL-CBC-T2-1510-PAST_S94_R1_16S.fastq\"\n",
       "[50] \"082024-BEL-CBC-T3-1554-OANN_S14_R1_16S.fastq\"\n",
       "[51] \"082024-BEL-CBC-T3-1558-MCAV_S34_R1_16S.fastq\"\n",
       "[52] \"082024-BEL-CBC-T3-1560-PSTR_S54_R1_16S.fastq\"\n",
       "[53] \"082024-BEL-CBC-T3-1561-MCAV_S38_R1_16S.fastq\"\n",
       "[54] \"082024-BEL-CBC-T3-1562-OFAV_S31_R1_16S.fastq\"\n",
       "[55] \"082024-BEL-CBC-T4-1606-PSTR_S25_R1_16S.fastq\"\n",
       "[56] \"082024-BEL-CBC-T4-1607-PSTR_S90_R1_16S.fastq\"\n",
       "[57] \"082024-BEL-CBC-T4-1609-OFAV_S12_R1_16S.fastq\"\n",
       "[58] \"092023-BEL-CBC-T1-171-PAST_S42_R1_16S.fastq\" \n",
       "[59] \"092023-BEL-CBC-T1-175-PAST_S7_R1_16S.fastq\"  \n",
       "[60] \"092023-BEL-CBC-T2-174-SSID_S46_R1_16S.fastq\" \n",
       "[61] \"092023-BEL-CBC-T2-181-PAST_S63_R1_16S.fastq\" \n",
       "[62] \"092023-BEL-CBC-T2-184-MCAV_S37_R1_16S.fastq\" \n",
       "[63] \"092023-BEL-CBC-T3-171-OFAV_S78_R1_16S.fastq\" \n",
       "[64] \"092023-BEL-CBC-T3-173-OFAV_S84_R1_16S.fastq\" \n",
       "[65] \"092023-BEL-CBC-T3-178-PAST_S74_R1_16S.fastq\" \n",
       "[66] \"092023-BEL-CBC-T3-195-PSTR_S66_R1_16S.fastq\" \n",
       "[67] \"092023-BEL-CBC-T4-92-PSTR_S43_R1_16S.fastq\"  \n",
       "[68] \"092023-BEL-CBC-T4-94-MCAV_S85_R1_16S.fastq\"  \n",
       "[69] \"102019-BEL-CBC-T1-29-PSTR_S22_R1_16S.fastq\"  \n",
       "[70] \"112023-BEL-CBC-T1-276-MCAV_S26_R1_16S.fastq\" \n",
       "[71] \"112023-BEL-CBC-T2-304-OFAV_S72_R1_16S.fastq\" \n",
       "[72] \"112023-BEL-CBC-T2-307-SSID_S62_R1_16S.fastq\" \n",
       "[73] \"112023-BEL-CBC-T2-310-MCAV_S55_R1_16S.fastq\" \n",
       "[74] \"112023-BEL-CBC-T3-352-PAST_S30_R1_16S.fastq\" \n",
       "[75] \"112023-BEL-CBC-T3-355-PSTR_S10_R1_16S.fastq\" \n",
       "[76] \"112023-BEL-CBC-T4-399-MCAV_S9_R1_16S.fastq\"  \n",
       "[77] \"112023-BEL-CBC-T4-401-MCAV_S53_R1_16S.fastq\" \n",
       "[78] \"122022-BEL-CBC-T3-123-PAST_S20_R1_16S.fastq\" \n",
       "[79] \"122022-BEL-CBC-T3-124-PAST_S64_R1_16S.fastq\" \n",
       "[80] \"122022-BEL-CBC-T3-126-SSID_S77_R1_16S.fastq\" \n",
       "[81] \"122022-BEL-CBC-T3-127-OFAV_S32_R1_16S.fastq\" \n",
       "[82] \"122022-BEL-CBC-T3-141-PSTR_S80_R1_16S.fastq\" \n",
       "[83] \"122022-BEL-CBC-T3-142-MCAV_S24_R1_16S.fastq\" \n",
       "[84] \"122023-BEL-CBC-T1-507-PAST_S51_R1_16S.fastq\" \n",
       "[85] \"122023-BEL-CBC-T1-508-SSID_S75_R1_16S.fastq\" \n",
       "[86] \"122023-BEL-CBC-T2-513-SSID_S45_R1_16S.fastq\" \n",
       "[87] \"122023-BEL-CBC-T2-515-PAST_S73_R1_16S.fastq\" \n",
       "[88] \"122023-BEL-CBC-T2-518-MCAV_S27_R1_16S.fastq\" \n",
       "[89] \"122023-BEL-CBC-T2-522-MCAV_S88_R1_16S.fastq\" \n",
       "[90] \"122023-BEL-CBC-T3-524-OFAV_S39_R1_16S.fastq\" \n",
       "[91] \"122023-BEL-CBC-T3-525-PAST_S29_R1_16S.fastq\" \n",
       "[92] \"122023-BEL-CBC-T3-526-SSID_S11_R1_16S.fastq\" \n",
       "[93] \"122023-BEL-CBC-T3-531-PSTR_S28_R1_16S.fastq\" \n",
       "[94] \"122023-BEL-CBC-T3-532-MCAV_S52_R1_16S.fastq\" \n",
       "[95] \"122023-BEL-CBC-T4-539-MCAV_S44_R1_16S.fastq\" \n",
       "[96] \"Negative_S96_R1_16S.fastq\"                   \n",
       "[97] \"Undetermined_S0_R1_16S.fastq\"                "
      ]
     },
     "metadata": {},
     "output_type": "display_data"
    },
    {
     "data": {
      "text/html": [
       "<style>\n",
       ".list-inline {list-style: none; margin:0; padding: 0}\n",
       ".list-inline>li {display: inline-block}\n",
       ".list-inline>li:not(:last-child)::after {content: \"\\00b7\"; padding: 0 .5ex}\n",
       "</style>\n",
       "<ol class=list-inline><li>'012024-BEL-CBC-T1-557-SSID_S56_R2_16S.fastq'</li><li>'012024-BEL-CBC-T1-563-PSTR_S68_R2_16S.fastq'</li><li>'012024-BEL-CBC-T2-601-OFAV_S58_R2_16S.fastq'</li><li>'012024-BEL-CBC-T2-605-SSID_S83_R2_16S.fastq'</li><li>'012024-BEL-CBC-T3-627-PAST_S81_R2_16S.fastq'</li><li>'012024-BEL-CBC-T3-631-MCAV_S61_R2_16S.fastq'</li><li>'012024-BEL-CBC-T3-633-MCAV_S69_R2_16S.fastq'</li><li>'012024-BEL-CBC-T3-637-SSID_S70_R2_16S.fastq'</li><li>'012024-BEL-CBC-T4-661-PSTR_S71_R2_16S.fastq'</li><li>'012024-BEL-CBC-T4-663-PSTR_S82_R2_16S.fastq'</li><li>'022024-BEL-CBC-T1-775-OANN_S93_R2_16S.fastq'</li><li>'022024-BEL-CBC-T1-776-PSTR_S59_R2_16S.fastq'</li><li>'022024-BEL-CBC-T2-804-OFAV_S87_R2_16S.fastq'</li><li>'022024-BEL-CBC-T2-814-MCAV_S1_R2_16S.fastq'</li><li>'022024-BEL-CBC-T3-851-PSTR_S13_R2_16S.fastq'</li><li>'022024-BEL-CBC-T4-874-OFAV_S89_R2_16S.fastq'</li><li>'022024-BEL-CBC-T4-875-MCAV_S76_R2_16S.fastq'</li><li>'042024-BEL-CBC-T1-927-PSTR_S67_R2_16S.fastq'</li><li>'042024-BEL-CBC-T2-1014-OFAV_S95_R2_16S.fastq'</li><li>'042024-BEL-CBC-T2-1018-PAST_S15_R2_16S.fastq'</li><li>'042024-BEL-CBC-T2-1026-OFAV_S91_R2_16S.fastq'</li><li>'042024-BEL-CBC-T2-1144-MCAV_S3_R2_16S.fastq'</li><li>'042024-BEL-CBC-T3-960-OFAV_S4_R2_16S.fastq'</li><li>'042024-BEL-CBC-T4-1046-PSTR_S60_R2_16S.fastq'</li><li>'042024-BEL-CBC-T4-1047-MCAV_S92_R2_16S.fastq'</li><li>'052022-BEL-CBC-T1-2-SSID_S8_R2_16S.fastq'</li><li>'052022-BEL-CBC-T2-1-SSID_S57_R2_16S.fastq'</li><li>'052022-BEL-CBC-T2-71-OFAV_S21_R2_16S.fastq'</li><li>'052022-BEL-CBC-T2-9-PAST_S23_R2_16S.fastq'</li><li>'052022-BEL-CBC-T3-11-PAST_S19_R2_16S.fastq'</li><li>'052022-BEL-CBC-T3-13-MCAV_S5_R2_16S.fastq'</li><li>'052022-BEL-CBC-T3-19-MCAV_S6_R2_16S.fastq'</li><li>'052022-BEL-CBC-T3-66-OFAV_S40_R2_16S.fastq'</li><li>'052022-BEL-CBC-T3-8-PAST_S17_R2_16S.fastq'</li><li>'062019-BEL-CBC-T1-21-PAST_S16_R2_16S.fastq'</li><li>'062019-BEL-CBC-T1-22-MCAV_S18_R2_16S.fastq'</li><li>'062019-BEL-CBC-T2-18-MCAV_S79_R2_16S.fastq'</li><li>'062019-BEL-CBC-T3-1-MCAV_S48_R2_16S.fastq'</li><li>'062024-BEL-CBC-T1-1347-OANN_S65_R2_16S.fastq'</li><li>'062024-BEL-CBC-T1-1353-MCAV_S86_R2_16S.fastq'</li><li>'062024-BEL-CBC-T2-1375-SSID_S33_R2_16S.fastq'</li><li>'062024-BEL-CBC-T2-1396-MCAV_S49_R2_16S.fastq'</li><li>'062024-BEL-CBC-T3-1415-MCAV_S50_R2_16S.fastq'</li><li>'062024-BEL-CBC-T3-1433-PSTR_S2_R2_16S.fastq'</li><li>'062024-BEL-CBC-T3-1439-OFAV_S41_R2_16S.fastq'</li><li>'062024-BEL-CBC-T3-1442-OFAV_S35_R2_16S.fastq'</li><li>'082024-BEL-CBC-T1-1479-PAST_S47_R2_16S.fastq'</li><li>'082024-BEL-CBC-T1-1482-OANN_S36_R2_16S.fastq'</li><li>'082024-BEL-CBC-T2-1510-PAST_S94_R2_16S.fastq'</li><li>'082024-BEL-CBC-T3-1554-OANN_S14_R2_16S.fastq'</li><li>'082024-BEL-CBC-T3-1558-MCAV_S34_R2_16S.fastq'</li><li>'082024-BEL-CBC-T3-1560-PSTR_S54_R2_16S.fastq'</li><li>'082024-BEL-CBC-T3-1561-MCAV_S38_R2_16S.fastq'</li><li>'082024-BEL-CBC-T3-1562-OFAV_S31_R2_16S.fastq'</li><li>'082024-BEL-CBC-T4-1606-PSTR_S25_R2_16S.fastq'</li><li>'082024-BEL-CBC-T4-1607-PSTR_S90_R2_16S.fastq'</li><li>'082024-BEL-CBC-T4-1609-OFAV_S12_R2_16S.fastq'</li><li>'092023-BEL-CBC-T1-171-PAST_S42_R2_16S.fastq'</li><li>'092023-BEL-CBC-T1-175-PAST_S7_R2_16S.fastq'</li><li>'092023-BEL-CBC-T2-174-SSID_S46_R2_16S.fastq'</li><li>'092023-BEL-CBC-T2-181-PAST_S63_R2_16S.fastq'</li><li>'092023-BEL-CBC-T2-184-MCAV_S37_R2_16S.fastq'</li><li>'092023-BEL-CBC-T3-171-OFAV_S78_R2_16S.fastq'</li><li>'092023-BEL-CBC-T3-173-OFAV_S84_R2_16S.fastq'</li><li>'092023-BEL-CBC-T3-178-PAST_S74_R2_16S.fastq'</li><li>'092023-BEL-CBC-T3-195-PSTR_S66_R2_16S.fastq'</li><li>'092023-BEL-CBC-T4-92-PSTR_S43_R2_16S.fastq'</li><li>'092023-BEL-CBC-T4-94-MCAV_S85_R2_16S.fastq'</li><li>'102019-BEL-CBC-T1-29-PSTR_S22_R2_16S.fastq'</li><li>'112023-BEL-CBC-T1-276-MCAV_S26_R2_16S.fastq'</li><li>'112023-BEL-CBC-T2-304-OFAV_S72_R2_16S.fastq'</li><li>'112023-BEL-CBC-T2-307-SSID_S62_R2_16S.fastq'</li><li>'112023-BEL-CBC-T2-310-MCAV_S55_R2_16S.fastq'</li><li>'112023-BEL-CBC-T3-352-PAST_S30_R2_16S.fastq'</li><li>'112023-BEL-CBC-T3-355-PSTR_S10_R2_16S.fastq'</li><li>'112023-BEL-CBC-T4-399-MCAV_S9_R2_16S.fastq'</li><li>'112023-BEL-CBC-T4-401-MCAV_S53_R2_16S.fastq'</li><li>'122022-BEL-CBC-T3-123-PAST_S20_R2_16S.fastq'</li><li>'122022-BEL-CBC-T3-124-PAST_S64_R2_16S.fastq'</li><li>'122022-BEL-CBC-T3-126-SSID_S77_R2_16S.fastq'</li><li>'122022-BEL-CBC-T3-127-OFAV_S32_R2_16S.fastq'</li><li>'122022-BEL-CBC-T3-141-PSTR_S80_R2_16S.fastq'</li><li>'122022-BEL-CBC-T3-142-MCAV_S24_R2_16S.fastq'</li><li>'122023-BEL-CBC-T1-507-PAST_S51_R2_16S.fastq'</li><li>'122023-BEL-CBC-T1-508-SSID_S75_R2_16S.fastq'</li><li>'122023-BEL-CBC-T2-513-SSID_S45_R2_16S.fastq'</li><li>'122023-BEL-CBC-T2-515-PAST_S73_R2_16S.fastq'</li><li>'122023-BEL-CBC-T2-518-MCAV_S27_R2_16S.fastq'</li><li>'122023-BEL-CBC-T2-522-MCAV_S88_R2_16S.fastq'</li><li>'122023-BEL-CBC-T3-524-OFAV_S39_R2_16S.fastq'</li><li>'122023-BEL-CBC-T3-525-PAST_S29_R2_16S.fastq'</li><li>'122023-BEL-CBC-T3-526-SSID_S11_R2_16S.fastq'</li><li>'122023-BEL-CBC-T3-531-PSTR_S28_R2_16S.fastq'</li><li>'122023-BEL-CBC-T3-532-MCAV_S52_R2_16S.fastq'</li><li>'122023-BEL-CBC-T4-539-MCAV_S44_R2_16S.fastq'</li><li>'Negative_S96_R2_16S.fastq'</li><li>'Undetermined_S0_R2_16S.fastq'</li></ol>\n"
      ],
      "text/latex": [
       "\\begin{enumerate*}\n",
       "\\item '012024-BEL-CBC-T1-557-SSID\\_S56\\_R2\\_16S.fastq'\n",
       "\\item '012024-BEL-CBC-T1-563-PSTR\\_S68\\_R2\\_16S.fastq'\n",
       "\\item '012024-BEL-CBC-T2-601-OFAV\\_S58\\_R2\\_16S.fastq'\n",
       "\\item '012024-BEL-CBC-T2-605-SSID\\_S83\\_R2\\_16S.fastq'\n",
       "\\item '012024-BEL-CBC-T3-627-PAST\\_S81\\_R2\\_16S.fastq'\n",
       "\\item '012024-BEL-CBC-T3-631-MCAV\\_S61\\_R2\\_16S.fastq'\n",
       "\\item '012024-BEL-CBC-T3-633-MCAV\\_S69\\_R2\\_16S.fastq'\n",
       "\\item '012024-BEL-CBC-T3-637-SSID\\_S70\\_R2\\_16S.fastq'\n",
       "\\item '012024-BEL-CBC-T4-661-PSTR\\_S71\\_R2\\_16S.fastq'\n",
       "\\item '012024-BEL-CBC-T4-663-PSTR\\_S82\\_R2\\_16S.fastq'\n",
       "\\item '022024-BEL-CBC-T1-775-OANN\\_S93\\_R2\\_16S.fastq'\n",
       "\\item '022024-BEL-CBC-T1-776-PSTR\\_S59\\_R2\\_16S.fastq'\n",
       "\\item '022024-BEL-CBC-T2-804-OFAV\\_S87\\_R2\\_16S.fastq'\n",
       "\\item '022024-BEL-CBC-T2-814-MCAV\\_S1\\_R2\\_16S.fastq'\n",
       "\\item '022024-BEL-CBC-T3-851-PSTR\\_S13\\_R2\\_16S.fastq'\n",
       "\\item '022024-BEL-CBC-T4-874-OFAV\\_S89\\_R2\\_16S.fastq'\n",
       "\\item '022024-BEL-CBC-T4-875-MCAV\\_S76\\_R2\\_16S.fastq'\n",
       "\\item '042024-BEL-CBC-T1-927-PSTR\\_S67\\_R2\\_16S.fastq'\n",
       "\\item '042024-BEL-CBC-T2-1014-OFAV\\_S95\\_R2\\_16S.fastq'\n",
       "\\item '042024-BEL-CBC-T2-1018-PAST\\_S15\\_R2\\_16S.fastq'\n",
       "\\item '042024-BEL-CBC-T2-1026-OFAV\\_S91\\_R2\\_16S.fastq'\n",
       "\\item '042024-BEL-CBC-T2-1144-MCAV\\_S3\\_R2\\_16S.fastq'\n",
       "\\item '042024-BEL-CBC-T3-960-OFAV\\_S4\\_R2\\_16S.fastq'\n",
       "\\item '042024-BEL-CBC-T4-1046-PSTR\\_S60\\_R2\\_16S.fastq'\n",
       "\\item '042024-BEL-CBC-T4-1047-MCAV\\_S92\\_R2\\_16S.fastq'\n",
       "\\item '052022-BEL-CBC-T1-2-SSID\\_S8\\_R2\\_16S.fastq'\n",
       "\\item '052022-BEL-CBC-T2-1-SSID\\_S57\\_R2\\_16S.fastq'\n",
       "\\item '052022-BEL-CBC-T2-71-OFAV\\_S21\\_R2\\_16S.fastq'\n",
       "\\item '052022-BEL-CBC-T2-9-PAST\\_S23\\_R2\\_16S.fastq'\n",
       "\\item '052022-BEL-CBC-T3-11-PAST\\_S19\\_R2\\_16S.fastq'\n",
       "\\item '052022-BEL-CBC-T3-13-MCAV\\_S5\\_R2\\_16S.fastq'\n",
       "\\item '052022-BEL-CBC-T3-19-MCAV\\_S6\\_R2\\_16S.fastq'\n",
       "\\item '052022-BEL-CBC-T3-66-OFAV\\_S40\\_R2\\_16S.fastq'\n",
       "\\item '052022-BEL-CBC-T3-8-PAST\\_S17\\_R2\\_16S.fastq'\n",
       "\\item '062019-BEL-CBC-T1-21-PAST\\_S16\\_R2\\_16S.fastq'\n",
       "\\item '062019-BEL-CBC-T1-22-MCAV\\_S18\\_R2\\_16S.fastq'\n",
       "\\item '062019-BEL-CBC-T2-18-MCAV\\_S79\\_R2\\_16S.fastq'\n",
       "\\item '062019-BEL-CBC-T3-1-MCAV\\_S48\\_R2\\_16S.fastq'\n",
       "\\item '062024-BEL-CBC-T1-1347-OANN\\_S65\\_R2\\_16S.fastq'\n",
       "\\item '062024-BEL-CBC-T1-1353-MCAV\\_S86\\_R2\\_16S.fastq'\n",
       "\\item '062024-BEL-CBC-T2-1375-SSID\\_S33\\_R2\\_16S.fastq'\n",
       "\\item '062024-BEL-CBC-T2-1396-MCAV\\_S49\\_R2\\_16S.fastq'\n",
       "\\item '062024-BEL-CBC-T3-1415-MCAV\\_S50\\_R2\\_16S.fastq'\n",
       "\\item '062024-BEL-CBC-T3-1433-PSTR\\_S2\\_R2\\_16S.fastq'\n",
       "\\item '062024-BEL-CBC-T3-1439-OFAV\\_S41\\_R2\\_16S.fastq'\n",
       "\\item '062024-BEL-CBC-T3-1442-OFAV\\_S35\\_R2\\_16S.fastq'\n",
       "\\item '082024-BEL-CBC-T1-1479-PAST\\_S47\\_R2\\_16S.fastq'\n",
       "\\item '082024-BEL-CBC-T1-1482-OANN\\_S36\\_R2\\_16S.fastq'\n",
       "\\item '082024-BEL-CBC-T2-1510-PAST\\_S94\\_R2\\_16S.fastq'\n",
       "\\item '082024-BEL-CBC-T3-1554-OANN\\_S14\\_R2\\_16S.fastq'\n",
       "\\item '082024-BEL-CBC-T3-1558-MCAV\\_S34\\_R2\\_16S.fastq'\n",
       "\\item '082024-BEL-CBC-T3-1560-PSTR\\_S54\\_R2\\_16S.fastq'\n",
       "\\item '082024-BEL-CBC-T3-1561-MCAV\\_S38\\_R2\\_16S.fastq'\n",
       "\\item '082024-BEL-CBC-T3-1562-OFAV\\_S31\\_R2\\_16S.fastq'\n",
       "\\item '082024-BEL-CBC-T4-1606-PSTR\\_S25\\_R2\\_16S.fastq'\n",
       "\\item '082024-BEL-CBC-T4-1607-PSTR\\_S90\\_R2\\_16S.fastq'\n",
       "\\item '082024-BEL-CBC-T4-1609-OFAV\\_S12\\_R2\\_16S.fastq'\n",
       "\\item '092023-BEL-CBC-T1-171-PAST\\_S42\\_R2\\_16S.fastq'\n",
       "\\item '092023-BEL-CBC-T1-175-PAST\\_S7\\_R2\\_16S.fastq'\n",
       "\\item '092023-BEL-CBC-T2-174-SSID\\_S46\\_R2\\_16S.fastq'\n",
       "\\item '092023-BEL-CBC-T2-181-PAST\\_S63\\_R2\\_16S.fastq'\n",
       "\\item '092023-BEL-CBC-T2-184-MCAV\\_S37\\_R2\\_16S.fastq'\n",
       "\\item '092023-BEL-CBC-T3-171-OFAV\\_S78\\_R2\\_16S.fastq'\n",
       "\\item '092023-BEL-CBC-T3-173-OFAV\\_S84\\_R2\\_16S.fastq'\n",
       "\\item '092023-BEL-CBC-T3-178-PAST\\_S74\\_R2\\_16S.fastq'\n",
       "\\item '092023-BEL-CBC-T3-195-PSTR\\_S66\\_R2\\_16S.fastq'\n",
       "\\item '092023-BEL-CBC-T4-92-PSTR\\_S43\\_R2\\_16S.fastq'\n",
       "\\item '092023-BEL-CBC-T4-94-MCAV\\_S85\\_R2\\_16S.fastq'\n",
       "\\item '102019-BEL-CBC-T1-29-PSTR\\_S22\\_R2\\_16S.fastq'\n",
       "\\item '112023-BEL-CBC-T1-276-MCAV\\_S26\\_R2\\_16S.fastq'\n",
       "\\item '112023-BEL-CBC-T2-304-OFAV\\_S72\\_R2\\_16S.fastq'\n",
       "\\item '112023-BEL-CBC-T2-307-SSID\\_S62\\_R2\\_16S.fastq'\n",
       "\\item '112023-BEL-CBC-T2-310-MCAV\\_S55\\_R2\\_16S.fastq'\n",
       "\\item '112023-BEL-CBC-T3-352-PAST\\_S30\\_R2\\_16S.fastq'\n",
       "\\item '112023-BEL-CBC-T3-355-PSTR\\_S10\\_R2\\_16S.fastq'\n",
       "\\item '112023-BEL-CBC-T4-399-MCAV\\_S9\\_R2\\_16S.fastq'\n",
       "\\item '112023-BEL-CBC-T4-401-MCAV\\_S53\\_R2\\_16S.fastq'\n",
       "\\item '122022-BEL-CBC-T3-123-PAST\\_S20\\_R2\\_16S.fastq'\n",
       "\\item '122022-BEL-CBC-T3-124-PAST\\_S64\\_R2\\_16S.fastq'\n",
       "\\item '122022-BEL-CBC-T3-126-SSID\\_S77\\_R2\\_16S.fastq'\n",
       "\\item '122022-BEL-CBC-T3-127-OFAV\\_S32\\_R2\\_16S.fastq'\n",
       "\\item '122022-BEL-CBC-T3-141-PSTR\\_S80\\_R2\\_16S.fastq'\n",
       "\\item '122022-BEL-CBC-T3-142-MCAV\\_S24\\_R2\\_16S.fastq'\n",
       "\\item '122023-BEL-CBC-T1-507-PAST\\_S51\\_R2\\_16S.fastq'\n",
       "\\item '122023-BEL-CBC-T1-508-SSID\\_S75\\_R2\\_16S.fastq'\n",
       "\\item '122023-BEL-CBC-T2-513-SSID\\_S45\\_R2\\_16S.fastq'\n",
       "\\item '122023-BEL-CBC-T2-515-PAST\\_S73\\_R2\\_16S.fastq'\n",
       "\\item '122023-BEL-CBC-T2-518-MCAV\\_S27\\_R2\\_16S.fastq'\n",
       "\\item '122023-BEL-CBC-T2-522-MCAV\\_S88\\_R2\\_16S.fastq'\n",
       "\\item '122023-BEL-CBC-T3-524-OFAV\\_S39\\_R2\\_16S.fastq'\n",
       "\\item '122023-BEL-CBC-T3-525-PAST\\_S29\\_R2\\_16S.fastq'\n",
       "\\item '122023-BEL-CBC-T3-526-SSID\\_S11\\_R2\\_16S.fastq'\n",
       "\\item '122023-BEL-CBC-T3-531-PSTR\\_S28\\_R2\\_16S.fastq'\n",
       "\\item '122023-BEL-CBC-T3-532-MCAV\\_S52\\_R2\\_16S.fastq'\n",
       "\\item '122023-BEL-CBC-T4-539-MCAV\\_S44\\_R2\\_16S.fastq'\n",
       "\\item 'Negative\\_S96\\_R2\\_16S.fastq'\n",
       "\\item 'Undetermined\\_S0\\_R2\\_16S.fastq'\n",
       "\\end{enumerate*}\n"
      ],
      "text/markdown": [
       "1. '012024-BEL-CBC-T1-557-SSID_S56_R2_16S.fastq'\n",
       "2. '012024-BEL-CBC-T1-563-PSTR_S68_R2_16S.fastq'\n",
       "3. '012024-BEL-CBC-T2-601-OFAV_S58_R2_16S.fastq'\n",
       "4. '012024-BEL-CBC-T2-605-SSID_S83_R2_16S.fastq'\n",
       "5. '012024-BEL-CBC-T3-627-PAST_S81_R2_16S.fastq'\n",
       "6. '012024-BEL-CBC-T3-631-MCAV_S61_R2_16S.fastq'\n",
       "7. '012024-BEL-CBC-T3-633-MCAV_S69_R2_16S.fastq'\n",
       "8. '012024-BEL-CBC-T3-637-SSID_S70_R2_16S.fastq'\n",
       "9. '012024-BEL-CBC-T4-661-PSTR_S71_R2_16S.fastq'\n",
       "10. '012024-BEL-CBC-T4-663-PSTR_S82_R2_16S.fastq'\n",
       "11. '022024-BEL-CBC-T1-775-OANN_S93_R2_16S.fastq'\n",
       "12. '022024-BEL-CBC-T1-776-PSTR_S59_R2_16S.fastq'\n",
       "13. '022024-BEL-CBC-T2-804-OFAV_S87_R2_16S.fastq'\n",
       "14. '022024-BEL-CBC-T2-814-MCAV_S1_R2_16S.fastq'\n",
       "15. '022024-BEL-CBC-T3-851-PSTR_S13_R2_16S.fastq'\n",
       "16. '022024-BEL-CBC-T4-874-OFAV_S89_R2_16S.fastq'\n",
       "17. '022024-BEL-CBC-T4-875-MCAV_S76_R2_16S.fastq'\n",
       "18. '042024-BEL-CBC-T1-927-PSTR_S67_R2_16S.fastq'\n",
       "19. '042024-BEL-CBC-T2-1014-OFAV_S95_R2_16S.fastq'\n",
       "20. '042024-BEL-CBC-T2-1018-PAST_S15_R2_16S.fastq'\n",
       "21. '042024-BEL-CBC-T2-1026-OFAV_S91_R2_16S.fastq'\n",
       "22. '042024-BEL-CBC-T2-1144-MCAV_S3_R2_16S.fastq'\n",
       "23. '042024-BEL-CBC-T3-960-OFAV_S4_R2_16S.fastq'\n",
       "24. '042024-BEL-CBC-T4-1046-PSTR_S60_R2_16S.fastq'\n",
       "25. '042024-BEL-CBC-T4-1047-MCAV_S92_R2_16S.fastq'\n",
       "26. '052022-BEL-CBC-T1-2-SSID_S8_R2_16S.fastq'\n",
       "27. '052022-BEL-CBC-T2-1-SSID_S57_R2_16S.fastq'\n",
       "28. '052022-BEL-CBC-T2-71-OFAV_S21_R2_16S.fastq'\n",
       "29. '052022-BEL-CBC-T2-9-PAST_S23_R2_16S.fastq'\n",
       "30. '052022-BEL-CBC-T3-11-PAST_S19_R2_16S.fastq'\n",
       "31. '052022-BEL-CBC-T3-13-MCAV_S5_R2_16S.fastq'\n",
       "32. '052022-BEL-CBC-T3-19-MCAV_S6_R2_16S.fastq'\n",
       "33. '052022-BEL-CBC-T3-66-OFAV_S40_R2_16S.fastq'\n",
       "34. '052022-BEL-CBC-T3-8-PAST_S17_R2_16S.fastq'\n",
       "35. '062019-BEL-CBC-T1-21-PAST_S16_R2_16S.fastq'\n",
       "36. '062019-BEL-CBC-T1-22-MCAV_S18_R2_16S.fastq'\n",
       "37. '062019-BEL-CBC-T2-18-MCAV_S79_R2_16S.fastq'\n",
       "38. '062019-BEL-CBC-T3-1-MCAV_S48_R2_16S.fastq'\n",
       "39. '062024-BEL-CBC-T1-1347-OANN_S65_R2_16S.fastq'\n",
       "40. '062024-BEL-CBC-T1-1353-MCAV_S86_R2_16S.fastq'\n",
       "41. '062024-BEL-CBC-T2-1375-SSID_S33_R2_16S.fastq'\n",
       "42. '062024-BEL-CBC-T2-1396-MCAV_S49_R2_16S.fastq'\n",
       "43. '062024-BEL-CBC-T3-1415-MCAV_S50_R2_16S.fastq'\n",
       "44. '062024-BEL-CBC-T3-1433-PSTR_S2_R2_16S.fastq'\n",
       "45. '062024-BEL-CBC-T3-1439-OFAV_S41_R2_16S.fastq'\n",
       "46. '062024-BEL-CBC-T3-1442-OFAV_S35_R2_16S.fastq'\n",
       "47. '082024-BEL-CBC-T1-1479-PAST_S47_R2_16S.fastq'\n",
       "48. '082024-BEL-CBC-T1-1482-OANN_S36_R2_16S.fastq'\n",
       "49. '082024-BEL-CBC-T2-1510-PAST_S94_R2_16S.fastq'\n",
       "50. '082024-BEL-CBC-T3-1554-OANN_S14_R2_16S.fastq'\n",
       "51. '082024-BEL-CBC-T3-1558-MCAV_S34_R2_16S.fastq'\n",
       "52. '082024-BEL-CBC-T3-1560-PSTR_S54_R2_16S.fastq'\n",
       "53. '082024-BEL-CBC-T3-1561-MCAV_S38_R2_16S.fastq'\n",
       "54. '082024-BEL-CBC-T3-1562-OFAV_S31_R2_16S.fastq'\n",
       "55. '082024-BEL-CBC-T4-1606-PSTR_S25_R2_16S.fastq'\n",
       "56. '082024-BEL-CBC-T4-1607-PSTR_S90_R2_16S.fastq'\n",
       "57. '082024-BEL-CBC-T4-1609-OFAV_S12_R2_16S.fastq'\n",
       "58. '092023-BEL-CBC-T1-171-PAST_S42_R2_16S.fastq'\n",
       "59. '092023-BEL-CBC-T1-175-PAST_S7_R2_16S.fastq'\n",
       "60. '092023-BEL-CBC-T2-174-SSID_S46_R2_16S.fastq'\n",
       "61. '092023-BEL-CBC-T2-181-PAST_S63_R2_16S.fastq'\n",
       "62. '092023-BEL-CBC-T2-184-MCAV_S37_R2_16S.fastq'\n",
       "63. '092023-BEL-CBC-T3-171-OFAV_S78_R2_16S.fastq'\n",
       "64. '092023-BEL-CBC-T3-173-OFAV_S84_R2_16S.fastq'\n",
       "65. '092023-BEL-CBC-T3-178-PAST_S74_R2_16S.fastq'\n",
       "66. '092023-BEL-CBC-T3-195-PSTR_S66_R2_16S.fastq'\n",
       "67. '092023-BEL-CBC-T4-92-PSTR_S43_R2_16S.fastq'\n",
       "68. '092023-BEL-CBC-T4-94-MCAV_S85_R2_16S.fastq'\n",
       "69. '102019-BEL-CBC-T1-29-PSTR_S22_R2_16S.fastq'\n",
       "70. '112023-BEL-CBC-T1-276-MCAV_S26_R2_16S.fastq'\n",
       "71. '112023-BEL-CBC-T2-304-OFAV_S72_R2_16S.fastq'\n",
       "72. '112023-BEL-CBC-T2-307-SSID_S62_R2_16S.fastq'\n",
       "73. '112023-BEL-CBC-T2-310-MCAV_S55_R2_16S.fastq'\n",
       "74. '112023-BEL-CBC-T3-352-PAST_S30_R2_16S.fastq'\n",
       "75. '112023-BEL-CBC-T3-355-PSTR_S10_R2_16S.fastq'\n",
       "76. '112023-BEL-CBC-T4-399-MCAV_S9_R2_16S.fastq'\n",
       "77. '112023-BEL-CBC-T4-401-MCAV_S53_R2_16S.fastq'\n",
       "78. '122022-BEL-CBC-T3-123-PAST_S20_R2_16S.fastq'\n",
       "79. '122022-BEL-CBC-T3-124-PAST_S64_R2_16S.fastq'\n",
       "80. '122022-BEL-CBC-T3-126-SSID_S77_R2_16S.fastq'\n",
       "81. '122022-BEL-CBC-T3-127-OFAV_S32_R2_16S.fastq'\n",
       "82. '122022-BEL-CBC-T3-141-PSTR_S80_R2_16S.fastq'\n",
       "83. '122022-BEL-CBC-T3-142-MCAV_S24_R2_16S.fastq'\n",
       "84. '122023-BEL-CBC-T1-507-PAST_S51_R2_16S.fastq'\n",
       "85. '122023-BEL-CBC-T1-508-SSID_S75_R2_16S.fastq'\n",
       "86. '122023-BEL-CBC-T2-513-SSID_S45_R2_16S.fastq'\n",
       "87. '122023-BEL-CBC-T2-515-PAST_S73_R2_16S.fastq'\n",
       "88. '122023-BEL-CBC-T2-518-MCAV_S27_R2_16S.fastq'\n",
       "89. '122023-BEL-CBC-T2-522-MCAV_S88_R2_16S.fastq'\n",
       "90. '122023-BEL-CBC-T3-524-OFAV_S39_R2_16S.fastq'\n",
       "91. '122023-BEL-CBC-T3-525-PAST_S29_R2_16S.fastq'\n",
       "92. '122023-BEL-CBC-T3-526-SSID_S11_R2_16S.fastq'\n",
       "93. '122023-BEL-CBC-T3-531-PSTR_S28_R2_16S.fastq'\n",
       "94. '122023-BEL-CBC-T3-532-MCAV_S52_R2_16S.fastq'\n",
       "95. '122023-BEL-CBC-T4-539-MCAV_S44_R2_16S.fastq'\n",
       "96. 'Negative_S96_R2_16S.fastq'\n",
       "97. 'Undetermined_S0_R2_16S.fastq'\n",
       "\n",
       "\n"
      ],
      "text/plain": [
       " [1] \"012024-BEL-CBC-T1-557-SSID_S56_R2_16S.fastq\" \n",
       " [2] \"012024-BEL-CBC-T1-563-PSTR_S68_R2_16S.fastq\" \n",
       " [3] \"012024-BEL-CBC-T2-601-OFAV_S58_R2_16S.fastq\" \n",
       " [4] \"012024-BEL-CBC-T2-605-SSID_S83_R2_16S.fastq\" \n",
       " [5] \"012024-BEL-CBC-T3-627-PAST_S81_R2_16S.fastq\" \n",
       " [6] \"012024-BEL-CBC-T3-631-MCAV_S61_R2_16S.fastq\" \n",
       " [7] \"012024-BEL-CBC-T3-633-MCAV_S69_R2_16S.fastq\" \n",
       " [8] \"012024-BEL-CBC-T3-637-SSID_S70_R2_16S.fastq\" \n",
       " [9] \"012024-BEL-CBC-T4-661-PSTR_S71_R2_16S.fastq\" \n",
       "[10] \"012024-BEL-CBC-T4-663-PSTR_S82_R2_16S.fastq\" \n",
       "[11] \"022024-BEL-CBC-T1-775-OANN_S93_R2_16S.fastq\" \n",
       "[12] \"022024-BEL-CBC-T1-776-PSTR_S59_R2_16S.fastq\" \n",
       "[13] \"022024-BEL-CBC-T2-804-OFAV_S87_R2_16S.fastq\" \n",
       "[14] \"022024-BEL-CBC-T2-814-MCAV_S1_R2_16S.fastq\"  \n",
       "[15] \"022024-BEL-CBC-T3-851-PSTR_S13_R2_16S.fastq\" \n",
       "[16] \"022024-BEL-CBC-T4-874-OFAV_S89_R2_16S.fastq\" \n",
       "[17] \"022024-BEL-CBC-T4-875-MCAV_S76_R2_16S.fastq\" \n",
       "[18] \"042024-BEL-CBC-T1-927-PSTR_S67_R2_16S.fastq\" \n",
       "[19] \"042024-BEL-CBC-T2-1014-OFAV_S95_R2_16S.fastq\"\n",
       "[20] \"042024-BEL-CBC-T2-1018-PAST_S15_R2_16S.fastq\"\n",
       "[21] \"042024-BEL-CBC-T2-1026-OFAV_S91_R2_16S.fastq\"\n",
       "[22] \"042024-BEL-CBC-T2-1144-MCAV_S3_R2_16S.fastq\" \n",
       "[23] \"042024-BEL-CBC-T3-960-OFAV_S4_R2_16S.fastq\"  \n",
       "[24] \"042024-BEL-CBC-T4-1046-PSTR_S60_R2_16S.fastq\"\n",
       "[25] \"042024-BEL-CBC-T4-1047-MCAV_S92_R2_16S.fastq\"\n",
       "[26] \"052022-BEL-CBC-T1-2-SSID_S8_R2_16S.fastq\"    \n",
       "[27] \"052022-BEL-CBC-T2-1-SSID_S57_R2_16S.fastq\"   \n",
       "[28] \"052022-BEL-CBC-T2-71-OFAV_S21_R2_16S.fastq\"  \n",
       "[29] \"052022-BEL-CBC-T2-9-PAST_S23_R2_16S.fastq\"   \n",
       "[30] \"052022-BEL-CBC-T3-11-PAST_S19_R2_16S.fastq\"  \n",
       "[31] \"052022-BEL-CBC-T3-13-MCAV_S5_R2_16S.fastq\"   \n",
       "[32] \"052022-BEL-CBC-T3-19-MCAV_S6_R2_16S.fastq\"   \n",
       "[33] \"052022-BEL-CBC-T3-66-OFAV_S40_R2_16S.fastq\"  \n",
       "[34] \"052022-BEL-CBC-T3-8-PAST_S17_R2_16S.fastq\"   \n",
       "[35] \"062019-BEL-CBC-T1-21-PAST_S16_R2_16S.fastq\"  \n",
       "[36] \"062019-BEL-CBC-T1-22-MCAV_S18_R2_16S.fastq\"  \n",
       "[37] \"062019-BEL-CBC-T2-18-MCAV_S79_R2_16S.fastq\"  \n",
       "[38] \"062019-BEL-CBC-T3-1-MCAV_S48_R2_16S.fastq\"   \n",
       "[39] \"062024-BEL-CBC-T1-1347-OANN_S65_R2_16S.fastq\"\n",
       "[40] \"062024-BEL-CBC-T1-1353-MCAV_S86_R2_16S.fastq\"\n",
       "[41] \"062024-BEL-CBC-T2-1375-SSID_S33_R2_16S.fastq\"\n",
       "[42] \"062024-BEL-CBC-T2-1396-MCAV_S49_R2_16S.fastq\"\n",
       "[43] \"062024-BEL-CBC-T3-1415-MCAV_S50_R2_16S.fastq\"\n",
       "[44] \"062024-BEL-CBC-T3-1433-PSTR_S2_R2_16S.fastq\" \n",
       "[45] \"062024-BEL-CBC-T3-1439-OFAV_S41_R2_16S.fastq\"\n",
       "[46] \"062024-BEL-CBC-T3-1442-OFAV_S35_R2_16S.fastq\"\n",
       "[47] \"082024-BEL-CBC-T1-1479-PAST_S47_R2_16S.fastq\"\n",
       "[48] \"082024-BEL-CBC-T1-1482-OANN_S36_R2_16S.fastq\"\n",
       "[49] \"082024-BEL-CBC-T2-1510-PAST_S94_R2_16S.fastq\"\n",
       "[50] \"082024-BEL-CBC-T3-1554-OANN_S14_R2_16S.fastq\"\n",
       "[51] \"082024-BEL-CBC-T3-1558-MCAV_S34_R2_16S.fastq\"\n",
       "[52] \"082024-BEL-CBC-T3-1560-PSTR_S54_R2_16S.fastq\"\n",
       "[53] \"082024-BEL-CBC-T3-1561-MCAV_S38_R2_16S.fastq\"\n",
       "[54] \"082024-BEL-CBC-T3-1562-OFAV_S31_R2_16S.fastq\"\n",
       "[55] \"082024-BEL-CBC-T4-1606-PSTR_S25_R2_16S.fastq\"\n",
       "[56] \"082024-BEL-CBC-T4-1607-PSTR_S90_R2_16S.fastq\"\n",
       "[57] \"082024-BEL-CBC-T4-1609-OFAV_S12_R2_16S.fastq\"\n",
       "[58] \"092023-BEL-CBC-T1-171-PAST_S42_R2_16S.fastq\" \n",
       "[59] \"092023-BEL-CBC-T1-175-PAST_S7_R2_16S.fastq\"  \n",
       "[60] \"092023-BEL-CBC-T2-174-SSID_S46_R2_16S.fastq\" \n",
       "[61] \"092023-BEL-CBC-T2-181-PAST_S63_R2_16S.fastq\" \n",
       "[62] \"092023-BEL-CBC-T2-184-MCAV_S37_R2_16S.fastq\" \n",
       "[63] \"092023-BEL-CBC-T3-171-OFAV_S78_R2_16S.fastq\" \n",
       "[64] \"092023-BEL-CBC-T3-173-OFAV_S84_R2_16S.fastq\" \n",
       "[65] \"092023-BEL-CBC-T3-178-PAST_S74_R2_16S.fastq\" \n",
       "[66] \"092023-BEL-CBC-T3-195-PSTR_S66_R2_16S.fastq\" \n",
       "[67] \"092023-BEL-CBC-T4-92-PSTR_S43_R2_16S.fastq\"  \n",
       "[68] \"092023-BEL-CBC-T4-94-MCAV_S85_R2_16S.fastq\"  \n",
       "[69] \"102019-BEL-CBC-T1-29-PSTR_S22_R2_16S.fastq\"  \n",
       "[70] \"112023-BEL-CBC-T1-276-MCAV_S26_R2_16S.fastq\" \n",
       "[71] \"112023-BEL-CBC-T2-304-OFAV_S72_R2_16S.fastq\" \n",
       "[72] \"112023-BEL-CBC-T2-307-SSID_S62_R2_16S.fastq\" \n",
       "[73] \"112023-BEL-CBC-T2-310-MCAV_S55_R2_16S.fastq\" \n",
       "[74] \"112023-BEL-CBC-T3-352-PAST_S30_R2_16S.fastq\" \n",
       "[75] \"112023-BEL-CBC-T3-355-PSTR_S10_R2_16S.fastq\" \n",
       "[76] \"112023-BEL-CBC-T4-399-MCAV_S9_R2_16S.fastq\"  \n",
       "[77] \"112023-BEL-CBC-T4-401-MCAV_S53_R2_16S.fastq\" \n",
       "[78] \"122022-BEL-CBC-T3-123-PAST_S20_R2_16S.fastq\" \n",
       "[79] \"122022-BEL-CBC-T3-124-PAST_S64_R2_16S.fastq\" \n",
       "[80] \"122022-BEL-CBC-T3-126-SSID_S77_R2_16S.fastq\" \n",
       "[81] \"122022-BEL-CBC-T3-127-OFAV_S32_R2_16S.fastq\" \n",
       "[82] \"122022-BEL-CBC-T3-141-PSTR_S80_R2_16S.fastq\" \n",
       "[83] \"122022-BEL-CBC-T3-142-MCAV_S24_R2_16S.fastq\" \n",
       "[84] \"122023-BEL-CBC-T1-507-PAST_S51_R2_16S.fastq\" \n",
       "[85] \"122023-BEL-CBC-T1-508-SSID_S75_R2_16S.fastq\" \n",
       "[86] \"122023-BEL-CBC-T2-513-SSID_S45_R2_16S.fastq\" \n",
       "[87] \"122023-BEL-CBC-T2-515-PAST_S73_R2_16S.fastq\" \n",
       "[88] \"122023-BEL-CBC-T2-518-MCAV_S27_R2_16S.fastq\" \n",
       "[89] \"122023-BEL-CBC-T2-522-MCAV_S88_R2_16S.fastq\" \n",
       "[90] \"122023-BEL-CBC-T3-524-OFAV_S39_R2_16S.fastq\" \n",
       "[91] \"122023-BEL-CBC-T3-525-PAST_S29_R2_16S.fastq\" \n",
       "[92] \"122023-BEL-CBC-T3-526-SSID_S11_R2_16S.fastq\" \n",
       "[93] \"122023-BEL-CBC-T3-531-PSTR_S28_R2_16S.fastq\" \n",
       "[94] \"122023-BEL-CBC-T3-532-MCAV_S52_R2_16S.fastq\" \n",
       "[95] \"122023-BEL-CBC-T4-539-MCAV_S44_R2_16S.fastq\" \n",
       "[96] \"Negative_S96_R2_16S.fastq\"                   \n",
       "[97] \"Undetermined_S0_R2_16S.fastq\"                "
      ]
     },
     "metadata": {},
     "output_type": "display_data"
    }
   ],
   "source": [
    "list.files(pathF)\n",
    "list.files(pathR)"
   ]
  },
  {
   "cell_type": "code",
   "execution_count": 5,
   "id": "42fd075b-fb6f-4dba-8db5-e449a7247bce",
   "metadata": {
    "execution": {
     "iopub.execute_input": "2025-09-23T21:36:29.426832Z",
     "iopub.status.busy": "2025-09-23T21:36:29.426049Z",
     "iopub.status.idle": "2025-09-23T21:36:29.436547Z",
     "shell.execute_reply": "2025-09-23T21:36:29.435585Z"
    },
    "papermill": {
     "duration": 0.019709,
     "end_time": "2025-09-23T21:36:29.437547",
     "exception": false,
     "start_time": "2025-09-23T21:36:29.417838",
     "status": "completed"
    },
    "tags": []
   },
   "outputs": [],
   "source": [
    "fnFs = sort(list.files(pathF, pattern=\"_R1_16S.fastq\", full.names = TRUE))\n",
    "fnRs = sort(list.files(pathR, pattern=\"_R2_16S.fastq\", full.names = TRUE))"
   ]
  },
  {
   "cell_type": "code",
   "execution_count": 6,
   "id": "ddf5671c-3523-4fad-a0ea-d8a62f430969",
   "metadata": {
    "execution": {
     "iopub.execute_input": "2025-09-23T21:36:29.453547Z",
     "iopub.status.busy": "2025-09-23T21:36:29.452759Z",
     "iopub.status.idle": "2025-09-23T21:36:29.460794Z",
     "shell.execute_reply": "2025-09-23T21:36:29.459833Z"
    },
    "papermill": {
     "duration": 0.016907,
     "end_time": "2025-09-23T21:36:29.461780",
     "exception": false,
     "start_time": "2025-09-23T21:36:29.444873",
     "status": "completed"
    },
    "tags": []
   },
   "outputs": [],
   "source": [
    "sample.names = sapply(strsplit(basename(fnFs), \"_\"), `[`, 1)"
   ]
  },
  {
   "cell_type": "code",
   "execution_count": 7,
   "id": "d41fa39f-9424-4e9b-abb2-cb3aedd210fd",
   "metadata": {
    "execution": {
     "iopub.execute_input": "2025-09-23T21:36:29.494651Z",
     "iopub.status.busy": "2025-09-23T21:36:29.493808Z",
     "iopub.status.idle": "2025-09-23T21:36:45.703670Z",
     "shell.execute_reply": "2025-09-23T21:36:45.702460Z"
    },
    "papermill": {
     "duration": 16.236047,
     "end_time": "2025-09-23T21:36:45.704851",
     "exception": false,
     "start_time": "2025-09-23T21:36:29.468804",
     "status": "completed"
    },
    "tags": []
   },
   "outputs": [
    {
     "name": "stderr",
     "output_type": "stream",
     "text": [
      "Warning message:\n",
      "“\u001b[1m\u001b[22mRemoved 13 rows containing missing values or values outside the scale range\n",
      "(`geom_tile()`).”\n"
     ]
    },
    {
     "name": "stderr",
     "output_type": "stream",
     "text": [
      "Warning message:\n",
      "“\u001b[1m\u001b[22mRemoved 44 rows containing missing values or values outside the scale range\n",
      "(`geom_tile()`).”\n"
     ]
    },
    {
     "data": {
      "image/png": "[encoded data removed]",
      "text/plain": [
       "plot without title"
      ]
     },
     "metadata": {
      "image/png": {
       "height": 420,
       "width": 420
      }
     },
     "output_type": "display_data"
    },
    {
     "data": {
      "image/png": "[encoded data removed]",
      "text/plain": [
       "plot without title"
      ]
     },
     "metadata": {
      "image/png": {
       "height": 420,
       "width": 420
      }
     },
     "output_type": "display_data"
    }
   ],
   "source": [
    "# quality profiles for R1 and R2\n",
    "plotQualityProfile(fnFs[1:2])\n",
    "plotQualityProfile(fnRs[1:2])"
   ]
  },
  {
   "cell_type": "code",
   "execution_count": 8,
   "id": "d4bb83dd-204d-427e-8f8a-378c9e71f5f8",
   "metadata": {
    "execution": {
     "iopub.execute_input": "2025-09-23T21:36:45.737041Z",
     "iopub.status.busy": "2025-09-23T21:36:45.736058Z",
     "iopub.status.idle": "2025-09-23T21:36:45.748727Z",
     "shell.execute_reply": "2025-09-23T21:36:45.747587Z"
    },
    "papermill": {
     "duration": 0.029112,
     "end_time": "2025-09-23T21:36:45.749969",
     "exception": false,
     "start_time": "2025-09-23T21:36:45.720857",
     "status": "completed"
    },
    "tags": []
   },
   "outputs": [],
   "source": [
    "#set up where the filtered outputs will be stored\n",
    "filtFs = file.path(pathF, \"filtered\", paste0(sample.names, \"_F_16S_filt.fastq.gz\"))\n",
    "filtRs = file.path(pathR, \"filtered\", paste0(sample.names, \"_R_16S_filt.fastq.gz\"))\n",
    "names(filtFs) = sample.names\n",
    "names(filtRs) = sample.names"
   ]
  },
  {
   "cell_type": "code",
   "execution_count": 9,
   "id": "28b9f381-c43b-4186-8439-ac4ae36b200f",
   "metadata": {
    "execution": {
     "iopub.execute_input": "2025-09-23T21:36:45.772938Z",
     "iopub.status.busy": "2025-09-23T21:36:45.771981Z",
     "iopub.status.idle": "2025-09-23T22:00:34.181426Z",
     "shell.execute_reply": "2025-09-23T22:00:34.179797Z"
    },
    "papermill": {
     "duration": 1428.432854,
     "end_time": "2025-09-23T22:00:34.193448",
     "exception": false,
     "start_time": "2025-09-23T21:36:45.760594",
     "status": "completed"
    },
    "tags": []
   },
   "outputs": [
    {
     "name": "stderr",
     "output_type": "stream",
     "text": [
      "Creating output directory: /scratch3/workspace/caroline_desouza_uml_edu-CBC_immune_microbe/split_reads/16S/R1/filtered\n",
      "\n"
     ]
    },
    {
     "name": "stderr",
     "output_type": "stream",
     "text": [
      "Creating output directory:/scratch3/workspace/caroline_desouza_uml_edu-CBC_immune_microbe/split_reads/16S/R2/filtered\n",
      "\n"
     ]
    },
    {
     "data": {
      "text/html": [
       "<table class=\"dataframe\">\n",
       "<caption>A matrix: 6 × 2 of type dbl</caption>\n",
       "<thead>\n",
       "\t<tr><th></th><th scope=col>reads.in</th><th scope=col>reads.out</th></tr>\n",
       "</thead>\n",
       "<tbody>\n",
       "\t<tr><th scope=row>012024-BEL-CBC-T1-557-SSID_S56_R1_16S.fastq</th><td>189570</td><td>176082</td></tr>\n",
       "\t<tr><th scope=row>012024-BEL-CBC-T1-563-PSTR_S68_R1_16S.fastq</th><td> 98511</td><td> 89332</td></tr>\n",
       "\t<tr><th scope=row>012024-BEL-CBC-T2-601-OFAV_S58_R1_16S.fastq</th><td>280308</td><td>263766</td></tr>\n",
       "\t<tr><th scope=row>012024-BEL-CBC-T2-605-SSID_S83_R1_16S.fastq</th><td>  1116</td><td>   929</td></tr>\n",
       "\t<tr><th scope=row>012024-BEL-CBC-T3-627-PAST_S81_R1_16S.fastq</th><td>  6549</td><td>  5159</td></tr>\n",
       "\t<tr><th scope=row>012024-BEL-CBC-T3-631-MCAV_S61_R1_16S.fastq</th><td>536790</td><td>497421</td></tr>\n",
       "</tbody>\n",
       "</table>\n"
      ],
      "text/latex": [
       "A matrix: 6 × 2 of type dbl\n",
       "\\begin{tabular}{r|ll}\n",
       "  & reads.in & reads.out\\\\\n",
       "\\hline\n",
       "\t012024-BEL-CBC-T1-557-SSID\\_S56\\_R1\\_16S.fastq & 189570 & 176082\\\\\n",
       "\t012024-BEL-CBC-T1-563-PSTR\\_S68\\_R1\\_16S.fastq &  98511 &  89332\\\\\n",
       "\t012024-BEL-CBC-T2-601-OFAV\\_S58\\_R1\\_16S.fastq & 280308 & 263766\\\\\n",
       "\t012024-BEL-CBC-T2-605-SSID\\_S83\\_R1\\_16S.fastq &   1116 &    929\\\\\n",
       "\t012024-BEL-CBC-T3-627-PAST\\_S81\\_R1\\_16S.fastq &   6549 &   5159\\\\\n",
       "\t012024-BEL-CBC-T3-631-MCAV\\_S61\\_R1\\_16S.fastq & 536790 & 497421\\\\\n",
       "\\end{tabular}\n"
      ],
      "text/markdown": [
       "\n",
       "A matrix: 6 × 2 of type dbl\n",
       "\n",
       "| <!--/--> | reads.in | reads.out |\n",
       "|---|---|---|\n",
       "| 012024-BEL-CBC-T1-557-SSID_S56_R1_16S.fastq | 189570 | 176082 |\n",
       "| 012024-BEL-CBC-T1-563-PSTR_S68_R1_16S.fastq |  98511 |  89332 |\n",
       "| 012024-BEL-CBC-T2-601-OFAV_S58_R1_16S.fastq | 280308 | 263766 |\n",
       "| 012024-BEL-CBC-T2-605-SSID_S83_R1_16S.fastq |   1116 |    929 |\n",
       "| 012024-BEL-CBC-T3-627-PAST_S81_R1_16S.fastq |   6549 |   5159 |\n",
       "| 012024-BEL-CBC-T3-631-MCAV_S61_R1_16S.fastq | 536790 | 497421 |\n",
       "\n"
      ],
      "text/plain": [
       "                                            reads.in reads.out\n",
       "012024-BEL-CBC-T1-557-SSID_S56_R1_16S.fastq 189570   176082   \n",
       "012024-BEL-CBC-T1-563-PSTR_S68_R1_16S.fastq  98511    89332   \n",
       "012024-BEL-CBC-T2-601-OFAV_S58_R1_16S.fastq 280308   263766   \n",
       "012024-BEL-CBC-T2-605-SSID_S83_R1_16S.fastq   1116      929   \n",
       "012024-BEL-CBC-T3-627-PAST_S81_R1_16S.fastq   6549     5159   \n",
       "012024-BEL-CBC-T3-631-MCAV_S61_R1_16S.fastq 536790   497421   "
      ]
     },
     "metadata": {},
     "output_type": "display_data"
    }
   ],
   "source": [
    "# actually filtering and trimming sequences\n",
    "# relaxing maxEE to (4,4) gave me even fewer reads\n",
    "\n",
    "out <- filterAndTrim(fnFs, filtFs, fnRs, filtRs, trimLeft = c(19, 20), truncLen=c(250,230),\n",
    "              maxN=0, maxEE=c(2,2), truncQ=2, rm.phix=TRUE,\n",
    "              compress=TRUE, multithread=TRUE, verbose=TRUE) # On Windows set multithread=FALSE\n",
    "head(out)"
   ]
  },
  {
   "cell_type": "code",
   "execution_count": 10,
   "id": "458b90e4-c754-4e33-9f41-5adf9bd8d49b",
   "metadata": {
    "execution": {
     "iopub.execute_input": "2025-09-23T22:00:34.264508Z",
     "iopub.status.busy": "2025-09-23T22:00:34.263239Z",
     "iopub.status.idle": "2025-09-23T22:00:34.277433Z",
     "shell.execute_reply": "2025-09-23T22:00:34.276180Z"
    },
    "papermill": {
     "duration": 0.072594,
     "end_time": "2025-09-23T22:00:34.278693",
     "exception": false,
     "start_time": "2025-09-23T22:00:34.206099",
     "status": "completed"
    },
    "tags": []
   },
   "outputs": [
    {
     "name": "stdout",
     "output_type": "stream",
     "text": [
      "                                             reads.in reads.out\n",
      "012024-BEL-CBC-T1-557-SSID_S56_R1_16S.fastq    189570    176082\n",
      "012024-BEL-CBC-T1-563-PSTR_S68_R1_16S.fastq     98511     89332\n",
      "012024-BEL-CBC-T2-601-OFAV_S58_R1_16S.fastq    280308    263766\n",
      "012024-BEL-CBC-T2-605-SSID_S83_R1_16S.fastq      1116       929\n",
      "012024-BEL-CBC-T3-627-PAST_S81_R1_16S.fastq      6549      5159\n",
      "012024-BEL-CBC-T3-631-MCAV_S61_R1_16S.fastq    536790    497421\n",
      "012024-BEL-CBC-T3-633-MCAV_S69_R1_16S.fastq    163169    154836\n",
      "012024-BEL-CBC-T3-637-SSID_S70_R1_16S.fastq     22749     21151\n",
      "012024-BEL-CBC-T4-661-PSTR_S71_R1_16S.fastq    464328    426848\n",
      "012024-BEL-CBC-T4-663-PSTR_S82_R1_16S.fastq      1295      1045\n",
      "022024-BEL-CBC-T1-775-OANN_S93_R1_16S.fastq      2146      1744\n",
      "022024-BEL-CBC-T1-776-PSTR_S59_R1_16S.fastq    115016    104918\n",
      "022024-BEL-CBC-T2-804-OFAV_S87_R1_16S.fastq      5900      4864\n",
      "022024-BEL-CBC-T2-814-MCAV_S1_R1_16S.fastq       3376      2812\n",
      "022024-BEL-CBC-T3-851-PSTR_S13_R1_16S.fastq    647444    561975\n",
      "022024-BEL-CBC-T4-874-OFAV_S89_R1_16S.fastq      2133      1778\n",
      "022024-BEL-CBC-T4-875-MCAV_S76_R1_16S.fastq    198640    188605\n",
      "042024-BEL-CBC-T1-927-PSTR_S67_R1_16S.fastq     61333     57739\n",
      "042024-BEL-CBC-T2-1014-OFAV_S95_R1_16S.fastq     2258      1906\n",
      "042024-BEL-CBC-T2-1018-PAST_S15_R1_16S.fastq  2381999   2243413\n",
      "042024-BEL-CBC-T2-1026-OFAV_S91_R1_16S.fastq      680       596\n",
      "042024-BEL-CBC-T2-1144-MCAV_S3_R1_16S.fastq       751       626\n",
      "042024-BEL-CBC-T3-960-OFAV_S4_R1_16S.fastq        487       399\n",
      "042024-BEL-CBC-T4-1046-PSTR_S60_R1_16S.fastq   205803    164390\n",
      "042024-BEL-CBC-T4-1047-MCAV_S92_R1_16S.fastq      478       393\n",
      "052022-BEL-CBC-T1-2-SSID_S8_R1_16S.fastq         1016       807\n",
      "052022-BEL-CBC-T2-1-SSID_S57_R1_16S.fastq      580209    540447\n",
      "052022-BEL-CBC-T2-71-OFAV_S21_R1_16S.fastq       2606      2125\n",
      "052022-BEL-CBC-T2-9-PAST_S23_R1_16S.fastq        2943      2478\n",
      "052022-BEL-CBC-T3-11-PAST_S19_R1_16S.fastq        540       431\n",
      "052022-BEL-CBC-T3-13-MCAV_S5_R1_16S.fastq        3730      3026\n",
      "052022-BEL-CBC-T3-19-MCAV_S6_R1_16S.fastq        1347      1094\n",
      "052022-BEL-CBC-T3-66-OFAV_S40_R1_16S.fastq     107989     97528\n",
      "052022-BEL-CBC-T3-8-PAST_S17_R1_16S.fastq        2442      1922\n",
      "062019-BEL-CBC-T1-21-PAST_S16_R1_16S.fastq      46776     40880\n",
      "062019-BEL-CBC-T1-22-MCAV_S18_R1_16S.fastq        705       593\n",
      "062019-BEL-CBC-T2-18-MCAV_S79_R1_16S.fastq      63110     58496\n",
      "062019-BEL-CBC-T3-1-MCAV_S48_R1_16S.fastq       88225     83018\n",
      "062024-BEL-CBC-T1-1347-OANN_S65_R1_16S.fastq   123368    116557\n",
      "062024-BEL-CBC-T1-1353-MCAV_S86_R1_16S.fastq     3135      2507\n",
      "062024-BEL-CBC-T2-1375-SSID_S33_R1_16S.fastq  9815885   9261092\n",
      "062024-BEL-CBC-T2-1396-MCAV_S49_R1_16S.fastq   919507    872940\n",
      "062024-BEL-CBC-T3-1415-MCAV_S50_R1_16S.fastq   196009    184827\n",
      "062024-BEL-CBC-T3-1433-PSTR_S2_R1_16S.fastq      1443      1297\n",
      "062024-BEL-CBC-T3-1439-OFAV_S41_R1_16S.fastq     2626      2219\n",
      "062024-BEL-CBC-T3-1442-OFAV_S35_R1_16S.fastq   628275    593252\n",
      "082024-BEL-CBC-T1-1479-PAST_S47_R1_16S.fastq     3366      2981\n",
      "082024-BEL-CBC-T1-1482-OANN_S36_R1_16S.fastq   123299    114820\n",
      "082024-BEL-CBC-T2-1510-PAST_S94_R1_16S.fastq     1340      1126\n",
      "082024-BEL-CBC-T3-1554-OANN_S14_R1_16S.fastq   928732    846463\n",
      "082024-BEL-CBC-T3-1558-MCAV_S34_R1_16S.fastq   330412    308925\n",
      "082024-BEL-CBC-T3-1560-PSTR_S54_R1_16S.fastq   412870    388584\n",
      "082024-BEL-CBC-T3-1561-MCAV_S38_R1_16S.fastq   419863    391980\n",
      "082024-BEL-CBC-T3-1562-OFAV_S31_R1_16S.fastq  6252156   5944181\n",
      "082024-BEL-CBC-T4-1606-PSTR_S25_R1_16S.fastq   275304    257018\n",
      "082024-BEL-CBC-T4-1607-PSTR_S90_R1_16S.fastq      441       369\n",
      "082024-BEL-CBC-T4-1609-OFAV_S12_R1_16S.fastq   983222    933851\n",
      "092023-BEL-CBC-T1-171-PAST_S42_R1_16S.fastq      1556      1406\n",
      "092023-BEL-CBC-T1-175-PAST_S7_R1_16S.fastq       3420      2878\n",
      "092023-BEL-CBC-T2-174-SSID_S46_R1_16S.fastq      2321      2072\n",
      "092023-BEL-CBC-T2-181-PAST_S63_R1_16S.fastq    864136    788583\n",
      "092023-BEL-CBC-T2-184-MCAV_S37_R1_16S.fastq  11706940  10986911\n",
      "092023-BEL-CBC-T3-171-OFAV_S78_R1_16S.fastq   2039540   1927141\n",
      "092023-BEL-CBC-T3-173-OFAV_S84_R1_16S.fastq      2186      1769\n",
      "092023-BEL-CBC-T3-178-PAST_S74_R1_16S.fastq    768250    716306\n",
      "092023-BEL-CBC-T3-195-PSTR_S66_R1_16S.fastq     46134     43307\n",
      "092023-BEL-CBC-T4-92-PSTR_S43_R1_16S.fastq        623       505\n",
      "092023-BEL-CBC-T4-94-MCAV_S85_R1_16S.fastq       6222      4875\n",
      "102019-BEL-CBC-T1-29-PSTR_S22_R1_16S.fastq       1479      1234\n",
      "112023-BEL-CBC-T1-276-MCAV_S26_R1_16S.fastq    150280    141927\n",
      "112023-BEL-CBC-T2-304-OFAV_S72_R1_16S.fastq    801290    746294\n",
      "112023-BEL-CBC-T2-307-SSID_S62_R1_16S.fastq    849647    796626\n",
      "112023-BEL-CBC-T2-310-MCAV_S55_R1_16S.fastq    466146    418644\n",
      "112023-BEL-CBC-T3-352-PAST_S30_R1_16S.fastq    853171    716569\n",
      "112023-BEL-CBC-T3-355-PSTR_S10_R1_16S.fastq    100623     94232\n",
      "112023-BEL-CBC-T4-399-MCAV_S9_R1_16S.fastq     265563    241918\n",
      "112023-BEL-CBC-T4-401-MCAV_S53_R1_16S.fastq    267630    252616\n",
      "122022-BEL-CBC-T3-123-PAST_S20_R1_16S.fastq       528       437\n",
      "122022-BEL-CBC-T3-124-PAST_S64_R1_16S.fastq    531846    441614\n",
      "122022-BEL-CBC-T3-126-SSID_S77_R1_16S.fastq    449752    390988\n",
      "122022-BEL-CBC-T3-127-OFAV_S32_R1_16S.fastq    883470    826200\n",
      "122022-BEL-CBC-T3-141-PSTR_S80_R1_16S.fastq    642773    605290\n",
      "122022-BEL-CBC-T3-142-MCAV_S24_R1_16S.fastq     37542     34822\n",
      "122023-BEL-CBC-T1-507-PAST_S51_R1_16S.fastq    536020    495709\n",
      "122023-BEL-CBC-T1-508-SSID_S75_R1_16S.fastq    400350    379807\n",
      "122023-BEL-CBC-T2-513-SSID_S45_R1_16S.fastq      2606      2187\n",
      "122023-BEL-CBC-T2-515-PAST_S73_R1_16S.fastq    332780    311964\n",
      "122023-BEL-CBC-T2-518-MCAV_S27_R1_16S.fastq    171458    161194\n",
      "122023-BEL-CBC-T2-522-MCAV_S88_R1_16S.fastq      2040      1576\n",
      "122023-BEL-CBC-T3-524-OFAV_S39_R1_16S.fastq    474846    444124\n",
      "122023-BEL-CBC-T3-525-PAST_S29_R1_16S.fastq    588421    541874\n",
      "122023-BEL-CBC-T3-526-SSID_S11_R1_16S.fastq    176648    164615\n",
      "122023-BEL-CBC-T3-531-PSTR_S28_R1_16S.fastq    171959    160818\n",
      "122023-BEL-CBC-T3-532-MCAV_S52_R1_16S.fastq    552104    510342\n",
      "122023-BEL-CBC-T4-539-MCAV_S44_R1_16S.fastq       784       685\n",
      "Negative_S96_R1_16S.fastq                         667       543\n",
      "Undetermined_S0_R1_16S.fastq                  1026032    550202\n"
     ]
    }
   ],
   "source": [
    "print(out)"
   ]
  },
  {
   "cell_type": "code",
   "execution_count": 11,
   "id": "27b0e7a8-4e24-42a4-b70f-bba23592eafc",
   "metadata": {
    "execution": {
     "iopub.execute_input": "2025-09-23T22:00:34.314426Z",
     "iopub.status.busy": "2025-09-23T22:00:34.313323Z",
     "iopub.status.idle": "2025-09-23T22:00:34.324030Z",
     "shell.execute_reply": "2025-09-23T22:00:34.322797Z"
    },
    "papermill": {
     "duration": 0.034473,
     "end_time": "2025-09-23T22:00:34.325254",
     "exception": false,
     "start_time": "2025-09-23T22:00:34.290781",
     "status": "completed"
    },
    "tags": []
   },
   "outputs": [],
   "source": [
    "set.seed(100)"
   ]
  },
  {
   "cell_type": "code",
   "execution_count": 12,
   "id": "aceadda0-91e0-4124-877f-f2a662688dcd",
   "metadata": {
    "execution": {
     "iopub.execute_input": "2025-09-23T22:00:34.358848Z",
     "iopub.status.busy": "2025-09-23T22:00:34.357783Z",
     "iopub.status.idle": "2025-09-23T22:04:21.413906Z",
     "shell.execute_reply": "2025-09-23T22:04:21.412783Z"
    },
    "papermill": {
     "duration": 227.081169,
     "end_time": "2025-09-23T22:04:21.426441",
     "exception": false,
     "start_time": "2025-09-23T22:00:34.345272",
     "status": "completed"
    },
    "tags": []
   },
   "outputs": [
    {
     "name": "stdout",
     "output_type": "stream",
     "text": [
      "122240580 total bases in 529180 reads from 3 samples will be used for learning the error rates.\n"
     ]
    },
    {
     "name": "stdout",
     "output_type": "stream",
     "text": [
      "111127800 total bases in 529180 reads from 3 samples will be used for learning the error rates.\n"
     ]
    }
   ],
   "source": [
    "#learn non-random error rates made during sequencing in R1 and R2\n",
    "errF = learnErrors(filtFs, nbases=1e8, multithread=TRUE)\n",
    "errR <- learnErrors(filtRs, nbases=1e8, multithread=TRUE)"
   ]
  },
  {
   "cell_type": "code",
   "execution_count": 13,
   "id": "c873fa70-002f-4eb3-8119-0b4e678ecd9e",
   "metadata": {
    "execution": {
     "iopub.execute_input": "2025-09-23T22:04:21.451299Z",
     "iopub.status.busy": "2025-09-23T22:04:21.450469Z",
     "iopub.status.idle": "2025-09-23T22:04:22.263049Z",
     "shell.execute_reply": "2025-09-23T22:04:22.261949Z"
    },
    "papermill": {
     "duration": 0.827871,
     "end_time": "2025-09-23T22:04:22.265165",
     "exception": false,
     "start_time": "2025-09-23T22:04:21.437294",
     "status": "completed"
    },
    "tags": []
   },
   "outputs": [
    {
     "name": "stderr",
     "output_type": "stream",
     "text": [
      "Warning message in scale_y_log10():\n",
      "“\u001b[1m\u001b[22m\u001b[32mlog-10\u001b[39m transformation introduced infinite values.”\n"
     ]
    },
    {
     "name": "stderr",
     "output_type": "stream",
     "text": [
      "Warning message in scale_y_log10():\n",
      "“\u001b[1m\u001b[22m\u001b[32mlog-10\u001b[39m transformation introduced infinite values.”\n"
     ]
    },
    {
     "data": {
      "image/png": "[encoded data removed]",
      "text/plain": [
       "plot without title"
      ]
     },
     "metadata": {
      "image/png": {
       "height": 420,
       "width": 420
      }
     },
     "output_type": "display_data"
    }
   ],
   "source": [
    "#plot errors to visualize\n",
    "#can also do with errR\n",
    "plotErrors(errF, nominalQ=TRUE)"
   ]
  },
  {
   "cell_type": "code",
   "execution_count": 14,
   "id": "7cde5c6e-1726-410f-a7d3-ac321de6e93d",
   "metadata": {
    "execution": {
     "iopub.execute_input": "2025-09-23T22:04:22.292563Z",
     "iopub.status.busy": "2025-09-23T22:04:22.291702Z",
     "iopub.status.idle": "2025-09-24T06:11:56.233635Z",
     "shell.execute_reply": "2025-09-24T06:11:56.231897Z"
    },
    "papermill": {
     "duration": 29253.956099,
     "end_time": "2025-09-24T06:11:56.234978",
     "exception": false,
     "start_time": "2025-09-23T22:04:22.278879",
     "status": "completed"
    },
    "tags": []
   },
   "outputs": [
    {
     "name": "stdout",
     "output_type": "stream",
     "text": [
      "Sample 1 - 176082 reads in 29083 unique sequences.\n",
      "Sample 2 - 89332 reads in 6940 unique sequences.\n",
      "Sample 3 - 263766 reads in 22071 unique sequences.\n",
      "Sample 4 - 929 reads in 743 unique sequences.\n",
      "Sample 5 - 5159 reads in 3208 unique sequences.\n",
      "Sample 6 - 497421 reads in 21498 unique sequences.\n",
      "Sample 7 - 154836 reads in 11803 unique sequences.\n",
      "Sample 8 - 21151 reads in 4243 unique sequences.\n",
      "Sample 9 - 426848 reads in 33009 unique sequences.\n",
      "Sample 10 - 1045 reads in 688 unique sequences.\n",
      "Sample 11 - 1744 reads in 1181 unique sequences.\n",
      "Sample 12 - 104918 reads in 12822 unique sequences.\n",
      "Sample 13 - 4864 reads in 2280 unique sequences.\n",
      "Sample 14 - 2812 reads in 1833 unique sequences.\n",
      "Sample 15 - 561975 reads in 19758 unique sequences.\n",
      "Sample 16 - 1778 reads in 1116 unique sequences.\n",
      "Sample 17 - 188605 reads in 11797 unique sequences.\n",
      "Sample 18 - 57739 reads in 8530 unique sequences.\n",
      "Sample 19 - 1906 reads in 1030 unique sequences.\n",
      "Sample 20 - 2243413 reads in 76227 unique sequences.\n",
      "Sample 21 - 596 reads in 416 unique sequences.\n",
      "Sample 22 - 626 reads in 478 unique sequences.\n",
      "Sample 23 - 399 reads in 295 unique sequences.\n",
      "Sample 24 - 164390 reads in 10837 unique sequences.\n",
      "Sample 25 - 393 reads in 246 unique sequences.\n",
      "Sample 26 - 807 reads in 615 unique sequences.\n",
      "Sample 27 - 540447 reads in 57657 unique sequences.\n",
      "Sample 28 - 2125 reads in 1375 unique sequences.\n",
      "Sample 29 - 2478 reads in 1412 unique sequences.\n",
      "Sample 30 - 431 reads in 381 unique sequences.\n",
      "Sample 31 - 3026 reads in 1767 unique sequences.\n",
      "Sample 32 - 1094 reads in 741 unique sequences.\n",
      "Sample 33 - 97528 reads in 14999 unique sequences.\n",
      "Sample 34 - 1922 reads in 1329 unique sequences.\n",
      "Sample 35 - 40880 reads in 8130 unique sequences.\n",
      "Sample 36 - 593 reads in 408 unique sequences.\n",
      "Sample 37 - 58496 reads in 7108 unique sequences.\n",
      "Sample 38 - 83018 reads in 11838 unique sequences.\n",
      "Sample 39 - 116557 reads in 16002 unique sequences.\n",
      "Sample 40 - 2507 reads in 1515 unique sequences.\n",
      "Sample 41 - 9261092 reads in 764695 unique sequences.\n",
      "Sample 42 - 872940 reads in 106119 unique sequences.\n",
      "Sample 43 - 184827 reads in 15802 unique sequences.\n",
      "Sample 44 - 1297 reads in 713 unique sequences.\n",
      "Sample 45 - 2219 reads in 1476 unique sequences.\n",
      "Sample 46 - 593252 reads in 58065 unique sequences.\n",
      "Sample 47 - 2981 reads in 1463 unique sequences.\n",
      "Sample 48 - 114820 reads in 17387 unique sequences.\n",
      "Sample 49 - 1126 reads in 739 unique sequences.\n",
      "Sample 50 - 846463 reads in 50752 unique sequences.\n",
      "Sample 51 - 308925 reads in 28828 unique sequences.\n",
      "Sample 52 - 388584 reads in 25382 unique sequences.\n",
      "Sample 53 - 391980 reads in 37398 unique sequences.\n",
      "Sample 54 - 5944181 reads in 155814 unique sequences.\n",
      "Sample 55 - 257018 reads in 22146 unique sequences.\n",
      "Sample 56 - 369 reads in 270 unique sequences.\n",
      "Sample 57 - 933851 reads in 27803 unique sequences.\n",
      "Sample 58 - 1406 reads in 723 unique sequences.\n",
      "Sample 59 - 2878 reads in 1235 unique sequences.\n",
      "Sample 60 - 2072 reads in 953 unique sequences.\n",
      "Sample 61 - 788583 reads in 76454 unique sequences.\n",
      "Sample 62 - 10986911 reads in 559902 unique sequences.\n",
      "Sample 63 - 1927141 reads in 133583 unique sequences.\n",
      "Sample 64 - 1769 reads in 933 unique sequences.\n",
      "Sample 65 - 716306 reads in 36349 unique sequences.\n",
      "Sample 66 - 43307 reads in 3928 unique sequences.\n",
      "Sample 67 - 505 reads in 391 unique sequences.\n",
      "Sample 68 - 4875 reads in 2823 unique sequences.\n",
      "Sample 69 - 1234 reads in 759 unique sequences.\n",
      "Sample 70 - 141927 reads in 23572 unique sequences.\n",
      "Sample 71 - 746294 reads in 53117 unique sequences.\n",
      "Sample 72 - 796626 reads in 68678 unique sequences.\n",
      "Sample 73 - 418644 reads in 27585 unique sequences.\n",
      "Sample 74 - 716569 reads in 55910 unique sequences.\n",
      "Sample 75 - 94232 reads in 9380 unique sequences.\n",
      "Sample 76 - 241918 reads in 21395 unique sequences.\n",
      "Sample 77 - 252616 reads in 17527 unique sequences.\n",
      "Sample 78 - 437 reads in 343 unique sequences.\n",
      "Sample 79 - 441614 reads in 26452 unique sequences.\n",
      "Sample 80 - 390988 reads in 39283 unique sequences.\n",
      "Sample 81 - 826200 reads in 97728 unique sequences.\n",
      "Sample 82 - 605290 reads in 46732 unique sequences.\n",
      "Sample 83 - 34822 reads in 8930 unique sequences.\n",
      "Sample 84 - 495709 reads in 59093 unique sequences.\n",
      "Sample 85 - 379807 reads in 84539 unique sequences.\n",
      "Sample 86 - 2187 reads in 1309 unique sequences.\n",
      "Sample 87 - 311964 reads in 31482 unique sequences.\n",
      "Sample 88 - 161194 reads in 15798 unique sequences.\n",
      "Sample 89 - 1576 reads in 1131 unique sequences.\n",
      "Sample 90 - 444124 reads in 56102 unique sequences.\n",
      "Sample 91 - 541874 reads in 35768 unique sequences.\n",
      "Sample 92 - 164615 reads in 20037 unique sequences.\n",
      "Sample 93 - 160818 reads in 12741 unique sequences.\n",
      "Sample 94 - 510342 reads in 30691 unique sequences.\n",
      "Sample 95 - 685 reads in 453 unique sequences.\n",
      "Sample 96 - 543 reads in 421 unique sequences.\n",
      "Sample 97 - 550202 reads in 143331 unique sequences.\n"
     ]
    },
    {
     "name": "stderr",
     "output_type": "stream",
     "text": [
      "Warning message in rval[, 1:ncol(tt)] + tt:\n",
      "“NAs produced by integer overflow”\n"
     ]
    },
    {
     "name": "stderr",
     "output_type": "stream",
     "text": [
      "Warning message in rval[, 1:ncol(tt)] + tt:\n",
      "“NAs produced by integer overflow”\n"
     ]
    },
    {
     "name": "stderr",
     "output_type": "stream",
     "text": [
      "Warning message in rval[, 1:ncol(tt)] + tt:\n",
      "“NAs produced by integer overflow”\n"
     ]
    },
    {
     "name": "stdout",
     "output_type": "stream",
     "text": [
      "Sample 1 - 176082 reads in 26239 unique sequences.\n",
      "Sample 2 - 89332 reads in 10271 unique sequences.\n",
      "Sample 3 - 263766 reads in 16403 unique sequences.\n",
      "Sample 4 - 929 reads in 566 unique sequences.\n",
      "Sample 5 - 5159 reads in 2803 unique sequences.\n",
      "Sample 6 - 497421 reads in 30865 unique sequences.\n",
      "Sample 7 - 154836 reads in 11031 unique sequences.\n",
      "Sample 8 - 21151 reads in 4742 unique sequences.\n",
      "Sample 9 - 426848 reads in 52308 unique sequences.\n",
      "Sample 10 - 1045 reads in 436 unique sequences.\n",
      "Sample 11 - 1744 reads in 986 unique sequences.\n",
      "Sample 12 - 104918 reads in 9062 unique sequences.\n",
      "Sample 13 - 4864 reads in 2140 unique sequences.\n",
      "Sample 14 - 2812 reads in 1427 unique sequences.\n",
      "Sample 15 - 561975 reads in 52556 unique sequences.\n",
      "Sample 16 - 1778 reads in 951 unique sequences.\n",
      "Sample 17 - 188605 reads in 11074 unique sequences.\n",
      "Sample 18 - 57739 reads in 5471 unique sequences.\n",
      "Sample 19 - 1906 reads in 880 unique sequences.\n",
      "Sample 20 - 2243413 reads in 60714 unique sequences.\n",
      "Sample 21 - 596 reads in 348 unique sequences.\n",
      "Sample 22 - 626 reads in 335 unique sequences.\n",
      "Sample 23 - 399 reads in 211 unique sequences.\n",
      "Sample 24 - 164390 reads in 26287 unique sequences.\n",
      "Sample 25 - 393 reads in 221 unique sequences.\n",
      "Sample 26 - 807 reads in 494 unique sequences.\n",
      "Sample 27 - 540447 reads in 56970 unique sequences.\n",
      "Sample 28 - 2125 reads in 1057 unique sequences.\n",
      "Sample 29 - 2478 reads in 1052 unique sequences.\n",
      "Sample 30 - 431 reads in 223 unique sequences.\n",
      "Sample 31 - 3026 reads in 1489 unique sequences.\n",
      "Sample 32 - 1094 reads in 647 unique sequences.\n",
      "Sample 33 - 97528 reads in 11936 unique sequences.\n",
      "Sample 34 - 1922 reads in 991 unique sequences.\n",
      "Sample 35 - 40880 reads in 7006 unique sequences.\n",
      "Sample 36 - 593 reads in 245 unique sequences.\n",
      "Sample 37 - 58496 reads in 7715 unique sequences.\n",
      "Sample 38 - 83018 reads in 3928 unique sequences.\n",
      "Sample 39 - 116557 reads in 15696 unique sequences.\n",
      "Sample 40 - 2507 reads in 1444 unique sequences.\n",
      "Sample 41 - 9261092 reads in 627812 unique sequences.\n",
      "Sample 42 - 872940 reads in 98348 unique sequences.\n",
      "Sample 43 - 184827 reads in 8792 unique sequences.\n",
      "Sample 44 - 1297 reads in 549 unique sequences.\n",
      "Sample 45 - 2219 reads in 1092 unique sequences.\n",
      "Sample 46 - 593252 reads in 24099 unique sequences.\n",
      "Sample 47 - 2981 reads in 1051 unique sequences.\n",
      "Sample 48 - 114820 reads in 14645 unique sequences.\n",
      "Sample 49 - 1126 reads in 650 unique sequences.\n",
      "Sample 50 - 846463 reads in 82255 unique sequences.\n",
      "Sample 51 - 308925 reads in 26882 unique sequences.\n",
      "Sample 52 - 388584 reads in 29963 unique sequences.\n",
      "Sample 53 - 391980 reads in 35719 unique sequences.\n",
      "Sample 54 - 5944181 reads in 194094 unique sequences.\n",
      "Sample 55 - 257018 reads in 20562 unique sequences.\n",
      "Sample 56 - 369 reads in 183 unique sequences.\n",
      "Sample 57 - 933851 reads in 37764 unique sequences.\n",
      "Sample 58 - 1406 reads in 642 unique sequences.\n",
      "Sample 59 - 2878 reads in 1123 unique sequences.\n",
      "Sample 60 - 2072 reads in 860 unique sequences.\n",
      "Sample 61 - 788583 reads in 97187 unique sequences.\n",
      "Sample 62 - 10986911 reads in 649916 unique sequences.\n",
      "Sample 63 - 1927141 reads in 186507 unique sequences.\n",
      "Sample 64 - 1769 reads in 993 unique sequences.\n",
      "Sample 65 - 716306 reads in 35881 unique sequences.\n",
      "Sample 66 - 43307 reads in 5046 unique sequences.\n",
      "Sample 67 - 505 reads in 294 unique sequences.\n",
      "Sample 68 - 4875 reads in 2535 unique sequences.\n",
      "Sample 69 - 1234 reads in 566 unique sequences.\n",
      "Sample 70 - 141927 reads in 9419 unique sequences.\n",
      "Sample 71 - 746294 reads in 71232 unique sequences.\n",
      "Sample 72 - 796626 reads in 73204 unique sequences.\n",
      "Sample 73 - 418644 reads in 39988 unique sequences.\n",
      "Sample 74 - 716569 reads in 116012 unique sequences.\n",
      "Sample 75 - 94232 reads in 8781 unique sequences.\n",
      "Sample 76 - 241918 reads in 20843 unique sequences.\n",
      "Sample 77 - 252616 reads in 12622 unique sequences.\n",
      "Sample 78 - 437 reads in 206 unique sequences.\n",
      "Sample 79 - 441614 reads in 102060 unique sequences.\n",
      "Sample 80 - 390988 reads in 70495 unique sequences.\n",
      "Sample 81 - 826200 reads in 112671 unique sequences.\n",
      "Sample 82 - 605290 reads in 53452 unique sequences.\n",
      "Sample 83 - 34822 reads in 1861 unique sequences.\n",
      "Sample 84 - 495709 reads in 58248 unique sequences.\n",
      "Sample 85 - 379807 reads in 66279 unique sequences.\n",
      "Sample 86 - 2187 reads in 1068 unique sequences.\n",
      "Sample 87 - 311964 reads in 32148 unique sequences.\n",
      "Sample 88 - 161194 reads in 13514 unique sequences.\n",
      "Sample 89 - 1576 reads in 986 unique sequences.\n",
      "Sample 90 - 444124 reads in 52402 unique sequences.\n",
      "Sample 91 - 541874 reads in 51975 unique sequences.\n",
      "Sample 92 - 164615 reads in 21625 unique sequences.\n",
      "Sample 93 - 160818 reads in 16204 unique sequences.\n",
      "Sample 94 - 510342 reads in 44965 unique sequences.\n",
      "Sample 95 - 685 reads in 348 unique sequences.\n",
      "Sample 96 - 543 reads in 363 unique sequences.\n",
      "Sample 97 - 550202 reads in 143854 unique sequences.\n"
     ]
    },
    {
     "name": "stderr",
     "output_type": "stream",
     "text": [
      "Warning message in rval[, 1:ncol(tt)] + tt:\n",
      "“NAs produced by integer overflow”\n"
     ]
    }
   ],
   "source": [
    "#removing pcr and sequencing noise\n",
    "#dada2 doing its actual job\n",
    "dadaFs <- dada(filtFs, err=errF, multithread=TRUE)\n",
    "dadaRs <- dada(filtRs, err=errR, multithread=TRUE)"
   ]
  },
  {
   "cell_type": "code",
   "execution_count": 15,
   "id": "84bbed51-b0c6-452f-99bf-4dd73aae8c2e",
   "metadata": {
    "execution": {
     "iopub.execute_input": "2025-09-24T06:11:58.002217Z",
     "iopub.status.busy": "2025-09-24T06:11:58.000820Z",
     "iopub.status.idle": "2025-09-24T15:54:29.245736Z",
     "shell.execute_reply": "2025-09-24T15:54:29.244106Z"
    },
    "papermill": {
     "duration": 34953.006951,
     "end_time": "2025-09-24T15:54:29.260606",
     "exception": false,
     "start_time": "2025-09-24T06:11:56.253655",
     "status": "completed"
    },
    "tags": []
   },
   "outputs": [
    {
     "name": "stdout",
     "output_type": "stream",
     "text": [
      "Processing: 012024-BEL-CBC-T1-557-SSID \n",
      "Sample 1 - 176082 reads in 29083 unique sequences.\n",
      "Sample 1 - 176082 reads in 26239 unique sequences.\n",
      "Processing: 012024-BEL-CBC-T1-563-PSTR \n",
      "Sample 1 - 89332 reads in 6940 unique sequences.\n",
      "Sample 1 - 89332 reads in 10271 unique sequences.\n",
      "Processing: 012024-BEL-CBC-T2-601-OFAV \n",
      "Sample 1 - 263766 reads in 22071 unique sequences.\n",
      "Sample 1 - 263766 reads in 16403 unique sequences.\n",
      "Processing: 012024-BEL-CBC-T2-605-SSID \n",
      "Sample 1 - 929 reads in 743 unique sequences.\n",
      "Sample 1 - 929 reads in 566 unique sequences.\n",
      "Processing: 012024-BEL-CBC-T3-627-PAST \n",
      "Sample 1 - 5159 reads in 3208 unique sequences.\n",
      "Sample 1 - 5159 reads in 2803 unique sequences.\n",
      "Processing: 012024-BEL-CBC-T3-631-MCAV \n",
      "Sample 1 - 497421 reads in 21498 unique sequences.\n",
      "Sample 1 - 497421 reads in 30865 unique sequences.\n",
      "Processing: 012024-BEL-CBC-T3-633-MCAV \n",
      "Sample 1 - 154836 reads in 11803 unique sequences.\n",
      "Sample 1 - 154836 reads in 11031 unique sequences.\n",
      "Processing: 012024-BEL-CBC-T3-637-SSID \n",
      "Sample 1 - 21151 reads in 4243 unique sequences.\n",
      "Sample 1 - 21151 reads in 4742 unique sequences.\n",
      "Processing: 012024-BEL-CBC-T4-661-PSTR \n",
      "Sample 1 - 426848 reads in 33009 unique sequences.\n",
      "Sample 1 - 426848 reads in 52308 unique sequences.\n",
      "Processing: 012024-BEL-CBC-T4-663-PSTR \n",
      "Sample 1 - 1045 reads in 688 unique sequences.\n",
      "Sample 1 - 1045 reads in 436 unique sequences.\n",
      "Processing: 022024-BEL-CBC-T1-775-OANN \n",
      "Sample 1 - 1744 reads in 1181 unique sequences.\n",
      "Sample 1 - 1744 reads in 986 unique sequences.\n",
      "Processing: 022024-BEL-CBC-T1-776-PSTR \n",
      "Sample 1 - 104918 reads in 12822 unique sequences.\n",
      "Sample 1 - 104918 reads in 9062 unique sequences.\n",
      "Processing: 022024-BEL-CBC-T2-804-OFAV \n",
      "Sample 1 - 4864 reads in 2280 unique sequences.\n",
      "Sample 1 - 4864 reads in 2140 unique sequences.\n",
      "Processing: 022024-BEL-CBC-T2-814-MCAV \n",
      "Sample 1 - 2812 reads in 1833 unique sequences.\n",
      "Sample 1 - 2812 reads in 1427 unique sequences.\n",
      "Processing: 022024-BEL-CBC-T3-851-PSTR \n",
      "Sample 1 - 561975 reads in 19758 unique sequences.\n",
      "Sample 1 - 561975 reads in 52556 unique sequences.\n",
      "Processing: 022024-BEL-CBC-T4-874-OFAV \n",
      "Sample 1 - 1778 reads in 1116 unique sequences.\n",
      "Sample 1 - 1778 reads in 951 unique sequences.\n",
      "Processing: 022024-BEL-CBC-T4-875-MCAV \n",
      "Sample 1 - 188605 reads in 11797 unique sequences.\n",
      "Sample 1 - 188605 reads in 11074 unique sequences.\n",
      "Processing: 042024-BEL-CBC-T1-927-PSTR \n",
      "Sample 1 - 57739 reads in 8530 unique sequences.\n",
      "Sample 1 - 57739 reads in 5471 unique sequences.\n",
      "Processing: 042024-BEL-CBC-T2-1014-OFAV \n",
      "Sample 1 - 1906 reads in 1030 unique sequences.\n",
      "Sample 1 - 1906 reads in 880 unique sequences.\n",
      "Processing: 042024-BEL-CBC-T2-1018-PAST \n",
      "Sample 1 - 2243413 reads in 76227 unique sequences.\n",
      "Sample 1 - 2243413 reads in 60714 unique sequences.\n",
      "Processing: 042024-BEL-CBC-T2-1026-OFAV \n",
      "Sample 1 - 596 reads in 416 unique sequences.\n",
      "Sample 1 - 596 reads in 348 unique sequences.\n",
      "Processing: 042024-BEL-CBC-T2-1144-MCAV \n",
      "Sample 1 - 626 reads in 478 unique sequences.\n",
      "Sample 1 - 626 reads in 335 unique sequences.\n",
      "Processing: 042024-BEL-CBC-T3-960-OFAV \n",
      "Sample 1 - 399 reads in 295 unique sequences.\n",
      "Sample 1 - 399 reads in 211 unique sequences.\n",
      "Processing: 042024-BEL-CBC-T4-1046-PSTR \n",
      "Sample 1 - 164390 reads in 10837 unique sequences.\n",
      "Sample 1 - 164390 reads in 26287 unique sequences.\n",
      "Processing: 042024-BEL-CBC-T4-1047-MCAV \n",
      "Sample 1 - 393 reads in 246 unique sequences.\n",
      "Sample 1 - 393 reads in 221 unique sequences.\n",
      "Processing: 052022-BEL-CBC-T1-2-SSID \n",
      "Sample 1 - 807 reads in 615 unique sequences.\n",
      "Sample 1 - 807 reads in 494 unique sequences.\n",
      "Processing: 052022-BEL-CBC-T2-1-SSID \n",
      "Sample 1 - 540447 reads in 57657 unique sequences.\n",
      "Sample 1 - 540447 reads in 56970 unique sequences.\n",
      "Processing: 052022-BEL-CBC-T2-71-OFAV \n",
      "Sample 1 - 2125 reads in 1375 unique sequences.\n",
      "Sample 1 - 2125 reads in 1057 unique sequences.\n",
      "Processing: 052022-BEL-CBC-T2-9-PAST \n",
      "Sample 1 - 2478 reads in 1412 unique sequences.\n",
      "Sample 1 - 2478 reads in 1052 unique sequences.\n",
      "Processing: 052022-BEL-CBC-T3-11-PAST \n",
      "Sample 1 - 431 reads in 381 unique sequences.\n",
      "Sample 1 - 431 reads in 223 unique sequences.\n",
      "Processing: 052022-BEL-CBC-T3-13-MCAV \n",
      "Sample 1 - 3026 reads in 1767 unique sequences.\n",
      "Sample 1 - 3026 reads in 1489 unique sequences.\n",
      "Processing: 052022-BEL-CBC-T3-19-MCAV \n",
      "Sample 1 - 1094 reads in 741 unique sequences.\n",
      "Sample 1 - 1094 reads in 647 unique sequences.\n",
      "Processing: 052022-BEL-CBC-T3-66-OFAV \n",
      "Sample 1 - 97528 reads in 14999 unique sequences.\n",
      "Sample 1 - 97528 reads in 11936 unique sequences.\n",
      "Processing: 052022-BEL-CBC-T3-8-PAST \n",
      "Sample 1 - 1922 reads in 1329 unique sequences.\n",
      "Sample 1 - 1922 reads in 991 unique sequences.\n",
      "Processing: 062019-BEL-CBC-T1-21-PAST \n",
      "Sample 1 - 40880 reads in 8130 unique sequences.\n",
      "Sample 1 - 40880 reads in 7006 unique sequences.\n",
      "Processing: 062019-BEL-CBC-T1-22-MCAV \n",
      "Sample 1 - 593 reads in 408 unique sequences.\n",
      "Sample 1 - 593 reads in 245 unique sequences.\n",
      "Processing: 062019-BEL-CBC-T2-18-MCAV \n",
      "Sample 1 - 58496 reads in 7108 unique sequences.\n",
      "Sample 1 - 58496 reads in 7715 unique sequences.\n",
      "Processing: 062019-BEL-CBC-T3-1-MCAV \n",
      "Sample 1 - 83018 reads in 11838 unique sequences.\n",
      "Sample 1 - 83018 reads in 3928 unique sequences.\n",
      "Processing: 062024-BEL-CBC-T1-1347-OANN \n",
      "Sample 1 - 116557 reads in 16002 unique sequences.\n",
      "Sample 1 - 116557 reads in 15696 unique sequences.\n",
      "Processing: 062024-BEL-CBC-T1-1353-MCAV \n",
      "Sample 1 - 2507 reads in 1515 unique sequences.\n",
      "Sample 1 - 2507 reads in 1444 unique sequences.\n",
      "Processing: 062024-BEL-CBC-T2-1375-SSID \n",
      "Sample 1 - 9261092 reads in 764695 unique sequences.\n",
      "Sample 1 - 9261092 reads in 627812 unique sequences.\n",
      "Processing: 062024-BEL-CBC-T2-1396-MCAV \n",
      "Sample 1 - 872940 reads in 106119 unique sequences.\n",
      "Sample 1 - 872940 reads in 98348 unique sequences.\n",
      "Processing: 062024-BEL-CBC-T3-1415-MCAV \n",
      "Sample 1 - 184827 reads in 15802 unique sequences.\n",
      "Sample 1 - 184827 reads in 8792 unique sequences.\n",
      "Processing: 062024-BEL-CBC-T3-1433-PSTR \n",
      "Sample 1 - 1297 reads in 713 unique sequences.\n",
      "Sample 1 - 1297 reads in 549 unique sequences.\n",
      "Processing: 062024-BEL-CBC-T3-1439-OFAV \n",
      "Sample 1 - 2219 reads in 1476 unique sequences.\n",
      "Sample 1 - 2219 reads in 1092 unique sequences.\n",
      "Processing: 062024-BEL-CBC-T3-1442-OFAV \n",
      "Sample 1 - 593252 reads in 58065 unique sequences.\n",
      "Sample 1 - 593252 reads in 24099 unique sequences.\n",
      "Processing: 082024-BEL-CBC-T1-1479-PAST \n",
      "Sample 1 - 2981 reads in 1463 unique sequences.\n",
      "Sample 1 - 2981 reads in 1051 unique sequences.\n",
      "Processing: 082024-BEL-CBC-T1-1482-OANN \n",
      "Sample 1 - 114820 reads in 17387 unique sequences.\n",
      "Sample 1 - 114820 reads in 14645 unique sequences.\n",
      "Processing: 082024-BEL-CBC-T2-1510-PAST \n",
      "Sample 1 - 1126 reads in 739 unique sequences.\n",
      "Sample 1 - 1126 reads in 650 unique sequences.\n",
      "Processing: 082024-BEL-CBC-T3-1554-OANN \n",
      "Sample 1 - 846463 reads in 50752 unique sequences.\n",
      "Sample 1 - 846463 reads in 82255 unique sequences.\n",
      "Processing: 082024-BEL-CBC-T3-1558-MCAV \n",
      "Sample 1 - 308925 reads in 28828 unique sequences.\n",
      "Sample 1 - 308925 reads in 26882 unique sequences.\n",
      "Processing: 082024-BEL-CBC-T3-1560-PSTR \n",
      "Sample 1 - 388584 reads in 25382 unique sequences.\n",
      "Sample 1 - 388584 reads in 29963 unique sequences.\n",
      "Processing: 082024-BEL-CBC-T3-1561-MCAV \n",
      "Sample 1 - 391980 reads in 37398 unique sequences.\n",
      "Sample 1 - 391980 reads in 35719 unique sequences.\n",
      "Processing: 082024-BEL-CBC-T3-1562-OFAV \n",
      "Sample 1 - 5944181 reads in 155814 unique sequences.\n",
      "Sample 1 - 5944181 reads in 194094 unique sequences.\n",
      "Processing: 082024-BEL-CBC-T4-1606-PSTR \n",
      "Sample 1 - 257018 reads in 22146 unique sequences.\n",
      "Sample 1 - 257018 reads in 20562 unique sequences.\n",
      "Processing: 082024-BEL-CBC-T4-1607-PSTR \n",
      "Sample 1 - 369 reads in 270 unique sequences.\n",
      "Sample 1 - 369 reads in 183 unique sequences.\n",
      "Processing: 082024-BEL-CBC-T4-1609-OFAV \n",
      "Sample 1 - 933851 reads in 27803 unique sequences.\n",
      "Sample 1 - 933851 reads in 37764 unique sequences.\n",
      "Processing: 092023-BEL-CBC-T1-171-PAST \n",
      "Sample 1 - 1406 reads in 723 unique sequences.\n",
      "Sample 1 - 1406 reads in 642 unique sequences.\n",
      "Processing: 092023-BEL-CBC-T1-175-PAST \n",
      "Sample 1 - 2878 reads in 1235 unique sequences.\n",
      "Sample 1 - 2878 reads in 1123 unique sequences.\n",
      "Processing: 092023-BEL-CBC-T2-174-SSID \n",
      "Sample 1 - 2072 reads in 953 unique sequences.\n",
      "Sample 1 - 2072 reads in 860 unique sequences.\n",
      "Processing: 092023-BEL-CBC-T2-181-PAST \n",
      "Sample 1 - 788583 reads in 76454 unique sequences.\n",
      "Sample 1 - 788583 reads in 97187 unique sequences.\n",
      "Processing: 092023-BEL-CBC-T2-184-MCAV \n",
      "Sample 1 - 10986911 reads in 559902 unique sequences.\n",
      "Sample 1 - 10986911 reads in 649916 unique sequences.\n",
      "Processing: 092023-BEL-CBC-T3-171-OFAV \n",
      "Sample 1 - 1927141 reads in 133583 unique sequences.\n",
      "Sample 1 - 1927141 reads in 186507 unique sequences.\n",
      "Processing: 092023-BEL-CBC-T3-173-OFAV \n",
      "Sample 1 - 1769 reads in 933 unique sequences.\n",
      "Sample 1 - 1769 reads in 993 unique sequences.\n",
      "Processing: 092023-BEL-CBC-T3-178-PAST \n",
      "Sample 1 - 716306 reads in 36349 unique sequences.\n",
      "Sample 1 - 716306 reads in 35881 unique sequences.\n",
      "Processing: 092023-BEL-CBC-T3-195-PSTR \n",
      "Sample 1 - 43307 reads in 3928 unique sequences.\n",
      "Sample 1 - 43307 reads in 5046 unique sequences.\n",
      "Processing: 092023-BEL-CBC-T4-92-PSTR \n",
      "Sample 1 - 505 reads in 391 unique sequences.\n",
      "Sample 1 - 505 reads in 294 unique sequences.\n",
      "Processing: 092023-BEL-CBC-T4-94-MCAV \n",
      "Sample 1 - 4875 reads in 2823 unique sequences.\n",
      "Sample 1 - 4875 reads in 2535 unique sequences.\n",
      "Processing: 102019-BEL-CBC-T1-29-PSTR \n",
      "Sample 1 - 1234 reads in 759 unique sequences.\n",
      "Sample 1 - 1234 reads in 566 unique sequences.\n",
      "Processing: 112023-BEL-CBC-T1-276-MCAV \n",
      "Sample 1 - 141927 reads in 23572 unique sequences.\n",
      "Sample 1 - 141927 reads in 9419 unique sequences.\n",
      "Processing: 112023-BEL-CBC-T2-304-OFAV \n",
      "Sample 1 - 746294 reads in 53117 unique sequences.\n",
      "Sample 1 - 746294 reads in 71232 unique sequences.\n",
      "Processing: 112023-BEL-CBC-T2-307-SSID \n",
      "Sample 1 - 796626 reads in 68678 unique sequences.\n",
      "Sample 1 - 796626 reads in 73204 unique sequences.\n",
      "Processing: 112023-BEL-CBC-T2-310-MCAV \n",
      "Sample 1 - 418644 reads in 27585 unique sequences.\n",
      "Sample 1 - 418644 reads in 39988 unique sequences.\n",
      "Processing: 112023-BEL-CBC-T3-352-PAST \n",
      "Sample 1 - 716569 reads in 55910 unique sequences.\n",
      "Sample 1 - 716569 reads in 116012 unique sequences.\n",
      "Processing: 112023-BEL-CBC-T3-355-PSTR \n",
      "Sample 1 - 94232 reads in 9380 unique sequences.\n",
      "Sample 1 - 94232 reads in 8781 unique sequences.\n",
      "Processing: 112023-BEL-CBC-T4-399-MCAV \n",
      "Sample 1 - 241918 reads in 21395 unique sequences.\n",
      "Sample 1 - 241918 reads in 20843 unique sequences.\n",
      "Processing: 112023-BEL-CBC-T4-401-MCAV \n",
      "Sample 1 - 252616 reads in 17527 unique sequences.\n",
      "Sample 1 - 252616 reads in 12622 unique sequences.\n",
      "Processing: 122022-BEL-CBC-T3-123-PAST \n",
      "Sample 1 - 437 reads in 343 unique sequences.\n",
      "Sample 1 - 437 reads in 206 unique sequences.\n",
      "Processing: 122022-BEL-CBC-T3-124-PAST \n",
      "Sample 1 - 441614 reads in 26452 unique sequences.\n",
      "Sample 1 - 441614 reads in 102060 unique sequences.\n",
      "Processing: 122022-BEL-CBC-T3-126-SSID \n",
      "Sample 1 - 390988 reads in 39283 unique sequences.\n",
      "Sample 1 - 390988 reads in 70495 unique sequences.\n",
      "Processing: 122022-BEL-CBC-T3-127-OFAV \n",
      "Sample 1 - 826200 reads in 97728 unique sequences.\n",
      "Sample 1 - 826200 reads in 112671 unique sequences.\n",
      "Processing: 122022-BEL-CBC-T3-141-PSTR \n",
      "Sample 1 - 605290 reads in 46732 unique sequences.\n",
      "Sample 1 - 605290 reads in 53452 unique sequences.\n",
      "Processing: 122022-BEL-CBC-T3-142-MCAV \n",
      "Sample 1 - 34822 reads in 8930 unique sequences.\n",
      "Sample 1 - 34822 reads in 1861 unique sequences.\n",
      "Processing: 122023-BEL-CBC-T1-507-PAST \n",
      "Sample 1 - 495709 reads in 59093 unique sequences.\n",
      "Sample 1 - 495709 reads in 58248 unique sequences.\n",
      "Processing: 122023-BEL-CBC-T1-508-SSID \n",
      "Sample 1 - 379807 reads in 84539 unique sequences.\n",
      "Sample 1 - 379807 reads in 66279 unique sequences.\n",
      "Processing: 122023-BEL-CBC-T2-513-SSID \n",
      "Sample 1 - 2187 reads in 1309 unique sequences.\n",
      "Sample 1 - 2187 reads in 1068 unique sequences.\n",
      "Processing: 122023-BEL-CBC-T2-515-PAST \n",
      "Sample 1 - 311964 reads in 31482 unique sequences.\n",
      "Sample 1 - 311964 reads in 32148 unique sequences.\n",
      "Processing: 122023-BEL-CBC-T2-518-MCAV \n",
      "Sample 1 - 161194 reads in 15798 unique sequences.\n",
      "Sample 1 - 161194 reads in 13514 unique sequences.\n",
      "Processing: 122023-BEL-CBC-T2-522-MCAV \n",
      "Sample 1 - 1576 reads in 1131 unique sequences.\n",
      "Sample 1 - 1576 reads in 986 unique sequences.\n",
      "Processing: 122023-BEL-CBC-T3-524-OFAV \n",
      "Sample 1 - 444124 reads in 56102 unique sequences.\n",
      "Sample 1 - 444124 reads in 52402 unique sequences.\n",
      "Processing: 122023-BEL-CBC-T3-525-PAST \n",
      "Sample 1 - 541874 reads in 35768 unique sequences.\n",
      "Sample 1 - 541874 reads in 51975 unique sequences.\n",
      "Processing: 122023-BEL-CBC-T3-526-SSID \n",
      "Sample 1 - 164615 reads in 20037 unique sequences.\n",
      "Sample 1 - 164615 reads in 21625 unique sequences.\n",
      "Processing: 122023-BEL-CBC-T3-531-PSTR \n",
      "Sample 1 - 160818 reads in 12741 unique sequences.\n",
      "Sample 1 - 160818 reads in 16204 unique sequences.\n",
      "Processing: 122023-BEL-CBC-T3-532-MCAV \n",
      "Sample 1 - 510342 reads in 30691 unique sequences.\n",
      "Sample 1 - 510342 reads in 44965 unique sequences.\n",
      "Processing: 122023-BEL-CBC-T4-539-MCAV \n",
      "Sample 1 - 685 reads in 453 unique sequences.\n",
      "Sample 1 - 685 reads in 348 unique sequences.\n",
      "Processing: Negative \n",
      "Sample 1 - 543 reads in 421 unique sequences.\n",
      "Sample 1 - 543 reads in 363 unique sequences.\n",
      "Processing: Undetermined \n",
      "Sample 1 - 550202 reads in 143331 unique sequences.\n",
      "Sample 1 - 550202 reads in 143854 unique sequences.\n"
     ]
    }
   ],
   "source": [
    "#manual loop for merging paired ends\n",
    "mergers <- vector(\"list\", length(sample.names))\n",
    "names(mergers) <- sample.names\n",
    "for(sam in sample.names) {\n",
    "  cat(\"Processing:\", sam, \"\\n\")\n",
    "    derepF <- derepFastq(filtFs[[sam]])\n",
    "    ddF <- dada(derepF, err=errF, multithread=TRUE)\n",
    "    derepR <- derepFastq(filtRs[[sam]])\n",
    "    ddR <- dada(derepR, err=errR, multithread=TRUE)\n",
    "    merger <- mergePairs(ddF, derepF, ddR, derepR)\n",
    "    mergers[[sam]] <- merger\n",
    "}"
   ]
  },
  {
   "cell_type": "code",
   "execution_count": 16,
   "id": "44dab8f2-ef73-41cf-ab71-b477d6710c5e",
   "metadata": {
    "execution": {
     "iopub.execute_input": "2025-09-24T15:54:32.193024Z",
     "iopub.status.busy": "2025-09-24T15:54:32.191842Z",
     "iopub.status.idle": "2025-09-24T15:54:33.215073Z",
     "shell.execute_reply": "2025-09-24T15:54:33.213844Z"
    },
    "papermill": {
     "duration": 3.943259,
     "end_time": "2025-09-24T15:54:33.216311",
     "exception": false,
     "start_time": "2025-09-24T15:54:29.273052",
     "status": "completed"
    },
    "tags": []
   },
   "outputs": [
    {
     "data": {
      "text/html": [
       "<style>\n",
       ".list-inline {list-style: none; margin:0; padding: 0}\n",
       ".list-inline>li {display: inline-block}\n",
       ".list-inline>li:not(:last-child)::after {content: \"\\00b7\"; padding: 0 .5ex}\n",
       "</style>\n",
       "<ol class=list-inline><li>97</li><li>191630</li></ol>\n"
      ],
      "text/latex": [
       "\\begin{enumerate*}\n",
       "\\item 97\n",
       "\\item 191630\n",
       "\\end{enumerate*}\n"
      ],
      "text/markdown": [
       "1. 97\n",
       "2. 191630\n",
       "\n",
       "\n"
      ],
      "text/plain": [
       "[1]     97 191630"
      ]
     },
     "metadata": {},
     "output_type": "display_data"
    }
   ],
   "source": [
    "#make sequence tables\n",
    "seqtab <- makeSequenceTable(mergers)\n",
    "dim(seqtab)"
   ]
  },
  {
   "cell_type": "code",
   "execution_count": 17,
   "id": "e7dea544-a84f-4a28-857a-db7c3f755b1f",
   "metadata": {
    "execution": {
     "iopub.execute_input": "2025-09-24T15:54:33.295423Z",
     "iopub.status.busy": "2025-09-24T15:54:33.292353Z",
     "iopub.status.idle": "2025-09-24T15:54:38.398385Z",
     "shell.execute_reply": "2025-09-24T15:54:38.396888Z"
    },
    "papermill": {
     "duration": 5.1692,
     "end_time": "2025-09-24T15:54:38.400562",
     "exception": false,
     "start_time": "2025-09-24T15:54:33.231362",
     "status": "completed"
    },
    "tags": []
   },
   "outputs": [],
   "source": [
    "write.csv(seqtab, file=\"/work/pi_sarah_gignouxwolfsohn_uml_edu/caroline/ASVs/16S_ASV.csv\")"
   ]
  },
  {
   "cell_type": "code",
   "execution_count": 18,
   "id": "82263b34-3181-4187-a8d0-f2dd87d2432d",
   "metadata": {
    "execution": {
     "iopub.execute_input": "2025-09-24T15:54:38.427399Z",
     "iopub.status.busy": "2025-09-24T15:54:38.426362Z",
     "iopub.status.idle": "2025-09-24T16:15:51.045167Z",
     "shell.execute_reply": "2025-09-24T16:15:51.043467Z"
    },
    "papermill": {
     "duration": 1272.633825,
     "end_time": "2025-09-24T16:15:51.046545",
     "exception": false,
     "start_time": "2025-09-24T15:54:38.412720",
     "status": "completed"
    },
    "tags": []
   },
   "outputs": [
    {
     "name": "stderr",
     "output_type": "stream",
     "text": [
      "Identified 96330 bimeras out of 191630 input sequences.\n",
      "\n"
     ]
    },
    {
     "data": {
      "text/html": [
       "<style>\n",
       ".list-inline {list-style: none; margin:0; padding: 0}\n",
       ".list-inline>li {display: inline-block}\n",
       ".list-inline>li:not(:last-child)::after {content: \"\\00b7\"; padding: 0 .5ex}\n",
       "</style>\n",
       "<ol class=list-inline><li>97</li><li>95300</li></ol>\n"
      ],
      "text/latex": [
       "\\begin{enumerate*}\n",
       "\\item 97\n",
       "\\item 95300\n",
       "\\end{enumerate*}\n"
      ],
      "text/markdown": [
       "1. 97\n",
       "2. 95300\n",
       "\n",
       "\n"
      ],
      "text/plain": [
       "[1]    97 95300"
      ]
     },
     "metadata": {},
     "output_type": "display_data"
    }
   ],
   "source": [
    "#remove chimeras\n",
    "\n",
    "seqtab.nochim <- removeBimeraDenovo(seqtab, method=\"consensus\", multithread=TRUE, verbose=TRUE)\n",
    "dim(seqtab.nochim)"
   ]
  },
  {
   "cell_type": "code",
   "execution_count": 19,
   "id": "40609af8-be37-48f3-afbb-db6741361ab0",
   "metadata": {
    "execution": {
     "iopub.execute_input": "2025-09-24T16:15:51.123051Z",
     "iopub.status.busy": "2025-09-24T16:15:51.121939Z",
     "iopub.status.idle": "2025-09-24T16:15:51.155879Z",
     "shell.execute_reply": "2025-09-24T16:15:51.154565Z"
    },
    "papermill": {
     "duration": 0.096259,
     "end_time": "2025-09-24T16:15:51.157140",
     "exception": false,
     "start_time": "2025-09-24T16:15:51.060881",
     "status": "completed"
    },
    "tags": []
   },
   "outputs": [
    {
     "data": {
      "text/html": [
       "0.830075222001439"
      ],
      "text/latex": [
       "0.830075222001439"
      ],
      "text/markdown": [
       "0.830075222001439"
      ],
      "text/plain": [
       "[1] 0.8300752"
      ]
     },
     "metadata": {},
     "output_type": "display_data"
    }
   ],
   "source": [
    "#frequency of chimeras\n",
    "#most reads should remain after chimera removal\n",
    "sum(seqtab.nochim)/sum(seqtab)"
   ]
  },
  {
   "cell_type": "code",
   "execution_count": 20,
   "id": "db7ef818-97f5-4475-a6fe-9793b28651a1",
   "metadata": {
    "execution": {
     "iopub.execute_input": "2025-09-24T16:15:51.190136Z",
     "iopub.status.busy": "2025-09-24T16:15:51.189054Z",
     "iopub.status.idle": "2025-09-24T16:15:51.362568Z",
     "shell.execute_reply": "2025-09-24T16:15:51.361236Z"
    },
    "papermill": {
     "duration": 0.194055,
     "end_time": "2025-09-24T16:15:51.363959",
     "exception": false,
     "start_time": "2025-09-24T16:15:51.169904",
     "status": "completed"
    },
    "tags": []
   },
   "outputs": [
    {
     "data": {
      "text/html": [
       "<table class=\"dataframe\">\n",
       "<caption>A matrix: 6 × 6 of type dbl</caption>\n",
       "<thead>\n",
       "\t<tr><th></th><th scope=col>input</th><th scope=col>filtered</th><th scope=col>denoisedF</th><th scope=col>denoisedR</th><th scope=col>merged</th><th scope=col>nonchim</th></tr>\n",
       "</thead>\n",
       "<tbody>\n",
       "\t<tr><th scope=row>012024-BEL-CBC-T1-557-SSID</th><td>189570</td><td>176082</td><td>171436</td><td>173162</td><td>142705</td><td>129120</td></tr>\n",
       "\t<tr><th scope=row>012024-BEL-CBC-T1-563-PSTR</th><td> 98511</td><td> 89332</td><td> 88739</td><td> 88868</td><td> 87695</td><td> 44586</td></tr>\n",
       "\t<tr><th scope=row>012024-BEL-CBC-T2-601-OFAV</th><td>280308</td><td>263766</td><td>262084</td><td>262620</td><td>250901</td><td>173382</td></tr>\n",
       "\t<tr><th scope=row>012024-BEL-CBC-T2-605-SSID</th><td>  1116</td><td>   929</td><td>   611</td><td>   687</td><td>   541</td><td>   541</td></tr>\n",
       "\t<tr><th scope=row>012024-BEL-CBC-T3-627-PAST</th><td>  6549</td><td>  5159</td><td>  4248</td><td>  4219</td><td>  3187</td><td>  3057</td></tr>\n",
       "\t<tr><th scope=row>012024-BEL-CBC-T3-631-MCAV</th><td>536790</td><td>497421</td><td>495886</td><td>496193</td><td>481028</td><td>404924</td></tr>\n",
       "</tbody>\n",
       "</table>\n"
      ],
      "text/latex": [
       "A matrix: 6 × 6 of type dbl\n",
       "\\begin{tabular}{r|llllll}\n",
       "  & input & filtered & denoisedF & denoisedR & merged & nonchim\\\\\n",
       "\\hline\n",
       "\t012024-BEL-CBC-T1-557-SSID & 189570 & 176082 & 171436 & 173162 & 142705 & 129120\\\\\n",
       "\t012024-BEL-CBC-T1-563-PSTR &  98511 &  89332 &  88739 &  88868 &  87695 &  44586\\\\\n",
       "\t012024-BEL-CBC-T2-601-OFAV & 280308 & 263766 & 262084 & 262620 & 250901 & 173382\\\\\n",
       "\t012024-BEL-CBC-T2-605-SSID &   1116 &    929 &    611 &    687 &    541 &    541\\\\\n",
       "\t012024-BEL-CBC-T3-627-PAST &   6549 &   5159 &   4248 &   4219 &   3187 &   3057\\\\\n",
       "\t012024-BEL-CBC-T3-631-MCAV & 536790 & 497421 & 495886 & 496193 & 481028 & 404924\\\\\n",
       "\\end{tabular}\n"
      ],
      "text/markdown": [
       "\n",
       "A matrix: 6 × 6 of type dbl\n",
       "\n",
       "| <!--/--> | input | filtered | denoisedF | denoisedR | merged | nonchim |\n",
       "|---|---|---|---|---|---|---|\n",
       "| 012024-BEL-CBC-T1-557-SSID | 189570 | 176082 | 171436 | 173162 | 142705 | 129120 |\n",
       "| 012024-BEL-CBC-T1-563-PSTR |  98511 |  89332 |  88739 |  88868 |  87695 |  44586 |\n",
       "| 012024-BEL-CBC-T2-601-OFAV | 280308 | 263766 | 262084 | 262620 | 250901 | 173382 |\n",
       "| 012024-BEL-CBC-T2-605-SSID |   1116 |    929 |    611 |    687 |    541 |    541 |\n",
       "| 012024-BEL-CBC-T3-627-PAST |   6549 |   5159 |   4248 |   4219 |   3187 |   3057 |\n",
       "| 012024-BEL-CBC-T3-631-MCAV | 536790 | 497421 | 495886 | 496193 | 481028 | 404924 |\n",
       "\n"
      ],
      "text/plain": [
       "                           input  filtered denoisedF denoisedR merged nonchim\n",
       "012024-BEL-CBC-T1-557-SSID 189570 176082   171436    173162    142705 129120 \n",
       "012024-BEL-CBC-T1-563-PSTR  98511  89332    88739     88868     87695  44586 \n",
       "012024-BEL-CBC-T2-601-OFAV 280308 263766   262084    262620    250901 173382 \n",
       "012024-BEL-CBC-T2-605-SSID   1116    929      611       687       541    541 \n",
       "012024-BEL-CBC-T3-627-PAST   6549   5159     4248      4219      3187   3057 \n",
       "012024-BEL-CBC-T3-631-MCAV 536790 497421   495886    496193    481028 404924 "
      ]
     },
     "metadata": {},
     "output_type": "display_data"
    }
   ],
   "source": [
    "#track number of reads that made it through each step ofthe pipeline\n",
    "getN <- function(x) sum(getUniques(x))\n",
    "track <- cbind(out, sapply(dadaFs, getN), sapply(dadaRs, getN), sapply(mergers, getN), rowSums(seqtab.nochim))\n",
    "# If processing a single sample, remove the sapply calls: e.g. replace sapply(dadaFs, getN) with getN(dadaFs)\n",
    "colnames(track) <- c(\"input\", \"filtered\", \"denoisedF\", \"denoisedR\", \"merged\", \"nonchim\")\n",
    "rownames(track) <- sample.names\n",
    "head(track)"
   ]
  },
  {
   "cell_type": "code",
   "execution_count": 21,
   "id": "dcb58a90-b64f-4f39-a4d6-e99cb3c00b4a",
   "metadata": {
    "execution": {
     "iopub.execute_input": "2025-09-24T16:15:51.390537Z",
     "iopub.status.busy": "2025-09-24T16:15:51.389508Z",
     "iopub.status.idle": "2025-09-24T16:15:51.399021Z",
     "shell.execute_reply": "2025-09-24T16:15:51.397775Z"
    },
    "papermill": {
     "duration": 0.024743,
     "end_time": "2025-09-24T16:15:51.400299",
     "exception": false,
     "start_time": "2025-09-24T16:15:51.375556",
     "status": "completed"
    },
    "tags": []
   },
   "outputs": [],
   "source": [
    "# track is the best place to do a last sanity check\n",
    "#make sure there is no step in where the majority of reads are lost"
   ]
  },
  {
   "cell_type": "code",
   "execution_count": 22,
   "id": "fd2e88ea-e447-42b2-889e-d93bd225e1c8",
   "metadata": {
    "execution": {
     "iopub.execute_input": "2025-09-24T16:15:51.430377Z",
     "iopub.status.busy": "2025-09-24T16:15:51.429318Z",
     "iopub.status.idle": "2025-09-24T16:15:51.442501Z",
     "shell.execute_reply": "2025-09-24T16:15:51.441277Z"
    },
    "papermill": {
     "duration": 0.03163,
     "end_time": "2025-09-24T16:15:51.443789",
     "exception": false,
     "start_time": "2025-09-24T16:15:51.412159",
     "status": "completed"
    },
    "tags": []
   },
   "outputs": [
    {
     "name": "stdout",
     "output_type": "stream",
     "text": [
      "                               input filtered denoisedF denoisedR   merged\n",
      "012024-BEL-CBC-T1-557-SSID    189570   176082    171436    173162   142705\n",
      "012024-BEL-CBC-T1-563-PSTR     98511    89332     88739     88868    87695\n",
      "012024-BEL-CBC-T2-601-OFAV    280308   263766    262084    262620   250901\n",
      "012024-BEL-CBC-T2-605-SSID      1116      929       611       687      541\n",
      "012024-BEL-CBC-T3-627-PAST      6549     5159      4248      4219     3187\n",
      "012024-BEL-CBC-T3-631-MCAV    536790   497421    495886    496193   481028\n",
      "012024-BEL-CBC-T3-633-MCAV    163169   154836    154032    153929   151918\n",
      "012024-BEL-CBC-T3-637-SSID     22749    21151     20332     20453    19464\n",
      "012024-BEL-CBC-T4-661-PSTR    464328   426848    421862    422442   405813\n",
      "012024-BEL-CBC-T4-663-PSTR      1295     1045       875       917      845\n",
      "022024-BEL-CBC-T1-775-OANN      2146     1744      1366      1275      950\n",
      "022024-BEL-CBC-T1-776-PSTR    115016   104918    104035    104356    87237\n",
      "022024-BEL-CBC-T2-804-OFAV      5900     4864      4205      4231     3793\n",
      "022024-BEL-CBC-T2-814-MCAV      3376     2812      2327      2270     1643\n",
      "022024-BEL-CBC-T3-851-PSTR    647444   561975    560641    560669   534246\n",
      "022024-BEL-CBC-T4-874-OFAV      2133     1778      1456      1415     1114\n",
      "022024-BEL-CBC-T4-875-MCAV    198640   188605    187963    187908   187154\n",
      "042024-BEL-CBC-T1-927-PSTR     61333    57739     57272     57361    56675\n",
      "042024-BEL-CBC-T2-1014-OFAV     2258     1906      1631      1623     1523\n",
      "042024-BEL-CBC-T2-1018-PAST  2381999  2243413   2238808   2238903  2184272\n",
      "042024-BEL-CBC-T2-1026-OFAV      680      596       454       456      363\n",
      "042024-BEL-CBC-T2-1144-MCAV      751      626       509       499      351\n",
      "042024-BEL-CBC-T3-960-OFAV       487      399       317       322      223\n",
      "042024-BEL-CBC-T4-1046-PSTR   205803   164390    163512    163845   150165\n",
      "042024-BEL-CBC-T4-1047-MCAV      478      393       347       335      269\n",
      "052022-BEL-CBC-T1-2-SSID        1016      807       608       587      391\n",
      "052022-BEL-CBC-T2-1-SSID      580209   540447    532410    534279   502592\n",
      "052022-BEL-CBC-T2-71-OFAV       2606     2125      1818      1746     1297\n",
      "052022-BEL-CBC-T2-9-PAST        2943     2478      2132      2160     1748\n",
      "052022-BEL-CBC-T3-11-PAST        540      431       311       324      136\n",
      "052022-BEL-CBC-T3-13-MCAV       3730     3026      2630      2528     2019\n",
      "052022-BEL-CBC-T3-19-MCAV       1347     1094       799       745      620\n",
      "052022-BEL-CBC-T3-66-OFAV     107989    97528     95536     95650    76912\n",
      "052022-BEL-CBC-T3-8-PAST        2442     1922      1549      1511     1021\n",
      "062019-BEL-CBC-T1-21-PAST      46776    40880     40233     40281    25262\n",
      "062019-BEL-CBC-T1-22-MCAV        705      593       550       547      443\n",
      "062019-BEL-CBC-T2-18-MCAV      63110    58496     57414     57441    56712\n",
      "062019-BEL-CBC-T3-1-MCAV       88225    83018     82301     82598    63057\n",
      "062024-BEL-CBC-T1-1347-OANN   123368   116557    114969    114868   110912\n",
      "062024-BEL-CBC-T1-1353-MCAV     3135     2507      1974      1992     1592\n",
      "062024-BEL-CBC-T2-1375-SSID  9815885  9261092   9167926   9206192  8423989\n",
      "062024-BEL-CBC-T2-1396-MCAV   919507   872940    857006    858281   815613\n",
      "062024-BEL-CBC-T3-1415-MCAV   196009   184827    184038    184211   169159\n",
      "062024-BEL-CBC-T3-1433-PSTR     1443     1297      1155      1178     1059\n",
      "062024-BEL-CBC-T3-1439-OFAV     2626     2219      1859      1831     1129\n",
      "062024-BEL-CBC-T3-1442-OFAV   628275   593252    587246    590376   524741\n",
      "082024-BEL-CBC-T1-1479-PAST     3366     2981      2624      2657     2372\n",
      "082024-BEL-CBC-T1-1482-OANN   123299   114820    112547    112985    92827\n",
      "082024-BEL-CBC-T2-1510-PAST     1340     1126       842       841      597\n",
      "082024-BEL-CBC-T3-1554-OANN   928732   846463    840578    840327   815041\n",
      "082024-BEL-CBC-T3-1558-MCAV   330412   308925    305909    306284   287752\n",
      "082024-BEL-CBC-T3-1560-PSTR   412870   388584    385879    386136   361675\n",
      "082024-BEL-CBC-T3-1561-MCAV   419863   391980    387766    388432   356313\n",
      "082024-BEL-CBC-T3-1562-OFAV  6252156  5944181   5933392   5934091  5849181\n",
      "082024-BEL-CBC-T4-1606-PSTR   275304   257018    255221    255418   252344\n",
      "082024-BEL-CBC-T4-1607-PSTR      441      369       322       315      211\n",
      "082024-BEL-CBC-T4-1609-OFAV   983222   933851    931984    932209   917745\n",
      "092023-BEL-CBC-T1-171-PAST      1556     1406      1194      1198     1059\n",
      "092023-BEL-CBC-T1-175-PAST      3420     2878      2498      2515     2228\n",
      "092023-BEL-CBC-T2-174-SSID      2321     2072      1770      1756     1443\n",
      "092023-BEL-CBC-T2-181-PAST    864136   788583    776197    777617   740536\n",
      "092023-BEL-CBC-T2-184-MCAV  11706940 10986911  10905052  10923606 10165451\n",
      "092023-BEL-CBC-T3-171-OFAV   2039540  1927141   1900607   1904668  1845498\n",
      "092023-BEL-CBC-T3-173-OFAV      2186     1769      1505      1505     1144\n",
      "092023-BEL-CBC-T3-178-PAST    768250   716306    712545    714147   702422\n",
      "092023-BEL-CBC-T3-195-PSTR     46134    43307     42908     42905    42123\n",
      "092023-BEL-CBC-T4-92-PSTR        623      505       397       411      292\n",
      "092023-BEL-CBC-T4-94-MCAV       6222     4875      4124      4039     3239\n",
      "102019-BEL-CBC-T1-29-PSTR       1479     1234       993      1006      664\n",
      "112023-BEL-CBC-T1-276-MCAV    150280   141927    140857    140986   139407\n",
      "112023-BEL-CBC-T2-304-OFAV    801290   746294    740627    741200   723489\n",
      "112023-BEL-CBC-T2-307-SSID    849647   796626    788503    789533   747342\n",
      "112023-BEL-CBC-T2-310-MCAV    466146   418644    416202    416747   378753\n",
      "112023-BEL-CBC-T3-352-PAST    853171   716569    706810    708557   673311\n",
      "112023-BEL-CBC-T3-355-PSTR    100623    94232     93748     93758    81293\n",
      "112023-BEL-CBC-T4-399-MCAV    265563   241918    240417    240487   221185\n",
      "112023-BEL-CBC-T4-401-MCAV    267630   252616    251429    251499   232734\n",
      "122022-BEL-CBC-T3-123-PAST       528      437       388       371      207\n",
      "122022-BEL-CBC-T3-124-PAST    531846   441614    438144    438644   385545\n",
      "122022-BEL-CBC-T3-126-SSID    449752   390988    385257    385674   355326\n",
      "122022-BEL-CBC-T3-127-OFAV    883470   826200    806972    809366   747947\n",
      "122022-BEL-CBC-T3-141-PSTR    642773   605290    597440    598290   564453\n",
      "122022-BEL-CBC-T3-142-MCAV     37542    34822     34347     34524     5412\n",
      "122023-BEL-CBC-T1-507-PAST    536020   495709    489349    490066   451521\n",
      "122023-BEL-CBC-T1-508-SSID    400350   379807    367074    368245   344821\n",
      "122023-BEL-CBC-T2-513-SSID      2606     2187      1826      1767     1440\n",
      "122023-BEL-CBC-T2-515-PAST    332780   311964    306918    308912   300688\n",
      "122023-BEL-CBC-T2-518-MCAV    171458   161194    159817    160054   157740\n",
      "122023-BEL-CBC-T2-522-MCAV      2040     1576      1243      1180      804\n",
      "122023-BEL-CBC-T3-524-OFAV    474846   444124    434555    437334   392475\n",
      "122023-BEL-CBC-T3-525-PAST    588421   541874    536196    538218   526455\n",
      "122023-BEL-CBC-T3-526-SSID    176648   164615    162767    163518   151085\n",
      "122023-BEL-CBC-T3-531-PSTR    171959   160818    159638    159635   157135\n",
      "122023-BEL-CBC-T3-532-MCAV    552104   510342    507066    507900   477049\n",
      "122023-BEL-CBC-T4-539-MCAV       784      685       605       602      447\n",
      "Negative                         667      543       388       372      253\n",
      "Undetermined                 1026032   550202    530834    534403   466794\n",
      "                            nonchim\n",
      "012024-BEL-CBC-T1-557-SSID   129120\n",
      "012024-BEL-CBC-T1-563-PSTR    44586\n",
      "012024-BEL-CBC-T2-601-OFAV   173382\n",
      "012024-BEL-CBC-T2-605-SSID      541\n",
      "012024-BEL-CBC-T3-627-PAST     3057\n",
      "012024-BEL-CBC-T3-631-MCAV   404924\n",
      "012024-BEL-CBC-T3-633-MCAV    62656\n",
      "012024-BEL-CBC-T3-637-SSID    17819\n",
      "012024-BEL-CBC-T4-661-PSTR   369299\n",
      "012024-BEL-CBC-T4-663-PSTR      621\n",
      "022024-BEL-CBC-T1-775-OANN      838\n",
      "022024-BEL-CBC-T1-776-PSTR    67616\n",
      "022024-BEL-CBC-T2-804-OFAV     2986\n",
      "022024-BEL-CBC-T2-814-MCAV     1429\n",
      "022024-BEL-CBC-T3-851-PSTR   508110\n",
      "022024-BEL-CBC-T4-874-OFAV     1111\n",
      "022024-BEL-CBC-T4-875-MCAV    65890\n",
      "042024-BEL-CBC-T1-927-PSTR    27192\n",
      "042024-BEL-CBC-T2-1014-OFAV    1311\n",
      "042024-BEL-CBC-T2-1018-PAST 2031863\n",
      "042024-BEL-CBC-T2-1026-OFAV     363\n",
      "042024-BEL-CBC-T2-1144-MCAV     351\n",
      "042024-BEL-CBC-T3-960-OFAV      223\n",
      "042024-BEL-CBC-T4-1046-PSTR  135313\n",
      "042024-BEL-CBC-T4-1047-MCAV     269\n",
      "052022-BEL-CBC-T1-2-SSID        373\n",
      "052022-BEL-CBC-T2-1-SSID     446421\n",
      "052022-BEL-CBC-T2-71-OFAV      1108\n",
      "052022-BEL-CBC-T2-9-PAST       1513\n",
      "052022-BEL-CBC-T3-11-PAST       136\n",
      "052022-BEL-CBC-T3-13-MCAV      1595\n",
      "052022-BEL-CBC-T3-19-MCAV       580\n",
      "052022-BEL-CBC-T3-66-OFAV     63598\n",
      "052022-BEL-CBC-T3-8-PAST       1001\n",
      "062019-BEL-CBC-T1-21-PAST     21565\n",
      "062019-BEL-CBC-T1-22-MCAV       398\n",
      "062019-BEL-CBC-T2-18-MCAV     26709\n",
      "062019-BEL-CBC-T3-1-MCAV      24279\n",
      "062024-BEL-CBC-T1-1347-OANN   91500\n",
      "062024-BEL-CBC-T1-1353-MCAV    1563\n",
      "062024-BEL-CBC-T2-1375-SSID 6758486\n",
      "062024-BEL-CBC-T2-1396-MCAV  719463\n",
      "062024-BEL-CBC-T3-1415-MCAV  122556\n",
      "062024-BEL-CBC-T3-1433-PSTR     901\n",
      "062024-BEL-CBC-T3-1439-OFAV     919\n",
      "062024-BEL-CBC-T3-1442-OFAV  448353\n",
      "082024-BEL-CBC-T1-1479-PAST    2078\n",
      "082024-BEL-CBC-T1-1482-OANN   80151\n",
      "082024-BEL-CBC-T2-1510-PAST     597\n",
      "082024-BEL-CBC-T3-1554-OANN  752516\n",
      "082024-BEL-CBC-T3-1558-MCAV  229316\n",
      "082024-BEL-CBC-T3-1560-PSTR  326759\n",
      "082024-BEL-CBC-T3-1561-MCAV  286577\n",
      "082024-BEL-CBC-T3-1562-OFAV 4385436\n",
      "082024-BEL-CBC-T4-1606-PSTR   98221\n",
      "082024-BEL-CBC-T4-1607-PSTR     211\n",
      "082024-BEL-CBC-T4-1609-OFAV  877048\n",
      "092023-BEL-CBC-T1-171-PAST      994\n",
      "092023-BEL-CBC-T1-175-PAST     1657\n",
      "092023-BEL-CBC-T2-174-SSID     1398\n",
      "092023-BEL-CBC-T2-181-PAST   629973\n",
      "092023-BEL-CBC-T2-184-MCAV  9053196\n",
      "092023-BEL-CBC-T3-171-OFAV  1662924\n",
      "092023-BEL-CBC-T3-173-OFAV     1144\n",
      "092023-BEL-CBC-T3-178-PAST   593797\n",
      "092023-BEL-CBC-T3-195-PSTR    31800\n",
      "092023-BEL-CBC-T4-92-PSTR       257\n",
      "092023-BEL-CBC-T4-94-MCAV      2673\n",
      "102019-BEL-CBC-T1-29-PSTR       664\n",
      "112023-BEL-CBC-T1-276-MCAV    57119\n",
      "112023-BEL-CBC-T2-304-OFAV   564674\n",
      "112023-BEL-CBC-T2-307-SSID   645112\n",
      "112023-BEL-CBC-T2-310-MCAV   331992\n",
      "112023-BEL-CBC-T3-352-PAST   447881\n",
      "112023-BEL-CBC-T3-355-PSTR    71992\n",
      "112023-BEL-CBC-T4-399-MCAV   130347\n",
      "112023-BEL-CBC-T4-401-MCAV   188163\n",
      "122022-BEL-CBC-T3-123-PAST      106\n",
      "122022-BEL-CBC-T3-124-PAST   274601\n",
      "122022-BEL-CBC-T3-126-SSID   328428\n",
      "122022-BEL-CBC-T3-127-OFAV   681988\n",
      "122022-BEL-CBC-T3-141-PSTR   519560\n",
      "122022-BEL-CBC-T3-142-MCAV     3777\n",
      "122023-BEL-CBC-T1-507-PAST   362925\n",
      "122023-BEL-CBC-T1-508-SSID   321657\n",
      "122023-BEL-CBC-T2-513-SSID     1146\n",
      "122023-BEL-CBC-T2-515-PAST   184141\n",
      "122023-BEL-CBC-T2-518-MCAV    63018\n",
      "122023-BEL-CBC-T2-522-MCAV      804\n",
      "122023-BEL-CBC-T3-524-OFAV   341388\n",
      "122023-BEL-CBC-T3-525-PAST   337150\n",
      "122023-BEL-CBC-T3-526-SSID   145921\n",
      "122023-BEL-CBC-T3-531-PSTR    93195\n",
      "122023-BEL-CBC-T3-532-MCAV   423210\n",
      "122023-BEL-CBC-T4-539-MCAV      447\n",
      "Negative                        253\n",
      "Undetermined                 408491\n"
     ]
    }
   ],
   "source": [
    "print(track)"
   ]
  },
  {
   "cell_type": "code",
   "execution_count": 23,
   "id": "85894bc7-f6d7-4dc2-b829-d1f4188b590c",
   "metadata": {
    "execution": {
     "iopub.execute_input": "2025-09-24T16:15:51.469797Z",
     "iopub.status.busy": "2025-09-24T16:15:51.468786Z",
     "iopub.status.idle": "2025-09-24T16:15:51.486403Z",
     "shell.execute_reply": "2025-09-24T16:15:51.485184Z"
    },
    "papermill": {
     "duration": 0.03182,
     "end_time": "2025-09-24T16:15:51.487795",
     "exception": false,
     "start_time": "2025-09-24T16:15:51.455975",
     "status": "completed"
    },
    "tags": []
   },
   "outputs": [],
   "source": [
    "write.csv(track, file=\"/work/pi_sarah_gignouxwolfsohn_uml_edu/caroline/ASVs/Seqnums_16S.csv\")"
   ]
  },
  {
   "cell_type": "code",
   "execution_count": 24,
   "id": "39b327d3-dc3f-4723-a930-09a225adbf0b",
   "metadata": {
    "execution": {
     "iopub.execute_input": "2025-09-24T16:15:51.517576Z",
     "iopub.status.busy": "2025-09-24T16:15:51.516561Z",
     "iopub.status.idle": "2025-09-24T16:15:51.525422Z",
     "shell.execute_reply": "2025-09-24T16:15:51.524197Z"
    },
    "papermill": {
     "duration": 0.024513,
     "end_time": "2025-09-24T16:15:51.526655",
     "exception": false,
     "start_time": "2025-09-24T16:15:51.502142",
     "status": "completed"
    },
    "tags": []
   },
   "outputs": [],
   "source": [
    "#make sure silva_nr_v138_train_set.fa.gz file is in same directory as fastq files"
   ]
  },
  {
   "cell_type": "code",
   "execution_count": 25,
   "id": "bbd70258-352a-4c00-ba3a-35d7f8e174e4",
   "metadata": {
    "execution": {
     "iopub.execute_input": "2025-09-24T16:15:51.551725Z",
     "iopub.status.busy": "2025-09-24T16:15:51.550718Z",
     "iopub.status.idle": "2025-09-24T16:44:26.084062Z",
     "shell.execute_reply": "2025-09-24T16:44:26.081218Z"
    },
    "papermill": {
     "duration": 1714.547591,
     "end_time": "2025-09-24T16:44:26.085713",
     "exception": false,
     "start_time": "2025-09-24T16:15:51.538122",
     "status": "completed"
    },
    "tags": []
   },
   "outputs": [],
   "source": [
    "#taxonomy\n",
    "taxa = assignTaxonomy(seqtab.nochim, \"/scratch3/workspace/caroline_desouza_uml_edu-CBC_immune_microbe/split_reads/16S/silva_nr99_v138.2_toGenus_trainset.fa.gz\", multithread=TRUE)"
   ]
  },
  {
   "cell_type": "code",
   "execution_count": 26,
   "id": "87015014-7218-4ecc-9f5c-8e3c08d75911",
   "metadata": {
    "execution": {
     "iopub.execute_input": "2025-09-24T16:44:26.195909Z",
     "iopub.status.busy": "2025-09-24T16:44:26.194453Z",
     "iopub.status.idle": "2025-09-24T16:44:26.214078Z",
     "shell.execute_reply": "2025-09-24T16:44:26.212566Z"
    },
    "papermill": {
     "duration": 0.108433,
     "end_time": "2025-09-24T16:44:26.215586",
     "exception": false,
     "start_time": "2025-09-24T16:44:26.107153",
     "status": "completed"
    },
    "tags": []
   },
   "outputs": [
    {
     "data": {
      "text/html": [
       "<style>\n",
       ".list-inline {list-style: none; margin:0; padding: 0}\n",
       ".list-inline>li {display: inline-block}\n",
       ".list-inline>li:not(:last-child)::after {content: \"\\00b7\"; padding: 0 .5ex}\n",
       "</style>\n",
       "<ol class=list-inline><li>95300</li><li>6</li></ol>\n"
      ],
      "text/latex": [
       "\\begin{enumerate*}\n",
       "\\item 95300\n",
       "\\item 6\n",
       "\\end{enumerate*}\n"
      ],
      "text/markdown": [
       "1. 95300\n",
       "2. 6\n",
       "\n",
       "\n"
      ],
      "text/plain": [
       "[1] 95300     6"
      ]
     },
     "metadata": {},
     "output_type": "display_data"
    }
   ],
   "source": [
    "dim(taxa)"
   ]
  },
  {
   "cell_type": "code",
   "execution_count": 27,
   "id": "250a02e6-1754-4c53-b9ff-33dfd2a42f35",
   "metadata": {
    "execution": {
     "iopub.execute_input": "2025-09-24T16:44:26.247349Z",
     "iopub.status.busy": "2025-09-24T16:44:26.245917Z",
     "iopub.status.idle": "2025-09-24T16:44:28.946296Z",
     "shell.execute_reply": "2025-09-24T16:44:28.944590Z"
    },
    "papermill": {
     "duration": 2.719571,
     "end_time": "2025-09-24T16:44:28.948556",
     "exception": false,
     "start_time": "2025-09-24T16:44:26.228985",
     "status": "completed"
    },
    "tags": []
   },
   "outputs": [],
   "source": [
    "write.csv(seqtab.nochim, file=\"/work/pi_sarah_gignouxwolfsohn_uml_edu/caroline/ASVs/16S_ASV_nochim.csv\")"
   ]
  },
  {
   "cell_type": "code",
   "execution_count": 28,
   "id": "9ae3877e-2b4e-4569-8b9b-44c3e3654f67",
   "metadata": {
    "execution": {
     "iopub.execute_input": "2025-09-24T16:44:28.982467Z",
     "iopub.status.busy": "2025-09-24T16:44:28.981024Z",
     "iopub.status.idle": "2025-09-24T16:44:29.262191Z",
     "shell.execute_reply": "2025-09-24T16:44:29.260358Z"
    },
    "papermill": {
     "duration": 0.29783,
     "end_time": "2025-09-24T16:44:29.263775",
     "exception": false,
     "start_time": "2025-09-24T16:44:28.965945",
     "status": "completed"
    },
    "tags": []
   },
   "outputs": [],
   "source": [
    "write.csv(taxa, file=\"/work/pi_sarah_gignouxwolfsohn_uml_edu/caroline/ASVs/16S_taxa.csv\")"
   ]
  },
  {
   "cell_type": "code",
   "execution_count": null,
   "id": "6efc8b05-3fdd-436c-a5ce-376e3b76db20",
   "metadata": {
    "papermill": {
     "duration": null,
     "end_time": null,
     "exception": false,
     "start_time": "2025-09-24T16:44:29.280198",
     "status": "running"
    },
    "tags": []
   },
   "outputs": [],
   "source": [
    "#load csv file after removing chimeras\n",
    "seqtab.nochim=read.csv(\"/work/pi_sarah_gignouxwolfsohn_uml_edu/caroline/ASVs/16S_ASV_nochim.csv\")"
   ]
  },
  {
   "cell_type": "code",
   "execution_count": null,
   "id": "883f626c-6eb7-4789-9eac-631ec59363ab",
   "metadata": {
    "papermill": {
     "duration": null,
     "end_time": null,
     "exception": null,
     "start_time": null,
     "status": "pending"
    },
    "tags": []
   },
   "outputs": [],
   "source": [
    "#pulling out asvs\n",
    "ASVs=colnames(seqtab.nochim)\n",
    "\n",
    "ASVs=ASVs[-1]\n",
    "\n",
    "ASVs"
   ]
  },
  {
   "cell_type": "code",
   "execution_count": null,
   "id": "d0ac5e2c-671f-4f99-aae8-29477ec709f1",
   "metadata": {
    "papermill": {
     "duration": null,
     "end_time": null,
     "exception": null,
     "start_time": null,
     "status": "pending"
    },
    "tags": []
   },
   "outputs": [],
   "source": [
    "#load taxa csv file\n",
    "taxa=read.csv(file=\"/work/pi_sarah_gignouxwolfsohn_uml_edu/caroline/ASVs/16S_taxa.csv\", row.names=1)\n",
    "head(taxa)"
   ]
  },
  {
   "cell_type": "code",
   "execution_count": null,
   "id": "873192c1-d188-470d-90ed-79588e89c019",
   "metadata": {
    "papermill": {
     "duration": null,
     "end_time": null,
     "exception": null,
     "start_time": null,
     "status": "pending"
    },
    "tags": []
   },
   "outputs": [],
   "source": [
    "genus.species <- assignSpecies(ASVs, \"/scratch3/workspace/caroline_desouza_uml_edu-CBC_immune_microbe/split_reads/16S/silva_v138.2_assignSpecies.fa.gz\")"
   ]
  },
  {
   "cell_type": "code",
   "execution_count": null,
   "id": "d52a71b4-98f7-4ba8-9f70-02d3cbbecd8a",
   "metadata": {
    "papermill": {
     "duration": null,
     "end_time": null,
     "exception": null,
     "start_time": null,
     "status": "pending"
    },
    "tags": []
   },
   "outputs": [],
   "source": [
    "alltax=merge(taxa, genus.species, by=\"row.names\")\n",
    "head(alltax, 500)"
   ]
  },
  {
   "cell_type": "code",
   "execution_count": null,
   "id": "fe447e7a-93c0-410b-9c62-e90ae2854017",
   "metadata": {
    "papermill": {
     "duration": null,
     "end_time": null,
     "exception": null,
     "start_time": null,
     "status": "pending"
    },
    "tags": []
   },
   "outputs": [],
   "source": [
    "write.csv(alltax, file=\"/work/pi_sarah_gignouxwolfsohn_uml_edu/caroline/ASVs/16S_taxa_complete.csv\")"
   ]
  },
  {
   "cell_type": "code",
   "execution_count": null,
   "id": "20345fd9-0a4d-4701-899e-d97719c1837b",
   "metadata": {
    "papermill": {
     "duration": null,
     "end_time": null,
     "exception": null,
     "start_time": null,
     "status": "pending"
    },
    "tags": []
   },
   "outputs": [],
   "source": [
    "taxa=read.csv(\"/work/pi_sarah_gignouxwolfsohn_uml_edu/caroline/ASVs/16S_taxa_complete.csv\")\n"
   ]
  },
  {
   "cell_type": "code",
   "execution_count": null,
   "id": "8b02fad6-790d-46ef-9054-84457c19f6da",
   "metadata": {
    "papermill": {
     "duration": null,
     "end_time": null,
     "exception": null,
     "start_time": null,
     "status": "pending"
    },
    "tags": []
   },
   "outputs": [],
   "source": [
    "#show numbers of row and column\n",
    "dim(taxa)"
   ]
  },
  {
   "cell_type": "code",
   "execution_count": null,
   "id": "40c2e870-8c57-4cb6-a9ed-4637ceee2d51",
   "metadata": {
    "papermill": {
     "duration": null,
     "end_time": null,
     "exception": null,
     "start_time": null,
     "status": "pending"
    },
    "tags": []
   },
   "outputs": [],
   "source": [
    "#easy hand off to phyloseq on DADA2 doc page"
   ]
  }
 ],
 "metadata": {
  "kernelspec": {
   "display_name": "R [conda env:dada2]",
   "language": "R",
   "name": "dada2"
  },
  "language_info": {
   "codemirror_mode": "r",
   "file_extension": ".r",
   "mimetype": "text/x-r-source",
   "name": "R",
   "pygments_lexer": "r",
   "version": "4.3.3"
  },
  "papermill": {
   "default_parameters": {},
   "duration": null,
   "end_time": null,
   "environment_variables": {},
   "exception": null,
   "input_path": "dada2_pipeline.ipynb",
   "output_path": "./BEL_16S_outputs/dada2_output.ipynb",
   "parameters": {},
   "start_time": "2025-09-23T21:36:10.089401",
   "version": "2.6.0"
  }
 },
 "nbformat": 4,
 "nbformat_minor": 5
}