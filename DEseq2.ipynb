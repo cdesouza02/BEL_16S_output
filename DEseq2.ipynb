{
 "cells": [
  {
   "cell_type": "code",
   "execution_count": 1,
   "id": "b687f399-6fd3-461b-9cac-ea84bb87cf7e",
   "metadata": {},
   "outputs": [
    {
     "name": "stderr",
     "output_type": "stream",
     "text": [
      "Loading required package: data.table\n",
      "\n",
      "Loading required package: dplyr\n",
      "\n",
      "\n",
      "Attaching package: ‘dplyr’\n",
      "\n",
      "\n",
      "The following objects are masked from ‘package:data.table’:\n",
      "\n",
      "    between, first, last\n",
      "\n",
      "\n",
      "The following objects are masked from ‘package:stats’:\n",
      "\n",
      "    filter, lag\n",
      "\n",
      "\n",
      "The following objects are masked from ‘package:base’:\n",
      "\n",
      "    intersect, setdiff, setequal, union\n",
      "\n",
      "\n",
      "Loading required package: tidyverse\n",
      "\n",
      "── \u001b[1mAttaching core tidyverse packages\u001b[22m ──────────────────────── tidyverse 2.0.0 ──\n",
      "\u001b[32m✔\u001b[39m \u001b[34mforcats  \u001b[39m 1.0.0     \u001b[32m✔\u001b[39m \u001b[34mreadr    \u001b[39m 2.1.5\n",
      "\u001b[32m✔\u001b[39m \u001b[34mggplot2  \u001b[39m 4.0.0     \u001b[32m✔\u001b[39m \u001b[34mstringr  \u001b[39m 1.5.1\n",
      "\u001b[32m✔\u001b[39m \u001b[34mlubridate\u001b[39m 1.9.3     \u001b[32m✔\u001b[39m \u001b[34mtibble   \u001b[39m 3.2.1\n",
      "\u001b[32m✔\u001b[39m \u001b[34mpurrr    \u001b[39m 1.0.2     \u001b[32m✔\u001b[39m \u001b[34mtidyr    \u001b[39m 1.3.1\n",
      "── \u001b[1mConflicts\u001b[22m ────────────────────────────────────────── tidyverse_conflicts() ──\n",
      "\u001b[31m✖\u001b[39m \u001b[34mdplyr\u001b[39m::\u001b[32mbetween()\u001b[39m     masks \u001b[34mdata.table\u001b[39m::between()\n",
      "\u001b[31m✖\u001b[39m \u001b[34mdplyr\u001b[39m::\u001b[32mfilter()\u001b[39m      masks \u001b[34mstats\u001b[39m::filter()\n",
      "\u001b[31m✖\u001b[39m \u001b[34mdplyr\u001b[39m::\u001b[32mfirst()\u001b[39m       masks \u001b[34mdata.table\u001b[39m::first()\n",
      "\u001b[31m✖\u001b[39m \u001b[34mlubridate\u001b[39m::\u001b[32mhour()\u001b[39m    masks \u001b[34mdata.table\u001b[39m::hour()\n",
      "\u001b[31m✖\u001b[39m \u001b[34mlubridate\u001b[39m::\u001b[32misoweek()\u001b[39m masks \u001b[34mdata.table\u001b[39m::isoweek()\n",
      "\u001b[31m✖\u001b[39m \u001b[34mdplyr\u001b[39m::\u001b[32mlag()\u001b[39m         masks \u001b[34mstats\u001b[39m::lag()\n",
      "\u001b[31m✖\u001b[39m \u001b[34mdplyr\u001b[39m::\u001b[32mlast()\u001b[39m        masks \u001b[34mdata.table\u001b[39m::last()\n",
      "\u001b[31m✖\u001b[39m \u001b[34mlubridate\u001b[39m::\u001b[32mmday()\u001b[39m    masks \u001b[34mdata.table\u001b[39m::mday()\n",
      "\u001b[31m✖\u001b[39m \u001b[34mlubridate\u001b[39m::\u001b[32mminute()\u001b[39m  masks \u001b[34mdata.table\u001b[39m::minute()\n",
      "\u001b[31m✖\u001b[39m \u001b[34mlubridate\u001b[39m::\u001b[32mmonth()\u001b[39m   masks \u001b[34mdata.table\u001b[39m::month()\n",
      "\u001b[31m✖\u001b[39m \u001b[34mlubridate\u001b[39m::\u001b[32mquarter()\u001b[39m masks \u001b[34mdata.table\u001b[39m::quarter()\n",
      "\u001b[31m✖\u001b[39m \u001b[34mlubridate\u001b[39m::\u001b[32msecond()\u001b[39m  masks \u001b[34mdata.table\u001b[39m::second()\n",
      "\u001b[31m✖\u001b[39m \u001b[34mpurrr\u001b[39m::\u001b[32mtranspose()\u001b[39m   masks \u001b[34mdata.table\u001b[39m::transpose()\n",
      "\u001b[31m✖\u001b[39m \u001b[34mlubridate\u001b[39m::\u001b[32mwday()\u001b[39m    masks \u001b[34mdata.table\u001b[39m::wday()\n",
      "\u001b[31m✖\u001b[39m \u001b[34mlubridate\u001b[39m::\u001b[32mweek()\u001b[39m    masks \u001b[34mdata.table\u001b[39m::week()\n",
      "\u001b[31m✖\u001b[39m \u001b[34mlubridate\u001b[39m::\u001b[32myday()\u001b[39m    masks \u001b[34mdata.table\u001b[39m::yday()\n",
      "\u001b[31m✖\u001b[39m \u001b[34mlubridate\u001b[39m::\u001b[32myear()\u001b[39m    masks \u001b[34mdata.table\u001b[39m::year()\n",
      "\u001b[36mℹ\u001b[39m Use the conflicted package (\u001b[3m\u001b[34m<http://conflicted.r-lib.org/>\u001b[39m\u001b[23m) to force all conflicts to become errors\n",
      "Loading required package: phyloseq\n",
      "\n",
      "Loading required package: genefilter\n",
      "\n",
      "\n",
      "Attaching package: ‘genefilter’\n",
      "\n",
      "\n",
      "The following object is masked from ‘package:readr’:\n",
      "\n",
      "    spec\n",
      "\n",
      "\n",
      "Loading required package: vegan\n",
      "\n",
      "Loading required package: permute\n",
      "\n",
      "Loading required package: lattice\n",
      "\n",
      "This is vegan 2.6-6.1\n",
      "\n",
      "Loading required package: RColorBrewer\n",
      "\n",
      "Loading required package: metacoder\n",
      "\n",
      "This is metacoder version 0.3.8 (stable)\n",
      "\n",
      "\n",
      "Attaching package: ‘metacoder’\n",
      "\n",
      "\n",
      "The following object is masked from ‘package:phyloseq’:\n",
      "\n",
      "    filter_taxa\n",
      "\n",
      "\n",
      "The following object is masked from ‘package:ggplot2’:\n",
      "\n",
      "    map_data\n",
      "\n",
      "\n"
     ]
    }
   ],
   "source": [
    "require(data.table)\n",
    "require(dplyr)\n",
    "require(tidyverse)\n",
    "require(phyloseq)\n",
    "require(genefilter)\n",
    "require(ggplot2)\n",
    "require(vegan)\n",
    "require(RColorBrewer)\n",
    "require(metacoder)\n",
    "options(repr.plot.width=20, repr.plot.height=15)"
   ]
  },
  {
   "cell_type": "code",
   "execution_count": 2,
   "id": "8c1bbd2e-1d2b-4277-934e-8b88a066201f",
   "metadata": {},
   "outputs": [],
   "source": [
    "ps<-readRDS(file = \"/work/pi_sarah_gignouxwolfsohn_uml_edu/caroline/RDS/ps.rds\")\n",
    "#removing any taxa that don't show up in any samples to speed up the process\n",
    "ps <- prune_taxa(taxa_sums(ps) > 0, ps)"
   ]
  },
  {
   "cell_type": "code",
   "execution_count": 3,
   "id": "cdfa4f69-90e5-44ea-adfa-c513fc5da5b8",
   "metadata": {},
   "outputs": [],
   "source": [
    "#getting rid of samples in phyloseq with very low-abundance or rarely occurring taxa\n",
    "    # Remove taxa not seen in at least 3 samples AND total abundance less than 6\n",
    "    ps <- phyloseq::filter_taxa(ps, function(x) sum(x > 0) > 2 & sum(x) > 5, TRUE)"
   ]
  },
  {
   "cell_type": "code",
   "execution_count": 4,
   "id": "67f6ac8f-5284-4888-8f7e-f8ed0ab66fec",
   "metadata": {},
   "outputs": [
    {
     "data": {
      "text/html": [
       "<table class=\"dataframe\">\n",
       "<caption>A sample_data: 6 × 95314</caption>\n",
       "<thead>\n",
       "\t<tr><th></th><th scope=col>Health_Status</th><th scope=col>colony</th><th scope=col>Date_16S</th><th scope=col>double_band</th><th scope=col>date_sampled</th><th scope=col>transect</th><th scope=col>species</th><th scope=col>MonthYear</th><th scope=col>TACGGAGGGTGCGAGCGTTAATCGGAATTACTGGGCGTAAAGCGCATGCAGGTGGTTTGTTAAGTCAGATGTGAAAGCCCGGGGCTCAACCTCGGAATAGCATTTGAAACTGGCAGACTAGAGTACTGTAGAGGGGGGTAGAATTTCAGGTGTAGCGGTGAAATGCGTAGAGATCTGAAGGAATACCGGTGGCGAAGGCGGCCCCCTGGACAGATACTGACACTCAGATGCGAAAGCGTGGGGAGCAAACAGG</th><th scope=col>ATACGGAGGGGGTTAGCGTTGTTCGGAATTACTGGGCGTAAAGCGCGTGTAGGCGGAACGATCAGTCGGAGGTGAAATCCCGGGGCTTAACCCCGGAACTGCCTTCGATACTATCGTTCTAGAGATCGGAAGAGGTGAGTGGAATTCCCAGTGTAGAGGTGGAATTCGTAGATATTGGGAAGAACACCAGAGGCGAAGGCGACTCACTGGTCCGATACTGACGCTCAGACGCGAAAGTGTGGGGAGCAAACAGGA</th><th scope=col>⋯</th><th scope=col>TCCCTGTCTCTTATACACATCTCCGAGCCCACGAGACAACAGGACATCTGGTGTGCCGTGGTGTGTTTGGAGGGGGGGGGGGGGGGGGGGGGGGGGGGGGGGGGGGGGGGGGGGGGGGGGGGGGGGGGGGGGGGGGGGGGGGGGGGCCCCCCCCCCCCCCCCCCCCCCCCCCCCCCCCCCCCCCCCCCCCCCCCCCCCCCCCCCCCCCCCCCCCCCCCCCCCCCCCCCCCCCCCCCCCCCCCCCCCCCCCCCCCCCCCCCCCCCCCCCCCCCCCCCCCTTTTTTAATGATACGGCGACCACCGAGATCTACACAATTCCGGTCGTCGGCAGCGTCAGATGTGTATAAGAGACAGGT</th><th scope=col>TCCCTGTCTCTTATACACATCTCCGAGCCCACGAGACAACAGGACATCTGGTGTGCCGTGGTGTGTTTGGAGGGGGGGGGGGGGGGGGGGGGGGGGGGGGGGGGGGGGGGGGGGGGGGGGGGGGGGGGGGGGGGGGGGGGGGGGGGCCCCCCCCCCCCCCCCCCCCCCCCCCCCCCCCCCCCCCCCCCCCCCCCCCCCCCCCCCCCCCCCCCCCCCCCCCCCCCCCCCCCCCCCCCCCCCCCCCCCCCCCCCCCCCCCCCCCCCCCCCCCCCCCCCCCCTTTTTAATGATACGGCGACCACCGAGATCTACACAATTCCGGTCGTCGGCAGCGTCAGATGTGTATAAGAGACAGGT</th><th scope=col>TCCCTGTCTCTTATACACATCTCCGAGCCCACGAGACGCATGTCTATCTGGTGTGGCGGGGTTTGTTTGGGGGGGGGGGGGGGGGGGGGGGGGGGGGGGGGGGGGGGGGGGGGGGGGGGGGGGGGGGGGGGGGGGGGGGGGGGGGGGGGGGGGGGGGGGGGGGGGGGGGGGGGGGGGGGGGGGGGGGGGGGGGGGGGGGGGGGGGGGGGGGGGGGGGGGGGGGGGGGGGGGGGGGGGGGGGGGGGGGGGGGGGGGGGGGGGGGGGGGGGGGGGGGGGG</th><th scope=col>TCCCTGTCTCTTATACACATCTCCGAGCCCACGAGACAACAGGACATCTGGTGTGGCGGGGTGTGGTTGGGGGGGGGGGGGGGGGGGGGGGGGGGGGGGGGGGGGGGGGGGGGGGGGGGGGGGGGGGGGGGGGGGGGGGGGGGGGGGGGGGGGGGGGGGGGGGGGGGGGGGGGGGGGGGGGGGGGGGGGGGGGGGGGGGGGGGGGGGGGGGGGGGGGGGGGGGGGGGGGGGGGGGGGGGGGGGGGGGGGGGGGGGGGGGGGGGGGGGGGGGGGGGGGG</th><th scope=col>input</th><th scope=col>filtered</th><th scope=col>denoisedF</th><th scope=col>denoisedR</th><th scope=col>merged</th><th scope=col>nonchim</th></tr>\n",
       "\t<tr><th></th><th scope=col>&lt;chr&gt;</th><th scope=col>&lt;chr&gt;</th><th scope=col>&lt;chr&gt;</th><th scope=col>&lt;chr&gt;</th><th scope=col>&lt;fct&gt;</th><th scope=col>&lt;chr&gt;</th><th scope=col>&lt;chr&gt;</th><th scope=col>&lt;fct&gt;</th><th scope=col>&lt;int&gt;</th><th scope=col>&lt;int&gt;</th><th scope=col>⋯</th><th scope=col>&lt;int&gt;</th><th scope=col>&lt;int&gt;</th><th scope=col>&lt;int&gt;</th><th scope=col>&lt;int&gt;</th><th scope=col>&lt;int&gt;</th><th scope=col>&lt;int&gt;</th><th scope=col>&lt;int&gt;</th><th scope=col>&lt;int&gt;</th><th scope=col>&lt;int&gt;</th><th scope=col>&lt;int&gt;</th></tr>\n",
       "</thead>\n",
       "<tbody>\n",
       "\t<tr><th scope=row>012024_BEL_CBC_T1_557_SSID</th><td>Healthy</td><td>1_3 </td><td>3_4_2025</td><td>y</td><td>012024</td><td>T1</td><td>SSID</td><td>Jan 2024</td><td>580</td><td>  0</td><td>⋯</td><td>0</td><td>0</td><td>0</td><td>0</td><td>189570</td><td>176082</td><td>171436</td><td>173162</td><td>142705</td><td>129120</td></tr>\n",
       "\t<tr><th scope=row>012024_BEL_CBC_T1_563_PSTR</th><td>Healthy</td><td>1_12</td><td>3_6_2025</td><td> </td><td>012024</td><td>T1</td><td>PSTR</td><td>Jan 2024</td><td>  0</td><td>  0</td><td>⋯</td><td>0</td><td>0</td><td>0</td><td>0</td><td> 98511</td><td> 89332</td><td> 88739</td><td> 88868</td><td> 87695</td><td> 44586</td></tr>\n",
       "\t<tr><th scope=row>012024_BEL_CBC_T2_601_OFAV</th><td>Healthy</td><td>2_79</td><td>3_4_2025</td><td> </td><td>012024</td><td>T2</td><td>OFAV</td><td>Jan 2024</td><td>279</td><td>  6</td><td>⋯</td><td>0</td><td>0</td><td>0</td><td>0</td><td>280308</td><td>263766</td><td>262084</td><td>262620</td><td>250901</td><td>173382</td></tr>\n",
       "\t<tr><th scope=row>012024_BEL_CBC_T3_631_MCAV</th><td>Healthy</td><td>3_21</td><td>3_4_2025</td><td> </td><td>012024</td><td>T3</td><td>MCAV</td><td>Jan 2024</td><td>328</td><td>  0</td><td>⋯</td><td>0</td><td>0</td><td>0</td><td>0</td><td>536790</td><td>497421</td><td>495886</td><td>496193</td><td>481028</td><td>404924</td></tr>\n",
       "\t<tr><th scope=row>012024_BEL_CBC_T3_633_MCAV</th><td>Healthy</td><td>3_2 </td><td>3_6_2025</td><td> </td><td>012024</td><td>T3</td><td>MCAV</td><td>Jan 2024</td><td>  0</td><td>  0</td><td>⋯</td><td>0</td><td>0</td><td>0</td><td>0</td><td>163169</td><td>154836</td><td>154032</td><td>153929</td><td>151918</td><td> 62656</td></tr>\n",
       "\t<tr><th scope=row>012024_BEL_CBC_T3_637_SSID</th><td>Healthy</td><td>3_5 </td><td>3_6_2025</td><td> </td><td>012024</td><td>T3</td><td>SSID</td><td>Jan 2024</td><td>  0</td><td>128</td><td>⋯</td><td>0</td><td>0</td><td>0</td><td>0</td><td> 22749</td><td> 21151</td><td> 20332</td><td> 20453</td><td> 19464</td><td> 17819</td></tr>\n",
       "</tbody>\n",
       "</table>\n"
      ],
      "text/latex": [
       "A sample\\_data: 6 × 95314\n",
       "\\begin{tabular}{r|lllllllllllllllllllll}\n",
       "  & Health\\_Status & colony & Date\\_16S & double\\_band & date\\_sampled & transect & species & MonthYear & TACGGAGGGTGCGAGCGTTAATCGGAATTACTGGGCGTAAAGCGCATGCAGGTGGTTTGTTAAGTCAGATGTGAAAGCCCGGGGCTCAACCTCGGAATAGCATTTGAAACTGGCAGACTAGAGTACTGTAGAGGGGGGTAGAATTTCAGGTGTAGCGGTGAAATGCGTAGAGATCTGAAGGAATACCGGTGGCGAAGGCGGCCCCCTGGACAGATACTGACACTCAGATGCGAAAGCGTGGGGAGCAAACAGG & ATACGGAGGGGGTTAGCGTTGTTCGGAATTACTGGGCGTAAAGCGCGTGTAGGCGGAACGATCAGTCGGAGGTGAAATCCCGGGGCTTAACCCCGGAACTGCCTTCGATACTATCGTTCTAGAGATCGGAAGAGGTGAGTGGAATTCCCAGTGTAGAGGTGGAATTCGTAGATATTGGGAAGAACACCAGAGGCGAAGGCGACTCACTGGTCCGATACTGACGCTCAGACGCGAAAGTGTGGGGAGCAAACAGGA & ⋯ & TCCCTGTCTCTTATACACATCTCCGAGCCCACGAGACAACAGGACATCTGGTGTGCCGTGGTGTGTTTGGAGGGGGGGGGGGGGGGGGGGGGGGGGGGGGGGGGGGGGGGGGGGGGGGGGGGGGGGGGGGGGGGGGGGGGGGGGGGCCCCCCCCCCCCCCCCCCCCCCCCCCCCCCCCCCCCCCCCCCCCCCCCCCCCCCCCCCCCCCCCCCCCCCCCCCCCCCCCCCCCCCCCCCCCCCCCCCCCCCCCCCCCCCCCCCCCCCCCCCCCCCCCCCCCTTTTTTAATGATACGGCGACCACCGAGATCTACACAATTCCGGTCGTCGGCAGCGTCAGATGTGTATAAGAGACAGGT & TCCCTGTCTCTTATACACATCTCCGAGCCCACGAGACAACAGGACATCTGGTGTGCCGTGGTGTGTTTGGAGGGGGGGGGGGGGGGGGGGGGGGGGGGGGGGGGGGGGGGGGGGGGGGGGGGGGGGGGGGGGGGGGGGGGGGGGGGCCCCCCCCCCCCCCCCCCCCCCCCCCCCCCCCCCCCCCCCCCCCCCCCCCCCCCCCCCCCCCCCCCCCCCCCCCCCCCCCCCCCCCCCCCCCCCCCCCCCCCCCCCCCCCCCCCCCCCCCCCCCCCCCCCCCCTTTTTAATGATACGGCGACCACCGAGATCTACACAATTCCGGTCGTCGGCAGCGTCAGATGTGTATAAGAGACAGGT & TCCCTGTCTCTTATACACATCTCCGAGCCCACGAGACGCATGTCTATCTGGTGTGGCGGGGTTTGTTTGGGGGGGGGGGGGGGGGGGGGGGGGGGGGGGGGGGGGGGGGGGGGGGGGGGGGGGGGGGGGGGGGGGGGGGGGGGGGGGGGGGGGGGGGGGGGGGGGGGGGGGGGGGGGGGGGGGGGGGGGGGGGGGGGGGGGGGGGGGGGGGGGGGGGGGGGGGGGGGGGGGGGGGGGGGGGGGGGGGGGGGGGGGGGGGGGGGGGGGGGGGGGGGGGG & TCCCTGTCTCTTATACACATCTCCGAGCCCACGAGACAACAGGACATCTGGTGTGGCGGGGTGTGGTTGGGGGGGGGGGGGGGGGGGGGGGGGGGGGGGGGGGGGGGGGGGGGGGGGGGGGGGGGGGGGGGGGGGGGGGGGGGGGGGGGGGGGGGGGGGGGGGGGGGGGGGGGGGGGGGGGGGGGGGGGGGGGGGGGGGGGGGGGGGGGGGGGGGGGGGGGGGGGGGGGGGGGGGGGGGGGGGGGGGGGGGGGGGGGGGGGGGGGGGGGGGGGGGGGG & input & filtered & denoisedF & denoisedR & merged & nonchim\\\\\n",
       "  & <chr> & <chr> & <chr> & <chr> & <fct> & <chr> & <chr> & <fct> & <int> & <int> & ⋯ & <int> & <int> & <int> & <int> & <int> & <int> & <int> & <int> & <int> & <int>\\\\\n",
       "\\hline\n",
       "\t012024\\_BEL\\_CBC\\_T1\\_557\\_SSID & Healthy & 1\\_3  & 3\\_4\\_2025 & y & 012024 & T1 & SSID & Jan 2024 & 580 &   0 & ⋯ & 0 & 0 & 0 & 0 & 189570 & 176082 & 171436 & 173162 & 142705 & 129120\\\\\n",
       "\t012024\\_BEL\\_CBC\\_T1\\_563\\_PSTR & Healthy & 1\\_12 & 3\\_6\\_2025 &   & 012024 & T1 & PSTR & Jan 2024 &   0 &   0 & ⋯ & 0 & 0 & 0 & 0 &  98511 &  89332 &  88739 &  88868 &  87695 &  44586\\\\\n",
       "\t012024\\_BEL\\_CBC\\_T2\\_601\\_OFAV & Healthy & 2\\_79 & 3\\_4\\_2025 &   & 012024 & T2 & OFAV & Jan 2024 & 279 &   6 & ⋯ & 0 & 0 & 0 & 0 & 280308 & 263766 & 262084 & 262620 & 250901 & 173382\\\\\n",
       "\t012024\\_BEL\\_CBC\\_T3\\_631\\_MCAV & Healthy & 3\\_21 & 3\\_4\\_2025 &   & 012024 & T3 & MCAV & Jan 2024 & 328 &   0 & ⋯ & 0 & 0 & 0 & 0 & 536790 & 497421 & 495886 & 496193 & 481028 & 404924\\\\\n",
       "\t012024\\_BEL\\_CBC\\_T3\\_633\\_MCAV & Healthy & 3\\_2  & 3\\_6\\_2025 &   & 012024 & T3 & MCAV & Jan 2024 &   0 &   0 & ⋯ & 0 & 0 & 0 & 0 & 163169 & 154836 & 154032 & 153929 & 151918 &  62656\\\\\n",
       "\t012024\\_BEL\\_CBC\\_T3\\_637\\_SSID & Healthy & 3\\_5  & 3\\_6\\_2025 &   & 012024 & T3 & SSID & Jan 2024 &   0 & 128 & ⋯ & 0 & 0 & 0 & 0 &  22749 &  21151 &  20332 &  20453 &  19464 &  17819\\\\\n",
       "\\end{tabular}\n"
      ],
      "text/markdown": [
       "\n",
       "A sample_data: 6 × 95314\n",
       "\n",
       "| <!--/--> | Health_Status &lt;chr&gt; | colony &lt;chr&gt; | Date_16S &lt;chr&gt; | double_band &lt;chr&gt; | date_sampled &lt;fct&gt; | transect &lt;chr&gt; | species &lt;chr&gt; | MonthYear &lt;fct&gt; | TACGGAGGGTGCGAGCGTTAATCGGAATTACTGGGCGTAAAGCGCATGCAGGTGGTTTGTTAAGTCAGATGTGAAAGCCCGGGGCTCAACCTCGGAATAGCATTTGAAACTGGCAGACTAGAGTACTGTAGAGGGGGGTAGAATTTCAGGTGTAGCGGTGAAATGCGTAGAGATCTGAAGGAATACCGGTGGCGAAGGCGGCCCCCTGGACAGATACTGACACTCAGATGCGAAAGCGTGGGGAGCAAACAGG &lt;int&gt; | ATACGGAGGGGGTTAGCGTTGTTCGGAATTACTGGGCGTAAAGCGCGTGTAGGCGGAACGATCAGTCGGAGGTGAAATCCCGGGGCTTAACCCCGGAACTGCCTTCGATACTATCGTTCTAGAGATCGGAAGAGGTGAGTGGAATTCCCAGTGTAGAGGTGGAATTCGTAGATATTGGGAAGAACACCAGAGGCGAAGGCGACTCACTGGTCCGATACTGACGCTCAGACGCGAAAGTGTGGGGAGCAAACAGGA &lt;int&gt; | ⋯ ⋯ | TCCCTGTCTCTTATACACATCTCCGAGCCCACGAGACAACAGGACATCTGGTGTGCCGTGGTGTGTTTGGAGGGGGGGGGGGGGGGGGGGGGGGGGGGGGGGGGGGGGGGGGGGGGGGGGGGGGGGGGGGGGGGGGGGGGGGGGGGCCCCCCCCCCCCCCCCCCCCCCCCCCCCCCCCCCCCCCCCCCCCCCCCCCCCCCCCCCCCCCCCCCCCCCCCCCCCCCCCCCCCCCCCCCCCCCCCCCCCCCCCCCCCCCCCCCCCCCCCCCCCCCCCCCCCTTTTTTAATGATACGGCGACCACCGAGATCTACACAATTCCGGTCGTCGGCAGCGTCAGATGTGTATAAGAGACAGGT &lt;int&gt; | TCCCTGTCTCTTATACACATCTCCGAGCCCACGAGACAACAGGACATCTGGTGTGCCGTGGTGTGTTTGGAGGGGGGGGGGGGGGGGGGGGGGGGGGGGGGGGGGGGGGGGGGGGGGGGGGGGGGGGGGGGGGGGGGGGGGGGGGGCCCCCCCCCCCCCCCCCCCCCCCCCCCCCCCCCCCCCCCCCCCCCCCCCCCCCCCCCCCCCCCCCCCCCCCCCCCCCCCCCCCCCCCCCCCCCCCCCCCCCCCCCCCCCCCCCCCCCCCCCCCCCCCCCCCCCTTTTTAATGATACGGCGACCACCGAGATCTACACAATTCCGGTCGTCGGCAGCGTCAGATGTGTATAAGAGACAGGT &lt;int&gt; | TCCCTGTCTCTTATACACATCTCCGAGCCCACGAGACGCATGTCTATCTGGTGTGGCGGGGTTTGTTTGGGGGGGGGGGGGGGGGGGGGGGGGGGGGGGGGGGGGGGGGGGGGGGGGGGGGGGGGGGGGGGGGGGGGGGGGGGGGGGGGGGGGGGGGGGGGGGGGGGGGGGGGGGGGGGGGGGGGGGGGGGGGGGGGGGGGGGGGGGGGGGGGGGGGGGGGGGGGGGGGGGGGGGGGGGGGGGGGGGGGGGGGGGGGGGGGGGGGGGGGGGGGGGGGG &lt;int&gt; | TCCCTGTCTCTTATACACATCTCCGAGCCCACGAGACAACAGGACATCTGGTGTGGCGGGGTGTGGTTGGGGGGGGGGGGGGGGGGGGGGGGGGGGGGGGGGGGGGGGGGGGGGGGGGGGGGGGGGGGGGGGGGGGGGGGGGGGGGGGGGGGGGGGGGGGGGGGGGGGGGGGGGGGGGGGGGGGGGGGGGGGGGGGGGGGGGGGGGGGGGGGGGGGGGGGGGGGGGGGGGGGGGGGGGGGGGGGGGGGGGGGGGGGGGGGGGGGGGGGGGGGGGGGGG &lt;int&gt; | input &lt;int&gt; | filtered &lt;int&gt; | denoisedF &lt;int&gt; | denoisedR &lt;int&gt; | merged &lt;int&gt; | nonchim &lt;int&gt; |\n",
       "|---|---|---|---|---|---|---|---|---|---|---|---|---|---|---|---|---|---|---|---|---|---|\n",
       "| 012024_BEL_CBC_T1_557_SSID | Healthy | 1_3  | 3_4_2025 | y | 012024 | T1 | SSID | Jan 2024 | 580 |   0 | ⋯ | 0 | 0 | 0 | 0 | 189570 | 176082 | 171436 | 173162 | 142705 | 129120 |\n",
       "| 012024_BEL_CBC_T1_563_PSTR | Healthy | 1_12 | 3_6_2025 | <!----> | 012024 | T1 | PSTR | Jan 2024 |   0 |   0 | ⋯ | 0 | 0 | 0 | 0 |  98511 |  89332 |  88739 |  88868 |  87695 |  44586 |\n",
       "| 012024_BEL_CBC_T2_601_OFAV | Healthy | 2_79 | 3_4_2025 | <!----> | 012024 | T2 | OFAV | Jan 2024 | 279 |   6 | ⋯ | 0 | 0 | 0 | 0 | 280308 | 263766 | 262084 | 262620 | 250901 | 173382 |\n",
       "| 012024_BEL_CBC_T3_631_MCAV | Healthy | 3_21 | 3_4_2025 | <!----> | 012024 | T3 | MCAV | Jan 2024 | 328 |   0 | ⋯ | 0 | 0 | 0 | 0 | 536790 | 497421 | 495886 | 496193 | 481028 | 404924 |\n",
       "| 012024_BEL_CBC_T3_633_MCAV | Healthy | 3_2  | 3_6_2025 | <!----> | 012024 | T3 | MCAV | Jan 2024 |   0 |   0 | ⋯ | 0 | 0 | 0 | 0 | 163169 | 154836 | 154032 | 153929 | 151918 |  62656 |\n",
       "| 012024_BEL_CBC_T3_637_SSID | Healthy | 3_5  | 3_6_2025 | <!----> | 012024 | T3 | SSID | Jan 2024 |   0 | 128 | ⋯ | 0 | 0 | 0 | 0 |  22749 |  21151 |  20332 |  20453 |  19464 |  17819 |\n",
       "\n"
      ],
      "text/plain": [
       "                           Health_Status colony Date_16S double_band\n",
       "012024_BEL_CBC_T1_557_SSID Healthy       1_3    3_4_2025 y          \n",
       "012024_BEL_CBC_T1_563_PSTR Healthy       1_12   3_6_2025            \n",
       "012024_BEL_CBC_T2_601_OFAV Healthy       2_79   3_4_2025            \n",
       "012024_BEL_CBC_T3_631_MCAV Healthy       3_21   3_4_2025            \n",
       "012024_BEL_CBC_T3_633_MCAV Healthy       3_2    3_6_2025            \n",
       "012024_BEL_CBC_T3_637_SSID Healthy       3_5    3_6_2025            \n",
       "                           date_sampled transect species MonthYear\n",
       "012024_BEL_CBC_T1_557_SSID 012024       T1       SSID    Jan 2024 \n",
       "012024_BEL_CBC_T1_563_PSTR 012024       T1       PSTR    Jan 2024 \n",
       "012024_BEL_CBC_T2_601_OFAV 012024       T2       OFAV    Jan 2024 \n",
       "012024_BEL_CBC_T3_631_MCAV 012024       T3       MCAV    Jan 2024 \n",
       "012024_BEL_CBC_T3_633_MCAV 012024       T3       MCAV    Jan 2024 \n",
       "012024_BEL_CBC_T3_637_SSID 012024       T3       SSID    Jan 2024 \n",
       "                           TACGGAGGGTGCGAGCGTTAATCGGAATTACTGGGCGTAAAGCGCATGCAGGTGGTTTGTTAAGTCAGATGTGAAAGCCCGGGGCTCAACCTCGGAATAGCATTTGAAACTGGCAGACTAGAGTACTGTAGAGGGGGGTAGAATTTCAGGTGTAGCGGTGAAATGCGTAGAGATCTGAAGGAATACCGGTGGCGAAGGCGGCCCCCTGGACAGATACTGACACTCAGATGCGAAAGCGTGGGGAGCAAACAGG\n",
       "012024_BEL_CBC_T1_557_SSID 580                                                                                                                                                                                                                                                          \n",
       "012024_BEL_CBC_T1_563_PSTR   0                                                                                                                                                                                                                                                          \n",
       "012024_BEL_CBC_T2_601_OFAV 279                                                                                                                                                                                                                                                          \n",
       "012024_BEL_CBC_T3_631_MCAV 328                                                                                                                                                                                                                                                          \n",
       "012024_BEL_CBC_T3_633_MCAV   0                                                                                                                                                                                                                                                          \n",
       "012024_BEL_CBC_T3_637_SSID   0                                                                                                                                                                                                                                                          \n",
       "                           ATACGGAGGGGGTTAGCGTTGTTCGGAATTACTGGGCGTAAAGCGCGTGTAGGCGGAACGATCAGTCGGAGGTGAAATCCCGGGGCTTAACCCCGGAACTGCCTTCGATACTATCGTTCTAGAGATCGGAAGAGGTGAGTGGAATTCCCAGTGTAGAGGTGGAATTCGTAGATATTGGGAAGAACACCAGAGGCGAAGGCGACTCACTGGTCCGATACTGACGCTCAGACGCGAAAGTGTGGGGAGCAAACAGGA\n",
       "012024_BEL_CBC_T1_557_SSID   0                                                                                                                                                                                                                                                            \n",
       "012024_BEL_CBC_T1_563_PSTR   0                                                                                                                                                                                                                                                            \n",
       "012024_BEL_CBC_T2_601_OFAV   6                                                                                                                                                                                                                                                            \n",
       "012024_BEL_CBC_T3_631_MCAV   0                                                                                                                                                                                                                                                            \n",
       "012024_BEL_CBC_T3_633_MCAV   0                                                                                                                                                                                                                                                            \n",
       "012024_BEL_CBC_T3_637_SSID 128                                                                                                                                                                                                                                                            \n",
       "                           ⋯\n",
       "012024_BEL_CBC_T1_557_SSID ⋯\n",
       "012024_BEL_CBC_T1_563_PSTR ⋯\n",
       "012024_BEL_CBC_T2_601_OFAV ⋯\n",
       "012024_BEL_CBC_T3_631_MCAV ⋯\n",
       "012024_BEL_CBC_T3_633_MCAV ⋯\n",
       "012024_BEL_CBC_T3_637_SSID ⋯\n",
       "                           TCCCTGTCTCTTATACACATCTCCGAGCCCACGAGACAACAGGACATCTGGTGTGCCGTGGTGTGTTTGGAGGGGGGGGGGGGGGGGGGGGGGGGGGGGGGGGGGGGGGGGGGGGGGGGGGGGGGGGGGGGGGGGGGGGGGGGGGGCCCCCCCCCCCCCCCCCCCCCCCCCCCCCCCCCCCCCCCCCCCCCCCCCCCCCCCCCCCCCCCCCCCCCCCCCCCCCCCCCCCCCCCCCCCCCCCCCCCCCCCCCCCCCCCCCCCCCCCCCCCCCCCCCCCCTTTTTTAATGATACGGCGACCACCGAGATCTACACAATTCCGGTCGTCGGCAGCGTCAGATGTGTATAAGAGACAGGT\n",
       "012024_BEL_CBC_T1_557_SSID 0                                                                                                                                                                                                                                                                                                                                                                   \n",
       "012024_BEL_CBC_T1_563_PSTR 0                                                                                                                                                                                                                                                                                                                                                                   \n",
       "012024_BEL_CBC_T2_601_OFAV 0                                                                                                                                                                                                                                                                                                                                                                   \n",
       "012024_BEL_CBC_T3_631_MCAV 0                                                                                                                                                                                                                                                                                                                                                                   \n",
       "012024_BEL_CBC_T3_633_MCAV 0                                                                                                                                                                                                                                                                                                                                                                   \n",
       "012024_BEL_CBC_T3_637_SSID 0                                                                                                                                                                                                                                                                                                                                                                   \n",
       "                           TCCCTGTCTCTTATACACATCTCCGAGCCCACGAGACAACAGGACATCTGGTGTGCCGTGGTGTGTTTGGAGGGGGGGGGGGGGGGGGGGGGGGGGGGGGGGGGGGGGGGGGGGGGGGGGGGGGGGGGGGGGGGGGGGGGGGGGGGCCCCCCCCCCCCCCCCCCCCCCCCCCCCCCCCCCCCCCCCCCCCCCCCCCCCCCCCCCCCCCCCCCCCCCCCCCCCCCCCCCCCCCCCCCCCCCCCCCCCCCCCCCCCCCCCCCCCCCCCCCCCCCCCCCCCCTTTTTAATGATACGGCGACCACCGAGATCTACACAATTCCGGTCGTCGGCAGCGTCAGATGTGTATAAGAGACAGGT\n",
       "012024_BEL_CBC_T1_557_SSID 0                                                                                                                                                                                                                                                                                                                                                                   \n",
       "012024_BEL_CBC_T1_563_PSTR 0                                                                                                                                                                                                                                                                                                                                                                   \n",
       "012024_BEL_CBC_T2_601_OFAV 0                                                                                                                                                                                                                                                                                                                                                                   \n",
       "012024_BEL_CBC_T3_631_MCAV 0                                                                                                                                                                                                                                                                                                                                                                   \n",
       "012024_BEL_CBC_T3_633_MCAV 0                                                                                                                                                                                                                                                                                                                                                                   \n",
       "012024_BEL_CBC_T3_637_SSID 0                                                                                                                                                                                                                                                                                                                                                                   \n",
       "                           TCCCTGTCTCTTATACACATCTCCGAGCCCACGAGACGCATGTCTATCTGGTGTGGCGGGGTTTGTTTGGGGGGGGGGGGGGGGGGGGGGGGGGGGGGGGGGGGGGGGGGGGGGGGGGGGGGGGGGGGGGGGGGGGGGGGGGGGGGGGGGGGGGGGGGGGGGGGGGGGGGGGGGGGGGGGGGGGGGGGGGGGGGGGGGGGGGGGGGGGGGGGGGGGGGGGGGGGGGGGGGGGGGGGGGGGGGGGGGGGGGGGGGGGGGGGGGGGGGGGGGGGGGGGGG\n",
       "012024_BEL_CBC_T1_557_SSID 0                                                                                                                                                                                                                                                                                     \n",
       "012024_BEL_CBC_T1_563_PSTR 0                                                                                                                                                                                                                                                                                     \n",
       "012024_BEL_CBC_T2_601_OFAV 0                                                                                                                                                                                                                                                                                     \n",
       "012024_BEL_CBC_T3_631_MCAV 0                                                                                                                                                                                                                                                                                     \n",
       "012024_BEL_CBC_T3_633_MCAV 0                                                                                                                                                                                                                                                                                     \n",
       "012024_BEL_CBC_T3_637_SSID 0                                                                                                                                                                                                                                                                                     \n",
       "                           TCCCTGTCTCTTATACACATCTCCGAGCCCACGAGACAACAGGACATCTGGTGTGGCGGGGTGTGGTTGGGGGGGGGGGGGGGGGGGGGGGGGGGGGGGGGGGGGGGGGGGGGGGGGGGGGGGGGGGGGGGGGGGGGGGGGGGGGGGGGGGGGGGGGGGGGGGGGGGGGGGGGGGGGGGGGGGGGGGGGGGGGGGGGGGGGGGGGGGGGGGGGGGGGGGGGGGGGGGGGGGGGGGGGGGGGGGGGGGGGGGGGGGGGGGGGGGGGGGGGGGGGGGGGG\n",
       "012024_BEL_CBC_T1_557_SSID 0                                                                                                                                                                                                                                                                                     \n",
       "012024_BEL_CBC_T1_563_PSTR 0                                                                                                                                                                                                                                                                                     \n",
       "012024_BEL_CBC_T2_601_OFAV 0                                                                                                                                                                                                                                                                                     \n",
       "012024_BEL_CBC_T3_631_MCAV 0                                                                                                                                                                                                                                                                                     \n",
       "012024_BEL_CBC_T3_633_MCAV 0                                                                                                                                                                                                                                                                                     \n",
       "012024_BEL_CBC_T3_637_SSID 0                                                                                                                                                                                                                                                                                     \n",
       "                           input  filtered denoisedF denoisedR merged nonchim\n",
       "012024_BEL_CBC_T1_557_SSID 189570 176082   171436    173162    142705 129120 \n",
       "012024_BEL_CBC_T1_563_PSTR  98511  89332    88739     88868     87695  44586 \n",
       "012024_BEL_CBC_T2_601_OFAV 280308 263766   262084    262620    250901 173382 \n",
       "012024_BEL_CBC_T3_631_MCAV 536790 497421   495886    496193    481028 404924 \n",
       "012024_BEL_CBC_T3_633_MCAV 163169 154836   154032    153929    151918  62656 \n",
       "012024_BEL_CBC_T3_637_SSID  22749  21151    20332     20453     19464  17819 "
      ]
     },
     "metadata": {},
     "output_type": "display_data"
    }
   ],
   "source": [
    "head(sample_data(ps))"
   ]
  },
  {
   "cell_type": "markdown",
   "id": "47ea6663-101c-4a7f-860c-fbf4d323748c",
   "metadata": {},
   "source": [
    "DESeq doesnt like normalized"
   ]
  },
  {
   "cell_type": "code",
   "execution_count": 5,
   "id": "aabdfcee-a7fa-4581-8b53-ef2ca1bcf345",
   "metadata": {},
   "outputs": [],
   "source": [
    "#normalizing ps by converting rawcounts into relative abundances\n",
    "#so samples with more reads wont be over represented\n",
    "#using ps bc only to the count data (OTU table), while preserving the rest of the object\n",
    "ps_norm = transform_sample_counts(ps, function(x) 1E6 * x / sum(x))"
   ]
  },
  {
   "cell_type": "code",
   "execution_count": 29,
   "id": "00a9cd30-a2eb-4b09-81c9-cafd4efd5fb1",
   "metadata": {},
   "outputs": [
    {
     "data": {
      "text/plain": [
       "phyloseq-class experiment-level object\n",
       "otu_table()   OTU Table:         [ 11324 taxa and 57 samples ]\n",
       "sample_data() Sample Data:       [ 57 samples by 95314 sample variables ]\n",
       "tax_table()   Taxonomy Table:    [ 11324 taxa by 6 taxonomic ranks ]"
      ]
     },
     "metadata": {},
     "output_type": "display_data"
    }
   ],
   "source": [
    "#isolate just bacteria\n",
    "ps_bac=subset_taxa(ps, Kingdom==\"Bacteria\")\n",
    "ps_bac"
   ]
  },
  {
   "cell_type": "code",
   "execution_count": 30,
   "id": "7fb6f538-a9cc-4e01-a51e-38d9e234c5ad",
   "metadata": {},
   "outputs": [
    {
     "data": {
      "text/plain": [
       "phyloseq-class experiment-level object\n",
       "otu_table()   OTU Table:         [ 9044 taxa and 57 samples ]\n",
       "sample_data() Sample Data:       [ 57 samples by 95314 sample variables ]\n",
       "tax_table()   Taxonomy Table:    [ 9044 taxa by 6 taxonomic ranks ]"
      ]
     },
     "metadata": {},
     "output_type": "display_data"
    }
   ],
   "source": [
    "#remove chloroplast order\n",
    "ps_nochlo=subset_taxa(ps_bac, Order!=\"Chloroplast\")\n",
    "ps_nochlo"
   ]
  },
  {
   "cell_type": "code",
   "execution_count": 31,
   "id": "1ffe9558-ab78-4d27-b016-ace486a873c5",
   "metadata": {},
   "outputs": [],
   "source": [
    "ps_clean=subset_taxa(ps_nochlo, Family!=\"Mitochondria\")"
   ]
  },
  {
   "cell_type": "markdown",
   "id": "9ef6f2f6-bc70-4b78-bbdf-df89101c31c0",
   "metadata": {},
   "source": [
    "### ps objects to otu table and sample metadata"
   ]
  },
  {
   "cell_type": "code",
   "execution_count": 32,
   "id": "fb1f48a9-0f98-4f8b-b55c-d4ec52cc64a4",
   "metadata": {},
   "outputs": [],
   "source": [
    "# convert the sample_data() within a phyloseq object to a vegan compatible data object\n",
    "pssd2veg <- function(ps_clean) {\n",
    "  sd_nochlo <- sample_data(ps_clean)\n",
    "  return(as(sd_nochlo,\"data.frame\"))\n",
    "}\n",
    "\n",
    "#using phyloseq nmds plot no chloroplast\n",
    "sample_clean <- pssd2veg(ps_clean)"
   ]
  },
  {
   "cell_type": "code",
   "execution_count": 33,
   "id": "dfac02ad-fafc-4deb-b78f-75919561ab0b",
   "metadata": {},
   "outputs": [],
   "source": [
    "# convert the otu_table() within a phyloseq object to a vegan compatible data object\n",
    "psotu2veg <- function(ps_clean) {\n",
    "  otu_clean <- otu_table(ps_clean)\n",
    "  if (taxa_are_rows(otu_clean)) {\n",
    "    otu_clean <- t(otu_clean)\n",
    "  }\n",
    "  return(as(otu_clean, \"matrix\"))\n",
    "}\n",
    "\n",
    "# Extract normalized OTU matrix and sample data\n",
    "otu_clean <- psotu2veg(ps_clean)\n"
   ]
  },
  {
   "cell_type": "code",
   "execution_count": 34,
   "id": "0723e83f-8c04-40ed-a736-968e9adda49f",
   "metadata": {},
   "outputs": [],
   "source": [
    "theme_set(theme_bw())"
   ]
  },
  {
   "cell_type": "code",
   "execution_count": 35,
   "id": "44f6a621-c244-4d67-b1da-222b5221a882",
   "metadata": {},
   "outputs": [],
   "source": [
    "#choosing plot colors \n",
    "mycolors= colorRampPalette(brewer.pal(8, \"Set3\"))(4)"
   ]
  },
  {
   "cell_type": "markdown",
   "id": "8b840f7d-eb08-4fc9-861b-74c5a0af690e",
   "metadata": {},
   "source": [
    "### Subgrouping to get parent groups for DEseq2"
   ]
  },
  {
   "cell_type": "code",
   "execution_count": 36,
   "id": "2e69d7c9-bcdc-41d9-9357-9c437138fd19",
   "metadata": {},
   "outputs": [],
   "source": [
    "set.seed(12)"
   ]
  },
  {
   "cell_type": "code",
   "execution_count": 37,
   "id": "aeccc38e-2ff8-4677-9529-4cd86242398a",
   "metadata": {},
   "outputs": [],
   "source": [
    "#making plots small \n",
    "options(repr.plot.width = 15, repr.plot.height = 10)\n",
    "#dissimilarity\n",
    "dij <- vegdist(otu_clean) ## bray curtis dissimilarity\n",
    "clu <- hclust(dij, method = \"average\")\n",
    "# 2 clusters bc I know Date_16S is already driving into 2 clusters\n",
    "grp <- cutree(clu, 2)"
   ]
  },
  {
   "cell_type": "code",
   "execution_count": 38,
   "id": "118ba69d-8247-43c9-91a4-0688c1ad28e9",
   "metadata": {},
   "outputs": [
    {
     "data": {
      "text/html": [
       "<style>\n",
       ".list-inline {list-style: none; margin:0; padding: 0}\n",
       ".list-inline>li {display: inline-block}\n",
       ".list-inline>li:not(:last-child)::after {content: \"\\00b7\"; padding: 0 .5ex}\n",
       "</style>\n",
       "<ol class=list-inline><li>'012024_BEL_CBC_T1_557_SSID'</li><li>'012024_BEL_CBC_T2_601_OFAV'</li><li>'012024_BEL_CBC_T3_631_MCAV'</li><li>'022024_BEL_CBC_T1_776_PSTR'</li><li>'022024_BEL_CBC_T3_851_PSTR'</li><li>'042024_BEL_CBC_T2_1018_PAST'</li></ol>\n"
      ],
      "text/latex": [
       "\\begin{enumerate*}\n",
       "\\item '012024\\_BEL\\_CBC\\_T1\\_557\\_SSID'\n",
       "\\item '012024\\_BEL\\_CBC\\_T2\\_601\\_OFAV'\n",
       "\\item '012024\\_BEL\\_CBC\\_T3\\_631\\_MCAV'\n",
       "\\item '022024\\_BEL\\_CBC\\_T1\\_776\\_PSTR'\n",
       "\\item '022024\\_BEL\\_CBC\\_T3\\_851\\_PSTR'\n",
       "\\item '042024\\_BEL\\_CBC\\_T2\\_1018\\_PAST'\n",
       "\\end{enumerate*}\n"
      ],
      "text/markdown": [
       "1. '012024_BEL_CBC_T1_557_SSID'\n",
       "2. '012024_BEL_CBC_T2_601_OFAV'\n",
       "3. '012024_BEL_CBC_T3_631_MCAV'\n",
       "4. '022024_BEL_CBC_T1_776_PSTR'\n",
       "5. '022024_BEL_CBC_T3_851_PSTR'\n",
       "6. '042024_BEL_CBC_T2_1018_PAST'\n",
       "\n",
       "\n"
      ],
      "text/plain": [
       "[1] \"012024_BEL_CBC_T1_557_SSID\"  \"012024_BEL_CBC_T2_601_OFAV\" \n",
       "[3] \"012024_BEL_CBC_T3_631_MCAV\"  \"022024_BEL_CBC_T1_776_PSTR\" \n",
       "[5] \"022024_BEL_CBC_T3_851_PSTR\"  \"042024_BEL_CBC_T2_1018_PAST\""
      ]
     },
     "metadata": {},
     "output_type": "display_data"
    },
    {
     "data": {
      "text/html": [
       "'character'"
      ],
      "text/latex": [
       "'character'"
      ],
      "text/markdown": [
       "'character'"
      ],
      "text/plain": [
       "[1] \"character\""
      ]
     },
     "metadata": {},
     "output_type": "display_data"
    }
   ],
   "source": [
    "# Subset your original data\n",
    "# Get indices of samples in each parent cluster\n",
    "grp1_ids <- names(grp[grp == 1])\n",
    "grp2_ids <- names(grp[grp == 2])\n",
    "head(grp1_ids)\n",
    "class(grp1_ids)"
   ]
  },
  {
   "cell_type": "code",
   "execution_count": 39,
   "id": "219962a2-5be2-4068-832e-9c48b90c0f09",
   "metadata": {},
   "outputs": [],
   "source": [
    "#create DEseq2 df with sample names and parent plot asv diff\n",
    "# Create logical vectors indicating membership in each group\n",
    "# Assign cluster labels directly using cutree output\n",
    "sample_clean$Cluster <- paste0(\"Cluster\", grp[rownames(sample_clean)])\n",
    "\n",
    "# Convert to factor (important for DESeq2)\n",
    "sample_clean$Cluster <- factor(sample_clean$Cluster, levels = c(\"Cluster1\", \"Cluster2\"))\n",
    "\n",
    "#new column in "
   ]
  },
  {
   "cell_type": "code",
   "execution_count": 17,
   "id": "255f1b1d-710d-428f-935f-9a0a2f5d6cb0",
   "metadata": {},
   "outputs": [
    {
     "data": {
      "text/html": [
       "<table class=\"dataframe\">\n",
       "<caption>A data.frame: 6 × 95315</caption>\n",
       "<thead>\n",
       "\t<tr><th></th><th scope=col>Health_Status</th><th scope=col>colony</th><th scope=col>Date_16S</th><th scope=col>double_band</th><th scope=col>date_sampled</th><th scope=col>transect</th><th scope=col>species</th><th scope=col>MonthYear</th><th scope=col>TACGGAGGGTGCGAGCGTTAATCGGAATTACTGGGCGTAAAGCGCATGCAGGTGGTTTGTTAAGTCAGATGTGAAAGCCCGGGGCTCAACCTCGGAATAGCATTTGAAACTGGCAGACTAGAGTACTGTAGAGGGGGGTAGAATTTCAGGTGTAGCGGTGAAATGCGTAGAGATCTGAAGGAATACCGGTGGCGAAGGCGGCCCCCTGGACAGATACTGACACTCAGATGCGAAAGCGTGGGGAGCAAACAGG</th><th scope=col>ATACGGAGGGGGTTAGCGTTGTTCGGAATTACTGGGCGTAAAGCGCGTGTAGGCGGAACGATCAGTCGGAGGTGAAATCCCGGGGCTTAACCCCGGAACTGCCTTCGATACTATCGTTCTAGAGATCGGAAGAGGTGAGTGGAATTCCCAGTGTAGAGGTGGAATTCGTAGATATTGGGAAGAACACCAGAGGCGAAGGCGACTCACTGGTCCGATACTGACGCTCAGACGCGAAAGTGTGGGGAGCAAACAGGA</th><th scope=col>⋯</th><th scope=col>TCCCTGTCTCTTATACACATCTCCGAGCCCACGAGACAACAGGACATCTGGTGTGCCGTGGTGTGTTTGGAGGGGGGGGGGGGGGGGGGGGGGGGGGGGGGGGGGGGGGGGGGGGGGGGGGGGGGGGGGGGGGGGGGGGGGGGGGGCCCCCCCCCCCCCCCCCCCCCCCCCCCCCCCCCCCCCCCCCCCCCCCCCCCCCCCCCCCCCCCCCCCCCCCCCCCCCCCCCCCCCCCCCCCCCCCCCCCCCCCCCCCCCCCCCCCCCCCCCCCCCCCCCCCCCTTTTTAATGATACGGCGACCACCGAGATCTACACAATTCCGGTCGTCGGCAGCGTCAGATGTGTATAAGAGACAGGT</th><th scope=col>TCCCTGTCTCTTATACACATCTCCGAGCCCACGAGACGCATGTCTATCTGGTGTGGCGGGGTTTGTTTGGGGGGGGGGGGGGGGGGGGGGGGGGGGGGGGGGGGGGGGGGGGGGGGGGGGGGGGGGGGGGGGGGGGGGGGGGGGGGGGGGGGGGGGGGGGGGGGGGGGGGGGGGGGGGGGGGGGGGGGGGGGGGGGGGGGGGGGGGGGGGGGGGGGGGGGGGGGGGGGGGGGGGGGGGGGGGGGGGGGGGGGGGGGGGGGGGGGGGGGGGGGGGGGGG</th><th scope=col>TCCCTGTCTCTTATACACATCTCCGAGCCCACGAGACAACAGGACATCTGGTGTGGCGGGGTGTGGTTGGGGGGGGGGGGGGGGGGGGGGGGGGGGGGGGGGGGGGGGGGGGGGGGGGGGGGGGGGGGGGGGGGGGGGGGGGGGGGGGGGGGGGGGGGGGGGGGGGGGGGGGGGGGGGGGGGGGGGGGGGGGGGGGGGGGGGGGGGGGGGGGGGGGGGGGGGGGGGGGGGGGGGGGGGGGGGGGGGGGGGGGGGGGGGGGGGGGGGGGGGGGGGGGGG</th><th scope=col>input</th><th scope=col>filtered</th><th scope=col>denoisedF</th><th scope=col>denoisedR</th><th scope=col>merged</th><th scope=col>nonchim</th><th scope=col>Cluster</th></tr>\n",
       "\t<tr><th></th><th scope=col>&lt;chr&gt;</th><th scope=col>&lt;chr&gt;</th><th scope=col>&lt;chr&gt;</th><th scope=col>&lt;chr&gt;</th><th scope=col>&lt;fct&gt;</th><th scope=col>&lt;chr&gt;</th><th scope=col>&lt;chr&gt;</th><th scope=col>&lt;fct&gt;</th><th scope=col>&lt;int&gt;</th><th scope=col>&lt;int&gt;</th><th scope=col>⋯</th><th scope=col>&lt;int&gt;</th><th scope=col>&lt;int&gt;</th><th scope=col>&lt;int&gt;</th><th scope=col>&lt;int&gt;</th><th scope=col>&lt;int&gt;</th><th scope=col>&lt;int&gt;</th><th scope=col>&lt;int&gt;</th><th scope=col>&lt;int&gt;</th><th scope=col>&lt;int&gt;</th><th scope=col>&lt;fct&gt;</th></tr>\n",
       "</thead>\n",
       "<tbody>\n",
       "\t<tr><th scope=row>012024_BEL_CBC_T1_557_SSID</th><td>Healthy</td><td>1_3 </td><td>3_4_2025</td><td>y</td><td>012024</td><td>T1</td><td>SSID</td><td>Jan 2024</td><td>580</td><td>  0</td><td>⋯</td><td>0</td><td>0</td><td>0</td><td>189570</td><td>176082</td><td>171436</td><td>173162</td><td>142705</td><td>129120</td><td>Cluster1</td></tr>\n",
       "\t<tr><th scope=row>012024_BEL_CBC_T1_563_PSTR</th><td>Healthy</td><td>1_12</td><td>3_6_2025</td><td> </td><td>012024</td><td>T1</td><td>PSTR</td><td>Jan 2024</td><td>  0</td><td>  0</td><td>⋯</td><td>0</td><td>0</td><td>0</td><td> 98511</td><td> 89332</td><td> 88739</td><td> 88868</td><td> 87695</td><td> 44586</td><td>Cluster2</td></tr>\n",
       "\t<tr><th scope=row>012024_BEL_CBC_T2_601_OFAV</th><td>Healthy</td><td>2_79</td><td>3_4_2025</td><td> </td><td>012024</td><td>T2</td><td>OFAV</td><td>Jan 2024</td><td>279</td><td>  6</td><td>⋯</td><td>0</td><td>0</td><td>0</td><td>280308</td><td>263766</td><td>262084</td><td>262620</td><td>250901</td><td>173382</td><td>Cluster1</td></tr>\n",
       "\t<tr><th scope=row>012024_BEL_CBC_T3_631_MCAV</th><td>Healthy</td><td>3_21</td><td>3_4_2025</td><td> </td><td>012024</td><td>T3</td><td>MCAV</td><td>Jan 2024</td><td>328</td><td>  0</td><td>⋯</td><td>0</td><td>0</td><td>0</td><td>536790</td><td>497421</td><td>495886</td><td>496193</td><td>481028</td><td>404924</td><td>Cluster1</td></tr>\n",
       "\t<tr><th scope=row>012024_BEL_CBC_T3_633_MCAV</th><td>Healthy</td><td>3_2 </td><td>3_6_2025</td><td> </td><td>012024</td><td>T3</td><td>MCAV</td><td>Jan 2024</td><td>  0</td><td>  0</td><td>⋯</td><td>0</td><td>0</td><td>0</td><td>163169</td><td>154836</td><td>154032</td><td>153929</td><td>151918</td><td> 62656</td><td>Cluster2</td></tr>\n",
       "\t<tr><th scope=row>012024_BEL_CBC_T3_637_SSID</th><td>Healthy</td><td>3_5 </td><td>3_6_2025</td><td> </td><td>012024</td><td>T3</td><td>SSID</td><td>Jan 2024</td><td>  0</td><td>128</td><td>⋯</td><td>0</td><td>0</td><td>0</td><td> 22749</td><td> 21151</td><td> 20332</td><td> 20453</td><td> 19464</td><td> 17819</td><td>Cluster2</td></tr>\n",
       "</tbody>\n",
       "</table>\n"
      ],
      "text/latex": [
       "A data.frame: 6 × 95315\n",
       "\\begin{tabular}{r|lllllllllllllllllllll}\n",
       "  & Health\\_Status & colony & Date\\_16S & double\\_band & date\\_sampled & transect & species & MonthYear & TACGGAGGGTGCGAGCGTTAATCGGAATTACTGGGCGTAAAGCGCATGCAGGTGGTTTGTTAAGTCAGATGTGAAAGCCCGGGGCTCAACCTCGGAATAGCATTTGAAACTGGCAGACTAGAGTACTGTAGAGGGGGGTAGAATTTCAGGTGTAGCGGTGAAATGCGTAGAGATCTGAAGGAATACCGGTGGCGAAGGCGGCCCCCTGGACAGATACTGACACTCAGATGCGAAAGCGTGGGGAGCAAACAGG & ATACGGAGGGGGTTAGCGTTGTTCGGAATTACTGGGCGTAAAGCGCGTGTAGGCGGAACGATCAGTCGGAGGTGAAATCCCGGGGCTTAACCCCGGAACTGCCTTCGATACTATCGTTCTAGAGATCGGAAGAGGTGAGTGGAATTCCCAGTGTAGAGGTGGAATTCGTAGATATTGGGAAGAACACCAGAGGCGAAGGCGACTCACTGGTCCGATACTGACGCTCAGACGCGAAAGTGTGGGGAGCAAACAGGA & ⋯ & TCCCTGTCTCTTATACACATCTCCGAGCCCACGAGACAACAGGACATCTGGTGTGCCGTGGTGTGTTTGGAGGGGGGGGGGGGGGGGGGGGGGGGGGGGGGGGGGGGGGGGGGGGGGGGGGGGGGGGGGGGGGGGGGGGGGGGGGGCCCCCCCCCCCCCCCCCCCCCCCCCCCCCCCCCCCCCCCCCCCCCCCCCCCCCCCCCCCCCCCCCCCCCCCCCCCCCCCCCCCCCCCCCCCCCCCCCCCCCCCCCCCCCCCCCCCCCCCCCCCCCCCCCCCCCTTTTTAATGATACGGCGACCACCGAGATCTACACAATTCCGGTCGTCGGCAGCGTCAGATGTGTATAAGAGACAGGT & TCCCTGTCTCTTATACACATCTCCGAGCCCACGAGACGCATGTCTATCTGGTGTGGCGGGGTTTGTTTGGGGGGGGGGGGGGGGGGGGGGGGGGGGGGGGGGGGGGGGGGGGGGGGGGGGGGGGGGGGGGGGGGGGGGGGGGGGGGGGGGGGGGGGGGGGGGGGGGGGGGGGGGGGGGGGGGGGGGGGGGGGGGGGGGGGGGGGGGGGGGGGGGGGGGGGGGGGGGGGGGGGGGGGGGGGGGGGGGGGGGGGGGGGGGGGGGGGGGGGGGGGGGGGGG & TCCCTGTCTCTTATACACATCTCCGAGCCCACGAGACAACAGGACATCTGGTGTGGCGGGGTGTGGTTGGGGGGGGGGGGGGGGGGGGGGGGGGGGGGGGGGGGGGGGGGGGGGGGGGGGGGGGGGGGGGGGGGGGGGGGGGGGGGGGGGGGGGGGGGGGGGGGGGGGGGGGGGGGGGGGGGGGGGGGGGGGGGGGGGGGGGGGGGGGGGGGGGGGGGGGGGGGGGGGGGGGGGGGGGGGGGGGGGGGGGGGGGGGGGGGGGGGGGGGGGGGGGGGGG & input & filtered & denoisedF & denoisedR & merged & nonchim & Cluster\\\\\n",
       "  & <chr> & <chr> & <chr> & <chr> & <fct> & <chr> & <chr> & <fct> & <int> & <int> & ⋯ & <int> & <int> & <int> & <int> & <int> & <int> & <int> & <int> & <int> & <fct>\\\\\n",
       "\\hline\n",
       "\t012024\\_BEL\\_CBC\\_T1\\_557\\_SSID & Healthy & 1\\_3  & 3\\_4\\_2025 & y & 012024 & T1 & SSID & Jan 2024 & 580 &   0 & ⋯ & 0 & 0 & 0 & 189570 & 176082 & 171436 & 173162 & 142705 & 129120 & Cluster1\\\\\n",
       "\t012024\\_BEL\\_CBC\\_T1\\_563\\_PSTR & Healthy & 1\\_12 & 3\\_6\\_2025 &   & 012024 & T1 & PSTR & Jan 2024 &   0 &   0 & ⋯ & 0 & 0 & 0 &  98511 &  89332 &  88739 &  88868 &  87695 &  44586 & Cluster2\\\\\n",
       "\t012024\\_BEL\\_CBC\\_T2\\_601\\_OFAV & Healthy & 2\\_79 & 3\\_4\\_2025 &   & 012024 & T2 & OFAV & Jan 2024 & 279 &   6 & ⋯ & 0 & 0 & 0 & 280308 & 263766 & 262084 & 262620 & 250901 & 173382 & Cluster1\\\\\n",
       "\t012024\\_BEL\\_CBC\\_T3\\_631\\_MCAV & Healthy & 3\\_21 & 3\\_4\\_2025 &   & 012024 & T3 & MCAV & Jan 2024 & 328 &   0 & ⋯ & 0 & 0 & 0 & 536790 & 497421 & 495886 & 496193 & 481028 & 404924 & Cluster1\\\\\n",
       "\t012024\\_BEL\\_CBC\\_T3\\_633\\_MCAV & Healthy & 3\\_2  & 3\\_6\\_2025 &   & 012024 & T3 & MCAV & Jan 2024 &   0 &   0 & ⋯ & 0 & 0 & 0 & 163169 & 154836 & 154032 & 153929 & 151918 &  62656 & Cluster2\\\\\n",
       "\t012024\\_BEL\\_CBC\\_T3\\_637\\_SSID & Healthy & 3\\_5  & 3\\_6\\_2025 &   & 012024 & T3 & SSID & Jan 2024 &   0 & 128 & ⋯ & 0 & 0 & 0 &  22749 &  21151 &  20332 &  20453 &  19464 &  17819 & Cluster2\\\\\n",
       "\\end{tabular}\n"
      ],
      "text/markdown": [
       "\n",
       "A data.frame: 6 × 95315\n",
       "\n",
       "| <!--/--> | Health_Status &lt;chr&gt; | colony &lt;chr&gt; | Date_16S &lt;chr&gt; | double_band &lt;chr&gt; | date_sampled &lt;fct&gt; | transect &lt;chr&gt; | species &lt;chr&gt; | MonthYear &lt;fct&gt; | TACGGAGGGTGCGAGCGTTAATCGGAATTACTGGGCGTAAAGCGCATGCAGGTGGTTTGTTAAGTCAGATGTGAAAGCCCGGGGCTCAACCTCGGAATAGCATTTGAAACTGGCAGACTAGAGTACTGTAGAGGGGGGTAGAATTTCAGGTGTAGCGGTGAAATGCGTAGAGATCTGAAGGAATACCGGTGGCGAAGGCGGCCCCCTGGACAGATACTGACACTCAGATGCGAAAGCGTGGGGAGCAAACAGG &lt;int&gt; | ATACGGAGGGGGTTAGCGTTGTTCGGAATTACTGGGCGTAAAGCGCGTGTAGGCGGAACGATCAGTCGGAGGTGAAATCCCGGGGCTTAACCCCGGAACTGCCTTCGATACTATCGTTCTAGAGATCGGAAGAGGTGAGTGGAATTCCCAGTGTAGAGGTGGAATTCGTAGATATTGGGAAGAACACCAGAGGCGAAGGCGACTCACTGGTCCGATACTGACGCTCAGACGCGAAAGTGTGGGGAGCAAACAGGA &lt;int&gt; | ⋯ ⋯ | TCCCTGTCTCTTATACACATCTCCGAGCCCACGAGACAACAGGACATCTGGTGTGCCGTGGTGTGTTTGGAGGGGGGGGGGGGGGGGGGGGGGGGGGGGGGGGGGGGGGGGGGGGGGGGGGGGGGGGGGGGGGGGGGGGGGGGGGGCCCCCCCCCCCCCCCCCCCCCCCCCCCCCCCCCCCCCCCCCCCCCCCCCCCCCCCCCCCCCCCCCCCCCCCCCCCCCCCCCCCCCCCCCCCCCCCCCCCCCCCCCCCCCCCCCCCCCCCCCCCCCCCCCCCCCTTTTTAATGATACGGCGACCACCGAGATCTACACAATTCCGGTCGTCGGCAGCGTCAGATGTGTATAAGAGACAGGT &lt;int&gt; | TCCCTGTCTCTTATACACATCTCCGAGCCCACGAGACGCATGTCTATCTGGTGTGGCGGGGTTTGTTTGGGGGGGGGGGGGGGGGGGGGGGGGGGGGGGGGGGGGGGGGGGGGGGGGGGGGGGGGGGGGGGGGGGGGGGGGGGGGGGGGGGGGGGGGGGGGGGGGGGGGGGGGGGGGGGGGGGGGGGGGGGGGGGGGGGGGGGGGGGGGGGGGGGGGGGGGGGGGGGGGGGGGGGGGGGGGGGGGGGGGGGGGGGGGGGGGGGGGGGGGGGGGGGGGG &lt;int&gt; | TCCCTGTCTCTTATACACATCTCCGAGCCCACGAGACAACAGGACATCTGGTGTGGCGGGGTGTGGTTGGGGGGGGGGGGGGGGGGGGGGGGGGGGGGGGGGGGGGGGGGGGGGGGGGGGGGGGGGGGGGGGGGGGGGGGGGGGGGGGGGGGGGGGGGGGGGGGGGGGGGGGGGGGGGGGGGGGGGGGGGGGGGGGGGGGGGGGGGGGGGGGGGGGGGGGGGGGGGGGGGGGGGGGGGGGGGGGGGGGGGGGGGGGGGGGGGGGGGGGGGGGGGGGGG &lt;int&gt; | input &lt;int&gt; | filtered &lt;int&gt; | denoisedF &lt;int&gt; | denoisedR &lt;int&gt; | merged &lt;int&gt; | nonchim &lt;int&gt; | Cluster &lt;fct&gt; |\n",
       "|---|---|---|---|---|---|---|---|---|---|---|---|---|---|---|---|---|---|---|---|---|---|\n",
       "| 012024_BEL_CBC_T1_557_SSID | Healthy | 1_3  | 3_4_2025 | y | 012024 | T1 | SSID | Jan 2024 | 580 |   0 | ⋯ | 0 | 0 | 0 | 189570 | 176082 | 171436 | 173162 | 142705 | 129120 | Cluster1 |\n",
       "| 012024_BEL_CBC_T1_563_PSTR | Healthy | 1_12 | 3_6_2025 | <!----> | 012024 | T1 | PSTR | Jan 2024 |   0 |   0 | ⋯ | 0 | 0 | 0 |  98511 |  89332 |  88739 |  88868 |  87695 |  44586 | Cluster2 |\n",
       "| 012024_BEL_CBC_T2_601_OFAV | Healthy | 2_79 | 3_4_2025 | <!----> | 012024 | T2 | OFAV | Jan 2024 | 279 |   6 | ⋯ | 0 | 0 | 0 | 280308 | 263766 | 262084 | 262620 | 250901 | 173382 | Cluster1 |\n",
       "| 012024_BEL_CBC_T3_631_MCAV | Healthy | 3_21 | 3_4_2025 | <!----> | 012024 | T3 | MCAV | Jan 2024 | 328 |   0 | ⋯ | 0 | 0 | 0 | 536790 | 497421 | 495886 | 496193 | 481028 | 404924 | Cluster1 |\n",
       "| 012024_BEL_CBC_T3_633_MCAV | Healthy | 3_2  | 3_6_2025 | <!----> | 012024 | T3 | MCAV | Jan 2024 |   0 |   0 | ⋯ | 0 | 0 | 0 | 163169 | 154836 | 154032 | 153929 | 151918 |  62656 | Cluster2 |\n",
       "| 012024_BEL_CBC_T3_637_SSID | Healthy | 3_5  | 3_6_2025 | <!----> | 012024 | T3 | SSID | Jan 2024 |   0 | 128 | ⋯ | 0 | 0 | 0 |  22749 |  21151 |  20332 |  20453 |  19464 |  17819 | Cluster2 |\n",
       "\n"
      ],
      "text/plain": [
       "                           Health_Status colony Date_16S double_band\n",
       "012024_BEL_CBC_T1_557_SSID Healthy       1_3    3_4_2025 y          \n",
       "012024_BEL_CBC_T1_563_PSTR Healthy       1_12   3_6_2025            \n",
       "012024_BEL_CBC_T2_601_OFAV Healthy       2_79   3_4_2025            \n",
       "012024_BEL_CBC_T3_631_MCAV Healthy       3_21   3_4_2025            \n",
       "012024_BEL_CBC_T3_633_MCAV Healthy       3_2    3_6_2025            \n",
       "012024_BEL_CBC_T3_637_SSID Healthy       3_5    3_6_2025            \n",
       "                           date_sampled transect species MonthYear\n",
       "012024_BEL_CBC_T1_557_SSID 012024       T1       SSID    Jan 2024 \n",
       "012024_BEL_CBC_T1_563_PSTR 012024       T1       PSTR    Jan 2024 \n",
       "012024_BEL_CBC_T2_601_OFAV 012024       T2       OFAV    Jan 2024 \n",
       "012024_BEL_CBC_T3_631_MCAV 012024       T3       MCAV    Jan 2024 \n",
       "012024_BEL_CBC_T3_633_MCAV 012024       T3       MCAV    Jan 2024 \n",
       "012024_BEL_CBC_T3_637_SSID 012024       T3       SSID    Jan 2024 \n",
       "                           TACGGAGGGTGCGAGCGTTAATCGGAATTACTGGGCGTAAAGCGCATGCAGGTGGTTTGTTAAGTCAGATGTGAAAGCCCGGGGCTCAACCTCGGAATAGCATTTGAAACTGGCAGACTAGAGTACTGTAGAGGGGGGTAGAATTTCAGGTGTAGCGGTGAAATGCGTAGAGATCTGAAGGAATACCGGTGGCGAAGGCGGCCCCCTGGACAGATACTGACACTCAGATGCGAAAGCGTGGGGAGCAAACAGG\n",
       "012024_BEL_CBC_T1_557_SSID 580                                                                                                                                                                                                                                                          \n",
       "012024_BEL_CBC_T1_563_PSTR   0                                                                                                                                                                                                                                                          \n",
       "012024_BEL_CBC_T2_601_OFAV 279                                                                                                                                                                                                                                                          \n",
       "012024_BEL_CBC_T3_631_MCAV 328                                                                                                                                                                                                                                                          \n",
       "012024_BEL_CBC_T3_633_MCAV   0                                                                                                                                                                                                                                                          \n",
       "012024_BEL_CBC_T3_637_SSID   0                                                                                                                                                                                                                                                          \n",
       "                           ATACGGAGGGGGTTAGCGTTGTTCGGAATTACTGGGCGTAAAGCGCGTGTAGGCGGAACGATCAGTCGGAGGTGAAATCCCGGGGCTTAACCCCGGAACTGCCTTCGATACTATCGTTCTAGAGATCGGAAGAGGTGAGTGGAATTCCCAGTGTAGAGGTGGAATTCGTAGATATTGGGAAGAACACCAGAGGCGAAGGCGACTCACTGGTCCGATACTGACGCTCAGACGCGAAAGTGTGGGGAGCAAACAGGA\n",
       "012024_BEL_CBC_T1_557_SSID   0                                                                                                                                                                                                                                                            \n",
       "012024_BEL_CBC_T1_563_PSTR   0                                                                                                                                                                                                                                                            \n",
       "012024_BEL_CBC_T2_601_OFAV   6                                                                                                                                                                                                                                                            \n",
       "012024_BEL_CBC_T3_631_MCAV   0                                                                                                                                                                                                                                                            \n",
       "012024_BEL_CBC_T3_633_MCAV   0                                                                                                                                                                                                                                                            \n",
       "012024_BEL_CBC_T3_637_SSID 128                                                                                                                                                                                                                                                            \n",
       "                           ⋯\n",
       "012024_BEL_CBC_T1_557_SSID ⋯\n",
       "012024_BEL_CBC_T1_563_PSTR ⋯\n",
       "012024_BEL_CBC_T2_601_OFAV ⋯\n",
       "012024_BEL_CBC_T3_631_MCAV ⋯\n",
       "012024_BEL_CBC_T3_633_MCAV ⋯\n",
       "012024_BEL_CBC_T3_637_SSID ⋯\n",
       "                           TCCCTGTCTCTTATACACATCTCCGAGCCCACGAGACAACAGGACATCTGGTGTGCCGTGGTGTGTTTGGAGGGGGGGGGGGGGGGGGGGGGGGGGGGGGGGGGGGGGGGGGGGGGGGGGGGGGGGGGGGGGGGGGGGGGGGGGGGCCCCCCCCCCCCCCCCCCCCCCCCCCCCCCCCCCCCCCCCCCCCCCCCCCCCCCCCCCCCCCCCCCCCCCCCCCCCCCCCCCCCCCCCCCCCCCCCCCCCCCCCCCCCCCCCCCCCCCCCCCCCCCCCCCCCCTTTTTAATGATACGGCGACCACCGAGATCTACACAATTCCGGTCGTCGGCAGCGTCAGATGTGTATAAGAGACAGGT\n",
       "012024_BEL_CBC_T1_557_SSID 0                                                                                                                                                                                                                                                                                                                                                                   \n",
       "012024_BEL_CBC_T1_563_PSTR 0                                                                                                                                                                                                                                                                                                                                                                   \n",
       "012024_BEL_CBC_T2_601_OFAV 0                                                                                                                                                                                                                                                                                                                                                                   \n",
       "012024_BEL_CBC_T3_631_MCAV 0                                                                                                                                                                                                                                                                                                                                                                   \n",
       "012024_BEL_CBC_T3_633_MCAV 0                                                                                                                                                                                                                                                                                                                                                                   \n",
       "012024_BEL_CBC_T3_637_SSID 0                                                                                                                                                                                                                                                                                                                                                                   \n",
       "                           TCCCTGTCTCTTATACACATCTCCGAGCCCACGAGACGCATGTCTATCTGGTGTGGCGGGGTTTGTTTGGGGGGGGGGGGGGGGGGGGGGGGGGGGGGGGGGGGGGGGGGGGGGGGGGGGGGGGGGGGGGGGGGGGGGGGGGGGGGGGGGGGGGGGGGGGGGGGGGGGGGGGGGGGGGGGGGGGGGGGGGGGGGGGGGGGGGGGGGGGGGGGGGGGGGGGGGGGGGGGGGGGGGGGGGGGGGGGGGGGGGGGGGGGGGGGGGGGGGGGGGGGGGGGGG\n",
       "012024_BEL_CBC_T1_557_SSID 0                                                                                                                                                                                                                                                                                     \n",
       "012024_BEL_CBC_T1_563_PSTR 0                                                                                                                                                                                                                                                                                     \n",
       "012024_BEL_CBC_T2_601_OFAV 0                                                                                                                                                                                                                                                                                     \n",
       "012024_BEL_CBC_T3_631_MCAV 0                                                                                                                                                                                                                                                                                     \n",
       "012024_BEL_CBC_T3_633_MCAV 0                                                                                                                                                                                                                                                                                     \n",
       "012024_BEL_CBC_T3_637_SSID 0                                                                                                                                                                                                                                                                                     \n",
       "                           TCCCTGTCTCTTATACACATCTCCGAGCCCACGAGACAACAGGACATCTGGTGTGGCGGGGTGTGGTTGGGGGGGGGGGGGGGGGGGGGGGGGGGGGGGGGGGGGGGGGGGGGGGGGGGGGGGGGGGGGGGGGGGGGGGGGGGGGGGGGGGGGGGGGGGGGGGGGGGGGGGGGGGGGGGGGGGGGGGGGGGGGGGGGGGGGGGGGGGGGGGGGGGGGGGGGGGGGGGGGGGGGGGGGGGGGGGGGGGGGGGGGGGGGGGGGGGGGGGGGGGGGGGGGG\n",
       "012024_BEL_CBC_T1_557_SSID 0                                                                                                                                                                                                                                                                                     \n",
       "012024_BEL_CBC_T1_563_PSTR 0                                                                                                                                                                                                                                                                                     \n",
       "012024_BEL_CBC_T2_601_OFAV 0                                                                                                                                                                                                                                                                                     \n",
       "012024_BEL_CBC_T3_631_MCAV 0                                                                                                                                                                                                                                                                                     \n",
       "012024_BEL_CBC_T3_633_MCAV 0                                                                                                                                                                                                                                                                                     \n",
       "012024_BEL_CBC_T3_637_SSID 0                                                                                                                                                                                                                                                                                     \n",
       "                           input  filtered denoisedF denoisedR merged nonchim\n",
       "012024_BEL_CBC_T1_557_SSID 189570 176082   171436    173162    142705 129120 \n",
       "012024_BEL_CBC_T1_563_PSTR  98511  89332    88739     88868     87695  44586 \n",
       "012024_BEL_CBC_T2_601_OFAV 280308 263766   262084    262620    250901 173382 \n",
       "012024_BEL_CBC_T3_631_MCAV 536790 497421   495886    496193    481028 404924 \n",
       "012024_BEL_CBC_T3_633_MCAV 163169 154836   154032    153929    151918  62656 \n",
       "012024_BEL_CBC_T3_637_SSID  22749  21151    20332     20453     19464  17819 \n",
       "                           Cluster \n",
       "012024_BEL_CBC_T1_557_SSID Cluster1\n",
       "012024_BEL_CBC_T1_563_PSTR Cluster2\n",
       "012024_BEL_CBC_T2_601_OFAV Cluster1\n",
       "012024_BEL_CBC_T3_631_MCAV Cluster1\n",
       "012024_BEL_CBC_T3_633_MCAV Cluster2\n",
       "012024_BEL_CBC_T3_637_SSID Cluster2"
      ]
     },
     "metadata": {},
     "output_type": "display_data"
    }
   ],
   "source": [
    "head(sample_clean)\n"
   ]
  },
  {
   "cell_type": "code",
   "execution_count": 40,
   "id": "65bfc831-471c-49c6-bad2-ee9dbf720128",
   "metadata": {},
   "outputs": [
    {
     "data": {
      "text/plain": [
       "\n",
       "Cluster1 Cluster2 \n",
       "      35       22 "
      ]
     },
     "metadata": {},
     "output_type": "display_data"
    },
    {
     "data": {
      "text/html": [
       "FALSE"
      ],
      "text/latex": [
       "FALSE"
      ],
      "text/markdown": [
       "FALSE"
      ],
      "text/plain": [
       "[1] FALSE"
      ]
     },
     "metadata": {},
     "output_type": "display_data"
    }
   ],
   "source": [
    "table(sample_clean$Cluster)\n",
    "any(is.na(sample_clean$Cluster))"
   ]
  },
  {
   "cell_type": "markdown",
   "id": "4b8486bb-c14c-4d9e-b05e-a5101ad81855",
   "metadata": {},
   "source": [
    "### DESeq2 set up"
   ]
  },
  {
   "cell_type": "code",
   "execution_count": 41,
   "id": "708aeda8-c496-4aa0-a575-66fd69c4e682",
   "metadata": {},
   "outputs": [
    {
     "data": {
      "text/html": [
       "'1.38.3'"
      ],
      "text/latex": [
       "'1.38.3'"
      ],
      "text/markdown": [
       "'1.38.3'"
      ],
      "text/plain": [
       "[1] \"1.38.3\""
      ]
     },
     "metadata": {},
     "output_type": "display_data"
    }
   ],
   "source": [
    "require(DESeq2)\n",
    "package.version(\"DESeq2\")"
   ]
  },
  {
   "cell_type": "raw",
   "id": "0c914203-536c-4922-859d-65cea95690f0",
   "metadata": {},
   "source": [
    "#other optional way to run DESeq2\n",
    "# Step 1: Use raw phyloseq object\n",
    "ps_raw <- your_phyloseq_object_with_raw_counts\n",
    "\n",
    "# Step 2: Extract count matrix\n",
    "otu_counts <- psotu2veg(ps_raw)\n",
    "\n",
    "# Step 3: Create DESeq2 object\n",
    "dds <- DESeqDataSetFromMatrix(countData = otu_counts,\n",
    "                              colData = sample_data(ps_raw),\n",
    "                              design = ~ condition)  # adjust condition as needed\n",
    "\n",
    "# Step 4: Run DESeq\n",
    "dds <- DESeq(dds)"
   ]
  },
  {
   "cell_type": "code",
   "execution_count": 42,
   "id": "fecb4330-f188-409b-b0bf-8c793db0b1b2",
   "metadata": {},
   "outputs": [
    {
     "data": {
      "text/html": [
       "<table class=\"dataframe\">\n",
       "<caption>A sample_data: 6 × 95315</caption>\n",
       "<thead>\n",
       "\t<tr><th></th><th scope=col>Health_Status</th><th scope=col>colony</th><th scope=col>Date_16S</th><th scope=col>double_band</th><th scope=col>date_sampled</th><th scope=col>transect</th><th scope=col>species</th><th scope=col>MonthYear</th><th scope=col>TACGGAGGGTGCGAGCGTTAATCGGAATTACTGGGCGTAAAGCGCATGCAGGTGGTTTGTTAAGTCAGATGTGAAAGCCCGGGGCTCAACCTCGGAATAGCATTTGAAACTGGCAGACTAGAGTACTGTAGAGGGGGGTAGAATTTCAGGTGTAGCGGTGAAATGCGTAGAGATCTGAAGGAATACCGGTGGCGAAGGCGGCCCCCTGGACAGATACTGACACTCAGATGCGAAAGCGTGGGGAGCAAACAGG</th><th scope=col>ATACGGAGGGGGTTAGCGTTGTTCGGAATTACTGGGCGTAAAGCGCGTGTAGGCGGAACGATCAGTCGGAGGTGAAATCCCGGGGCTTAACCCCGGAACTGCCTTCGATACTATCGTTCTAGAGATCGGAAGAGGTGAGTGGAATTCCCAGTGTAGAGGTGGAATTCGTAGATATTGGGAAGAACACCAGAGGCGAAGGCGACTCACTGGTCCGATACTGACGCTCAGACGCGAAAGTGTGGGGAGCAAACAGGA</th><th scope=col>⋯</th><th scope=col>TCCCTGTCTCTTATACACATCTCCGAGCCCACGAGACAACAGGACATCTGGTGTGCCGTGGTGTGTTTGGAGGGGGGGGGGGGGGGGGGGGGGGGGGGGGGGGGGGGGGGGGGGGGGGGGGGGGGGGGGGGGGGGGGGGGGGGGGGCCCCCCCCCCCCCCCCCCCCCCCCCCCCCCCCCCCCCCCCCCCCCCCCCCCCCCCCCCCCCCCCCCCCCCCCCCCCCCCCCCCCCCCCCCCCCCCCCCCCCCCCCCCCCCCCCCCCCCCCCCCCCCCCCCCCCTTTTTAATGATACGGCGACCACCGAGATCTACACAATTCCGGTCGTCGGCAGCGTCAGATGTGTATAAGAGACAGGT</th><th scope=col>TCCCTGTCTCTTATACACATCTCCGAGCCCACGAGACGCATGTCTATCTGGTGTGGCGGGGTTTGTTTGGGGGGGGGGGGGGGGGGGGGGGGGGGGGGGGGGGGGGGGGGGGGGGGGGGGGGGGGGGGGGGGGGGGGGGGGGGGGGGGGGGGGGGGGGGGGGGGGGGGGGGGGGGGGGGGGGGGGGGGGGGGGGGGGGGGGGGGGGGGGGGGGGGGGGGGGGGGGGGGGGGGGGGGGGGGGGGGGGGGGGGGGGGGGGGGGGGGGGGGGGGGGGGGGG</th><th scope=col>TCCCTGTCTCTTATACACATCTCCGAGCCCACGAGACAACAGGACATCTGGTGTGGCGGGGTGTGGTTGGGGGGGGGGGGGGGGGGGGGGGGGGGGGGGGGGGGGGGGGGGGGGGGGGGGGGGGGGGGGGGGGGGGGGGGGGGGGGGGGGGGGGGGGGGGGGGGGGGGGGGGGGGGGGGGGGGGGGGGGGGGGGGGGGGGGGGGGGGGGGGGGGGGGGGGGGGGGGGGGGGGGGGGGGGGGGGGGGGGGGGGGGGGGGGGGGGGGGGGGGGGGGGGGG</th><th scope=col>input</th><th scope=col>filtered</th><th scope=col>denoisedF</th><th scope=col>denoisedR</th><th scope=col>merged</th><th scope=col>nonchim</th><th scope=col>Cluster</th></tr>\n",
       "\t<tr><th></th><th scope=col>&lt;chr&gt;</th><th scope=col>&lt;chr&gt;</th><th scope=col>&lt;chr&gt;</th><th scope=col>&lt;chr&gt;</th><th scope=col>&lt;fct&gt;</th><th scope=col>&lt;chr&gt;</th><th scope=col>&lt;chr&gt;</th><th scope=col>&lt;fct&gt;</th><th scope=col>&lt;int&gt;</th><th scope=col>&lt;int&gt;</th><th scope=col>⋯</th><th scope=col>&lt;int&gt;</th><th scope=col>&lt;int&gt;</th><th scope=col>&lt;int&gt;</th><th scope=col>&lt;int&gt;</th><th scope=col>&lt;int&gt;</th><th scope=col>&lt;int&gt;</th><th scope=col>&lt;int&gt;</th><th scope=col>&lt;int&gt;</th><th scope=col>&lt;int&gt;</th><th scope=col>&lt;fct&gt;</th></tr>\n",
       "</thead>\n",
       "<tbody>\n",
       "\t<tr><th scope=row>012024_BEL_CBC_T1_557_SSID</th><td>Healthy</td><td>1_3 </td><td>3_4_2025</td><td>y</td><td>012024</td><td>T1</td><td>SSID</td><td>Jan 2024</td><td>580</td><td>  0</td><td>⋯</td><td>0</td><td>0</td><td>0</td><td>189570</td><td>176082</td><td>171436</td><td>173162</td><td>142705</td><td>129120</td><td>Cluster1</td></tr>\n",
       "\t<tr><th scope=row>012024_BEL_CBC_T1_563_PSTR</th><td>Healthy</td><td>1_12</td><td>3_6_2025</td><td> </td><td>012024</td><td>T1</td><td>PSTR</td><td>Jan 2024</td><td>  0</td><td>  0</td><td>⋯</td><td>0</td><td>0</td><td>0</td><td> 98511</td><td> 89332</td><td> 88739</td><td> 88868</td><td> 87695</td><td> 44586</td><td>Cluster2</td></tr>\n",
       "\t<tr><th scope=row>012024_BEL_CBC_T2_601_OFAV</th><td>Healthy</td><td>2_79</td><td>3_4_2025</td><td> </td><td>012024</td><td>T2</td><td>OFAV</td><td>Jan 2024</td><td>279</td><td>  6</td><td>⋯</td><td>0</td><td>0</td><td>0</td><td>280308</td><td>263766</td><td>262084</td><td>262620</td><td>250901</td><td>173382</td><td>Cluster1</td></tr>\n",
       "\t<tr><th scope=row>012024_BEL_CBC_T3_631_MCAV</th><td>Healthy</td><td>3_21</td><td>3_4_2025</td><td> </td><td>012024</td><td>T3</td><td>MCAV</td><td>Jan 2024</td><td>328</td><td>  0</td><td>⋯</td><td>0</td><td>0</td><td>0</td><td>536790</td><td>497421</td><td>495886</td><td>496193</td><td>481028</td><td>404924</td><td>Cluster1</td></tr>\n",
       "\t<tr><th scope=row>012024_BEL_CBC_T3_633_MCAV</th><td>Healthy</td><td>3_2 </td><td>3_6_2025</td><td> </td><td>012024</td><td>T3</td><td>MCAV</td><td>Jan 2024</td><td>  0</td><td>  0</td><td>⋯</td><td>0</td><td>0</td><td>0</td><td>163169</td><td>154836</td><td>154032</td><td>153929</td><td>151918</td><td> 62656</td><td>Cluster2</td></tr>\n",
       "\t<tr><th scope=row>012024_BEL_CBC_T3_637_SSID</th><td>Healthy</td><td>3_5 </td><td>3_6_2025</td><td> </td><td>012024</td><td>T3</td><td>SSID</td><td>Jan 2024</td><td>  0</td><td>128</td><td>⋯</td><td>0</td><td>0</td><td>0</td><td> 22749</td><td> 21151</td><td> 20332</td><td> 20453</td><td> 19464</td><td> 17819</td><td>Cluster2</td></tr>\n",
       "</tbody>\n",
       "</table>\n"
      ],
      "text/latex": [
       "A sample\\_data: 6 × 95315\n",
       "\\begin{tabular}{r|lllllllllllllllllllll}\n",
       "  & Health\\_Status & colony & Date\\_16S & double\\_band & date\\_sampled & transect & species & MonthYear & TACGGAGGGTGCGAGCGTTAATCGGAATTACTGGGCGTAAAGCGCATGCAGGTGGTTTGTTAAGTCAGATGTGAAAGCCCGGGGCTCAACCTCGGAATAGCATTTGAAACTGGCAGACTAGAGTACTGTAGAGGGGGGTAGAATTTCAGGTGTAGCGGTGAAATGCGTAGAGATCTGAAGGAATACCGGTGGCGAAGGCGGCCCCCTGGACAGATACTGACACTCAGATGCGAAAGCGTGGGGAGCAAACAGG & ATACGGAGGGGGTTAGCGTTGTTCGGAATTACTGGGCGTAAAGCGCGTGTAGGCGGAACGATCAGTCGGAGGTGAAATCCCGGGGCTTAACCCCGGAACTGCCTTCGATACTATCGTTCTAGAGATCGGAAGAGGTGAGTGGAATTCCCAGTGTAGAGGTGGAATTCGTAGATATTGGGAAGAACACCAGAGGCGAAGGCGACTCACTGGTCCGATACTGACGCTCAGACGCGAAAGTGTGGGGAGCAAACAGGA & ⋯ & TCCCTGTCTCTTATACACATCTCCGAGCCCACGAGACAACAGGACATCTGGTGTGCCGTGGTGTGTTTGGAGGGGGGGGGGGGGGGGGGGGGGGGGGGGGGGGGGGGGGGGGGGGGGGGGGGGGGGGGGGGGGGGGGGGGGGGGGGCCCCCCCCCCCCCCCCCCCCCCCCCCCCCCCCCCCCCCCCCCCCCCCCCCCCCCCCCCCCCCCCCCCCCCCCCCCCCCCCCCCCCCCCCCCCCCCCCCCCCCCCCCCCCCCCCCCCCCCCCCCCCCCCCCCCCTTTTTAATGATACGGCGACCACCGAGATCTACACAATTCCGGTCGTCGGCAGCGTCAGATGTGTATAAGAGACAGGT & TCCCTGTCTCTTATACACATCTCCGAGCCCACGAGACGCATGTCTATCTGGTGTGGCGGGGTTTGTTTGGGGGGGGGGGGGGGGGGGGGGGGGGGGGGGGGGGGGGGGGGGGGGGGGGGGGGGGGGGGGGGGGGGGGGGGGGGGGGGGGGGGGGGGGGGGGGGGGGGGGGGGGGGGGGGGGGGGGGGGGGGGGGGGGGGGGGGGGGGGGGGGGGGGGGGGGGGGGGGGGGGGGGGGGGGGGGGGGGGGGGGGGGGGGGGGGGGGGGGGGGGGGGGGGG & TCCCTGTCTCTTATACACATCTCCGAGCCCACGAGACAACAGGACATCTGGTGTGGCGGGGTGTGGTTGGGGGGGGGGGGGGGGGGGGGGGGGGGGGGGGGGGGGGGGGGGGGGGGGGGGGGGGGGGGGGGGGGGGGGGGGGGGGGGGGGGGGGGGGGGGGGGGGGGGGGGGGGGGGGGGGGGGGGGGGGGGGGGGGGGGGGGGGGGGGGGGGGGGGGGGGGGGGGGGGGGGGGGGGGGGGGGGGGGGGGGGGGGGGGGGGGGGGGGGGGGGGGGGGG & input & filtered & denoisedF & denoisedR & merged & nonchim & Cluster\\\\\n",
       "  & <chr> & <chr> & <chr> & <chr> & <fct> & <chr> & <chr> & <fct> & <int> & <int> & ⋯ & <int> & <int> & <int> & <int> & <int> & <int> & <int> & <int> & <int> & <fct>\\\\\n",
       "\\hline\n",
       "\t012024\\_BEL\\_CBC\\_T1\\_557\\_SSID & Healthy & 1\\_3  & 3\\_4\\_2025 & y & 012024 & T1 & SSID & Jan 2024 & 580 &   0 & ⋯ & 0 & 0 & 0 & 189570 & 176082 & 171436 & 173162 & 142705 & 129120 & Cluster1\\\\\n",
       "\t012024\\_BEL\\_CBC\\_T1\\_563\\_PSTR & Healthy & 1\\_12 & 3\\_6\\_2025 &   & 012024 & T1 & PSTR & Jan 2024 &   0 &   0 & ⋯ & 0 & 0 & 0 &  98511 &  89332 &  88739 &  88868 &  87695 &  44586 & Cluster2\\\\\n",
       "\t012024\\_BEL\\_CBC\\_T2\\_601\\_OFAV & Healthy & 2\\_79 & 3\\_4\\_2025 &   & 012024 & T2 & OFAV & Jan 2024 & 279 &   6 & ⋯ & 0 & 0 & 0 & 280308 & 263766 & 262084 & 262620 & 250901 & 173382 & Cluster1\\\\\n",
       "\t012024\\_BEL\\_CBC\\_T3\\_631\\_MCAV & Healthy & 3\\_21 & 3\\_4\\_2025 &   & 012024 & T3 & MCAV & Jan 2024 & 328 &   0 & ⋯ & 0 & 0 & 0 & 536790 & 497421 & 495886 & 496193 & 481028 & 404924 & Cluster1\\\\\n",
       "\t012024\\_BEL\\_CBC\\_T3\\_633\\_MCAV & Healthy & 3\\_2  & 3\\_6\\_2025 &   & 012024 & T3 & MCAV & Jan 2024 &   0 &   0 & ⋯ & 0 & 0 & 0 & 163169 & 154836 & 154032 & 153929 & 151918 &  62656 & Cluster2\\\\\n",
       "\t012024\\_BEL\\_CBC\\_T3\\_637\\_SSID & Healthy & 3\\_5  & 3\\_6\\_2025 &   & 012024 & T3 & SSID & Jan 2024 &   0 & 128 & ⋯ & 0 & 0 & 0 &  22749 &  21151 &  20332 &  20453 &  19464 &  17819 & Cluster2\\\\\n",
       "\\end{tabular}\n"
      ],
      "text/markdown": [
       "\n",
       "A sample_data: 6 × 95315\n",
       "\n",
       "| <!--/--> | Health_Status &lt;chr&gt; | colony &lt;chr&gt; | Date_16S &lt;chr&gt; | double_band &lt;chr&gt; | date_sampled &lt;fct&gt; | transect &lt;chr&gt; | species &lt;chr&gt; | MonthYear &lt;fct&gt; | TACGGAGGGTGCGAGCGTTAATCGGAATTACTGGGCGTAAAGCGCATGCAGGTGGTTTGTTAAGTCAGATGTGAAAGCCCGGGGCTCAACCTCGGAATAGCATTTGAAACTGGCAGACTAGAGTACTGTAGAGGGGGGTAGAATTTCAGGTGTAGCGGTGAAATGCGTAGAGATCTGAAGGAATACCGGTGGCGAAGGCGGCCCCCTGGACAGATACTGACACTCAGATGCGAAAGCGTGGGGAGCAAACAGG &lt;int&gt; | ATACGGAGGGGGTTAGCGTTGTTCGGAATTACTGGGCGTAAAGCGCGTGTAGGCGGAACGATCAGTCGGAGGTGAAATCCCGGGGCTTAACCCCGGAACTGCCTTCGATACTATCGTTCTAGAGATCGGAAGAGGTGAGTGGAATTCCCAGTGTAGAGGTGGAATTCGTAGATATTGGGAAGAACACCAGAGGCGAAGGCGACTCACTGGTCCGATACTGACGCTCAGACGCGAAAGTGTGGGGAGCAAACAGGA &lt;int&gt; | ⋯ ⋯ | TCCCTGTCTCTTATACACATCTCCGAGCCCACGAGACAACAGGACATCTGGTGTGCCGTGGTGTGTTTGGAGGGGGGGGGGGGGGGGGGGGGGGGGGGGGGGGGGGGGGGGGGGGGGGGGGGGGGGGGGGGGGGGGGGGGGGGGGGCCCCCCCCCCCCCCCCCCCCCCCCCCCCCCCCCCCCCCCCCCCCCCCCCCCCCCCCCCCCCCCCCCCCCCCCCCCCCCCCCCCCCCCCCCCCCCCCCCCCCCCCCCCCCCCCCCCCCCCCCCCCCCCCCCCCCTTTTTAATGATACGGCGACCACCGAGATCTACACAATTCCGGTCGTCGGCAGCGTCAGATGTGTATAAGAGACAGGT &lt;int&gt; | TCCCTGTCTCTTATACACATCTCCGAGCCCACGAGACGCATGTCTATCTGGTGTGGCGGGGTTTGTTTGGGGGGGGGGGGGGGGGGGGGGGGGGGGGGGGGGGGGGGGGGGGGGGGGGGGGGGGGGGGGGGGGGGGGGGGGGGGGGGGGGGGGGGGGGGGGGGGGGGGGGGGGGGGGGGGGGGGGGGGGGGGGGGGGGGGGGGGGGGGGGGGGGGGGGGGGGGGGGGGGGGGGGGGGGGGGGGGGGGGGGGGGGGGGGGGGGGGGGGGGGGGGGGGGG &lt;int&gt; | TCCCTGTCTCTTATACACATCTCCGAGCCCACGAGACAACAGGACATCTGGTGTGGCGGGGTGTGGTTGGGGGGGGGGGGGGGGGGGGGGGGGGGGGGGGGGGGGGGGGGGGGGGGGGGGGGGGGGGGGGGGGGGGGGGGGGGGGGGGGGGGGGGGGGGGGGGGGGGGGGGGGGGGGGGGGGGGGGGGGGGGGGGGGGGGGGGGGGGGGGGGGGGGGGGGGGGGGGGGGGGGGGGGGGGGGGGGGGGGGGGGGGGGGGGGGGGGGGGGGGGGGGGGGG &lt;int&gt; | input &lt;int&gt; | filtered &lt;int&gt; | denoisedF &lt;int&gt; | denoisedR &lt;int&gt; | merged &lt;int&gt; | nonchim &lt;int&gt; | Cluster &lt;fct&gt; |\n",
       "|---|---|---|---|---|---|---|---|---|---|---|---|---|---|---|---|---|---|---|---|---|---|\n",
       "| 012024_BEL_CBC_T1_557_SSID | Healthy | 1_3  | 3_4_2025 | y | 012024 | T1 | SSID | Jan 2024 | 580 |   0 | ⋯ | 0 | 0 | 0 | 189570 | 176082 | 171436 | 173162 | 142705 | 129120 | Cluster1 |\n",
       "| 012024_BEL_CBC_T1_563_PSTR | Healthy | 1_12 | 3_6_2025 | <!----> | 012024 | T1 | PSTR | Jan 2024 |   0 |   0 | ⋯ | 0 | 0 | 0 |  98511 |  89332 |  88739 |  88868 |  87695 |  44586 | Cluster2 |\n",
       "| 012024_BEL_CBC_T2_601_OFAV | Healthy | 2_79 | 3_4_2025 | <!----> | 012024 | T2 | OFAV | Jan 2024 | 279 |   6 | ⋯ | 0 | 0 | 0 | 280308 | 263766 | 262084 | 262620 | 250901 | 173382 | Cluster1 |\n",
       "| 012024_BEL_CBC_T3_631_MCAV | Healthy | 3_21 | 3_4_2025 | <!----> | 012024 | T3 | MCAV | Jan 2024 | 328 |   0 | ⋯ | 0 | 0 | 0 | 536790 | 497421 | 495886 | 496193 | 481028 | 404924 | Cluster1 |\n",
       "| 012024_BEL_CBC_T3_633_MCAV | Healthy | 3_2  | 3_6_2025 | <!----> | 012024 | T3 | MCAV | Jan 2024 |   0 |   0 | ⋯ | 0 | 0 | 0 | 163169 | 154836 | 154032 | 153929 | 151918 |  62656 | Cluster2 |\n",
       "| 012024_BEL_CBC_T3_637_SSID | Healthy | 3_5  | 3_6_2025 | <!----> | 012024 | T3 | SSID | Jan 2024 |   0 | 128 | ⋯ | 0 | 0 | 0 |  22749 |  21151 |  20332 |  20453 |  19464 |  17819 | Cluster2 |\n",
       "\n"
      ],
      "text/plain": [
       "                           Health_Status colony Date_16S double_band\n",
       "012024_BEL_CBC_T1_557_SSID Healthy       1_3    3_4_2025 y          \n",
       "012024_BEL_CBC_T1_563_PSTR Healthy       1_12   3_6_2025            \n",
       "012024_BEL_CBC_T2_601_OFAV Healthy       2_79   3_4_2025            \n",
       "012024_BEL_CBC_T3_631_MCAV Healthy       3_21   3_4_2025            \n",
       "012024_BEL_CBC_T3_633_MCAV Healthy       3_2    3_6_2025            \n",
       "012024_BEL_CBC_T3_637_SSID Healthy       3_5    3_6_2025            \n",
       "                           date_sampled transect species MonthYear\n",
       "012024_BEL_CBC_T1_557_SSID 012024       T1       SSID    Jan 2024 \n",
       "012024_BEL_CBC_T1_563_PSTR 012024       T1       PSTR    Jan 2024 \n",
       "012024_BEL_CBC_T2_601_OFAV 012024       T2       OFAV    Jan 2024 \n",
       "012024_BEL_CBC_T3_631_MCAV 012024       T3       MCAV    Jan 2024 \n",
       "012024_BEL_CBC_T3_633_MCAV 012024       T3       MCAV    Jan 2024 \n",
       "012024_BEL_CBC_T3_637_SSID 012024       T3       SSID    Jan 2024 \n",
       "                           TACGGAGGGTGCGAGCGTTAATCGGAATTACTGGGCGTAAAGCGCATGCAGGTGGTTTGTTAAGTCAGATGTGAAAGCCCGGGGCTCAACCTCGGAATAGCATTTGAAACTGGCAGACTAGAGTACTGTAGAGGGGGGTAGAATTTCAGGTGTAGCGGTGAAATGCGTAGAGATCTGAAGGAATACCGGTGGCGAAGGCGGCCCCCTGGACAGATACTGACACTCAGATGCGAAAGCGTGGGGAGCAAACAGG\n",
       "012024_BEL_CBC_T1_557_SSID 580                                                                                                                                                                                                                                                          \n",
       "012024_BEL_CBC_T1_563_PSTR   0                                                                                                                                                                                                                                                          \n",
       "012024_BEL_CBC_T2_601_OFAV 279                                                                                                                                                                                                                                                          \n",
       "012024_BEL_CBC_T3_631_MCAV 328                                                                                                                                                                                                                                                          \n",
       "012024_BEL_CBC_T3_633_MCAV   0                                                                                                                                                                                                                                                          \n",
       "012024_BEL_CBC_T3_637_SSID   0                                                                                                                                                                                                                                                          \n",
       "                           ATACGGAGGGGGTTAGCGTTGTTCGGAATTACTGGGCGTAAAGCGCGTGTAGGCGGAACGATCAGTCGGAGGTGAAATCCCGGGGCTTAACCCCGGAACTGCCTTCGATACTATCGTTCTAGAGATCGGAAGAGGTGAGTGGAATTCCCAGTGTAGAGGTGGAATTCGTAGATATTGGGAAGAACACCAGAGGCGAAGGCGACTCACTGGTCCGATACTGACGCTCAGACGCGAAAGTGTGGGGAGCAAACAGGA\n",
       "012024_BEL_CBC_T1_557_SSID   0                                                                                                                                                                                                                                                            \n",
       "012024_BEL_CBC_T1_563_PSTR   0                                                                                                                                                                                                                                                            \n",
       "012024_BEL_CBC_T2_601_OFAV   6                                                                                                                                                                                                                                                            \n",
       "012024_BEL_CBC_T3_631_MCAV   0                                                                                                                                                                                                                                                            \n",
       "012024_BEL_CBC_T3_633_MCAV   0                                                                                                                                                                                                                                                            \n",
       "012024_BEL_CBC_T3_637_SSID 128                                                                                                                                                                                                                                                            \n",
       "                           ⋯\n",
       "012024_BEL_CBC_T1_557_SSID ⋯\n",
       "012024_BEL_CBC_T1_563_PSTR ⋯\n",
       "012024_BEL_CBC_T2_601_OFAV ⋯\n",
       "012024_BEL_CBC_T3_631_MCAV ⋯\n",
       "012024_BEL_CBC_T3_633_MCAV ⋯\n",
       "012024_BEL_CBC_T3_637_SSID ⋯\n",
       "                           TCCCTGTCTCTTATACACATCTCCGAGCCCACGAGACAACAGGACATCTGGTGTGCCGTGGTGTGTTTGGAGGGGGGGGGGGGGGGGGGGGGGGGGGGGGGGGGGGGGGGGGGGGGGGGGGGGGGGGGGGGGGGGGGGGGGGGGGGCCCCCCCCCCCCCCCCCCCCCCCCCCCCCCCCCCCCCCCCCCCCCCCCCCCCCCCCCCCCCCCCCCCCCCCCCCCCCCCCCCCCCCCCCCCCCCCCCCCCCCCCCCCCCCCCCCCCCCCCCCCCCCCCCCCCCTTTTTAATGATACGGCGACCACCGAGATCTACACAATTCCGGTCGTCGGCAGCGTCAGATGTGTATAAGAGACAGGT\n",
       "012024_BEL_CBC_T1_557_SSID 0                                                                                                                                                                                                                                                                                                                                                                   \n",
       "012024_BEL_CBC_T1_563_PSTR 0                                                                                                                                                                                                                                                                                                                                                                   \n",
       "012024_BEL_CBC_T2_601_OFAV 0                                                                                                                                                                                                                                                                                                                                                                   \n",
       "012024_BEL_CBC_T3_631_MCAV 0                                                                                                                                                                                                                                                                                                                                                                   \n",
       "012024_BEL_CBC_T3_633_MCAV 0                                                                                                                                                                                                                                                                                                                                                                   \n",
       "012024_BEL_CBC_T3_637_SSID 0                                                                                                                                                                                                                                                                                                                                                                   \n",
       "                           TCCCTGTCTCTTATACACATCTCCGAGCCCACGAGACGCATGTCTATCTGGTGTGGCGGGGTTTGTTTGGGGGGGGGGGGGGGGGGGGGGGGGGGGGGGGGGGGGGGGGGGGGGGGGGGGGGGGGGGGGGGGGGGGGGGGGGGGGGGGGGGGGGGGGGGGGGGGGGGGGGGGGGGGGGGGGGGGGGGGGGGGGGGGGGGGGGGGGGGGGGGGGGGGGGGGGGGGGGGGGGGGGGGGGGGGGGGGGGGGGGGGGGGGGGGGGGGGGGGGGGGGGGGGGG\n",
       "012024_BEL_CBC_T1_557_SSID 0                                                                                                                                                                                                                                                                                     \n",
       "012024_BEL_CBC_T1_563_PSTR 0                                                                                                                                                                                                                                                                                     \n",
       "012024_BEL_CBC_T2_601_OFAV 0                                                                                                                                                                                                                                                                                     \n",
       "012024_BEL_CBC_T3_631_MCAV 0                                                                                                                                                                                                                                                                                     \n",
       "012024_BEL_CBC_T3_633_MCAV 0                                                                                                                                                                                                                                                                                     \n",
       "012024_BEL_CBC_T3_637_SSID 0                                                                                                                                                                                                                                                                                     \n",
       "                           TCCCTGTCTCTTATACACATCTCCGAGCCCACGAGACAACAGGACATCTGGTGTGGCGGGGTGTGGTTGGGGGGGGGGGGGGGGGGGGGGGGGGGGGGGGGGGGGGGGGGGGGGGGGGGGGGGGGGGGGGGGGGGGGGGGGGGGGGGGGGGGGGGGGGGGGGGGGGGGGGGGGGGGGGGGGGGGGGGGGGGGGGGGGGGGGGGGGGGGGGGGGGGGGGGGGGGGGGGGGGGGGGGGGGGGGGGGGGGGGGGGGGGGGGGGGGGGGGGGGGGGGGGGGG\n",
       "012024_BEL_CBC_T1_557_SSID 0                                                                                                                                                                                                                                                                                     \n",
       "012024_BEL_CBC_T1_563_PSTR 0                                                                                                                                                                                                                                                                                     \n",
       "012024_BEL_CBC_T2_601_OFAV 0                                                                                                                                                                                                                                                                                     \n",
       "012024_BEL_CBC_T3_631_MCAV 0                                                                                                                                                                                                                                                                                     \n",
       "012024_BEL_CBC_T3_633_MCAV 0                                                                                                                                                                                                                                                                                     \n",
       "012024_BEL_CBC_T3_637_SSID 0                                                                                                                                                                                                                                                                                     \n",
       "                           input  filtered denoisedF denoisedR merged nonchim\n",
       "012024_BEL_CBC_T1_557_SSID 189570 176082   171436    173162    142705 129120 \n",
       "012024_BEL_CBC_T1_563_PSTR  98511  89332    88739     88868     87695  44586 \n",
       "012024_BEL_CBC_T2_601_OFAV 280308 263766   262084    262620    250901 173382 \n",
       "012024_BEL_CBC_T3_631_MCAV 536790 497421   495886    496193    481028 404924 \n",
       "012024_BEL_CBC_T3_633_MCAV 163169 154836   154032    153929    151918  62656 \n",
       "012024_BEL_CBC_T3_637_SSID  22749  21151    20332     20453     19464  17819 \n",
       "                           Cluster \n",
       "012024_BEL_CBC_T1_557_SSID Cluster1\n",
       "012024_BEL_CBC_T1_563_PSTR Cluster2\n",
       "012024_BEL_CBC_T2_601_OFAV Cluster1\n",
       "012024_BEL_CBC_T3_631_MCAV Cluster1\n",
       "012024_BEL_CBC_T3_633_MCAV Cluster2\n",
       "012024_BEL_CBC_T3_637_SSID Cluster2"
      ]
     },
     "metadata": {},
     "output_type": "display_data"
    }
   ],
   "source": [
    "# Step 1: Add the cleaned sample data (with cluster assignments) back to the phyloseq object\n",
    "sample_data(ps_clean) <- sample_data(sample_clean)\n",
    "head(sample_data(ps_clean))"
   ]
  },
  {
   "cell_type": "code",
   "execution_count": 44,
   "id": "d5cff175-dc7d-436a-8cd5-3b05518ab7a8",
   "metadata": {},
   "outputs": [
    {
     "name": "stderr",
     "output_type": "stream",
     "text": [
      "converting counts to integer mode\n",
      "\n"
     ]
    }
   ],
   "source": [
    "# Build DESeq2 object\n",
    "dds <- phyloseq_to_deseq2(ps_clean, ~ Cluster)"
   ]
  },
  {
   "cell_type": "markdown",
   "id": "0a3bb0c9-8587-4af1-96c5-b2bf4fc54ebb",
   "metadata": {},
   "source": [
    "If in normal RNA-seq there is at least one zero per gene that means that (I guess) either samples are notably under-sequenced or there are any other kinds of dropout events that I'd investigate. it is in any case not normal and should probably not be ignored by just adding a pseudocount. "
   ]
  },
  {
   "cell_type": "code",
   "execution_count": 45,
   "id": "54d4153b-69cc-488d-8149-4d3e43dfd769",
   "metadata": {},
   "outputs": [
    {
     "name": "stderr",
     "output_type": "stream",
     "text": [
      "estimating size factors\n",
      "\n"
     ]
    },
    {
     "ename": "ERROR",
     "evalue": "Error in estimateSizeFactorsForMatrix(counts(object), locfunc = locfunc, : every gene contains at least one zero, cannot compute log geometric means\n",
     "output_type": "error",
     "traceback": [
      "Error in estimateSizeFactorsForMatrix(counts(object), locfunc = locfunc, : every gene contains at least one zero, cannot compute log geometric means\nTraceback:\n",
      "1. DESeq(dds, test = \"Wald\", fitType = \"parametric\")",
      "2. estimateSizeFactors(object, type = sfType, quiet = quiet)",
      "3. estimateSizeFactors(object, type = sfType, quiet = quiet)",
      "4. .local(object, ...)",
      "5. estimateSizeFactorsForMatrix(counts(object), locfunc = locfunc, \n .     geoMeans = geoMeans, controlGenes = controlGenes)",
      "6. stop(\"every gene contains at least one zero, cannot compute log geometric means\")"
     ]
    }
   ],
   "source": [
    "# Run DESeq\n",
    "dds <- DESeq(dds, test=\"Wald\", fitType=\"parametric\")"
   ]
  },
  {
   "cell_type": "markdown",
   "id": "a8825897-d47e-457a-a99c-d9c74efb9c1f",
   "metadata": {},
   "source": [
    "### DESeq test results"
   ]
  },
  {
   "cell_type": "code",
   "execution_count": null,
   "id": "a9463bf0-591f-4d38-b3cd-29150b8d329a",
   "metadata": {},
   "outputs": [],
   "source": [
    "# Extract results (Cluster1 vs Cluster2)\n",
    "res <- results(dds, contrast = c(\"Cluster\", \"Cluster1\", \"Cluster2\"), cooksCutoff = FALSE)\n",
    "\n",
    "# Set your desired alpha threshold\n",
    "alpha <- 0.01\n",
    "\n",
    "# Filter for significantly differentially abundant taxa\n",
    "sigtab <- res[which(res$padj < alpha), ]\n",
    "\n",
    "# Combine with taxonomy information (from the same phyloseq object used for DESeq2)\n",
    "sigtab <- cbind(as(sigtab, \"data.frame\"),\n",
    "                as(tax_table(ps_norm_clean)[rownames(sigtab), ], \"matrix\"))\n",
    "head(sigtab)"
   ]
  },
  {
   "cell_type": "code",
   "execution_count": null,
   "id": "edea72dd-e998-494a-91f8-5ae297060795",
   "metadata": {},
   "outputs": [],
   "source": [
    "#\n",
    "dim(sigtab)"
   ]
  },
  {
   "cell_type": "markdown",
   "id": "c8f3dabe-5077-48be-91a0-d36aa0989e7c",
   "metadata": {},
   "source": [
    "### look at the OTUs that were significantly different between the two tissues. "
   ]
  },
  {
   "cell_type": "code",
   "execution_count": null,
   "id": "02f6a387-82ff-4ff3-97f7-8a6abf597f6e",
   "metadata": {},
   "outputs": [],
   "source": [
    "scale_fill_discrete <- function(palname = \"Set1\", ...) {\n",
    "    scale_fill_brewer(palette = palname, ...)\n",
    "}\n",
    "# Phylum order\n",
    "x = tapply(sigtab$log2FoldChange, sigtab$Phylum, function(x) max(x))\n",
    "x = sort(x, TRUE)\n",
    "sigtab$Phylum = factor(as.character(sigtab$Phylum), levels=names(x))\n",
    "# Genus order\n",
    "x = tapply(sigtab$log2FoldChange, sigtab$Genus, function(x) max(x))\n",
    "x = sort(x, TRUE)\n",
    "sigtab$Genus = factor(as.character(sigtab$Genus), levels=names(x))\n",
    "ggplot(sigtab, aes(x=Genus, y=log2FoldChange, color=Phylum)) + geom_point(size=6) + \n",
    "  theme(axis.text.x = element_text(angle = -90, hjust = 0, vjust=0.5))"
   ]
  },
  {
   "cell_type": "code",
   "execution_count": null,
   "id": "eae0698f-e3fa-407c-8ab7-e2b6f6ba67d4",
   "metadata": {},
   "outputs": [],
   "source": []
  }
 ],
 "metadata": {
  "kernelspec": {
   "display_name": "R (phyloseq)",
   "language": "R",
   "name": "phyloseq"
  },
  "language_info": {
   "codemirror_mode": "r",
   "file_extension": ".r",
   "mimetype": "text/x-r-source",
   "name": "R",
   "pygments_lexer": "r",
   "version": "4.2.3"
  }
 },
 "nbformat": 4,
 "nbformat_minor": 5
}
