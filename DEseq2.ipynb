{
 "cells": [
  {
   "cell_type": "code",
   "execution_count": 4,
   "id": "f529e69e-3e0b-4d19-ab0e-30231ee29dfa",
   "metadata": {},
   "outputs": [],
   "source": [
    "require(data.table)\n",
    "require(dplyr)\n",
    "require(tidyverse)\n",
    "require(phyloseq)\n",
    "require(DESeq2)\n",
    "require(genefilter)\n",
    "require(ggplot2)\n",
    "require(vegan)\n",
    "require(RColorBrewer)\n",
    "require(metacoder)\n",
    "options(repr.plot.width=20, repr.plot.height=15)"
   ]
  },
  {
   "cell_type": "code",
   "execution_count": 23,
   "id": "8c1bbd2e-1d2b-4277-934e-8b88a066201f",
   "metadata": {},
   "outputs": [],
   "source": [
    "ps<-readRDS(file = \"/work/pi_sarah_gignouxwolfsohn_uml_edu/caroline/RDS/ps.rds\")\n",
    "#removing any taxa that don't show up in any samples to speed up the process\n",
    "ps <- prune_taxa(taxa_sums(ps) > 0, ps)"
   ]
  },
  {
   "cell_type": "code",
   "execution_count": 24,
   "id": "1c82b3a4-afe1-42ab-8e3f-76539e917110",
   "metadata": {},
   "outputs": [],
   "source": [
    "#getting rid of samples in phyloseq with very low-abundance or rarely occurring taxa\n",
    "    # Remove taxa not seen in at least 3 samples AND total abundance less than 6\n",
    "    ps <- phyloseq::filter_taxa(ps, function(x) sum(x > 0) > 2 & sum(x) > 5, TRUE)"
   ]
  },
  {
   "cell_type": "code",
   "execution_count": 25,
   "id": "38f7b4ee-73f7-4427-b50a-35792e0cfec3",
   "metadata": {},
   "outputs": [
    {
     "data": {
      "text/plain": [
       "phyloseq-class experiment-level object\n",
       "otu_table()   OTU Table:         [ 11656 taxa and 57 samples ]\n",
       "sample_data() Sample Data:       [ 57 samples by 95314 sample variables ]\n",
       "tax_table()   Taxonomy Table:    [ 11656 taxa by 6 taxonomic ranks ]\n",
       "refseq()      DNAStringSet:      [ 11656 reference sequences ]"
      ]
     },
     "metadata": {},
     "output_type": "display_data"
    }
   ],
   "source": [
    "#renaming the taxa to a short string while maintaining full dna seq in the background\n",
    "dna <- Biostrings::DNAStringSet(taxa_names(ps))\n",
    "names(dna) <- taxa_names(ps)\n",
    "ps <- merge_phyloseq(ps, dna)\n",
    "taxa_names(ps) <- paste0(\"ASV\", seq(ntaxa(ps)))\n",
    "ps"
   ]
  },
  {
   "cell_type": "markdown",
   "id": "47ea6663-101c-4a7f-860c-fbf4d323748c",
   "metadata": {},
   "source": [
    "DESeq doesnt like normalized\n",
    "- do not include this:\n",
    "- ps_norm = transform_sample_counts(ps, function(x) 1E6 * x / sum(x))"
   ]
  },
  {
   "cell_type": "code",
   "execution_count": 26,
   "id": "00a9cd30-a2eb-4b09-81c9-cafd4efd5fb1",
   "metadata": {},
   "outputs": [
    {
     "data": {
      "text/plain": [
       "phyloseq-class experiment-level object\n",
       "otu_table()   OTU Table:         [ 11324 taxa and 57 samples ]\n",
       "sample_data() Sample Data:       [ 57 samples by 95314 sample variables ]\n",
       "tax_table()   Taxonomy Table:    [ 11324 taxa by 6 taxonomic ranks ]\n",
       "refseq()      DNAStringSet:      [ 11324 reference sequences ]"
      ]
     },
     "metadata": {},
     "output_type": "display_data"
    }
   ],
   "source": [
    "#isolate just bacteria\n",
    "ps_bac=subset_taxa(ps, Kingdom==\"Bacteria\")\n",
    "ps_bac"
   ]
  },
  {
   "cell_type": "code",
   "execution_count": 27,
   "id": "7fb6f538-a9cc-4e01-a51e-38d9e234c5ad",
   "metadata": {},
   "outputs": [
    {
     "data": {
      "text/plain": [
       "phyloseq-class experiment-level object\n",
       "otu_table()   OTU Table:         [ 9044 taxa and 57 samples ]\n",
       "sample_data() Sample Data:       [ 57 samples by 95314 sample variables ]\n",
       "tax_table()   Taxonomy Table:    [ 9044 taxa by 6 taxonomic ranks ]\n",
       "refseq()      DNAStringSet:      [ 9044 reference sequences ]"
      ]
     },
     "metadata": {},
     "output_type": "display_data"
    }
   ],
   "source": [
    "#remove chloroplast order\n",
    "ps_nochlo=subset_taxa(ps_bac, Order!=\"Chloroplast\")\n",
    "ps_nochlo"
   ]
  },
  {
   "cell_type": "code",
   "execution_count": 28,
   "id": "1ffe9558-ab78-4d27-b016-ace486a873c5",
   "metadata": {},
   "outputs": [],
   "source": [
    "ps_clean=subset_taxa(ps_nochlo, Family!=\"Mitochondria\")"
   ]
  },
  {
   "cell_type": "code",
   "execution_count": 29,
   "id": "0723e83f-8c04-40ed-a736-968e9adda49f",
   "metadata": {},
   "outputs": [],
   "source": [
    "theme_set(theme_bw())"
   ]
  },
  {
   "cell_type": "code",
   "execution_count": 30,
   "id": "44f6a621-c244-4d67-b1da-222b5221a882",
   "metadata": {},
   "outputs": [],
   "source": [
    "#choosing plot colors \n",
    "mycolors= colorRampPalette(brewer.pal(8, \"Set3\"))(8)"
   ]
  },
  {
   "cell_type": "markdown",
   "id": "9ef6f2f6-bc70-4b78-bbdf-df89101c31c0",
   "metadata": {},
   "source": [
    "### ps objects to otu table and sample metadata"
   ]
  },
  {
   "cell_type": "code",
   "execution_count": 31,
   "id": "fb1f48a9-0f98-4f8b-b55c-d4ec52cc64a4",
   "metadata": {},
   "outputs": [],
   "source": [
    "# convert the sample_data() within a phyloseq object to a vegan compatible data object\n",
    "pssd2veg <- function(ps_clean) {\n",
    "  sd_nochlo <- sample_data(ps_clean)\n",
    "  return(as(sd_nochlo,\"data.frame\"))\n",
    "}\n",
    "\n",
    "#using phyloseq nmds plot no chloroplast\n",
    "sample_clean <- pssd2veg(ps_clean)"
   ]
  },
  {
   "cell_type": "code",
   "execution_count": 32,
   "id": "dfac02ad-fafc-4deb-b78f-75919561ab0b",
   "metadata": {},
   "outputs": [],
   "source": [
    "# convert the otu_table() within a phyloseq object to a vegan compatible data object\n",
    "psotu2veg <- function(ps_clean) {\n",
    "  otu_clean <- otu_table(ps_clean)\n",
    "  if (taxa_are_rows(otu_clean)) {\n",
    "    otu_clean <- t(otu_clean)\n",
    "  }\n",
    "  return(as(otu_clean, \"matrix\"))\n",
    "}\n",
    "\n",
    "# Extract normalized OTU matrix and sample data\n",
    "otu_clean <- psotu2veg(ps_clean)\n"
   ]
  },
  {
   "cell_type": "code",
   "execution_count": 33,
   "id": "3045b81e-e67c-4bc7-96ec-37ad571e63bf",
   "metadata": {},
   "outputs": [],
   "source": [
    "# transposing otu for deseq compatibility \n",
    "otu <- t(otu_clean)"
   ]
  },
  {
   "cell_type": "code",
   "execution_count": 34,
   "id": "0c45745c-bd00-4ed3-921b-a985a9e0ece4",
   "metadata": {},
   "outputs": [
    {
     "data": {
      "text/html": [
       "<style>\n",
       ".list-inline {list-style: none; margin:0; padding: 0}\n",
       ".list-inline>li {display: inline-block}\n",
       ".list-inline>li:not(:last-child)::after {content: \"\\00b7\"; padding: 0 .5ex}\n",
       "</style>\n",
       "<ol class=list-inline><li>'matrix'</li><li>'array'</li></ol>\n"
      ],
      "text/latex": [
       "\\begin{enumerate*}\n",
       "\\item 'matrix'\n",
       "\\item 'array'\n",
       "\\end{enumerate*}\n"
      ],
      "text/markdown": [
       "1. 'matrix'\n",
       "2. 'array'\n",
       "\n",
       "\n"
      ],
      "text/plain": [
       "[1] \"matrix\" \"array\" "
      ]
     },
     "metadata": {},
     "output_type": "display_data"
    }
   ],
   "source": [
    "class(otu)"
   ]
  },
  {
   "cell_type": "markdown",
   "id": "8b840f7d-eb08-4fc9-861b-74c5a0af690e",
   "metadata": {
    "jp-MarkdownHeadingCollapsed": true
   },
   "source": [
    "### Subgrouping to get parent groups for DEseq2"
   ]
  },
  {
   "cell_type": "code",
   "execution_count": 35,
   "id": "2e69d7c9-bcdc-41d9-9357-9c437138fd19",
   "metadata": {},
   "outputs": [],
   "source": [
    "set.seed(12)"
   ]
  },
  {
   "cell_type": "code",
   "execution_count": 36,
   "id": "aeccc38e-2ff8-4677-9529-4cd86242398a",
   "metadata": {},
   "outputs": [],
   "source": [
    "#making plots small \n",
    "options(repr.plot.width = 15, repr.plot.height = 10)\n",
    "#dissimilarity\n",
    "dij <- vegdist(otu_clean) ## bray curtis dissimilarity\n",
    "clu <- hclust(dij, method = \"average\")\n",
    "# 2 clusters bc I know Date_16S is already driving into 2 clusters\n",
    "grp <- cutree(clu, 2)"
   ]
  },
  {
   "cell_type": "code",
   "execution_count": 37,
   "id": "118ba69d-8247-43c9-91a4-0688c1ad28e9",
   "metadata": {},
   "outputs": [
    {
     "data": {
      "text/html": [
       "<style>\n",
       ".list-inline {list-style: none; margin:0; padding: 0}\n",
       ".list-inline>li {display: inline-block}\n",
       ".list-inline>li:not(:last-child)::after {content: \"\\00b7\"; padding: 0 .5ex}\n",
       "</style>\n",
       "<ol class=list-inline><li>'012024_BEL_CBC_T1_557_SSID'</li><li>'012024_BEL_CBC_T2_601_OFAV'</li><li>'012024_BEL_CBC_T3_631_MCAV'</li><li>'022024_BEL_CBC_T1_776_PSTR'</li><li>'022024_BEL_CBC_T3_851_PSTR'</li><li>'042024_BEL_CBC_T2_1018_PAST'</li></ol>\n"
      ],
      "text/latex": [
       "\\begin{enumerate*}\n",
       "\\item '012024\\_BEL\\_CBC\\_T1\\_557\\_SSID'\n",
       "\\item '012024\\_BEL\\_CBC\\_T2\\_601\\_OFAV'\n",
       "\\item '012024\\_BEL\\_CBC\\_T3\\_631\\_MCAV'\n",
       "\\item '022024\\_BEL\\_CBC\\_T1\\_776\\_PSTR'\n",
       "\\item '022024\\_BEL\\_CBC\\_T3\\_851\\_PSTR'\n",
       "\\item '042024\\_BEL\\_CBC\\_T2\\_1018\\_PAST'\n",
       "\\end{enumerate*}\n"
      ],
      "text/markdown": [
       "1. '012024_BEL_CBC_T1_557_SSID'\n",
       "2. '012024_BEL_CBC_T2_601_OFAV'\n",
       "3. '012024_BEL_CBC_T3_631_MCAV'\n",
       "4. '022024_BEL_CBC_T1_776_PSTR'\n",
       "5. '022024_BEL_CBC_T3_851_PSTR'\n",
       "6. '042024_BEL_CBC_T2_1018_PAST'\n",
       "\n",
       "\n"
      ],
      "text/plain": [
       "[1] \"012024_BEL_CBC_T1_557_SSID\"  \"012024_BEL_CBC_T2_601_OFAV\" \n",
       "[3] \"012024_BEL_CBC_T3_631_MCAV\"  \"022024_BEL_CBC_T1_776_PSTR\" \n",
       "[5] \"022024_BEL_CBC_T3_851_PSTR\"  \"042024_BEL_CBC_T2_1018_PAST\""
      ]
     },
     "metadata": {},
     "output_type": "display_data"
    },
    {
     "data": {
      "text/html": [
       "'character'"
      ],
      "text/latex": [
       "'character'"
      ],
      "text/markdown": [
       "'character'"
      ],
      "text/plain": [
       "[1] \"character\""
      ]
     },
     "metadata": {},
     "output_type": "display_data"
    }
   ],
   "source": [
    "# Subset your original data\n",
    "# Get indices of samples in each parent cluster\n",
    "grp1_ids <- names(grp[grp == 1])\n",
    "grp2_ids <- names(grp[grp == 2])\n",
    "head(grp1_ids)\n",
    "class(grp1_ids)"
   ]
  },
  {
   "cell_type": "code",
   "execution_count": 38,
   "id": "802525c3-17b8-4238-b591-1e0adb8d9fe2",
   "metadata": {},
   "outputs": [
    {
     "data": {
      "text/html": [
       "<table class=\"dataframe\">\n",
       "<caption>A data.frame: 6 × 1</caption>\n",
       "<thead>\n",
       "\t<tr><th></th><th scope=col>Cluster</th></tr>\n",
       "\t<tr><th></th><th scope=col>&lt;fct&gt;</th></tr>\n",
       "</thead>\n",
       "<tbody>\n",
       "\t<tr><th scope=row>012024_BEL_CBC_T1_557_SSID</th><td>1</td></tr>\n",
       "\t<tr><th scope=row>012024_BEL_CBC_T1_563_PSTR</th><td>2</td></tr>\n",
       "\t<tr><th scope=row>012024_BEL_CBC_T2_601_OFAV</th><td>1</td></tr>\n",
       "\t<tr><th scope=row>012024_BEL_CBC_T3_631_MCAV</th><td>1</td></tr>\n",
       "\t<tr><th scope=row>012024_BEL_CBC_T3_633_MCAV</th><td>2</td></tr>\n",
       "\t<tr><th scope=row>012024_BEL_CBC_T3_637_SSID</th><td>2</td></tr>\n",
       "</tbody>\n",
       "</table>\n"
      ],
      "text/latex": [
       "A data.frame: 6 × 1\n",
       "\\begin{tabular}{r|l}\n",
       "  & Cluster\\\\\n",
       "  & <fct>\\\\\n",
       "\\hline\n",
       "\t012024\\_BEL\\_CBC\\_T1\\_557\\_SSID & 1\\\\\n",
       "\t012024\\_BEL\\_CBC\\_T1\\_563\\_PSTR & 2\\\\\n",
       "\t012024\\_BEL\\_CBC\\_T2\\_601\\_OFAV & 1\\\\\n",
       "\t012024\\_BEL\\_CBC\\_T3\\_631\\_MCAV & 1\\\\\n",
       "\t012024\\_BEL\\_CBC\\_T3\\_633\\_MCAV & 2\\\\\n",
       "\t012024\\_BEL\\_CBC\\_T3\\_637\\_SSID & 2\\\\\n",
       "\\end{tabular}\n"
      ],
      "text/markdown": [
       "\n",
       "A data.frame: 6 × 1\n",
       "\n",
       "| <!--/--> | Cluster &lt;fct&gt; |\n",
       "|---|---|\n",
       "| 012024_BEL_CBC_T1_557_SSID | 1 |\n",
       "| 012024_BEL_CBC_T1_563_PSTR | 2 |\n",
       "| 012024_BEL_CBC_T2_601_OFAV | 1 |\n",
       "| 012024_BEL_CBC_T3_631_MCAV | 1 |\n",
       "| 012024_BEL_CBC_T3_633_MCAV | 2 |\n",
       "| 012024_BEL_CBC_T3_637_SSID | 2 |\n",
       "\n"
      ],
      "text/plain": [
       "                           Cluster\n",
       "012024_BEL_CBC_T1_557_SSID 1      \n",
       "012024_BEL_CBC_T1_563_PSTR 2      \n",
       "012024_BEL_CBC_T2_601_OFAV 1      \n",
       "012024_BEL_CBC_T3_631_MCAV 1      \n",
       "012024_BEL_CBC_T3_633_MCAV 2      \n",
       "012024_BEL_CBC_T3_637_SSID 2      "
      ]
     },
     "metadata": {},
     "output_type": "display_data"
    }
   ],
   "source": [
    "# Convert to data frame for safe merging\n",
    "#remember grp is what I named the parent clusters when I split them for the red dendogram\n",
    "parent <- data.frame(\n",
    "  Cluster = factor(grp)\n",
    ")\n",
    "head(parent)"
   ]
  },
  {
   "cell_type": "code",
   "execution_count": 39,
   "id": "82dcbff0-bffc-4df0-a78e-eadf715ca125",
   "metadata": {},
   "outputs": [
    {
     "data": {
      "text/html": [
       "57"
      ],
      "text/latex": [
       "57"
      ],
      "text/markdown": [
       "57"
      ],
      "text/plain": [
       "[1] 57"
      ]
     },
     "metadata": {},
     "output_type": "display_data"
    },
    {
     "data": {
      "text/html": [
       "57"
      ],
      "text/latex": [
       "57"
      ],
      "text/markdown": [
       "57"
      ],
      "text/plain": [
       "[1] 57"
      ]
     },
     "metadata": {},
     "output_type": "display_data"
    }
   ],
   "source": [
    "length(rownames(sample_clean))\n",
    "length(rownames(parent))"
   ]
  },
  {
   "cell_type": "code",
   "execution_count": 40,
   "id": "f53f908a-0b9c-40d6-8683-b9a2c851f5a3",
   "metadata": {},
   "outputs": [],
   "source": [
    "# Check that all rownames in sample_clean are in parent\n",
    "stopifnot(all(rownames(sample_clean) %in% rownames(parent)))\n",
    "\n",
    "# Subset parent and keep it a data frame\n",
    "parent_subset <- parent[rownames(sample_clean), , drop = FALSE]\n",
    "\n",
    "# Combine using cbind\n",
    "sample_clean$Cluster <- parent_subset$Cluster"
   ]
  },
  {
   "cell_type": "code",
   "execution_count": 42,
   "id": "65bfc831-471c-49c6-bad2-ee9dbf720128",
   "metadata": {},
   "outputs": [
    {
     "data": {
      "text/plain": [
       "\n",
       " 1  2 \n",
       "35 22 "
      ]
     },
     "metadata": {},
     "output_type": "display_data"
    },
    {
     "data": {
      "text/html": [
       "FALSE"
      ],
      "text/latex": [
       "FALSE"
      ],
      "text/markdown": [
       "FALSE"
      ],
      "text/plain": [
       "[1] FALSE"
      ]
     },
     "metadata": {},
     "output_type": "display_data"
    }
   ],
   "source": [
    "table(sample_clean$Cluster) #35 and 22\n",
    "any(is.na(sample_clean$Cluster))"
   ]
  },
  {
   "cell_type": "markdown",
   "id": "4b8486bb-c14c-4d9e-b05e-a5101ad81855",
   "metadata": {},
   "source": [
    "### DESeq2 set up"
   ]
  },
  {
   "cell_type": "code",
   "execution_count": 43,
   "id": "708aeda8-c496-4aa0-a575-66fd69c4e682",
   "metadata": {},
   "outputs": [
    {
     "data": {
      "text/html": [
       "'1.38.3'"
      ],
      "text/latex": [
       "'1.38.3'"
      ],
      "text/markdown": [
       "'1.38.3'"
      ],
      "text/plain": [
       "[1] \"1.38.3\""
      ]
     },
     "metadata": {},
     "output_type": "display_data"
    }
   ],
   "source": [
    "package.version(\"DESeq2\")"
   ]
  },
  {
   "cell_type": "code",
   "execution_count": 44,
   "id": "031aac60-e665-41e5-a7f3-0ce4f25f520b",
   "metadata": {},
   "outputs": [
    {
     "data": {
      "text/html": [
       "<table class=\"dataframe\">\n",
       "<caption>A sample_data: 6 × 95315</caption>\n",
       "<thead>\n",
       "\t<tr><th></th><th scope=col>Health_Status</th><th scope=col>colony</th><th scope=col>Date_16S</th><th scope=col>double_band</th><th scope=col>date_sampled</th><th scope=col>transect</th><th scope=col>species</th><th scope=col>MonthYear</th><th scope=col>TACGGAGGGTGCGAGCGTTAATCGGAATTACTGGGCGTAAAGCGCATGCAGGTGGTTTGTTAAGTCAGATGTGAAAGCCCGGGGCTCAACCTCGGAATAGCATTTGAAACTGGCAGACTAGAGTACTGTAGAGGGGGGTAGAATTTCAGGTGTAGCGGTGAAATGCGTAGAGATCTGAAGGAATACCGGTGGCGAAGGCGGCCCCCTGGACAGATACTGACACTCAGATGCGAAAGCGTGGGGAGCAAACAGG</th><th scope=col>ATACGGAGGGGGTTAGCGTTGTTCGGAATTACTGGGCGTAAAGCGCGTGTAGGCGGAACGATCAGTCGGAGGTGAAATCCCGGGGCTTAACCCCGGAACTGCCTTCGATACTATCGTTCTAGAGATCGGAAGAGGTGAGTGGAATTCCCAGTGTAGAGGTGGAATTCGTAGATATTGGGAAGAACACCAGAGGCGAAGGCGACTCACTGGTCCGATACTGACGCTCAGACGCGAAAGTGTGGGGAGCAAACAGGA</th><th scope=col>⋯</th><th scope=col>TCCCTGTCTCTTATACACATCTCCGAGCCCACGAGACAACAGGACATCTGGTGTGCCGTGGTGTGTTTGGAGGGGGGGGGGGGGGGGGGGGGGGGGGGGGGGGGGGGGGGGGGGGGGGGGGGGGGGGGGGGGGGGGGGGGGGGGGGCCCCCCCCCCCCCCCCCCCCCCCCCCCCCCCCCCCCCCCCCCCCCCCCCCCCCCCCCCCCCCCCCCCCCCCCCCCCCCCCCCCCCCCCCCCCCCCCCCCCCCCCCCCCCCCCCCCCCCCCCCCCCCCCCCCCCTTTTTAATGATACGGCGACCACCGAGATCTACACAATTCCGGTCGTCGGCAGCGTCAGATGTGTATAAGAGACAGGT</th><th scope=col>TCCCTGTCTCTTATACACATCTCCGAGCCCACGAGACGCATGTCTATCTGGTGTGGCGGGGTTTGTTTGGGGGGGGGGGGGGGGGGGGGGGGGGGGGGGGGGGGGGGGGGGGGGGGGGGGGGGGGGGGGGGGGGGGGGGGGGGGGGGGGGGGGGGGGGGGGGGGGGGGGGGGGGGGGGGGGGGGGGGGGGGGGGGGGGGGGGGGGGGGGGGGGGGGGGGGGGGGGGGGGGGGGGGGGGGGGGGGGGGGGGGGGGGGGGGGGGGGGGGGGGGGGGGGGG</th><th scope=col>TCCCTGTCTCTTATACACATCTCCGAGCCCACGAGACAACAGGACATCTGGTGTGGCGGGGTGTGGTTGGGGGGGGGGGGGGGGGGGGGGGGGGGGGGGGGGGGGGGGGGGGGGGGGGGGGGGGGGGGGGGGGGGGGGGGGGGGGGGGGGGGGGGGGGGGGGGGGGGGGGGGGGGGGGGGGGGGGGGGGGGGGGGGGGGGGGGGGGGGGGGGGGGGGGGGGGGGGGGGGGGGGGGGGGGGGGGGGGGGGGGGGGGGGGGGGGGGGGGGGGGGGGGGGG</th><th scope=col>input</th><th scope=col>filtered</th><th scope=col>denoisedF</th><th scope=col>denoisedR</th><th scope=col>merged</th><th scope=col>nonchim</th><th scope=col>Cluster</th></tr>\n",
       "\t<tr><th></th><th scope=col>&lt;chr&gt;</th><th scope=col>&lt;chr&gt;</th><th scope=col>&lt;chr&gt;</th><th scope=col>&lt;chr&gt;</th><th scope=col>&lt;fct&gt;</th><th scope=col>&lt;chr&gt;</th><th scope=col>&lt;chr&gt;</th><th scope=col>&lt;fct&gt;</th><th scope=col>&lt;int&gt;</th><th scope=col>&lt;int&gt;</th><th scope=col>⋯</th><th scope=col>&lt;int&gt;</th><th scope=col>&lt;int&gt;</th><th scope=col>&lt;int&gt;</th><th scope=col>&lt;int&gt;</th><th scope=col>&lt;int&gt;</th><th scope=col>&lt;int&gt;</th><th scope=col>&lt;int&gt;</th><th scope=col>&lt;int&gt;</th><th scope=col>&lt;int&gt;</th><th scope=col>&lt;fct&gt;</th></tr>\n",
       "</thead>\n",
       "<tbody>\n",
       "\t<tr><th scope=row>012024_BEL_CBC_T1_557_SSID</th><td>Healthy</td><td>1_3 </td><td>3_4_2025</td><td>y</td><td>012024</td><td>T1</td><td>SSID</td><td>Jan 2024</td><td>580</td><td>  0</td><td>⋯</td><td>0</td><td>0</td><td>0</td><td>189570</td><td>176082</td><td>171436</td><td>173162</td><td>142705</td><td>129120</td><td>1</td></tr>\n",
       "\t<tr><th scope=row>012024_BEL_CBC_T1_563_PSTR</th><td>Healthy</td><td>1_12</td><td>3_6_2025</td><td> </td><td>012024</td><td>T1</td><td>PSTR</td><td>Jan 2024</td><td>  0</td><td>  0</td><td>⋯</td><td>0</td><td>0</td><td>0</td><td> 98511</td><td> 89332</td><td> 88739</td><td> 88868</td><td> 87695</td><td> 44586</td><td>2</td></tr>\n",
       "\t<tr><th scope=row>012024_BEL_CBC_T2_601_OFAV</th><td>Healthy</td><td>2_79</td><td>3_4_2025</td><td> </td><td>012024</td><td>T2</td><td>OFAV</td><td>Jan 2024</td><td>279</td><td>  6</td><td>⋯</td><td>0</td><td>0</td><td>0</td><td>280308</td><td>263766</td><td>262084</td><td>262620</td><td>250901</td><td>173382</td><td>1</td></tr>\n",
       "\t<tr><th scope=row>012024_BEL_CBC_T3_631_MCAV</th><td>Healthy</td><td>3_21</td><td>3_4_2025</td><td> </td><td>012024</td><td>T3</td><td>MCAV</td><td>Jan 2024</td><td>328</td><td>  0</td><td>⋯</td><td>0</td><td>0</td><td>0</td><td>536790</td><td>497421</td><td>495886</td><td>496193</td><td>481028</td><td>404924</td><td>1</td></tr>\n",
       "\t<tr><th scope=row>012024_BEL_CBC_T3_633_MCAV</th><td>Healthy</td><td>3_2 </td><td>3_6_2025</td><td> </td><td>012024</td><td>T3</td><td>MCAV</td><td>Jan 2024</td><td>  0</td><td>  0</td><td>⋯</td><td>0</td><td>0</td><td>0</td><td>163169</td><td>154836</td><td>154032</td><td>153929</td><td>151918</td><td> 62656</td><td>2</td></tr>\n",
       "\t<tr><th scope=row>012024_BEL_CBC_T3_637_SSID</th><td>Healthy</td><td>3_5 </td><td>3_6_2025</td><td> </td><td>012024</td><td>T3</td><td>SSID</td><td>Jan 2024</td><td>  0</td><td>128</td><td>⋯</td><td>0</td><td>0</td><td>0</td><td> 22749</td><td> 21151</td><td> 20332</td><td> 20453</td><td> 19464</td><td> 17819</td><td>2</td></tr>\n",
       "</tbody>\n",
       "</table>\n"
      ],
      "text/latex": [
       "A sample\\_data: 6 × 95315\n",
       "\\begin{tabular}{r|lllllllllllllllllllll}\n",
       "  & Health\\_Status & colony & Date\\_16S & double\\_band & date\\_sampled & transect & species & MonthYear & TACGGAGGGTGCGAGCGTTAATCGGAATTACTGGGCGTAAAGCGCATGCAGGTGGTTTGTTAAGTCAGATGTGAAAGCCCGGGGCTCAACCTCGGAATAGCATTTGAAACTGGCAGACTAGAGTACTGTAGAGGGGGGTAGAATTTCAGGTGTAGCGGTGAAATGCGTAGAGATCTGAAGGAATACCGGTGGCGAAGGCGGCCCCCTGGACAGATACTGACACTCAGATGCGAAAGCGTGGGGAGCAAACAGG & ATACGGAGGGGGTTAGCGTTGTTCGGAATTACTGGGCGTAAAGCGCGTGTAGGCGGAACGATCAGTCGGAGGTGAAATCCCGGGGCTTAACCCCGGAACTGCCTTCGATACTATCGTTCTAGAGATCGGAAGAGGTGAGTGGAATTCCCAGTGTAGAGGTGGAATTCGTAGATATTGGGAAGAACACCAGAGGCGAAGGCGACTCACTGGTCCGATACTGACGCTCAGACGCGAAAGTGTGGGGAGCAAACAGGA & ⋯ & TCCCTGTCTCTTATACACATCTCCGAGCCCACGAGACAACAGGACATCTGGTGTGCCGTGGTGTGTTTGGAGGGGGGGGGGGGGGGGGGGGGGGGGGGGGGGGGGGGGGGGGGGGGGGGGGGGGGGGGGGGGGGGGGGGGGGGGGGCCCCCCCCCCCCCCCCCCCCCCCCCCCCCCCCCCCCCCCCCCCCCCCCCCCCCCCCCCCCCCCCCCCCCCCCCCCCCCCCCCCCCCCCCCCCCCCCCCCCCCCCCCCCCCCCCCCCCCCCCCCCCCCCCCCCCTTTTTAATGATACGGCGACCACCGAGATCTACACAATTCCGGTCGTCGGCAGCGTCAGATGTGTATAAGAGACAGGT & TCCCTGTCTCTTATACACATCTCCGAGCCCACGAGACGCATGTCTATCTGGTGTGGCGGGGTTTGTTTGGGGGGGGGGGGGGGGGGGGGGGGGGGGGGGGGGGGGGGGGGGGGGGGGGGGGGGGGGGGGGGGGGGGGGGGGGGGGGGGGGGGGGGGGGGGGGGGGGGGGGGGGGGGGGGGGGGGGGGGGGGGGGGGGGGGGGGGGGGGGGGGGGGGGGGGGGGGGGGGGGGGGGGGGGGGGGGGGGGGGGGGGGGGGGGGGGGGGGGGGGGGGGGGGG & TCCCTGTCTCTTATACACATCTCCGAGCCCACGAGACAACAGGACATCTGGTGTGGCGGGGTGTGGTTGGGGGGGGGGGGGGGGGGGGGGGGGGGGGGGGGGGGGGGGGGGGGGGGGGGGGGGGGGGGGGGGGGGGGGGGGGGGGGGGGGGGGGGGGGGGGGGGGGGGGGGGGGGGGGGGGGGGGGGGGGGGGGGGGGGGGGGGGGGGGGGGGGGGGGGGGGGGGGGGGGGGGGGGGGGGGGGGGGGGGGGGGGGGGGGGGGGGGGGGGGGGGGGGGG & input & filtered & denoisedF & denoisedR & merged & nonchim & Cluster\\\\\n",
       "  & <chr> & <chr> & <chr> & <chr> & <fct> & <chr> & <chr> & <fct> & <int> & <int> & ⋯ & <int> & <int> & <int> & <int> & <int> & <int> & <int> & <int> & <int> & <fct>\\\\\n",
       "\\hline\n",
       "\t012024\\_BEL\\_CBC\\_T1\\_557\\_SSID & Healthy & 1\\_3  & 3\\_4\\_2025 & y & 012024 & T1 & SSID & Jan 2024 & 580 &   0 & ⋯ & 0 & 0 & 0 & 189570 & 176082 & 171436 & 173162 & 142705 & 129120 & 1\\\\\n",
       "\t012024\\_BEL\\_CBC\\_T1\\_563\\_PSTR & Healthy & 1\\_12 & 3\\_6\\_2025 &   & 012024 & T1 & PSTR & Jan 2024 &   0 &   0 & ⋯ & 0 & 0 & 0 &  98511 &  89332 &  88739 &  88868 &  87695 &  44586 & 2\\\\\n",
       "\t012024\\_BEL\\_CBC\\_T2\\_601\\_OFAV & Healthy & 2\\_79 & 3\\_4\\_2025 &   & 012024 & T2 & OFAV & Jan 2024 & 279 &   6 & ⋯ & 0 & 0 & 0 & 280308 & 263766 & 262084 & 262620 & 250901 & 173382 & 1\\\\\n",
       "\t012024\\_BEL\\_CBC\\_T3\\_631\\_MCAV & Healthy & 3\\_21 & 3\\_4\\_2025 &   & 012024 & T3 & MCAV & Jan 2024 & 328 &   0 & ⋯ & 0 & 0 & 0 & 536790 & 497421 & 495886 & 496193 & 481028 & 404924 & 1\\\\\n",
       "\t012024\\_BEL\\_CBC\\_T3\\_633\\_MCAV & Healthy & 3\\_2  & 3\\_6\\_2025 &   & 012024 & T3 & MCAV & Jan 2024 &   0 &   0 & ⋯ & 0 & 0 & 0 & 163169 & 154836 & 154032 & 153929 & 151918 &  62656 & 2\\\\\n",
       "\t012024\\_BEL\\_CBC\\_T3\\_637\\_SSID & Healthy & 3\\_5  & 3\\_6\\_2025 &   & 012024 & T3 & SSID & Jan 2024 &   0 & 128 & ⋯ & 0 & 0 & 0 &  22749 &  21151 &  20332 &  20453 &  19464 &  17819 & 2\\\\\n",
       "\\end{tabular}\n"
      ],
      "text/markdown": [
       "\n",
       "A sample_data: 6 × 95315\n",
       "\n",
       "| <!--/--> | Health_Status &lt;chr&gt; | colony &lt;chr&gt; | Date_16S &lt;chr&gt; | double_band &lt;chr&gt; | date_sampled &lt;fct&gt; | transect &lt;chr&gt; | species &lt;chr&gt; | MonthYear &lt;fct&gt; | TACGGAGGGTGCGAGCGTTAATCGGAATTACTGGGCGTAAAGCGCATGCAGGTGGTTTGTTAAGTCAGATGTGAAAGCCCGGGGCTCAACCTCGGAATAGCATTTGAAACTGGCAGACTAGAGTACTGTAGAGGGGGGTAGAATTTCAGGTGTAGCGGTGAAATGCGTAGAGATCTGAAGGAATACCGGTGGCGAAGGCGGCCCCCTGGACAGATACTGACACTCAGATGCGAAAGCGTGGGGAGCAAACAGG &lt;int&gt; | ATACGGAGGGGGTTAGCGTTGTTCGGAATTACTGGGCGTAAAGCGCGTGTAGGCGGAACGATCAGTCGGAGGTGAAATCCCGGGGCTTAACCCCGGAACTGCCTTCGATACTATCGTTCTAGAGATCGGAAGAGGTGAGTGGAATTCCCAGTGTAGAGGTGGAATTCGTAGATATTGGGAAGAACACCAGAGGCGAAGGCGACTCACTGGTCCGATACTGACGCTCAGACGCGAAAGTGTGGGGAGCAAACAGGA &lt;int&gt; | ⋯ ⋯ | TCCCTGTCTCTTATACACATCTCCGAGCCCACGAGACAACAGGACATCTGGTGTGCCGTGGTGTGTTTGGAGGGGGGGGGGGGGGGGGGGGGGGGGGGGGGGGGGGGGGGGGGGGGGGGGGGGGGGGGGGGGGGGGGGGGGGGGGGCCCCCCCCCCCCCCCCCCCCCCCCCCCCCCCCCCCCCCCCCCCCCCCCCCCCCCCCCCCCCCCCCCCCCCCCCCCCCCCCCCCCCCCCCCCCCCCCCCCCCCCCCCCCCCCCCCCCCCCCCCCCCCCCCCCCCTTTTTAATGATACGGCGACCACCGAGATCTACACAATTCCGGTCGTCGGCAGCGTCAGATGTGTATAAGAGACAGGT &lt;int&gt; | TCCCTGTCTCTTATACACATCTCCGAGCCCACGAGACGCATGTCTATCTGGTGTGGCGGGGTTTGTTTGGGGGGGGGGGGGGGGGGGGGGGGGGGGGGGGGGGGGGGGGGGGGGGGGGGGGGGGGGGGGGGGGGGGGGGGGGGGGGGGGGGGGGGGGGGGGGGGGGGGGGGGGGGGGGGGGGGGGGGGGGGGGGGGGGGGGGGGGGGGGGGGGGGGGGGGGGGGGGGGGGGGGGGGGGGGGGGGGGGGGGGGGGGGGGGGGGGGGGGGGGGGGGGGGG &lt;int&gt; | TCCCTGTCTCTTATACACATCTCCGAGCCCACGAGACAACAGGACATCTGGTGTGGCGGGGTGTGGTTGGGGGGGGGGGGGGGGGGGGGGGGGGGGGGGGGGGGGGGGGGGGGGGGGGGGGGGGGGGGGGGGGGGGGGGGGGGGGGGGGGGGGGGGGGGGGGGGGGGGGGGGGGGGGGGGGGGGGGGGGGGGGGGGGGGGGGGGGGGGGGGGGGGGGGGGGGGGGGGGGGGGGGGGGGGGGGGGGGGGGGGGGGGGGGGGGGGGGGGGGGGGGGGGGG &lt;int&gt; | input &lt;int&gt; | filtered &lt;int&gt; | denoisedF &lt;int&gt; | denoisedR &lt;int&gt; | merged &lt;int&gt; | nonchim &lt;int&gt; | Cluster &lt;fct&gt; |\n",
       "|---|---|---|---|---|---|---|---|---|---|---|---|---|---|---|---|---|---|---|---|---|---|\n",
       "| 012024_BEL_CBC_T1_557_SSID | Healthy | 1_3  | 3_4_2025 | y | 012024 | T1 | SSID | Jan 2024 | 580 |   0 | ⋯ | 0 | 0 | 0 | 189570 | 176082 | 171436 | 173162 | 142705 | 129120 | 1 |\n",
       "| 012024_BEL_CBC_T1_563_PSTR | Healthy | 1_12 | 3_6_2025 | <!----> | 012024 | T1 | PSTR | Jan 2024 |   0 |   0 | ⋯ | 0 | 0 | 0 |  98511 |  89332 |  88739 |  88868 |  87695 |  44586 | 2 |\n",
       "| 012024_BEL_CBC_T2_601_OFAV | Healthy | 2_79 | 3_4_2025 | <!----> | 012024 | T2 | OFAV | Jan 2024 | 279 |   6 | ⋯ | 0 | 0 | 0 | 280308 | 263766 | 262084 | 262620 | 250901 | 173382 | 1 |\n",
       "| 012024_BEL_CBC_T3_631_MCAV | Healthy | 3_21 | 3_4_2025 | <!----> | 012024 | T3 | MCAV | Jan 2024 | 328 |   0 | ⋯ | 0 | 0 | 0 | 536790 | 497421 | 495886 | 496193 | 481028 | 404924 | 1 |\n",
       "| 012024_BEL_CBC_T3_633_MCAV | Healthy | 3_2  | 3_6_2025 | <!----> | 012024 | T3 | MCAV | Jan 2024 |   0 |   0 | ⋯ | 0 | 0 | 0 | 163169 | 154836 | 154032 | 153929 | 151918 |  62656 | 2 |\n",
       "| 012024_BEL_CBC_T3_637_SSID | Healthy | 3_5  | 3_6_2025 | <!----> | 012024 | T3 | SSID | Jan 2024 |   0 | 128 | ⋯ | 0 | 0 | 0 |  22749 |  21151 |  20332 |  20453 |  19464 |  17819 | 2 |\n",
       "\n"
      ],
      "text/plain": [
       "                           Health_Status colony Date_16S double_band\n",
       "012024_BEL_CBC_T1_557_SSID Healthy       1_3    3_4_2025 y          \n",
       "012024_BEL_CBC_T1_563_PSTR Healthy       1_12   3_6_2025            \n",
       "012024_BEL_CBC_T2_601_OFAV Healthy       2_79   3_4_2025            \n",
       "012024_BEL_CBC_T3_631_MCAV Healthy       3_21   3_4_2025            \n",
       "012024_BEL_CBC_T3_633_MCAV Healthy       3_2    3_6_2025            \n",
       "012024_BEL_CBC_T3_637_SSID Healthy       3_5    3_6_2025            \n",
       "                           date_sampled transect species MonthYear\n",
       "012024_BEL_CBC_T1_557_SSID 012024       T1       SSID    Jan 2024 \n",
       "012024_BEL_CBC_T1_563_PSTR 012024       T1       PSTR    Jan 2024 \n",
       "012024_BEL_CBC_T2_601_OFAV 012024       T2       OFAV    Jan 2024 \n",
       "012024_BEL_CBC_T3_631_MCAV 012024       T3       MCAV    Jan 2024 \n",
       "012024_BEL_CBC_T3_633_MCAV 012024       T3       MCAV    Jan 2024 \n",
       "012024_BEL_CBC_T3_637_SSID 012024       T3       SSID    Jan 2024 \n",
       "                           TACGGAGGGTGCGAGCGTTAATCGGAATTACTGGGCGTAAAGCGCATGCAGGTGGTTTGTTAAGTCAGATGTGAAAGCCCGGGGCTCAACCTCGGAATAGCATTTGAAACTGGCAGACTAGAGTACTGTAGAGGGGGGTAGAATTTCAGGTGTAGCGGTGAAATGCGTAGAGATCTGAAGGAATACCGGTGGCGAAGGCGGCCCCCTGGACAGATACTGACACTCAGATGCGAAAGCGTGGGGAGCAAACAGG\n",
       "012024_BEL_CBC_T1_557_SSID 580                                                                                                                                                                                                                                                          \n",
       "012024_BEL_CBC_T1_563_PSTR   0                                                                                                                                                                                                                                                          \n",
       "012024_BEL_CBC_T2_601_OFAV 279                                                                                                                                                                                                                                                          \n",
       "012024_BEL_CBC_T3_631_MCAV 328                                                                                                                                                                                                                                                          \n",
       "012024_BEL_CBC_T3_633_MCAV   0                                                                                                                                                                                                                                                          \n",
       "012024_BEL_CBC_T3_637_SSID   0                                                                                                                                                                                                                                                          \n",
       "                           ATACGGAGGGGGTTAGCGTTGTTCGGAATTACTGGGCGTAAAGCGCGTGTAGGCGGAACGATCAGTCGGAGGTGAAATCCCGGGGCTTAACCCCGGAACTGCCTTCGATACTATCGTTCTAGAGATCGGAAGAGGTGAGTGGAATTCCCAGTGTAGAGGTGGAATTCGTAGATATTGGGAAGAACACCAGAGGCGAAGGCGACTCACTGGTCCGATACTGACGCTCAGACGCGAAAGTGTGGGGAGCAAACAGGA\n",
       "012024_BEL_CBC_T1_557_SSID   0                                                                                                                                                                                                                                                            \n",
       "012024_BEL_CBC_T1_563_PSTR   0                                                                                                                                                                                                                                                            \n",
       "012024_BEL_CBC_T2_601_OFAV   6                                                                                                                                                                                                                                                            \n",
       "012024_BEL_CBC_T3_631_MCAV   0                                                                                                                                                                                                                                                            \n",
       "012024_BEL_CBC_T3_633_MCAV   0                                                                                                                                                                                                                                                            \n",
       "012024_BEL_CBC_T3_637_SSID 128                                                                                                                                                                                                                                                            \n",
       "                           ⋯\n",
       "012024_BEL_CBC_T1_557_SSID ⋯\n",
       "012024_BEL_CBC_T1_563_PSTR ⋯\n",
       "012024_BEL_CBC_T2_601_OFAV ⋯\n",
       "012024_BEL_CBC_T3_631_MCAV ⋯\n",
       "012024_BEL_CBC_T3_633_MCAV ⋯\n",
       "012024_BEL_CBC_T3_637_SSID ⋯\n",
       "                           TCCCTGTCTCTTATACACATCTCCGAGCCCACGAGACAACAGGACATCTGGTGTGCCGTGGTGTGTTTGGAGGGGGGGGGGGGGGGGGGGGGGGGGGGGGGGGGGGGGGGGGGGGGGGGGGGGGGGGGGGGGGGGGGGGGGGGGGGCCCCCCCCCCCCCCCCCCCCCCCCCCCCCCCCCCCCCCCCCCCCCCCCCCCCCCCCCCCCCCCCCCCCCCCCCCCCCCCCCCCCCCCCCCCCCCCCCCCCCCCCCCCCCCCCCCCCCCCCCCCCCCCCCCCCCTTTTTAATGATACGGCGACCACCGAGATCTACACAATTCCGGTCGTCGGCAGCGTCAGATGTGTATAAGAGACAGGT\n",
       "012024_BEL_CBC_T1_557_SSID 0                                                                                                                                                                                                                                                                                                                                                                   \n",
       "012024_BEL_CBC_T1_563_PSTR 0                                                                                                                                                                                                                                                                                                                                                                   \n",
       "012024_BEL_CBC_T2_601_OFAV 0                                                                                                                                                                                                                                                                                                                                                                   \n",
       "012024_BEL_CBC_T3_631_MCAV 0                                                                                                                                                                                                                                                                                                                                                                   \n",
       "012024_BEL_CBC_T3_633_MCAV 0                                                                                                                                                                                                                                                                                                                                                                   \n",
       "012024_BEL_CBC_T3_637_SSID 0                                                                                                                                                                                                                                                                                                                                                                   \n",
       "                           TCCCTGTCTCTTATACACATCTCCGAGCCCACGAGACGCATGTCTATCTGGTGTGGCGGGGTTTGTTTGGGGGGGGGGGGGGGGGGGGGGGGGGGGGGGGGGGGGGGGGGGGGGGGGGGGGGGGGGGGGGGGGGGGGGGGGGGGGGGGGGGGGGGGGGGGGGGGGGGGGGGGGGGGGGGGGGGGGGGGGGGGGGGGGGGGGGGGGGGGGGGGGGGGGGGGGGGGGGGGGGGGGGGGGGGGGGGGGGGGGGGGGGGGGGGGGGGGGGGGGGGGGGGGGG\n",
       "012024_BEL_CBC_T1_557_SSID 0                                                                                                                                                                                                                                                                                     \n",
       "012024_BEL_CBC_T1_563_PSTR 0                                                                                                                                                                                                                                                                                     \n",
       "012024_BEL_CBC_T2_601_OFAV 0                                                                                                                                                                                                                                                                                     \n",
       "012024_BEL_CBC_T3_631_MCAV 0                                                                                                                                                                                                                                                                                     \n",
       "012024_BEL_CBC_T3_633_MCAV 0                                                                                                                                                                                                                                                                                     \n",
       "012024_BEL_CBC_T3_637_SSID 0                                                                                                                                                                                                                                                                                     \n",
       "                           TCCCTGTCTCTTATACACATCTCCGAGCCCACGAGACAACAGGACATCTGGTGTGGCGGGGTGTGGTTGGGGGGGGGGGGGGGGGGGGGGGGGGGGGGGGGGGGGGGGGGGGGGGGGGGGGGGGGGGGGGGGGGGGGGGGGGGGGGGGGGGGGGGGGGGGGGGGGGGGGGGGGGGGGGGGGGGGGGGGGGGGGGGGGGGGGGGGGGGGGGGGGGGGGGGGGGGGGGGGGGGGGGGGGGGGGGGGGGGGGGGGGGGGGGGGGGGGGGGGGGGGGGGGGG\n",
       "012024_BEL_CBC_T1_557_SSID 0                                                                                                                                                                                                                                                                                     \n",
       "012024_BEL_CBC_T1_563_PSTR 0                                                                                                                                                                                                                                                                                     \n",
       "012024_BEL_CBC_T2_601_OFAV 0                                                                                                                                                                                                                                                                                     \n",
       "012024_BEL_CBC_T3_631_MCAV 0                                                                                                                                                                                                                                                                                     \n",
       "012024_BEL_CBC_T3_633_MCAV 0                                                                                                                                                                                                                                                                                     \n",
       "012024_BEL_CBC_T3_637_SSID 0                                                                                                                                                                                                                                                                                     \n",
       "                           input  filtered denoisedF denoisedR merged nonchim\n",
       "012024_BEL_CBC_T1_557_SSID 189570 176082   171436    173162    142705 129120 \n",
       "012024_BEL_CBC_T1_563_PSTR  98511  89332    88739     88868     87695  44586 \n",
       "012024_BEL_CBC_T2_601_OFAV 280308 263766   262084    262620    250901 173382 \n",
       "012024_BEL_CBC_T3_631_MCAV 536790 497421   495886    496193    481028 404924 \n",
       "012024_BEL_CBC_T3_633_MCAV 163169 154836   154032    153929    151918  62656 \n",
       "012024_BEL_CBC_T3_637_SSID  22749  21151    20332     20453     19464  17819 \n",
       "                           Cluster\n",
       "012024_BEL_CBC_T1_557_SSID 1      \n",
       "012024_BEL_CBC_T1_563_PSTR 2      \n",
       "012024_BEL_CBC_T2_601_OFAV 1      \n",
       "012024_BEL_CBC_T3_631_MCAV 1      \n",
       "012024_BEL_CBC_T3_633_MCAV 2      \n",
       "012024_BEL_CBC_T3_637_SSID 2      "
      ]
     },
     "metadata": {},
     "output_type": "display_data"
    }
   ],
   "source": [
    "# Step 1: Add the cleaned sample data (with cluster assignments) back to the phyloseq object\n",
    "sample_data(ps_clean) <- sample_data(sample_clean)\n",
    "head(sample_data(ps_clean))"
   ]
  },
  {
   "cell_type": "code",
   "execution_count": 45,
   "id": "9f6bcaa8-34cb-4af4-9573-3bc200c0e049",
   "metadata": {},
   "outputs": [
    {
     "data": {
      "text/html": [
       "<table class=\"dataframe\">\n",
       "<caption>A otu_table: 6 × 57 of type dbl</caption>\n",
       "<thead>\n",
       "\t<tr><th></th><th scope=col>012024_BEL_CBC_T1_557_SSID</th><th scope=col>012024_BEL_CBC_T1_563_PSTR</th><th scope=col>012024_BEL_CBC_T2_601_OFAV</th><th scope=col>012024_BEL_CBC_T3_631_MCAV</th><th scope=col>012024_BEL_CBC_T3_633_MCAV</th><th scope=col>012024_BEL_CBC_T3_637_SSID</th><th scope=col>012024_BEL_CBC_T4_661_PSTR</th><th scope=col>022024_BEL_CBC_T1_776_PSTR</th><th scope=col>022024_BEL_CBC_T3_851_PSTR</th><th scope=col>022024_BEL_CBC_T4_875_MCAV</th><th scope=col>⋯</th><th scope=col>122022_BEL_CBC_T3_141_PSTR</th><th scope=col>122023_BEL_CBC_T1_507_PAST</th><th scope=col>122023_BEL_CBC_T1_508_SSID</th><th scope=col>122023_BEL_CBC_T2_515_PAST</th><th scope=col>122023_BEL_CBC_T2_518_MCAV</th><th scope=col>122023_BEL_CBC_T3_524_OFAV</th><th scope=col>122023_BEL_CBC_T3_525_PAST</th><th scope=col>122023_BEL_CBC_T3_526_SSID</th><th scope=col>122023_BEL_CBC_T3_531_PSTR</th><th scope=col>122023_BEL_CBC_T3_532_MCAV</th></tr>\n",
       "</thead>\n",
       "<tbody>\n",
       "\t<tr><th scope=row>ASV1</th><td> 580</td><td> 0</td><td> 279</td><td>328</td><td> 0</td><td>0</td><td>  0</td><td>30</td><td>193</td><td> 0</td><td>⋯</td><td>0</td><td> 104</td><td>0</td><td> 0</td><td> 0</td><td>3669</td><td>  0</td><td> 68</td><td> 0</td><td>39</td></tr>\n",
       "\t<tr><th scope=row>ASV3</th><td>4781</td><td> 0</td><td>2321</td><td>117</td><td> 0</td><td>0</td><td>162</td><td>22</td><td>845</td><td> 0</td><td>⋯</td><td>0</td><td>8990</td><td>0</td><td> 0</td><td> 0</td><td>1641</td><td>  0</td><td>235</td><td> 0</td><td>69</td></tr>\n",
       "\t<tr><th scope=row>ASV5</th><td>  60</td><td> 0</td><td> 119</td><td>  0</td><td> 0</td><td>0</td><td> 76</td><td> 0</td><td>318</td><td> 0</td><td>⋯</td><td>0</td><td>4589</td><td>0</td><td> 0</td><td> 0</td><td> 596</td><td>  0</td><td> 90</td><td> 0</td><td>27</td></tr>\n",
       "\t<tr><th scope=row>ASV8</th><td>  32</td><td> 0</td><td>   0</td><td>  0</td><td>17</td><td>0</td><td> 97</td><td> 0</td><td>  0</td><td> 0</td><td>⋯</td><td>0</td><td>   0</td><td>0</td><td>27</td><td>86</td><td>   0</td><td>218</td><td>  0</td><td> 0</td><td> 0</td></tr>\n",
       "\t<tr><th scope=row>ASV9</th><td> 367</td><td> 0</td><td> 543</td><td>121</td><td> 0</td><td>0</td><td>  0</td><td> 0</td><td>  0</td><td> 0</td><td>⋯</td><td>0</td><td> 103</td><td>0</td><td> 0</td><td> 0</td><td> 894</td><td>  0</td><td> 52</td><td> 0</td><td>39</td></tr>\n",
       "\t<tr><th scope=row>ASV10</th><td>   0</td><td>34</td><td>   0</td><td>  0</td><td> 0</td><td>0</td><td>  0</td><td> 0</td><td>364</td><td>64</td><td>⋯</td><td>0</td><td>   0</td><td>0</td><td> 0</td><td> 0</td><td>   0</td><td>  0</td><td>114</td><td>83</td><td>46</td></tr>\n",
       "</tbody>\n",
       "</table>\n"
      ],
      "text/latex": [
       "A otu\\_table: 6 × 57 of type dbl\n",
       "\\begin{tabular}{r|lllllllllllllllllllll}\n",
       "  & 012024\\_BEL\\_CBC\\_T1\\_557\\_SSID & 012024\\_BEL\\_CBC\\_T1\\_563\\_PSTR & 012024\\_BEL\\_CBC\\_T2\\_601\\_OFAV & 012024\\_BEL\\_CBC\\_T3\\_631\\_MCAV & 012024\\_BEL\\_CBC\\_T3\\_633\\_MCAV & 012024\\_BEL\\_CBC\\_T3\\_637\\_SSID & 012024\\_BEL\\_CBC\\_T4\\_661\\_PSTR & 022024\\_BEL\\_CBC\\_T1\\_776\\_PSTR & 022024\\_BEL\\_CBC\\_T3\\_851\\_PSTR & 022024\\_BEL\\_CBC\\_T4\\_875\\_MCAV & ⋯ & 122022\\_BEL\\_CBC\\_T3\\_141\\_PSTR & 122023\\_BEL\\_CBC\\_T1\\_507\\_PAST & 122023\\_BEL\\_CBC\\_T1\\_508\\_SSID & 122023\\_BEL\\_CBC\\_T2\\_515\\_PAST & 122023\\_BEL\\_CBC\\_T2\\_518\\_MCAV & 122023\\_BEL\\_CBC\\_T3\\_524\\_OFAV & 122023\\_BEL\\_CBC\\_T3\\_525\\_PAST & 122023\\_BEL\\_CBC\\_T3\\_526\\_SSID & 122023\\_BEL\\_CBC\\_T3\\_531\\_PSTR & 122023\\_BEL\\_CBC\\_T3\\_532\\_MCAV\\\\\n",
       "\\hline\n",
       "\tASV1 &  580 &  0 &  279 & 328 &  0 & 0 &   0 & 30 & 193 &  0 & ⋯ & 0 &  104 & 0 &  0 &  0 & 3669 &   0 &  68 &  0 & 39\\\\\n",
       "\tASV3 & 4781 &  0 & 2321 & 117 &  0 & 0 & 162 & 22 & 845 &  0 & ⋯ & 0 & 8990 & 0 &  0 &  0 & 1641 &   0 & 235 &  0 & 69\\\\\n",
       "\tASV5 &   60 &  0 &  119 &   0 &  0 & 0 &  76 &  0 & 318 &  0 & ⋯ & 0 & 4589 & 0 &  0 &  0 &  596 &   0 &  90 &  0 & 27\\\\\n",
       "\tASV8 &   32 &  0 &    0 &   0 & 17 & 0 &  97 &  0 &   0 &  0 & ⋯ & 0 &    0 & 0 & 27 & 86 &    0 & 218 &   0 &  0 &  0\\\\\n",
       "\tASV9 &  367 &  0 &  543 & 121 &  0 & 0 &   0 &  0 &   0 &  0 & ⋯ & 0 &  103 & 0 &  0 &  0 &  894 &   0 &  52 &  0 & 39\\\\\n",
       "\tASV10 &    0 & 34 &    0 &   0 &  0 & 0 &   0 &  0 & 364 & 64 & ⋯ & 0 &    0 & 0 &  0 &  0 &    0 &   0 & 114 & 83 & 46\\\\\n",
       "\\end{tabular}\n"
      ],
      "text/markdown": [
       "\n",
       "A otu_table: 6 × 57 of type dbl\n",
       "\n",
       "| <!--/--> | 012024_BEL_CBC_T1_557_SSID | 012024_BEL_CBC_T1_563_PSTR | 012024_BEL_CBC_T2_601_OFAV | 012024_BEL_CBC_T3_631_MCAV | 012024_BEL_CBC_T3_633_MCAV | 012024_BEL_CBC_T3_637_SSID | 012024_BEL_CBC_T4_661_PSTR | 022024_BEL_CBC_T1_776_PSTR | 022024_BEL_CBC_T3_851_PSTR | 022024_BEL_CBC_T4_875_MCAV | ⋯ | 122022_BEL_CBC_T3_141_PSTR | 122023_BEL_CBC_T1_507_PAST | 122023_BEL_CBC_T1_508_SSID | 122023_BEL_CBC_T2_515_PAST | 122023_BEL_CBC_T2_518_MCAV | 122023_BEL_CBC_T3_524_OFAV | 122023_BEL_CBC_T3_525_PAST | 122023_BEL_CBC_T3_526_SSID | 122023_BEL_CBC_T3_531_PSTR | 122023_BEL_CBC_T3_532_MCAV |\n",
       "|---|---|---|---|---|---|---|---|---|---|---|---|---|---|---|---|---|---|---|---|---|---|\n",
       "| ASV1 |  580 |  0 |  279 | 328 |  0 | 0 |   0 | 30 | 193 |  0 | ⋯ | 0 |  104 | 0 |  0 |  0 | 3669 |   0 |  68 |  0 | 39 |\n",
       "| ASV3 | 4781 |  0 | 2321 | 117 |  0 | 0 | 162 | 22 | 845 |  0 | ⋯ | 0 | 8990 | 0 |  0 |  0 | 1641 |   0 | 235 |  0 | 69 |\n",
       "| ASV5 |   60 |  0 |  119 |   0 |  0 | 0 |  76 |  0 | 318 |  0 | ⋯ | 0 | 4589 | 0 |  0 |  0 |  596 |   0 |  90 |  0 | 27 |\n",
       "| ASV8 |   32 |  0 |    0 |   0 | 17 | 0 |  97 |  0 |   0 |  0 | ⋯ | 0 |    0 | 0 | 27 | 86 |    0 | 218 |   0 |  0 |  0 |\n",
       "| ASV9 |  367 |  0 |  543 | 121 |  0 | 0 |   0 |  0 |   0 |  0 | ⋯ | 0 |  103 | 0 |  0 |  0 |  894 |   0 |  52 |  0 | 39 |\n",
       "| ASV10 |    0 | 34 |    0 |   0 |  0 | 0 |   0 |  0 | 364 | 64 | ⋯ | 0 |    0 | 0 |  0 |  0 |    0 |   0 | 114 | 83 | 46 |\n",
       "\n"
      ],
      "text/plain": [
       "      012024_BEL_CBC_T1_557_SSID 012024_BEL_CBC_T1_563_PSTR\n",
       "ASV1   580                        0                        \n",
       "ASV3  4781                        0                        \n",
       "ASV5    60                        0                        \n",
       "ASV8    32                        0                        \n",
       "ASV9   367                        0                        \n",
       "ASV10    0                       34                        \n",
       "      012024_BEL_CBC_T2_601_OFAV 012024_BEL_CBC_T3_631_MCAV\n",
       "ASV1   279                       328                       \n",
       "ASV3  2321                       117                       \n",
       "ASV5   119                         0                       \n",
       "ASV8     0                         0                       \n",
       "ASV9   543                       121                       \n",
       "ASV10    0                         0                       \n",
       "      012024_BEL_CBC_T3_633_MCAV 012024_BEL_CBC_T3_637_SSID\n",
       "ASV1   0                         0                         \n",
       "ASV3   0                         0                         \n",
       "ASV5   0                         0                         \n",
       "ASV8  17                         0                         \n",
       "ASV9   0                         0                         \n",
       "ASV10  0                         0                         \n",
       "      012024_BEL_CBC_T4_661_PSTR 022024_BEL_CBC_T1_776_PSTR\n",
       "ASV1    0                        30                        \n",
       "ASV3  162                        22                        \n",
       "ASV5   76                         0                        \n",
       "ASV8   97                         0                        \n",
       "ASV9    0                         0                        \n",
       "ASV10   0                         0                        \n",
       "      022024_BEL_CBC_T3_851_PSTR 022024_BEL_CBC_T4_875_MCAV ⋯\n",
       "ASV1  193                         0                         ⋯\n",
       "ASV3  845                         0                         ⋯\n",
       "ASV5  318                         0                         ⋯\n",
       "ASV8    0                         0                         ⋯\n",
       "ASV9    0                         0                         ⋯\n",
       "ASV10 364                        64                         ⋯\n",
       "      122022_BEL_CBC_T3_141_PSTR 122023_BEL_CBC_T1_507_PAST\n",
       "ASV1  0                           104                      \n",
       "ASV3  0                          8990                      \n",
       "ASV5  0                          4589                      \n",
       "ASV8  0                             0                      \n",
       "ASV9  0                           103                      \n",
       "ASV10 0                             0                      \n",
       "      122023_BEL_CBC_T1_508_SSID 122023_BEL_CBC_T2_515_PAST\n",
       "ASV1  0                           0                        \n",
       "ASV3  0                           0                        \n",
       "ASV5  0                           0                        \n",
       "ASV8  0                          27                        \n",
       "ASV9  0                           0                        \n",
       "ASV10 0                           0                        \n",
       "      122023_BEL_CBC_T2_518_MCAV 122023_BEL_CBC_T3_524_OFAV\n",
       "ASV1   0                         3669                      \n",
       "ASV3   0                         1641                      \n",
       "ASV5   0                          596                      \n",
       "ASV8  86                            0                      \n",
       "ASV9   0                          894                      \n",
       "ASV10  0                            0                      \n",
       "      122023_BEL_CBC_T3_525_PAST 122023_BEL_CBC_T3_526_SSID\n",
       "ASV1    0                         68                       \n",
       "ASV3    0                        235                       \n",
       "ASV5    0                         90                       \n",
       "ASV8  218                          0                       \n",
       "ASV9    0                         52                       \n",
       "ASV10   0                        114                       \n",
       "      122023_BEL_CBC_T3_531_PSTR 122023_BEL_CBC_T3_532_MCAV\n",
       "ASV1   0                         39                        \n",
       "ASV3   0                         69                        \n",
       "ASV5   0                         27                        \n",
       "ASV8   0                          0                        \n",
       "ASV9   0                         39                        \n",
       "ASV10 83                         46                        "
      ]
     },
     "metadata": {},
     "output_type": "display_data"
    }
   ],
   "source": [
    "# Step 2: Ensure the order of samples in OTU matches the phyloseq object\n",
    "otu <- otu[, sample_names(ps_clean)]\n",
    "\n",
    "# Step 3: Replace the OTU table in the phyloseq object\n",
    "otu_table(ps_clean) <- otu_table(otu, taxa_are_rows = TRUE)\n",
    "head(otu_table(ps_clean))"
   ]
  },
  {
   "cell_type": "raw",
   "id": "0c914203-536c-4922-859d-65cea95690f0",
   "metadata": {},
   "source": [
    "#other optional way to run DESeq2\n",
    "# Step 1: Use raw phyloseq object\n",
    "ps_raw <- your_phyloseq_object_with_raw_counts\n",
    "\n",
    "# Step 2: Extract count matrix\n",
    "otu_counts <- psotu2veg(ps_raw)\n",
    "\n",
    "# Step 3: Create DESeq2 object\n",
    "dds <- DESeqDataSetFromMatrix(countData = otu_counts,\n",
    "                              colData = sample_data(ps_raw),\n",
    "                              design = ~ condition)  # adjust condition as needed\n",
    "\n",
    "# Step 4: Run DESeq\n",
    "dds <- DESeq(dds)"
   ]
  },
  {
   "cell_type": "code",
   "execution_count": 46,
   "id": "352541e1-3f94-4b71-95a2-2f8d3259553d",
   "metadata": {},
   "outputs": [
    {
     "name": "stderr",
     "output_type": "stream",
     "text": [
      "converting counts to integer mode\n",
      "\n",
      "using pre-existing size factors\n",
      "\n",
      "estimating dispersions\n",
      "\n",
      "gene-wise dispersion estimates\n",
      "\n",
      "mean-dispersion relationship\n",
      "\n",
      "final dispersion estimates\n",
      "\n",
      "fitting model and testing\n",
      "\n",
      "-- replacing outliers and refitting for 3758 genes\n",
      "-- DESeq argument 'minReplicatesForReplace' = 7 \n",
      "-- original counts are preserved in counts(dds)\n",
      "\n",
      "estimating dispersions\n",
      "\n",
      "fitting model and testing\n",
      "\n"
     ]
    }
   ],
   "source": [
    "cluster_dds = phyloseq_to_deseq2(ps_clean, ~ Cluster)\n",
    "gm_mean = function(row) if (all(row == 0)) 0 else exp(mean(log(row[row != 0])))\n",
    "geoMeans = apply(otu, 1, gm_mean)\n",
    "cluster_dds <- estimateSizeFactors(cluster_dds, geoMeans=geoMeans, locfunc=shorth)\n",
    "\n",
    "cluster_dds = DESeq(cluster_dds, test=\"Wald\", fitType=\"parametric\")"
   ]
  },
  {
   "cell_type": "markdown",
   "id": "0a3bb0c9-8587-4af1-96c5-b2bf4fc54ebb",
   "metadata": {},
   "source": [
    "DESeq2 is trying to fit the otus into a a regression (GLM) \n",
    "y = Bo + B1X1 ...\n",
    "y= outcome of gene expression\n",
    "Bo= baseline\n",
    "x= value of cluster (1 or 2)\n",
    "in my case there is only one factor (cluster) with two values (cluster1 and cluster2)\n",
    "\n",
    "goal is to find DEGs between clusters, trying to find log (y*Bo)/B1\n",
    "\n",
    "Ho: logFC=0, no DEGs between the two groups"
   ]
  },
  {
   "cell_type": "code",
   "execution_count": 47,
   "id": "a96055c7-c71b-4348-bbfd-8ea814f6b87a",
   "metadata": {},
   "outputs": [
    {
     "data": {
      "text/html": [
       "<style>\n",
       ".list-inline {list-style: none; margin:0; padding: 0}\n",
       ".list-inline>li {display: inline-block}\n",
       ".list-inline>li:not(:last-child)::after {content: \"\\00b7\"; padding: 0 .5ex}\n",
       "</style>\n",
       "<ol class=list-inline><li>'Intercept'</li><li>'Cluster_2_vs_1'</li></ol>\n"
      ],
      "text/latex": [
       "\\begin{enumerate*}\n",
       "\\item 'Intercept'\n",
       "\\item 'Cluster\\_2\\_vs\\_1'\n",
       "\\end{enumerate*}\n"
      ],
      "text/markdown": [
       "1. 'Intercept'\n",
       "2. 'Cluster_2_vs_1'\n",
       "\n",
       "\n"
      ],
      "text/plain": [
       "[1] \"Intercept\"      \"Cluster_2_vs_1\""
      ]
     },
     "metadata": {},
     "output_type": "display_data"
    }
   ],
   "source": [
    "resultsNames(cluster_dds)"
   ]
  },
  {
   "cell_type": "code",
   "execution_count": 48,
   "id": "a33d555b-8e5d-4ddc-80c0-287245e7cc78",
   "metadata": {},
   "outputs": [
    {
     "data": {
      "text/html": [
       "'DESeqDataSet object of length 6787 with 23 metadata columns'"
      ],
      "text/latex": [
       "'DESeqDataSet object of length 6787 with 23 metadata columns'"
      ],
      "text/markdown": [
       "'DESeqDataSet object of length 6787 with 23 metadata columns'"
      ],
      "text/plain": [
       "[1] \"DESeqDataSet object of length 6787 with 23 metadata columns\""
      ]
     },
     "metadata": {},
     "output_type": "display_data"
    }
   ],
   "source": [
    "summary(cluster_dds)"
   ]
  },
  {
   "cell_type": "code",
   "execution_count": 49,
   "id": "da265a4e-64ef-4d3e-88d5-80226235dde5",
   "metadata": {},
   "outputs": [],
   "source": [
    "saveRDS(cluster_dds, file = \"/work/pi_sarah_gignouxwolfsohn_uml_edu/caroline/RDS/cluster_dds.rds\")"
   ]
  },
  {
   "cell_type": "markdown",
   "id": "a8825897-d47e-457a-a99c-d9c74efb9c1f",
   "metadata": {},
   "source": [
    "### DESeq test results"
   ]
  },
  {
   "cell_type": "code",
   "execution_count": 50,
   "id": "519044a5-b722-4028-aae2-792e2456da04",
   "metadata": {},
   "outputs": [
    {
     "data": {
      "text/html": [
       "713"
      ],
      "text/latex": [
       "713"
      ],
      "text/markdown": [
       "713"
      ],
      "text/plain": [
       "[1] 713"
      ]
     },
     "metadata": {},
     "output_type": "display_data"
    }
   ],
   "source": [
    "# Extract results (Cluster1 vs Cluster2)\n",
    "res = results(cluster_dds, cooksCutoff = FALSE, name = \"Cluster_2_vs_1\")\n",
    "alpha = 0.05\n",
    "# Filter for significantly differentially abundant taxa p adjusted value\n",
    "sig_cluster = res[which(res$padj < alpha), ]\n",
    "# Combine with taxonomy information (from the same phyloseq object used for DESeq2)\n",
    "sig_cluster = cbind(as(sig_cluster, \"data.frame\"), as(tax_table(ps_clean)[rownames(sig_cluster), ], \"matrix\"))\n",
    "NROW(sig_cluster)"
   ]
  },
  {
   "cell_type": "code",
   "execution_count": 51,
   "id": "6f503c6c-7f1d-4db8-bc24-1d1238ceba13",
   "metadata": {},
   "outputs": [],
   "source": [
    "saveRDS(res, file = \"/work/pi_sarah_gignouxwolfsohn_uml_edu/caroline/RDS/res_dds.rds\")"
   ]
  },
  {
   "cell_type": "markdown",
   "id": "c8f3dabe-5077-48be-91a0-d36aa0989e7c",
   "metadata": {},
   "source": [
    "### look at the OTUs that were significantly different between the two tissues. "
   ]
  },
  {
   "cell_type": "code",
   "execution_count": 52,
   "id": "059cef66-016b-46d1-a494-b37512da2370",
   "metadata": {},
   "outputs": [],
   "source": [
    "sig_clust_simp=sig_cluster[,c(\"log2FoldChange\", \"Kingdom\", \"Phylum\", \"Class\", \"Order\", \"Family\", \"Genus\")] \n",
    "sig_clust_simp <- as.matrix(sig_clust_simp)\n",
    "sig_clust_simpTAX <- tax_table(sig_clust_simp)\n",
    "sig_cluster_log <- ps_clean\n",
    "tax_table(sig_cluster_log)=sig_clust_simpTAX"
   ]
  },
  {
   "cell_type": "code",
   "execution_count": 53,
   "id": "9f342142-81b8-4a28-bdc4-6a7524658f72",
   "metadata": {},
   "outputs": [
    {
     "data": {
      "text/html": [
       "<table class=\"dataframe\">\n",
       "<caption>A taxonomyTable: 101 × 7 of type chr</caption>\n",
       "<thead>\n",
       "\t<tr><th></th><th scope=col>log2FoldChange</th><th scope=col>Kingdom</th><th scope=col>Phylum</th><th scope=col>Class</th><th scope=col>Order</th><th scope=col>Family</th><th scope=col>Genus</th></tr>\n",
       "</thead>\n",
       "<tbody>\n",
       "\t<tr><th scope=row>ASV1</th><td> -7.493426</td><td>Bacteria</td><td>Pseudomonadota </td><td>Gammaproteobacteria</td><td>Enterobacterales     </td><td>Vibrionaceae          </td><td>Vibrio                       </td></tr>\n",
       "\t<tr><th scope=row>ASV3</th><td> -8.741219</td><td>Bacteria</td><td>Pseudomonadota </td><td>Gammaproteobacteria</td><td>Pseudomonadales      </td><td>Endozoicomonadaceae   </td><td>Parendozoicomonas            </td></tr>\n",
       "\t<tr><th scope=row>ASV5</th><td> -9.085456</td><td>Bacteria</td><td>Pseudomonadota </td><td>Gammaproteobacteria</td><td>Pseudomonadales      </td><td>Endozoicomonadaceae   </td><td>Parendozoicomonas            </td></tr>\n",
       "\t<tr><th scope=row>ASV8</th><td>  6.403973</td><td>Bacteria</td><td>Pseudomonadota </td><td>Alphaproteobacteria</td><td>Rhodospirillales     </td><td>Terasakiellaceae      </td><td>Marivibrio                   </td></tr>\n",
       "\t<tr><th scope=row>ASV9</th><td>-10.338458</td><td>Bacteria</td><td>Pseudomonadota </td><td>Gammaproteobacteria</td><td>Enterobacterales     </td><td>Vibrionaceae          </td><td>Vibrio                       </td></tr>\n",
       "\t<tr><th scope=row>ASV14</th><td>-11.097978</td><td>Bacteria</td><td>Pseudomonadota </td><td>Gammaproteobacteria</td><td>Nitrosococcales      </td><td>Methylophagaceae      </td><td>Marine Methylotrophic Group 3</td></tr>\n",
       "\t<tr><th scope=row>ASV15</th><td> -4.719328</td><td>Bacteria</td><td>Pseudomonadota </td><td>Gammaproteobacteria</td><td>Enterobacterales     </td><td>Idiomarinaceae        </td><td>Idiomarina                   </td></tr>\n",
       "\t<tr><th scope=row>ASV20</th><td> -6.692844</td><td>Bacteria</td><td>Pseudomonadota </td><td>Gammaproteobacteria</td><td>Enterobacterales     </td><td>Vibrionaceae          </td><td>Vibrio                       </td></tr>\n",
       "\t<tr><th scope=row>ASV22</th><td>  8.365782</td><td>Bacteria</td><td>Pseudomonadota </td><td>Alphaproteobacteria</td><td>Puniceispirillales   </td><td>SAR116 clade          </td><td>NA                           </td></tr>\n",
       "\t<tr><th scope=row>ASV23</th><td> -8.993143</td><td>Bacteria</td><td>Pseudomonadota </td><td>Gammaproteobacteria</td><td>Enterobacterales     </td><td>Vibrionaceae          </td><td>Vibrio                       </td></tr>\n",
       "\t<tr><th scope=row>ASV26</th><td> -9.829644</td><td>Bacteria</td><td>Pseudomonadota </td><td>Gammaproteobacteria</td><td>Enterobacterales     </td><td>Vibrionaceae          </td><td>Photobacterium               </td></tr>\n",
       "\t<tr><th scope=row>ASV27</th><td>-10.239849</td><td>Bacteria</td><td>Pseudomonadota </td><td>Gammaproteobacteria</td><td>Enterobacterales     </td><td>Alteromonadaceae      </td><td>Alteromonas                  </td></tr>\n",
       "\t<tr><th scope=row>ASV29</th><td> -8.716997</td><td>Bacteria</td><td>Pseudomonadota </td><td>Gammaproteobacteria</td><td>Enterobacterales     </td><td>Vibrionaceae          </td><td>Vibrio                       </td></tr>\n",
       "\t<tr><th scope=row>ASV31</th><td>-10.425691</td><td>Bacteria</td><td>Acidobacteriota</td><td>Blastocatellia     </td><td>Blastocatellales     </td><td>Blastocatellaceae     </td><td>NA                           </td></tr>\n",
       "\t<tr><th scope=row>ASV32</th><td>-28.334870</td><td>Bacteria</td><td>Bacteroidota   </td><td>Bacteroidia        </td><td>Cytophagales         </td><td>Amoebophilaceae       </td><td>Candidatus Amoebophilus      </td></tr>\n",
       "\t<tr><th scope=row>ASV34</th><td> -7.802444</td><td>Bacteria</td><td>Pseudomonadota </td><td>Gammaproteobacteria</td><td>Enterobacterales     </td><td>Pseudoalteromonadaceae</td><td>Pseudoalteromonas            </td></tr>\n",
       "\t<tr><th scope=row>ASV38</th><td> -5.339846</td><td>Bacteria</td><td>Dadabacteria   </td><td>Dadabacteriia      </td><td>Dadabacteriales      </td><td>Incertae Sedis        </td><td>CSP1-2                       </td></tr>\n",
       "\t<tr><th scope=row>ASV41</th><td> -9.040532</td><td>Bacteria</td><td>Pseudomonadota </td><td>Gammaproteobacteria</td><td>Enterobacterales     </td><td>Pseudoalteromonadaceae</td><td>Pseudoalteromonas            </td></tr>\n",
       "\t<tr><th scope=row>ASV45</th><td> -4.227726</td><td>Bacteria</td><td>Acidobacteriota</td><td>Thermoanaerobaculia</td><td>Thermoanaerobaculales</td><td>Thermoanaerobaculaceae</td><td>Subgroup 10                  </td></tr>\n",
       "\t<tr><th scope=row>ASV46</th><td> -8.374504</td><td>Bacteria</td><td>Pseudomonadota </td><td>Gammaproteobacteria</td><td>Enterobacterales     </td><td>Vibrionaceae          </td><td>Vibrio                       </td></tr>\n",
       "\t<tr><th scope=row>ASV47</th><td> -7.107616</td><td>Bacteria</td><td>Cyanobacteriota</td><td>Cyanobacteriia     </td><td>Cyanobacteriales     </td><td>Xenococcaceae         </td><td>NA                           </td></tr>\n",
       "\t<tr><th scope=row>ASV48</th><td>  4.185300</td><td>Bacteria</td><td>Dadabacteria   </td><td>Dadabacteriia      </td><td>Dadabacteriales      </td><td>Incertae Sedis        </td><td>CSP1-2                       </td></tr>\n",
       "\t<tr><th scope=row>ASV50</th><td> -8.532817</td><td>Bacteria</td><td>Pseudomonadota </td><td>Gammaproteobacteria</td><td>Pseudomonadales      </td><td>Cellvibrionaceae      </td><td>Aestuariicella               </td></tr>\n",
       "\t<tr><th scope=row>ASV54</th><td>  4.813307</td><td>Bacteria</td><td>Cyanobacteriota</td><td>Cyanobacteriia     </td><td>Cyanobacteriales     </td><td>Xenococcaceae         </td><td>NA                           </td></tr>\n",
       "\t<tr><th scope=row>ASV60</th><td>-29.292613</td><td>Bacteria</td><td>Bacteroidota   </td><td>Bacteroidia        </td><td>Cytophagales         </td><td>Amoebophilaceae       </td><td>Candidatus Amoebophilus      </td></tr>\n",
       "\t<tr><th scope=row>ASV68</th><td> -7.360767</td><td>Bacteria</td><td>Pseudomonadota </td><td>Gammaproteobacteria</td><td>Pseudomonadales      </td><td>Halomonadaceae        </td><td>Halomonas                    </td></tr>\n",
       "\t<tr><th scope=row>ASV72</th><td> -4.893468</td><td>Bacteria</td><td>Actinomycetota </td><td>Acidimicrobiia     </td><td>Microtrichales       </td><td>Microtrichaceae       </td><td>Sva0996 marine group         </td></tr>\n",
       "\t<tr><th scope=row>ASV73</th><td> -4.905731</td><td>Bacteria</td><td>Pseudomonadota </td><td>Gammaproteobacteria</td><td>Nitrosococcales      </td><td>Nitrosococcaceae      </td><td>AqS1                         </td></tr>\n",
       "\t<tr><th scope=row>ASV75</th><td> -6.018555</td><td>Bacteria</td><td>Pseudomonadota </td><td>Gammaproteobacteria</td><td>Pseudomonadales      </td><td>Saccharospirillaceae  </td><td>Thalassolituus               </td></tr>\n",
       "\t<tr><th scope=row>ASV76</th><td>-12.048602</td><td>Bacteria</td><td>Pseudomonadota </td><td>Alphaproteobacteria</td><td>Rhodobacterales      </td><td>Paracoccaceae         </td><td>Ruegeria                     </td></tr>\n",
       "\t<tr><th scope=row>⋮</th><td>⋮</td><td>⋮</td><td>⋮</td><td>⋮</td><td>⋮</td><td>⋮</td><td>⋮</td></tr>\n",
       "\t<tr><th scope=row>ASV906</th><td> -8.102263</td><td>Bacteria</td><td>Pseudomonadota </td><td>Alphaproteobacteria</td><td>Rhodobacterales    </td><td>Paracoccaceae       </td><td>HIMB11                 </td></tr>\n",
       "\t<tr><th scope=row>ASV935</th><td> -8.666115</td><td>Bacteria</td><td>Cyanobacteriota</td><td>Cyanobacteriia     </td><td>Synechococcales    </td><td>Cyanobiaceae        </td><td>Synechococcus CC9902   </td></tr>\n",
       "\t<tr><th scope=row>ASV970</th><td> -7.666506</td><td>Bacteria</td><td>Actinomycetota </td><td>Acidimicrobiia     </td><td>Microtrichales     </td><td>Ilumatobacteraceae  </td><td>Ilumatobacter          </td></tr>\n",
       "\t<tr><th scope=row>ASV979</th><td> -8.223396</td><td>Bacteria</td><td>Pseudomonadota </td><td>Alphaproteobacteria</td><td>Hyphomicrobiales   </td><td>Beijerinckiaceae    </td><td>Methylorubrum          </td></tr>\n",
       "\t<tr><th scope=row>ASV1034</th><td> -7.844210</td><td>Bacteria</td><td>Pseudomonadota </td><td>Alphaproteobacteria</td><td>Rhodobacterales    </td><td>Paracoccaceae       </td><td>Nioella                </td></tr>\n",
       "\t<tr><th scope=row>ASV1040</th><td> -7.406448</td><td>Bacteria</td><td>Actinomycetota </td><td>Acidimicrobiia     </td><td>Microtrichales     </td><td>Microtrichaceae     </td><td>Sva0996 marine group   </td></tr>\n",
       "\t<tr><th scope=row>ASV1057</th><td> -7.890243</td><td>Bacteria</td><td>Actinomycetota </td><td>Actinobacteria     </td><td>Propionibacteriales</td><td>Propionibacteriaceae</td><td>Cutibacterium          </td></tr>\n",
       "\t<tr><th scope=row>ASV1105</th><td> -7.635213</td><td>Bacteria</td><td>Pseudomonadota </td><td>Gammaproteobacteria</td><td>Pseudomonadales    </td><td>Halieaceae          </td><td>NA                     </td></tr>\n",
       "\t<tr><th scope=row>ASV1167</th><td> -7.277961</td><td>Bacteria</td><td>Pseudomonadota </td><td>Alphaproteobacteria</td><td>Hyphomicrobiales   </td><td>Rhizobiaceae        </td><td>Cohaesibacter          </td></tr>\n",
       "\t<tr><th scope=row>ASV1182</th><td> -7.413464</td><td>Bacteria</td><td>Actinomycetota </td><td>Acidimicrobiia     </td><td>Microtrichales     </td><td>Microtrichaceae     </td><td>Sva0996 marine group   </td></tr>\n",
       "\t<tr><th scope=row>ASV1229</th><td> -7.151543</td><td>Bacteria</td><td>Actinomycetota </td><td>Acidimicrobiia     </td><td>Microtrichales     </td><td>Ilumatobacteraceae  </td><td>Ilumatobacter          </td></tr>\n",
       "\t<tr><th scope=row>ASV1259</th><td> -7.346488</td><td>Bacteria</td><td>Pseudomonadota </td><td>Alphaproteobacteria</td><td>Tistrellales       </td><td>Geminicoccaceae     </td><td>NA                     </td></tr>\n",
       "\t<tr><th scope=row>ASV1270</th><td> -7.245350</td><td>Bacteria</td><td>Pseudomonadota </td><td>Gammaproteobacteria</td><td>Arenicellales      </td><td>Arenicellaceae      </td><td>NA                     </td></tr>\n",
       "\t<tr><th scope=row>ASV1284</th><td> -7.343882</td><td>Bacteria</td><td>Actinomycetota </td><td>Acidimicrobiia     </td><td>Microtrichales     </td><td>Ilumatobacteraceae  </td><td>Ilumatobacter          </td></tr>\n",
       "\t<tr><th scope=row>ASV1285</th><td> -7.906073</td><td>Bacteria</td><td>Cyanobacteriota</td><td>Cyanobacteriia     </td><td>Synechococcales    </td><td>Cyanobiaceae        </td><td>Cyanobium PCC-6307     </td></tr>\n",
       "\t<tr><th scope=row>ASV1290</th><td> -8.027825</td><td>Bacteria</td><td>Cyanobacteriota</td><td>Cyanobacteriia     </td><td>Synechococcales    </td><td>Cyanobiaceae        </td><td>Cyanobium PCC-6307     </td></tr>\n",
       "\t<tr><th scope=row>ASV1303</th><td> -7.484258</td><td>Bacteria</td><td>Bacteroidota   </td><td>Bacteroidia        </td><td>Flavobacteriales   </td><td>Cryomorphaceae      </td><td>NA                     </td></tr>\n",
       "\t<tr><th scope=row>ASV1310</th><td> -7.115465</td><td>Bacteria</td><td>Pseudomonadota </td><td>Gammaproteobacteria</td><td>Pseudomonadales    </td><td>Halieaceae          </td><td>NA                     </td></tr>\n",
       "\t<tr><th scope=row>ASV1327</th><td> -7.331988</td><td>Bacteria</td><td>Bacteroidota   </td><td>Bacteroidia        </td><td>Cytophagales       </td><td>Cyclobacteriaceae   </td><td>Fulvivirga             </td></tr>\n",
       "\t<tr><th scope=row>ASV1405</th><td> -7.195492</td><td>Bacteria</td><td>Bacteroidota   </td><td>Bacteroidia        </td><td>Cytophagales       </td><td>Cyclobacteriaceae   </td><td>NA                     </td></tr>\n",
       "\t<tr><th scope=row>ASV1456</th><td> -6.983225</td><td>Bacteria</td><td>Pseudomonadota </td><td>Alphaproteobacteria</td><td>Puniceispirillales </td><td>SAR116 clade        </td><td>NA                     </td></tr>\n",
       "\t<tr><th scope=row>ASV1562</th><td> -7.182982</td><td>Bacteria</td><td>Cyanobacteriota</td><td>Cyanobacteriia     </td><td>Synechococcales    </td><td>Cyanobiaceae        </td><td>Prochlorococcus MIT9313</td></tr>\n",
       "\t<tr><th scope=row>ASV1772</th><td> -6.717741</td><td>Bacteria</td><td>Pseudomonadota </td><td>Alphaproteobacteria</td><td>Rhodobacterales    </td><td>Paracoccaceae       </td><td>NA                     </td></tr>\n",
       "\t<tr><th scope=row>ASV1836</th><td> -6.629590</td><td>Bacteria</td><td>Pseudomonadota </td><td>Alphaproteobacteria</td><td>Rhodobacterales    </td><td>Paracoccaceae       </td><td>Pikeienuella           </td></tr>\n",
       "\t<tr><th scope=row>ASV1842</th><td> -6.721225</td><td>Bacteria</td><td>Pseudomonadota </td><td>Alphaproteobacteria</td><td>Rhodobacterales    </td><td>Paracoccaceae       </td><td>Oceanicella            </td></tr>\n",
       "\t<tr><th scope=row>ASV1854</th><td> -6.596079</td><td>Bacteria</td><td>Bacteroidota   </td><td>Bacteroidia        </td><td>Cytophagales       </td><td>Cyclobacteriaceae   </td><td>NA                     </td></tr>\n",
       "\t<tr><th scope=row>ASV1915</th><td> -6.627797</td><td>Bacteria</td><td>Bacteroidota   </td><td>Bacteroidia        </td><td>Flavobacteriales   </td><td>Flavobacteriaceae   </td><td>NS5 marine group       </td></tr>\n",
       "\t<tr><th scope=row>ASV1925</th><td> -6.639735</td><td>Bacteria</td><td>Pseudomonadota </td><td>Alphaproteobacteria</td><td>Puniceispirillales </td><td>SAR116 clade        </td><td>NA                     </td></tr>\n",
       "\t<tr><th scope=row>ASV2183</th><td> -6.239586</td><td>Bacteria</td><td>Pseudomonadota </td><td>Gammaproteobacteria</td><td>Pseudomonadales    </td><td>SAR86 clade         </td><td>NA                     </td></tr>\n",
       "\t<tr><th scope=row>ASV2550</th><td> -5.497340</td><td>Bacteria</td><td>Bacteroidota   </td><td>Bacteroidia        </td><td>Cytophagales       </td><td>Cyclobacteriaceae   </td><td>NA                     </td></tr>\n",
       "</tbody>\n",
       "</table>\n"
      ],
      "text/latex": [
       "A taxonomyTable: 101 × 7 of type chr\n",
       "\\begin{tabular}{r|lllllll}\n",
       "  & log2FoldChange & Kingdom & Phylum & Class & Order & Family & Genus\\\\\n",
       "\\hline\n",
       "\tASV1 &  -7.493426 & Bacteria & Pseudomonadota  & Gammaproteobacteria & Enterobacterales      & Vibrionaceae           & Vibrio                       \\\\\n",
       "\tASV3 &  -8.741219 & Bacteria & Pseudomonadota  & Gammaproteobacteria & Pseudomonadales       & Endozoicomonadaceae    & Parendozoicomonas            \\\\\n",
       "\tASV5 &  -9.085456 & Bacteria & Pseudomonadota  & Gammaproteobacteria & Pseudomonadales       & Endozoicomonadaceae    & Parendozoicomonas            \\\\\n",
       "\tASV8 &   6.403973 & Bacteria & Pseudomonadota  & Alphaproteobacteria & Rhodospirillales      & Terasakiellaceae       & Marivibrio                   \\\\\n",
       "\tASV9 & -10.338458 & Bacteria & Pseudomonadota  & Gammaproteobacteria & Enterobacterales      & Vibrionaceae           & Vibrio                       \\\\\n",
       "\tASV14 & -11.097978 & Bacteria & Pseudomonadota  & Gammaproteobacteria & Nitrosococcales       & Methylophagaceae       & Marine Methylotrophic Group 3\\\\\n",
       "\tASV15 &  -4.719328 & Bacteria & Pseudomonadota  & Gammaproteobacteria & Enterobacterales      & Idiomarinaceae         & Idiomarina                   \\\\\n",
       "\tASV20 &  -6.692844 & Bacteria & Pseudomonadota  & Gammaproteobacteria & Enterobacterales      & Vibrionaceae           & Vibrio                       \\\\\n",
       "\tASV22 &   8.365782 & Bacteria & Pseudomonadota  & Alphaproteobacteria & Puniceispirillales    & SAR116 clade           & NA                           \\\\\n",
       "\tASV23 &  -8.993143 & Bacteria & Pseudomonadota  & Gammaproteobacteria & Enterobacterales      & Vibrionaceae           & Vibrio                       \\\\\n",
       "\tASV26 &  -9.829644 & Bacteria & Pseudomonadota  & Gammaproteobacteria & Enterobacterales      & Vibrionaceae           & Photobacterium               \\\\\n",
       "\tASV27 & -10.239849 & Bacteria & Pseudomonadota  & Gammaproteobacteria & Enterobacterales      & Alteromonadaceae       & Alteromonas                  \\\\\n",
       "\tASV29 &  -8.716997 & Bacteria & Pseudomonadota  & Gammaproteobacteria & Enterobacterales      & Vibrionaceae           & Vibrio                       \\\\\n",
       "\tASV31 & -10.425691 & Bacteria & Acidobacteriota & Blastocatellia      & Blastocatellales      & Blastocatellaceae      & NA                           \\\\\n",
       "\tASV32 & -28.334870 & Bacteria & Bacteroidota    & Bacteroidia         & Cytophagales          & Amoebophilaceae        & Candidatus Amoebophilus      \\\\\n",
       "\tASV34 &  -7.802444 & Bacteria & Pseudomonadota  & Gammaproteobacteria & Enterobacterales      & Pseudoalteromonadaceae & Pseudoalteromonas            \\\\\n",
       "\tASV38 &  -5.339846 & Bacteria & Dadabacteria    & Dadabacteriia       & Dadabacteriales       & Incertae Sedis         & CSP1-2                       \\\\\n",
       "\tASV41 &  -9.040532 & Bacteria & Pseudomonadota  & Gammaproteobacteria & Enterobacterales      & Pseudoalteromonadaceae & Pseudoalteromonas            \\\\\n",
       "\tASV45 &  -4.227726 & Bacteria & Acidobacteriota & Thermoanaerobaculia & Thermoanaerobaculales & Thermoanaerobaculaceae & Subgroup 10                  \\\\\n",
       "\tASV46 &  -8.374504 & Bacteria & Pseudomonadota  & Gammaproteobacteria & Enterobacterales      & Vibrionaceae           & Vibrio                       \\\\\n",
       "\tASV47 &  -7.107616 & Bacteria & Cyanobacteriota & Cyanobacteriia      & Cyanobacteriales      & Xenococcaceae          & NA                           \\\\\n",
       "\tASV48 &   4.185300 & Bacteria & Dadabacteria    & Dadabacteriia       & Dadabacteriales       & Incertae Sedis         & CSP1-2                       \\\\\n",
       "\tASV50 &  -8.532817 & Bacteria & Pseudomonadota  & Gammaproteobacteria & Pseudomonadales       & Cellvibrionaceae       & Aestuariicella               \\\\\n",
       "\tASV54 &   4.813307 & Bacteria & Cyanobacteriota & Cyanobacteriia      & Cyanobacteriales      & Xenococcaceae          & NA                           \\\\\n",
       "\tASV60 & -29.292613 & Bacteria & Bacteroidota    & Bacteroidia         & Cytophagales          & Amoebophilaceae        & Candidatus Amoebophilus      \\\\\n",
       "\tASV68 &  -7.360767 & Bacteria & Pseudomonadota  & Gammaproteobacteria & Pseudomonadales       & Halomonadaceae         & Halomonas                    \\\\\n",
       "\tASV72 &  -4.893468 & Bacteria & Actinomycetota  & Acidimicrobiia      & Microtrichales        & Microtrichaceae        & Sva0996 marine group         \\\\\n",
       "\tASV73 &  -4.905731 & Bacteria & Pseudomonadota  & Gammaproteobacteria & Nitrosococcales       & Nitrosococcaceae       & AqS1                         \\\\\n",
       "\tASV75 &  -6.018555 & Bacteria & Pseudomonadota  & Gammaproteobacteria & Pseudomonadales       & Saccharospirillaceae   & Thalassolituus               \\\\\n",
       "\tASV76 & -12.048602 & Bacteria & Pseudomonadota  & Alphaproteobacteria & Rhodobacterales       & Paracoccaceae          & Ruegeria                     \\\\\n",
       "\t⋮ & ⋮ & ⋮ & ⋮ & ⋮ & ⋮ & ⋮ & ⋮\\\\\n",
       "\tASV906 &  -8.102263 & Bacteria & Pseudomonadota  & Alphaproteobacteria & Rhodobacterales     & Paracoccaceae        & HIMB11                 \\\\\n",
       "\tASV935 &  -8.666115 & Bacteria & Cyanobacteriota & Cyanobacteriia      & Synechococcales     & Cyanobiaceae         & Synechococcus CC9902   \\\\\n",
       "\tASV970 &  -7.666506 & Bacteria & Actinomycetota  & Acidimicrobiia      & Microtrichales      & Ilumatobacteraceae   & Ilumatobacter          \\\\\n",
       "\tASV979 &  -8.223396 & Bacteria & Pseudomonadota  & Alphaproteobacteria & Hyphomicrobiales    & Beijerinckiaceae     & Methylorubrum          \\\\\n",
       "\tASV1034 &  -7.844210 & Bacteria & Pseudomonadota  & Alphaproteobacteria & Rhodobacterales     & Paracoccaceae        & Nioella                \\\\\n",
       "\tASV1040 &  -7.406448 & Bacteria & Actinomycetota  & Acidimicrobiia      & Microtrichales      & Microtrichaceae      & Sva0996 marine group   \\\\\n",
       "\tASV1057 &  -7.890243 & Bacteria & Actinomycetota  & Actinobacteria      & Propionibacteriales & Propionibacteriaceae & Cutibacterium          \\\\\n",
       "\tASV1105 &  -7.635213 & Bacteria & Pseudomonadota  & Gammaproteobacteria & Pseudomonadales     & Halieaceae           & NA                     \\\\\n",
       "\tASV1167 &  -7.277961 & Bacteria & Pseudomonadota  & Alphaproteobacteria & Hyphomicrobiales    & Rhizobiaceae         & Cohaesibacter          \\\\\n",
       "\tASV1182 &  -7.413464 & Bacteria & Actinomycetota  & Acidimicrobiia      & Microtrichales      & Microtrichaceae      & Sva0996 marine group   \\\\\n",
       "\tASV1229 &  -7.151543 & Bacteria & Actinomycetota  & Acidimicrobiia      & Microtrichales      & Ilumatobacteraceae   & Ilumatobacter          \\\\\n",
       "\tASV1259 &  -7.346488 & Bacteria & Pseudomonadota  & Alphaproteobacteria & Tistrellales        & Geminicoccaceae      & NA                     \\\\\n",
       "\tASV1270 &  -7.245350 & Bacteria & Pseudomonadota  & Gammaproteobacteria & Arenicellales       & Arenicellaceae       & NA                     \\\\\n",
       "\tASV1284 &  -7.343882 & Bacteria & Actinomycetota  & Acidimicrobiia      & Microtrichales      & Ilumatobacteraceae   & Ilumatobacter          \\\\\n",
       "\tASV1285 &  -7.906073 & Bacteria & Cyanobacteriota & Cyanobacteriia      & Synechococcales     & Cyanobiaceae         & Cyanobium PCC-6307     \\\\\n",
       "\tASV1290 &  -8.027825 & Bacteria & Cyanobacteriota & Cyanobacteriia      & Synechococcales     & Cyanobiaceae         & Cyanobium PCC-6307     \\\\\n",
       "\tASV1303 &  -7.484258 & Bacteria & Bacteroidota    & Bacteroidia         & Flavobacteriales    & Cryomorphaceae       & NA                     \\\\\n",
       "\tASV1310 &  -7.115465 & Bacteria & Pseudomonadota  & Gammaproteobacteria & Pseudomonadales     & Halieaceae           & NA                     \\\\\n",
       "\tASV1327 &  -7.331988 & Bacteria & Bacteroidota    & Bacteroidia         & Cytophagales        & Cyclobacteriaceae    & Fulvivirga             \\\\\n",
       "\tASV1405 &  -7.195492 & Bacteria & Bacteroidota    & Bacteroidia         & Cytophagales        & Cyclobacteriaceae    & NA                     \\\\\n",
       "\tASV1456 &  -6.983225 & Bacteria & Pseudomonadota  & Alphaproteobacteria & Puniceispirillales  & SAR116 clade         & NA                     \\\\\n",
       "\tASV1562 &  -7.182982 & Bacteria & Cyanobacteriota & Cyanobacteriia      & Synechococcales     & Cyanobiaceae         & Prochlorococcus MIT9313\\\\\n",
       "\tASV1772 &  -6.717741 & Bacteria & Pseudomonadota  & Alphaproteobacteria & Rhodobacterales     & Paracoccaceae        & NA                     \\\\\n",
       "\tASV1836 &  -6.629590 & Bacteria & Pseudomonadota  & Alphaproteobacteria & Rhodobacterales     & Paracoccaceae        & Pikeienuella           \\\\\n",
       "\tASV1842 &  -6.721225 & Bacteria & Pseudomonadota  & Alphaproteobacteria & Rhodobacterales     & Paracoccaceae        & Oceanicella            \\\\\n",
       "\tASV1854 &  -6.596079 & Bacteria & Bacteroidota    & Bacteroidia         & Cytophagales        & Cyclobacteriaceae    & NA                     \\\\\n",
       "\tASV1915 &  -6.627797 & Bacteria & Bacteroidota    & Bacteroidia         & Flavobacteriales    & Flavobacteriaceae    & NS5 marine group       \\\\\n",
       "\tASV1925 &  -6.639735 & Bacteria & Pseudomonadota  & Alphaproteobacteria & Puniceispirillales  & SAR116 clade         & NA                     \\\\\n",
       "\tASV2183 &  -6.239586 & Bacteria & Pseudomonadota  & Gammaproteobacteria & Pseudomonadales     & SAR86 clade          & NA                     \\\\\n",
       "\tASV2550 &  -5.497340 & Bacteria & Bacteroidota    & Bacteroidia         & Cytophagales        & Cyclobacteriaceae    & NA                     \\\\\n",
       "\\end{tabular}\n"
      ],
      "text/markdown": [
       "\n",
       "A taxonomyTable: 101 × 7 of type chr\n",
       "\n",
       "| <!--/--> | log2FoldChange | Kingdom | Phylum | Class | Order | Family | Genus |\n",
       "|---|---|---|---|---|---|---|---|\n",
       "| ASV1 |  -7.493426 | Bacteria | Pseudomonadota  | Gammaproteobacteria | Enterobacterales      | Vibrionaceae           | Vibrio                        |\n",
       "| ASV3 |  -8.741219 | Bacteria | Pseudomonadota  | Gammaproteobacteria | Pseudomonadales       | Endozoicomonadaceae    | Parendozoicomonas             |\n",
       "| ASV5 |  -9.085456 | Bacteria | Pseudomonadota  | Gammaproteobacteria | Pseudomonadales       | Endozoicomonadaceae    | Parendozoicomonas             |\n",
       "| ASV8 |   6.403973 | Bacteria | Pseudomonadota  | Alphaproteobacteria | Rhodospirillales      | Terasakiellaceae       | Marivibrio                    |\n",
       "| ASV9 | -10.338458 | Bacteria | Pseudomonadota  | Gammaproteobacteria | Enterobacterales      | Vibrionaceae           | Vibrio                        |\n",
       "| ASV14 | -11.097978 | Bacteria | Pseudomonadota  | Gammaproteobacteria | Nitrosococcales       | Methylophagaceae       | Marine Methylotrophic Group 3 |\n",
       "| ASV15 |  -4.719328 | Bacteria | Pseudomonadota  | Gammaproteobacteria | Enterobacterales      | Idiomarinaceae         | Idiomarina                    |\n",
       "| ASV20 |  -6.692844 | Bacteria | Pseudomonadota  | Gammaproteobacteria | Enterobacterales      | Vibrionaceae           | Vibrio                        |\n",
       "| ASV22 |   8.365782 | Bacteria | Pseudomonadota  | Alphaproteobacteria | Puniceispirillales    | SAR116 clade           | NA                            |\n",
       "| ASV23 |  -8.993143 | Bacteria | Pseudomonadota  | Gammaproteobacteria | Enterobacterales      | Vibrionaceae           | Vibrio                        |\n",
       "| ASV26 |  -9.829644 | Bacteria | Pseudomonadota  | Gammaproteobacteria | Enterobacterales      | Vibrionaceae           | Photobacterium                |\n",
       "| ASV27 | -10.239849 | Bacteria | Pseudomonadota  | Gammaproteobacteria | Enterobacterales      | Alteromonadaceae       | Alteromonas                   |\n",
       "| ASV29 |  -8.716997 | Bacteria | Pseudomonadota  | Gammaproteobacteria | Enterobacterales      | Vibrionaceae           | Vibrio                        |\n",
       "| ASV31 | -10.425691 | Bacteria | Acidobacteriota | Blastocatellia      | Blastocatellales      | Blastocatellaceae      | NA                            |\n",
       "| ASV32 | -28.334870 | Bacteria | Bacteroidota    | Bacteroidia         | Cytophagales          | Amoebophilaceae        | Candidatus Amoebophilus       |\n",
       "| ASV34 |  -7.802444 | Bacteria | Pseudomonadota  | Gammaproteobacteria | Enterobacterales      | Pseudoalteromonadaceae | Pseudoalteromonas             |\n",
       "| ASV38 |  -5.339846 | Bacteria | Dadabacteria    | Dadabacteriia       | Dadabacteriales       | Incertae Sedis         | CSP1-2                        |\n",
       "| ASV41 |  -9.040532 | Bacteria | Pseudomonadota  | Gammaproteobacteria | Enterobacterales      | Pseudoalteromonadaceae | Pseudoalteromonas             |\n",
       "| ASV45 |  -4.227726 | Bacteria | Acidobacteriota | Thermoanaerobaculia | Thermoanaerobaculales | Thermoanaerobaculaceae | Subgroup 10                   |\n",
       "| ASV46 |  -8.374504 | Bacteria | Pseudomonadota  | Gammaproteobacteria | Enterobacterales      | Vibrionaceae           | Vibrio                        |\n",
       "| ASV47 |  -7.107616 | Bacteria | Cyanobacteriota | Cyanobacteriia      | Cyanobacteriales      | Xenococcaceae          | NA                            |\n",
       "| ASV48 |   4.185300 | Bacteria | Dadabacteria    | Dadabacteriia       | Dadabacteriales       | Incertae Sedis         | CSP1-2                        |\n",
       "| ASV50 |  -8.532817 | Bacteria | Pseudomonadota  | Gammaproteobacteria | Pseudomonadales       | Cellvibrionaceae       | Aestuariicella                |\n",
       "| ASV54 |   4.813307 | Bacteria | Cyanobacteriota | Cyanobacteriia      | Cyanobacteriales      | Xenococcaceae          | NA                            |\n",
       "| ASV60 | -29.292613 | Bacteria | Bacteroidota    | Bacteroidia         | Cytophagales          | Amoebophilaceae        | Candidatus Amoebophilus       |\n",
       "| ASV68 |  -7.360767 | Bacteria | Pseudomonadota  | Gammaproteobacteria | Pseudomonadales       | Halomonadaceae         | Halomonas                     |\n",
       "| ASV72 |  -4.893468 | Bacteria | Actinomycetota  | Acidimicrobiia      | Microtrichales        | Microtrichaceae        | Sva0996 marine group          |\n",
       "| ASV73 |  -4.905731 | Bacteria | Pseudomonadota  | Gammaproteobacteria | Nitrosococcales       | Nitrosococcaceae       | AqS1                          |\n",
       "| ASV75 |  -6.018555 | Bacteria | Pseudomonadota  | Gammaproteobacteria | Pseudomonadales       | Saccharospirillaceae   | Thalassolituus                |\n",
       "| ASV76 | -12.048602 | Bacteria | Pseudomonadota  | Alphaproteobacteria | Rhodobacterales       | Paracoccaceae          | Ruegeria                      |\n",
       "| ⋮ | ⋮ | ⋮ | ⋮ | ⋮ | ⋮ | ⋮ | ⋮ |\n",
       "| ASV906 |  -8.102263 | Bacteria | Pseudomonadota  | Alphaproteobacteria | Rhodobacterales     | Paracoccaceae        | HIMB11                  |\n",
       "| ASV935 |  -8.666115 | Bacteria | Cyanobacteriota | Cyanobacteriia      | Synechococcales     | Cyanobiaceae         | Synechococcus CC9902    |\n",
       "| ASV970 |  -7.666506 | Bacteria | Actinomycetota  | Acidimicrobiia      | Microtrichales      | Ilumatobacteraceae   | Ilumatobacter           |\n",
       "| ASV979 |  -8.223396 | Bacteria | Pseudomonadota  | Alphaproteobacteria | Hyphomicrobiales    | Beijerinckiaceae     | Methylorubrum           |\n",
       "| ASV1034 |  -7.844210 | Bacteria | Pseudomonadota  | Alphaproteobacteria | Rhodobacterales     | Paracoccaceae        | Nioella                 |\n",
       "| ASV1040 |  -7.406448 | Bacteria | Actinomycetota  | Acidimicrobiia      | Microtrichales      | Microtrichaceae      | Sva0996 marine group    |\n",
       "| ASV1057 |  -7.890243 | Bacteria | Actinomycetota  | Actinobacteria      | Propionibacteriales | Propionibacteriaceae | Cutibacterium           |\n",
       "| ASV1105 |  -7.635213 | Bacteria | Pseudomonadota  | Gammaproteobacteria | Pseudomonadales     | Halieaceae           | NA                      |\n",
       "| ASV1167 |  -7.277961 | Bacteria | Pseudomonadota  | Alphaproteobacteria | Hyphomicrobiales    | Rhizobiaceae         | Cohaesibacter           |\n",
       "| ASV1182 |  -7.413464 | Bacteria | Actinomycetota  | Acidimicrobiia      | Microtrichales      | Microtrichaceae      | Sva0996 marine group    |\n",
       "| ASV1229 |  -7.151543 | Bacteria | Actinomycetota  | Acidimicrobiia      | Microtrichales      | Ilumatobacteraceae   | Ilumatobacter           |\n",
       "| ASV1259 |  -7.346488 | Bacteria | Pseudomonadota  | Alphaproteobacteria | Tistrellales        | Geminicoccaceae      | NA                      |\n",
       "| ASV1270 |  -7.245350 | Bacteria | Pseudomonadota  | Gammaproteobacteria | Arenicellales       | Arenicellaceae       | NA                      |\n",
       "| ASV1284 |  -7.343882 | Bacteria | Actinomycetota  | Acidimicrobiia      | Microtrichales      | Ilumatobacteraceae   | Ilumatobacter           |\n",
       "| ASV1285 |  -7.906073 | Bacteria | Cyanobacteriota | Cyanobacteriia      | Synechococcales     | Cyanobiaceae         | Cyanobium PCC-6307      |\n",
       "| ASV1290 |  -8.027825 | Bacteria | Cyanobacteriota | Cyanobacteriia      | Synechococcales     | Cyanobiaceae         | Cyanobium PCC-6307      |\n",
       "| ASV1303 |  -7.484258 | Bacteria | Bacteroidota    | Bacteroidia         | Flavobacteriales    | Cryomorphaceae       | NA                      |\n",
       "| ASV1310 |  -7.115465 | Bacteria | Pseudomonadota  | Gammaproteobacteria | Pseudomonadales     | Halieaceae           | NA                      |\n",
       "| ASV1327 |  -7.331988 | Bacteria | Bacteroidota    | Bacteroidia         | Cytophagales        | Cyclobacteriaceae    | Fulvivirga              |\n",
       "| ASV1405 |  -7.195492 | Bacteria | Bacteroidota    | Bacteroidia         | Cytophagales        | Cyclobacteriaceae    | NA                      |\n",
       "| ASV1456 |  -6.983225 | Bacteria | Pseudomonadota  | Alphaproteobacteria | Puniceispirillales  | SAR116 clade         | NA                      |\n",
       "| ASV1562 |  -7.182982 | Bacteria | Cyanobacteriota | Cyanobacteriia      | Synechococcales     | Cyanobiaceae         | Prochlorococcus MIT9313 |\n",
       "| ASV1772 |  -6.717741 | Bacteria | Pseudomonadota  | Alphaproteobacteria | Rhodobacterales     | Paracoccaceae        | NA                      |\n",
       "| ASV1836 |  -6.629590 | Bacteria | Pseudomonadota  | Alphaproteobacteria | Rhodobacterales     | Paracoccaceae        | Pikeienuella            |\n",
       "| ASV1842 |  -6.721225 | Bacteria | Pseudomonadota  | Alphaproteobacteria | Rhodobacterales     | Paracoccaceae        | Oceanicella             |\n",
       "| ASV1854 |  -6.596079 | Bacteria | Bacteroidota    | Bacteroidia         | Cytophagales        | Cyclobacteriaceae    | NA                      |\n",
       "| ASV1915 |  -6.627797 | Bacteria | Bacteroidota    | Bacteroidia         | Flavobacteriales    | Flavobacteriaceae    | NS5 marine group        |\n",
       "| ASV1925 |  -6.639735 | Bacteria | Pseudomonadota  | Alphaproteobacteria | Puniceispirillales  | SAR116 clade         | NA                      |\n",
       "| ASV2183 |  -6.239586 | Bacteria | Pseudomonadota  | Gammaproteobacteria | Pseudomonadales     | SAR86 clade          | NA                      |\n",
       "| ASV2550 |  -5.497340 | Bacteria | Bacteroidota    | Bacteroidia         | Cytophagales        | Cyclobacteriaceae    | NA                      |\n",
       "\n"
      ],
      "text/plain": [
       "        log2FoldChange Kingdom  Phylum          Class              \n",
       "ASV1     -7.493426     Bacteria Pseudomonadota  Gammaproteobacteria\n",
       "ASV3     -8.741219     Bacteria Pseudomonadota  Gammaproteobacteria\n",
       "ASV5     -9.085456     Bacteria Pseudomonadota  Gammaproteobacteria\n",
       "ASV8      6.403973     Bacteria Pseudomonadota  Alphaproteobacteria\n",
       "ASV9    -10.338458     Bacteria Pseudomonadota  Gammaproteobacteria\n",
       "ASV14   -11.097978     Bacteria Pseudomonadota  Gammaproteobacteria\n",
       "ASV15    -4.719328     Bacteria Pseudomonadota  Gammaproteobacteria\n",
       "ASV20    -6.692844     Bacteria Pseudomonadota  Gammaproteobacteria\n",
       "ASV22     8.365782     Bacteria Pseudomonadota  Alphaproteobacteria\n",
       "ASV23    -8.993143     Bacteria Pseudomonadota  Gammaproteobacteria\n",
       "ASV26    -9.829644     Bacteria Pseudomonadota  Gammaproteobacteria\n",
       "ASV27   -10.239849     Bacteria Pseudomonadota  Gammaproteobacteria\n",
       "ASV29    -8.716997     Bacteria Pseudomonadota  Gammaproteobacteria\n",
       "ASV31   -10.425691     Bacteria Acidobacteriota Blastocatellia     \n",
       "ASV32   -28.334870     Bacteria Bacteroidota    Bacteroidia        \n",
       "ASV34    -7.802444     Bacteria Pseudomonadota  Gammaproteobacteria\n",
       "ASV38    -5.339846     Bacteria Dadabacteria    Dadabacteriia      \n",
       "ASV41    -9.040532     Bacteria Pseudomonadota  Gammaproteobacteria\n",
       "ASV45    -4.227726     Bacteria Acidobacteriota Thermoanaerobaculia\n",
       "ASV46    -8.374504     Bacteria Pseudomonadota  Gammaproteobacteria\n",
       "ASV47    -7.107616     Bacteria Cyanobacteriota Cyanobacteriia     \n",
       "ASV48     4.185300     Bacteria Dadabacteria    Dadabacteriia      \n",
       "ASV50    -8.532817     Bacteria Pseudomonadota  Gammaproteobacteria\n",
       "ASV54     4.813307     Bacteria Cyanobacteriota Cyanobacteriia     \n",
       "ASV60   -29.292613     Bacteria Bacteroidota    Bacteroidia        \n",
       "ASV68    -7.360767     Bacteria Pseudomonadota  Gammaproteobacteria\n",
       "ASV72    -4.893468     Bacteria Actinomycetota  Acidimicrobiia     \n",
       "ASV73    -4.905731     Bacteria Pseudomonadota  Gammaproteobacteria\n",
       "ASV75    -6.018555     Bacteria Pseudomonadota  Gammaproteobacteria\n",
       "ASV76   -12.048602     Bacteria Pseudomonadota  Alphaproteobacteria\n",
       "⋮       ⋮              ⋮        ⋮               ⋮                  \n",
       "ASV906   -8.102263     Bacteria Pseudomonadota  Alphaproteobacteria\n",
       "ASV935   -8.666115     Bacteria Cyanobacteriota Cyanobacteriia     \n",
       "ASV970   -7.666506     Bacteria Actinomycetota  Acidimicrobiia     \n",
       "ASV979   -8.223396     Bacteria Pseudomonadota  Alphaproteobacteria\n",
       "ASV1034  -7.844210     Bacteria Pseudomonadota  Alphaproteobacteria\n",
       "ASV1040  -7.406448     Bacteria Actinomycetota  Acidimicrobiia     \n",
       "ASV1057  -7.890243     Bacteria Actinomycetota  Actinobacteria     \n",
       "ASV1105  -7.635213     Bacteria Pseudomonadota  Gammaproteobacteria\n",
       "ASV1167  -7.277961     Bacteria Pseudomonadota  Alphaproteobacteria\n",
       "ASV1182  -7.413464     Bacteria Actinomycetota  Acidimicrobiia     \n",
       "ASV1229  -7.151543     Bacteria Actinomycetota  Acidimicrobiia     \n",
       "ASV1259  -7.346488     Bacteria Pseudomonadota  Alphaproteobacteria\n",
       "ASV1270  -7.245350     Bacteria Pseudomonadota  Gammaproteobacteria\n",
       "ASV1284  -7.343882     Bacteria Actinomycetota  Acidimicrobiia     \n",
       "ASV1285  -7.906073     Bacteria Cyanobacteriota Cyanobacteriia     \n",
       "ASV1290  -8.027825     Bacteria Cyanobacteriota Cyanobacteriia     \n",
       "ASV1303  -7.484258     Bacteria Bacteroidota    Bacteroidia        \n",
       "ASV1310  -7.115465     Bacteria Pseudomonadota  Gammaproteobacteria\n",
       "ASV1327  -7.331988     Bacteria Bacteroidota    Bacteroidia        \n",
       "ASV1405  -7.195492     Bacteria Bacteroidota    Bacteroidia        \n",
       "ASV1456  -6.983225     Bacteria Pseudomonadota  Alphaproteobacteria\n",
       "ASV1562  -7.182982     Bacteria Cyanobacteriota Cyanobacteriia     \n",
       "ASV1772  -6.717741     Bacteria Pseudomonadota  Alphaproteobacteria\n",
       "ASV1836  -6.629590     Bacteria Pseudomonadota  Alphaproteobacteria\n",
       "ASV1842  -6.721225     Bacteria Pseudomonadota  Alphaproteobacteria\n",
       "ASV1854  -6.596079     Bacteria Bacteroidota    Bacteroidia        \n",
       "ASV1915  -6.627797     Bacteria Bacteroidota    Bacteroidia        \n",
       "ASV1925  -6.639735     Bacteria Pseudomonadota  Alphaproteobacteria\n",
       "ASV2183  -6.239586     Bacteria Pseudomonadota  Gammaproteobacteria\n",
       "ASV2550  -5.497340     Bacteria Bacteroidota    Bacteroidia        \n",
       "        Order                 Family                \n",
       "ASV1    Enterobacterales      Vibrionaceae          \n",
       "ASV3    Pseudomonadales       Endozoicomonadaceae   \n",
       "ASV5    Pseudomonadales       Endozoicomonadaceae   \n",
       "ASV8    Rhodospirillales      Terasakiellaceae      \n",
       "ASV9    Enterobacterales      Vibrionaceae          \n",
       "ASV14   Nitrosococcales       Methylophagaceae      \n",
       "ASV15   Enterobacterales      Idiomarinaceae        \n",
       "ASV20   Enterobacterales      Vibrionaceae          \n",
       "ASV22   Puniceispirillales    SAR116 clade          \n",
       "ASV23   Enterobacterales      Vibrionaceae          \n",
       "ASV26   Enterobacterales      Vibrionaceae          \n",
       "ASV27   Enterobacterales      Alteromonadaceae      \n",
       "ASV29   Enterobacterales      Vibrionaceae          \n",
       "ASV31   Blastocatellales      Blastocatellaceae     \n",
       "ASV32   Cytophagales          Amoebophilaceae       \n",
       "ASV34   Enterobacterales      Pseudoalteromonadaceae\n",
       "ASV38   Dadabacteriales       Incertae Sedis        \n",
       "ASV41   Enterobacterales      Pseudoalteromonadaceae\n",
       "ASV45   Thermoanaerobaculales Thermoanaerobaculaceae\n",
       "ASV46   Enterobacterales      Vibrionaceae          \n",
       "ASV47   Cyanobacteriales      Xenococcaceae         \n",
       "ASV48   Dadabacteriales       Incertae Sedis        \n",
       "ASV50   Pseudomonadales       Cellvibrionaceae      \n",
       "ASV54   Cyanobacteriales      Xenococcaceae         \n",
       "ASV60   Cytophagales          Amoebophilaceae       \n",
       "ASV68   Pseudomonadales       Halomonadaceae        \n",
       "ASV72   Microtrichales        Microtrichaceae       \n",
       "ASV73   Nitrosococcales       Nitrosococcaceae      \n",
       "ASV75   Pseudomonadales       Saccharospirillaceae  \n",
       "ASV76   Rhodobacterales       Paracoccaceae         \n",
       "⋮       ⋮                     ⋮                     \n",
       "ASV906  Rhodobacterales       Paracoccaceae         \n",
       "ASV935  Synechococcales       Cyanobiaceae          \n",
       "ASV970  Microtrichales        Ilumatobacteraceae    \n",
       "ASV979  Hyphomicrobiales      Beijerinckiaceae      \n",
       "ASV1034 Rhodobacterales       Paracoccaceae         \n",
       "ASV1040 Microtrichales        Microtrichaceae       \n",
       "ASV1057 Propionibacteriales   Propionibacteriaceae  \n",
       "ASV1105 Pseudomonadales       Halieaceae            \n",
       "ASV1167 Hyphomicrobiales      Rhizobiaceae          \n",
       "ASV1182 Microtrichales        Microtrichaceae       \n",
       "ASV1229 Microtrichales        Ilumatobacteraceae    \n",
       "ASV1259 Tistrellales          Geminicoccaceae       \n",
       "ASV1270 Arenicellales         Arenicellaceae        \n",
       "ASV1284 Microtrichales        Ilumatobacteraceae    \n",
       "ASV1285 Synechococcales       Cyanobiaceae          \n",
       "ASV1290 Synechococcales       Cyanobiaceae          \n",
       "ASV1303 Flavobacteriales      Cryomorphaceae        \n",
       "ASV1310 Pseudomonadales       Halieaceae            \n",
       "ASV1327 Cytophagales          Cyclobacteriaceae     \n",
       "ASV1405 Cytophagales          Cyclobacteriaceae     \n",
       "ASV1456 Puniceispirillales    SAR116 clade          \n",
       "ASV1562 Synechococcales       Cyanobiaceae          \n",
       "ASV1772 Rhodobacterales       Paracoccaceae         \n",
       "ASV1836 Rhodobacterales       Paracoccaceae         \n",
       "ASV1842 Rhodobacterales       Paracoccaceae         \n",
       "ASV1854 Cytophagales          Cyclobacteriaceae     \n",
       "ASV1915 Flavobacteriales      Flavobacteriaceae     \n",
       "ASV1925 Puniceispirillales    SAR116 clade          \n",
       "ASV2183 Pseudomonadales       SAR86 clade           \n",
       "ASV2550 Cytophagales          Cyclobacteriaceae     \n",
       "        Genus                        \n",
       "ASV1    Vibrio                       \n",
       "ASV3    Parendozoicomonas            \n",
       "ASV5    Parendozoicomonas            \n",
       "ASV8    Marivibrio                   \n",
       "ASV9    Vibrio                       \n",
       "ASV14   Marine Methylotrophic Group 3\n",
       "ASV15   Idiomarina                   \n",
       "ASV20   Vibrio                       \n",
       "ASV22   NA                           \n",
       "ASV23   Vibrio                       \n",
       "ASV26   Photobacterium               \n",
       "ASV27   Alteromonas                  \n",
       "ASV29   Vibrio                       \n",
       "ASV31   NA                           \n",
       "ASV32   Candidatus Amoebophilus      \n",
       "ASV34   Pseudoalteromonas            \n",
       "ASV38   CSP1-2                       \n",
       "ASV41   Pseudoalteromonas            \n",
       "ASV45   Subgroup 10                  \n",
       "ASV46   Vibrio                       \n",
       "ASV47   NA                           \n",
       "ASV48   CSP1-2                       \n",
       "ASV50   Aestuariicella               \n",
       "ASV54   NA                           \n",
       "ASV60   Candidatus Amoebophilus      \n",
       "ASV68   Halomonas                    \n",
       "ASV72   Sva0996 marine group         \n",
       "ASV73   AqS1                         \n",
       "ASV75   Thalassolituus               \n",
       "ASV76   Ruegeria                     \n",
       "⋮       ⋮                            \n",
       "ASV906  HIMB11                       \n",
       "ASV935  Synechococcus CC9902         \n",
       "ASV970  Ilumatobacter                \n",
       "ASV979  Methylorubrum                \n",
       "ASV1034 Nioella                      \n",
       "ASV1040 Sva0996 marine group         \n",
       "ASV1057 Cutibacterium                \n",
       "ASV1105 NA                           \n",
       "ASV1167 Cohaesibacter                \n",
       "ASV1182 Sva0996 marine group         \n",
       "ASV1229 Ilumatobacter                \n",
       "ASV1259 NA                           \n",
       "ASV1270 NA                           \n",
       "ASV1284 Ilumatobacter                \n",
       "ASV1285 Cyanobium PCC-6307           \n",
       "ASV1290 Cyanobium PCC-6307           \n",
       "ASV1303 NA                           \n",
       "ASV1310 NA                           \n",
       "ASV1327 Fulvivirga                   \n",
       "ASV1405 NA                           \n",
       "ASV1456 NA                           \n",
       "ASV1562 Prochlorococcus MIT9313      \n",
       "ASV1772 NA                           \n",
       "ASV1836 Pikeienuella                 \n",
       "ASV1842 Oceanicella                  \n",
       "ASV1854 NA                           \n",
       "ASV1915 NS5 marine group             \n",
       "ASV1925 NA                           \n",
       "ASV2183 NA                           \n",
       "ASV2550 NA                           "
      ]
     },
     "metadata": {},
     "output_type": "display_data"
    }
   ],
   "source": [
    "sig_clust_wlog_filter <- genefilter_sample(sig_cluster_log, filterfun_sample(function(x) x > 1), A=0.33*nsamples(sig_cluster_log))\n",
    "sig_clust_wlog_prune <- prune_taxa(sig_clust_wlog_filter, sig_cluster_log)\n",
    "tax_table(sig_clust_wlog_prune)                                                                   "
   ]
  },
  {
   "cell_type": "code",
   "execution_count": 55,
   "id": "641b9816-28e7-446a-bf3a-8f504cdd2ff8",
   "metadata": {},
   "outputs": [
    {
     "data": {
      "text/html": [
       "'phyloseq'"
      ],
      "text/latex": [
       "'phyloseq'"
      ],
      "text/markdown": [
       "'phyloseq'"
      ],
      "text/plain": [
       "[1] \"phyloseq\"\n",
       "attr(,\"package\")\n",
       "[1] \"phyloseq\""
      ]
     },
     "metadata": {},
     "output_type": "display_data"
    }
   ],
   "source": [
    "class(sig_clust_wlog_prune)"
   ]
  },
  {
   "cell_type": "raw",
   "id": "6e79b757-5f62-405d-8daf-3ca99d849301",
   "metadata": {},
   "source": [
    "## can't do this bc class(sig_clust_wlog_prune) is a phyloseq object\n",
    "\n",
    "clean_sig_wlog_prune <- sig_clust_wlog_prune[sig_clust_wlog_prune$log2FoldChange > 10, ]  \n",
    "clean_sig_wlog_prune "
   ]
  },
  {
   "cell_type": "code",
   "execution_count": null,
   "id": "7537b744-ecb5-4d53-98b7-4d4335b3ca8d",
   "metadata": {},
   "outputs": [],
   "source": []
  }
 ],
 "metadata": {
  "kernelspec": {
   "display_name": "R (phyloseq)",
   "language": "R",
   "name": "phyloseq"
  },
  "language_info": {
   "codemirror_mode": "r",
   "file_extension": ".r",
   "mimetype": "text/x-r-source",
   "name": "R",
   "pygments_lexer": "r",
   "version": "4.2.3"
  }
 },
 "nbformat": 4,
 "nbformat_minor": 5
}
