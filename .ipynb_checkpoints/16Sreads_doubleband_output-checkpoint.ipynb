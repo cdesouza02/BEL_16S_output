{
 "cells": [
  {
   "cell_type": "code",
   "execution_count": 1,
   "id": "d2156f14-b46f-415d-99f2-cf13618f9f66",
   "metadata": {
    "execution": {
     "iopub.execute_input": "2025-09-09T15:21:48.222545Z",
     "iopub.status.busy": "2025-09-09T15:21:48.217170Z",
     "iopub.status.idle": "2025-09-09T15:21:55.215768Z",
     "shell.execute_reply": "2025-09-09T15:21:55.214368Z"
    },
    "papermill": {
     "duration": 7.016619,
     "end_time": "2025-09-09T15:21:55.217737",
     "exception": false,
     "start_time": "2025-09-09T15:21:48.201118",
     "status": "completed"
    },
    "tags": []
   },
   "outputs": [
    {
     "name": "stderr",
     "output_type": "stream",
     "text": [
      "'getOption(\"repos\")' replaces Bioconductor standard repositories, see\n",
      "'help(\"repositories\", package = \"BiocManager\")' for details.\n",
      "Replacement repositories:\n",
      "    CRAN: https://cran.r-project.org\n",
      "\n"
     ]
    },
    {
     "name": "stderr",
     "output_type": "stream",
     "text": [
      "Bioconductor version 3.18 (BiocManager 1.30.22), R 4.3.3 (2024-02-29)\n",
      "\n"
     ]
    },
    {
     "name": "stderr",
     "output_type": "stream",
     "text": [
      "Warning message:\n",
      "“package(s) not installed when version(s) same as or greater than current; use\n",
      "  `force = TRUE` to re-install: 'dada2'”\n"
     ]
    },
    {
     "name": "stderr",
     "output_type": "stream",
     "text": [
      "Old packages: 'Biobase', 'BiocGenerics', 'BiocManager', 'BiocParallel',\n",
      "  'Biostrings', 'DelayedArray', 'evaluate', 'gargle', 'GenomeInfoDb',\n",
      "  'GenomicAlignments', 'GenomicRanges', 'googlesheets4', 'IRanges',\n",
      "  'MatrixGenerics', 'ragg', 'RcppParallel', 'Rhtslib', 'Rsamtools', 'rvest',\n",
      "  'S4Arrays', 'S4Vectors', 'ShortRead', 'stringr', 'SummarizedExperiment',\n",
      "  'textshaping', 'XVector', 'zlibbioc'\n",
      "\n"
     ]
    }
   ],
   "source": [
    "if (!requireNamespace(\"BiocManager\", quietly = TRUE))\n",
    "    install.packages(\"BiocManager\")\n",
    "BiocManager::install(\"dada2\", version = \"3.18\")"
   ]
  },
  {
   "cell_type": "code",
   "execution_count": 2,
   "id": "0e3469a9-cd86-4bd5-8878-c13b5bee2680",
   "metadata": {
    "execution": {
     "iopub.execute_input": "2025-09-09T15:21:55.290607Z",
     "iopub.status.busy": "2025-09-09T15:21:55.258503Z",
     "iopub.status.idle": "2025-09-09T15:22:06.210112Z",
     "shell.execute_reply": "2025-09-09T15:22:06.208376Z"
    },
    "papermill": {
     "duration": 10.977975,
     "end_time": "2025-09-09T15:22:06.212566",
     "exception": false,
     "start_time": "2025-09-09T15:21:55.234591",
     "status": "completed"
    },
    "tags": []
   },
   "outputs": [
    {
     "name": "stderr",
     "output_type": "stream",
     "text": [
      "Loading required package: tidyr\n",
      "\n"
     ]
    },
    {
     "name": "stderr",
     "output_type": "stream",
     "text": [
      "Loading required package: dplyr\n",
      "\n"
     ]
    },
    {
     "name": "stderr",
     "output_type": "stream",
     "text": [
      "\n",
      "Attaching package: ‘dplyr’\n",
      "\n",
      "\n"
     ]
    },
    {
     "name": "stderr",
     "output_type": "stream",
     "text": [
      "The following objects are masked from ‘package:stats’:\n",
      "\n",
      "    filter, lag\n",
      "\n",
      "\n"
     ]
    },
    {
     "name": "stderr",
     "output_type": "stream",
     "text": [
      "The following objects are masked from ‘package:base’:\n",
      "\n",
      "    intersect, setdiff, setequal, union\n",
      "\n",
      "\n"
     ]
    },
    {
     "name": "stderr",
     "output_type": "stream",
     "text": [
      "Loading required package: reshape2\n",
      "\n"
     ]
    },
    {
     "name": "stderr",
     "output_type": "stream",
     "text": [
      "\n",
      "Attaching package: ‘reshape2’\n",
      "\n",
      "\n"
     ]
    },
    {
     "name": "stderr",
     "output_type": "stream",
     "text": [
      "The following object is masked from ‘package:tidyr’:\n",
      "\n",
      "    smiths\n",
      "\n",
      "\n"
     ]
    },
    {
     "name": "stderr",
     "output_type": "stream",
     "text": [
      "Loading required package: ggplot2\n",
      "\n"
     ]
    },
    {
     "name": "stderr",
     "output_type": "stream",
     "text": [
      "Loading required package: Rcpp\n",
      "\n"
     ]
    }
   ],
   "source": [
    "#load libraries\n",
    "require(tidyr)\n",
    "require(dplyr)\n",
    "require(reshape2)\n",
    "require(ggplot2)\n",
    "library(\"dada2\")"
   ]
  },
  {
   "cell_type": "code",
   "execution_count": 3,
   "id": "a8ad16e7-75c3-4a59-8673-f5d8eb095c7e",
   "metadata": {
    "execution": {
     "iopub.execute_input": "2025-09-09T15:22:06.237931Z",
     "iopub.status.busy": "2025-09-09T15:22:06.235714Z",
     "iopub.status.idle": "2025-09-09T15:22:06.259403Z",
     "shell.execute_reply": "2025-09-09T15:22:06.257855Z"
    },
    "papermill": {
     "duration": 0.036794,
     "end_time": "2025-09-09T15:22:06.261496",
     "exception": false,
     "start_time": "2025-09-09T15:22:06.224702",
     "status": "completed"
    },
    "tags": []
   },
   "outputs": [],
   "source": [
    "# load working pcr csv\n",
    "pcr=read.csv(\"/home/caroline_desouza_uml_edu/2_randomized_immune_metagenomics_PCR.csv\")"
   ]
  },
  {
   "cell_type": "code",
   "execution_count": 4,
   "id": "3dc62341-b290-4670-91c6-73a46bd61c93",
   "metadata": {
    "execution": {
     "iopub.execute_input": "2025-09-09T15:22:06.290904Z",
     "iopub.status.busy": "2025-09-09T15:22:06.286868Z",
     "iopub.status.idle": "2025-09-09T15:22:06.330708Z",
     "shell.execute_reply": "2025-09-09T15:22:06.329154Z"
    },
    "papermill": {
     "duration": 0.060643,
     "end_time": "2025-09-09T15:22:06.333061",
     "exception": false,
     "start_time": "2025-09-09T15:22:06.272418",
     "status": "completed"
    },
    "tags": []
   },
   "outputs": [
    {
     "data": {
      "text/html": [
       "<table class=\"dataframe\">\n",
       "<caption>A data.frame: 6 × 12</caption>\n",
       "<thead>\n",
       "\t<tr><th></th><th scope=col>X</th><th scope=col>Tubelabel_species</th><th scope=col>Health_Status</th><th scope=col>Date_Extracted</th><th scope=col>Raw_ng_ul</th><th scope=col>Extraction_physical_location</th><th scope=col>Date_Enriched</th><th scope=col>Microbe_Location</th><th scope=col>colony</th><th scope=col>Date_16S</th><th scope=col>Date_ITS2</th><th scope=col>X16S.double.band</th></tr>\n",
       "\t<tr><th></th><th scope=col>&lt;int&gt;</th><th scope=col>&lt;chr&gt;</th><th scope=col>&lt;chr&gt;</th><th scope=col>&lt;chr&gt;</th><th scope=col>&lt;chr&gt;</th><th scope=col>&lt;chr&gt;</th><th scope=col>&lt;chr&gt;</th><th scope=col>&lt;chr&gt;</th><th scope=col>&lt;chr&gt;</th><th scope=col>&lt;chr&gt;</th><th scope=col>&lt;chr&gt;</th><th scope=col>&lt;chr&gt;</th></tr>\n",
       "</thead>\n",
       "<tbody>\n",
       "\t<tr><th scope=row>1</th><td>1</td><td>052022_BEL_CBC_T1_2_SSID   </td><td>Healthy</td><td>12_2_2024 </td><td>7.73</td><td>UML_NARWHAL_R2_B14, UML_NARWHAL_R2_B33</td><td></td><td></td><td>1_3 </td><td>1_22_2025</td><td>6_26_2025</td><td> </td></tr>\n",
       "\t<tr><th scope=row>2</th><td>2</td><td>092023_BEL_CBC_T1_175_PAST </td><td>Healthy</td><td>1_15_2025 </td><td>2.3 </td><td>UML_NARWHAL_R2_B15                    </td><td></td><td></td><td>1_13</td><td>1_22_2025</td><td>6_26_2025</td><td>y</td></tr>\n",
       "\t<tr><th scope=row>3</th><td>3</td><td>092023_BEL_CBC_T1_175_PAST </td><td>Healthy</td><td>11_8_2024 </td><td>0.14</td><td>UML_NARWHAL_R2_B12                    </td><td></td><td></td><td>1_13</td><td>1_22_2025</td><td>6_26_2025</td><td>y</td></tr>\n",
       "\t<tr><th scope=row>4</th><td>4</td><td>022024_BEL_CBC_T3_851_PSTR </td><td>Healthy</td><td>11_26_2024</td><td>64.2</td><td>UML_NARWHAL_R2_B13                    </td><td></td><td></td><td>3_70</td><td>1_23_2025</td><td>6_26_2025</td><td> </td></tr>\n",
       "\t<tr><th scope=row>5</th><td>5</td><td>082024_BEL_CBC_T4_1609_OFAV</td><td>Healthy</td><td>1_15_2025 </td><td>61.2</td><td>UML_NARWHAL_R2_B15                    </td><td></td><td></td><td>4_78</td><td>1_23_2025</td><td>6_26_2025</td><td>y</td></tr>\n",
       "\t<tr><th scope=row>6</th><td>6</td><td>122023_BEL_CBC_T3_526_SSID </td><td>Healthy</td><td>11_19_2024</td><td>16.4</td><td>UML_NARWHAL_R2_B13                    </td><td></td><td></td><td>3_5 </td><td>1_23_2025</td><td>6_26_2025</td><td> </td></tr>\n",
       "</tbody>\n",
       "</table>\n"
      ],
      "text/latex": [
       "A data.frame: 6 × 12\n",
       "\\begin{tabular}{r|llllllllllll}\n",
       "  & X & Tubelabel\\_species & Health\\_Status & Date\\_Extracted & Raw\\_ng\\_ul & Extraction\\_physical\\_location & Date\\_Enriched & Microbe\\_Location & colony & Date\\_16S & Date\\_ITS2 & X16S.double.band\\\\\n",
       "  & <int> & <chr> & <chr> & <chr> & <chr> & <chr> & <chr> & <chr> & <chr> & <chr> & <chr> & <chr>\\\\\n",
       "\\hline\n",
       "\t1 & 1 & 052022\\_BEL\\_CBC\\_T1\\_2\\_SSID    & Healthy & 12\\_2\\_2024  & 7.73 & UML\\_NARWHAL\\_R2\\_B14, UML\\_NARWHAL\\_R2\\_B33 &  &  & 1\\_3  & 1\\_22\\_2025 & 6\\_26\\_2025 &  \\\\\n",
       "\t2 & 2 & 092023\\_BEL\\_CBC\\_T1\\_175\\_PAST  & Healthy & 1\\_15\\_2025  & 2.3  & UML\\_NARWHAL\\_R2\\_B15                     &  &  & 1\\_13 & 1\\_22\\_2025 & 6\\_26\\_2025 & y\\\\\n",
       "\t3 & 3 & 092023\\_BEL\\_CBC\\_T1\\_175\\_PAST  & Healthy & 11\\_8\\_2024  & 0.14 & UML\\_NARWHAL\\_R2\\_B12                     &  &  & 1\\_13 & 1\\_22\\_2025 & 6\\_26\\_2025 & y\\\\\n",
       "\t4 & 4 & 022024\\_BEL\\_CBC\\_T3\\_851\\_PSTR  & Healthy & 11\\_26\\_2024 & 64.2 & UML\\_NARWHAL\\_R2\\_B13                     &  &  & 3\\_70 & 1\\_23\\_2025 & 6\\_26\\_2025 &  \\\\\n",
       "\t5 & 5 & 082024\\_BEL\\_CBC\\_T4\\_1609\\_OFAV & Healthy & 1\\_15\\_2025  & 61.2 & UML\\_NARWHAL\\_R2\\_B15                     &  &  & 4\\_78 & 1\\_23\\_2025 & 6\\_26\\_2025 & y\\\\\n",
       "\t6 & 6 & 122023\\_BEL\\_CBC\\_T3\\_526\\_SSID  & Healthy & 11\\_19\\_2024 & 16.4 & UML\\_NARWHAL\\_R2\\_B13                     &  &  & 3\\_5  & 1\\_23\\_2025 & 6\\_26\\_2025 &  \\\\\n",
       "\\end{tabular}\n"
      ],
      "text/markdown": [
       "\n",
       "A data.frame: 6 × 12\n",
       "\n",
       "| <!--/--> | X &lt;int&gt; | Tubelabel_species &lt;chr&gt; | Health_Status &lt;chr&gt; | Date_Extracted &lt;chr&gt; | Raw_ng_ul &lt;chr&gt; | Extraction_physical_location &lt;chr&gt; | Date_Enriched &lt;chr&gt; | Microbe_Location &lt;chr&gt; | colony &lt;chr&gt; | Date_16S &lt;chr&gt; | Date_ITS2 &lt;chr&gt; | X16S.double.band &lt;chr&gt; |\n",
       "|---|---|---|---|---|---|---|---|---|---|---|---|---|\n",
       "| 1 | 1 | 052022_BEL_CBC_T1_2_SSID    | Healthy | 12_2_2024  | 7.73 | UML_NARWHAL_R2_B14, UML_NARWHAL_R2_B33 | <!----> | <!----> | 1_3  | 1_22_2025 | 6_26_2025 | <!----> |\n",
       "| 2 | 2 | 092023_BEL_CBC_T1_175_PAST  | Healthy | 1_15_2025  | 2.3  | UML_NARWHAL_R2_B15                     | <!----> | <!----> | 1_13 | 1_22_2025 | 6_26_2025 | y |\n",
       "| 3 | 3 | 092023_BEL_CBC_T1_175_PAST  | Healthy | 11_8_2024  | 0.14 | UML_NARWHAL_R2_B12                     | <!----> | <!----> | 1_13 | 1_22_2025 | 6_26_2025 | y |\n",
       "| 4 | 4 | 022024_BEL_CBC_T3_851_PSTR  | Healthy | 11_26_2024 | 64.2 | UML_NARWHAL_R2_B13                     | <!----> | <!----> | 3_70 | 1_23_2025 | 6_26_2025 | <!----> |\n",
       "| 5 | 5 | 082024_BEL_CBC_T4_1609_OFAV | Healthy | 1_15_2025  | 61.2 | UML_NARWHAL_R2_B15                     | <!----> | <!----> | 4_78 | 1_23_2025 | 6_26_2025 | y |\n",
       "| 6 | 6 | 122023_BEL_CBC_T3_526_SSID  | Healthy | 11_19_2024 | 16.4 | UML_NARWHAL_R2_B13                     | <!----> | <!----> | 3_5  | 1_23_2025 | 6_26_2025 | <!----> |\n",
       "\n"
      ],
      "text/plain": [
       "  X Tubelabel_species           Health_Status Date_Extracted Raw_ng_ul\n",
       "1 1 052022_BEL_CBC_T1_2_SSID    Healthy       12_2_2024      7.73     \n",
       "2 2 092023_BEL_CBC_T1_175_PAST  Healthy       1_15_2025      2.3      \n",
       "3 3 092023_BEL_CBC_T1_175_PAST  Healthy       11_8_2024      0.14     \n",
       "4 4 022024_BEL_CBC_T3_851_PSTR  Healthy       11_26_2024     64.2     \n",
       "5 5 082024_BEL_CBC_T4_1609_OFAV Healthy       1_15_2025      61.2     \n",
       "6 6 122023_BEL_CBC_T3_526_SSID  Healthy       11_19_2024     16.4     \n",
       "  Extraction_physical_location           Date_Enriched Microbe_Location colony\n",
       "1 UML_NARWHAL_R2_B14, UML_NARWHAL_R2_B33                                1_3   \n",
       "2 UML_NARWHAL_R2_B15                                                    1_13  \n",
       "3 UML_NARWHAL_R2_B12                                                    1_13  \n",
       "4 UML_NARWHAL_R2_B13                                                    3_70  \n",
       "5 UML_NARWHAL_R2_B15                                                    4_78  \n",
       "6 UML_NARWHAL_R2_B13                                                    3_5   \n",
       "  Date_16S  Date_ITS2 X16S.double.band\n",
       "1 1_22_2025 6_26_2025                 \n",
       "2 1_22_2025 6_26_2025 y               \n",
       "3 1_22_2025 6_26_2025 y               \n",
       "4 1_23_2025 6_26_2025                 \n",
       "5 1_23_2025 6_26_2025 y               \n",
       "6 1_23_2025 6_26_2025                 "
      ]
     },
     "metadata": {},
     "output_type": "display_data"
    }
   ],
   "source": [
    "head(pcr)"
   ]
  },
  {
   "cell_type": "code",
   "execution_count": 5,
   "id": "43c13420-29f9-4486-8a1c-5c388fedc31d",
   "metadata": {
    "execution": {
     "iopub.execute_input": "2025-09-09T15:22:06.356480Z",
     "iopub.status.busy": "2025-09-09T15:22:06.354773Z",
     "iopub.status.idle": "2025-09-09T15:22:06.378000Z",
     "shell.execute_reply": "2025-09-09T15:22:06.376427Z"
    },
    "papermill": {
     "duration": 0.034237,
     "end_time": "2025-09-09T15:22:06.380298",
     "exception": false,
     "start_time": "2025-09-09T15:22:06.346061",
     "status": "completed"
    },
    "tags": []
   },
   "outputs": [],
   "source": [
    "#isolate samples that have been through 16S pcr\n",
    "pcr <- pcr %>%\n",
    "  filter(!is.na(Date_16S) & Date_16S != \"NA\")"
   ]
  },
  {
   "cell_type": "code",
   "execution_count": 6,
   "id": "1bfda03f-35e3-40e5-a437-e8d0b4b8bf8e",
   "metadata": {
    "execution": {
     "iopub.execute_input": "2025-09-09T15:22:06.410365Z",
     "iopub.status.busy": "2025-09-09T15:22:06.406467Z",
     "iopub.status.idle": "2025-09-09T15:22:06.430285Z",
     "shell.execute_reply": "2025-09-09T15:22:06.428754Z"
    },
    "papermill": {
     "duration": 0.039402,
     "end_time": "2025-09-09T15:22:06.432499",
     "exception": false,
     "start_time": "2025-09-09T15:22:06.393097",
     "status": "completed"
    },
    "tags": []
   },
   "outputs": [],
   "source": [
    "#new col where double is in binary code\n",
    "pcr <- pcr %>%\n",
    "  mutate(double = ifelse(X16S.double.band == \"y\", 1, 0))"
   ]
  },
  {
   "cell_type": "code",
   "execution_count": 7,
   "id": "58f157ae-7f4a-4542-81e7-93aa2b82edf6",
   "metadata": {
    "execution": {
     "iopub.execute_input": "2025-09-09T15:22:06.460618Z",
     "iopub.status.busy": "2025-09-09T15:22:06.456726Z",
     "iopub.status.idle": "2025-09-09T15:22:06.476710Z",
     "shell.execute_reply": "2025-09-09T15:22:06.475196Z"
    },
    "papermill": {
     "duration": 0.034198,
     "end_time": "2025-09-09T15:22:06.478663",
     "exception": false,
     "start_time": "2025-09-09T15:22:06.444465",
     "status": "completed"
    },
    "tags": []
   },
   "outputs": [],
   "source": [
    "pcr_clean = pcr[c(\"Tubelabel_species\", \"double\")]"
   ]
  },
  {
   "cell_type": "code",
   "execution_count": 8,
   "id": "aa9d5820-dff0-4260-b0a2-52db7c2a94a8",
   "metadata": {
    "execution": {
     "iopub.execute_input": "2025-09-09T15:22:06.509361Z",
     "iopub.status.busy": "2025-09-09T15:22:06.505352Z",
     "iopub.status.idle": "2025-09-09T15:22:06.535300Z",
     "shell.execute_reply": "2025-09-09T15:22:06.533764Z"
    },
    "papermill": {
     "duration": 0.045741,
     "end_time": "2025-09-09T15:22:06.537459",
     "exception": false,
     "start_time": "2025-09-09T15:22:06.491718",
     "status": "completed"
    },
    "tags": []
   },
   "outputs": [
    {
     "data": {
      "text/html": [
       "<table class=\"dataframe\">\n",
       "<caption>A data.frame: 6 × 2</caption>\n",
       "<thead>\n",
       "\t<tr><th></th><th scope=col>Tubelabel_species</th><th scope=col>double</th></tr>\n",
       "\t<tr><th></th><th scope=col>&lt;chr&gt;</th><th scope=col>&lt;dbl&gt;</th></tr>\n",
       "</thead>\n",
       "<tbody>\n",
       "\t<tr><th scope=row>1</th><td>052022_BEL_CBC_T1_2_SSID   </td><td>0</td></tr>\n",
       "\t<tr><th scope=row>2</th><td>092023_BEL_CBC_T1_175_PAST </td><td>1</td></tr>\n",
       "\t<tr><th scope=row>3</th><td>092023_BEL_CBC_T1_175_PAST </td><td>1</td></tr>\n",
       "\t<tr><th scope=row>4</th><td>022024_BEL_CBC_T3_851_PSTR </td><td>0</td></tr>\n",
       "\t<tr><th scope=row>5</th><td>082024_BEL_CBC_T4_1609_OFAV</td><td>1</td></tr>\n",
       "\t<tr><th scope=row>6</th><td>122023_BEL_CBC_T3_526_SSID </td><td>0</td></tr>\n",
       "</tbody>\n",
       "</table>\n"
      ],
      "text/latex": [
       "A data.frame: 6 × 2\n",
       "\\begin{tabular}{r|ll}\n",
       "  & Tubelabel\\_species & double\\\\\n",
       "  & <chr> & <dbl>\\\\\n",
       "\\hline\n",
       "\t1 & 052022\\_BEL\\_CBC\\_T1\\_2\\_SSID    & 0\\\\\n",
       "\t2 & 092023\\_BEL\\_CBC\\_T1\\_175\\_PAST  & 1\\\\\n",
       "\t3 & 092023\\_BEL\\_CBC\\_T1\\_175\\_PAST  & 1\\\\\n",
       "\t4 & 022024\\_BEL\\_CBC\\_T3\\_851\\_PSTR  & 0\\\\\n",
       "\t5 & 082024\\_BEL\\_CBC\\_T4\\_1609\\_OFAV & 1\\\\\n",
       "\t6 & 122023\\_BEL\\_CBC\\_T3\\_526\\_SSID  & 0\\\\\n",
       "\\end{tabular}\n"
      ],
      "text/markdown": [
       "\n",
       "A data.frame: 6 × 2\n",
       "\n",
       "| <!--/--> | Tubelabel_species &lt;chr&gt; | double &lt;dbl&gt; |\n",
       "|---|---|---|\n",
       "| 1 | 052022_BEL_CBC_T1_2_SSID    | 0 |\n",
       "| 2 | 092023_BEL_CBC_T1_175_PAST  | 1 |\n",
       "| 3 | 092023_BEL_CBC_T1_175_PAST  | 1 |\n",
       "| 4 | 022024_BEL_CBC_T3_851_PSTR  | 0 |\n",
       "| 5 | 082024_BEL_CBC_T4_1609_OFAV | 1 |\n",
       "| 6 | 122023_BEL_CBC_T3_526_SSID  | 0 |\n",
       "\n"
      ],
      "text/plain": [
       "  Tubelabel_species           double\n",
       "1 052022_BEL_CBC_T1_2_SSID    0     \n",
       "2 092023_BEL_CBC_T1_175_PAST  1     \n",
       "3 092023_BEL_CBC_T1_175_PAST  1     \n",
       "4 022024_BEL_CBC_T3_851_PSTR  0     \n",
       "5 082024_BEL_CBC_T4_1609_OFAV 1     \n",
       "6 122023_BEL_CBC_T3_526_SSID  0     "
      ]
     },
     "metadata": {},
     "output_type": "display_data"
    }
   ],
   "source": [
    "head(pcr_clean)"
   ]
  },
  {
   "cell_type": "code",
   "execution_count": 9,
   "id": "1e2a7bff-ea5f-47a0-b9b8-e04138e7387a",
   "metadata": {
    "execution": {
     "iopub.execute_input": "2025-09-09T15:22:06.562113Z",
     "iopub.status.busy": "2025-09-09T15:22:06.560347Z",
     "iopub.status.idle": "2025-09-09T15:22:06.577780Z",
     "shell.execute_reply": "2025-09-09T15:22:06.576280Z"
    },
    "papermill": {
     "duration": 0.031184,
     "end_time": "2025-09-09T15:22:06.579890",
     "exception": false,
     "start_time": "2025-09-09T15:22:06.548706",
     "status": "completed"
    },
    "tags": []
   },
   "outputs": [],
   "source": [
    "#load 16S sequences\n",
    "path=\"/scratch3/workspace/caroline_desouza_uml_edu-CBC_immune_microbe/split_reads/16S\""
   ]
  },
  {
   "cell_type": "code",
   "execution_count": 10,
   "id": "0314a8c4-7ec0-494f-806a-59b241c82a8c",
   "metadata": {
    "execution": {
     "iopub.execute_input": "2025-09-09T15:22:06.618263Z",
     "iopub.status.busy": "2025-09-09T15:22:06.614208Z",
     "iopub.status.idle": "2025-09-09T15:22:07.174637Z",
     "shell.execute_reply": "2025-09-09T15:22:07.172520Z"
    },
    "papermill": {
     "duration": 0.578165,
     "end_time": "2025-09-09T15:22:07.177352",
     "exception": false,
     "start_time": "2025-09-09T15:22:06.599187",
     "status": "completed"
    },
    "tags": []
   },
   "outputs": [],
   "source": [
    "#running dada2 on 16S sequences\n",
    "fnFs = sort(list.files(path, pattern=\"_R1_16S.fastq\", full.names = TRUE))\n",
    "fnRs = sort(list.files(path, pattern=\"_R2_16S.fastq\", full.names = TRUE))"
   ]
  },
  {
   "cell_type": "code",
   "execution_count": 11,
   "id": "6697e999-c322-4e23-89f5-e7218da04841",
   "metadata": {
    "execution": {
     "iopub.execute_input": "2025-09-09T15:22:07.205463Z",
     "iopub.status.busy": "2025-09-09T15:22:07.203783Z",
     "iopub.status.idle": "2025-09-09T15:22:07.217326Z",
     "shell.execute_reply": "2025-09-09T15:22:07.215972Z"
    },
    "papermill": {
     "duration": 0.026169,
     "end_time": "2025-09-09T15:22:07.218902",
     "exception": false,
     "start_time": "2025-09-09T15:22:07.192733",
     "status": "completed"
    },
    "tags": []
   },
   "outputs": [],
   "source": [
    "sample.names = sapply(strsplit(basename(fnFs), \"_\"), `[`, 1)"
   ]
  },
  {
   "cell_type": "code",
   "execution_count": 12,
   "id": "ca79758b-7acd-4c64-84a1-5bb3458beefd",
   "metadata": {
    "execution": {
     "iopub.execute_input": "2025-09-09T15:22:07.245727Z",
     "iopub.status.busy": "2025-09-09T15:22:07.242866Z",
     "iopub.status.idle": "2025-09-09T15:22:25.147470Z",
     "shell.execute_reply": "2025-09-09T15:22:25.145965Z"
    },
    "papermill": {
     "duration": 17.923671,
     "end_time": "2025-09-09T15:22:25.152980",
     "exception": false,
     "start_time": "2025-09-09T15:22:07.229309",
     "status": "completed"
    },
    "tags": []
   },
   "outputs": [
    {
     "name": "stderr",
     "output_type": "stream",
     "text": [
      "Warning message:\n",
      "“\u001b[1m\u001b[22mRemoved 13 rows containing missing values or values outside the scale range\n",
      "(`geom_tile()`).”\n"
     ]
    },
    {
     "name": "stderr",
     "output_type": "stream",
     "text": [
      "Warning message:\n",
      "“\u001b[1m\u001b[22mRemoved 44 rows containing missing values or values outside the scale range\n",
      "(`geom_tile()`).”\n"
     ]
    },
    {
     "data": {
      "image/png": "[encoded data removed]",
      "text/plain": [
       "plot without title"
      ]
     },
     "metadata": {
      "image/png": {
       "height": 420,
       "width": 420
      }
     },
     "output_type": "display_data"
    },
    {
     "data": {
      "image/png": "[encoded data removed]",
      "text/plain": [
       "plot without title"
      ]
     },
     "metadata": {
      "image/png": {
       "height": 420,
       "width": 420
      }
     },
     "output_type": "display_data"
    }
   ],
   "source": [
    "# quality profiles for R1 and R2\n",
    "plotQualityProfile(fnFs[1:2])\n",
    "plotQualityProfile(fnRs[1:2])"
   ]
  },
  {
   "cell_type": "code",
   "execution_count": 13,
   "id": "a413eed8-cc11-48e3-bd41-04fcf8e14edd",
   "metadata": {
    "execution": {
     "iopub.execute_input": "2025-09-09T15:22:25.193802Z",
     "iopub.status.busy": "2025-09-09T15:22:25.190242Z",
     "iopub.status.idle": "2025-09-09T15:22:25.213821Z",
     "shell.execute_reply": "2025-09-09T15:22:25.212388Z"
    },
    "papermill": {
     "duration": 0.046559,
     "end_time": "2025-09-09T15:22:25.215931",
     "exception": false,
     "start_time": "2025-09-09T15:22:25.169372",
     "status": "completed"
    },
    "tags": []
   },
   "outputs": [],
   "source": [
    "#set up where the filtered outputs will be stored\n",
    "filtFs = file.path(path, \"filtered\", paste0(sample.names, \"_F_16S_filt.fastq.gz\"))\n",
    "filtRs = file.path(path, \"filtered\", paste0(sample.names, \"_R_16S_filt.fastq.gz\"))\n",
    "names(filtFs) = sample.names\n",
    "names(filtRs) = sample.names"
   ]
  },
  {
   "cell_type": "code",
   "execution_count": 14,
   "id": "d88a69bb-a118-4fec-b3f0-459d11539cb5",
   "metadata": {
    "execution": {
     "iopub.execute_input": "2025-09-09T15:22:25.255807Z",
     "iopub.status.busy": "2025-09-09T15:22:25.253620Z",
     "iopub.status.idle": "2025-09-09T15:51:10.765209Z",
     "shell.execute_reply": "2025-09-09T15:51:10.762345Z"
    },
    "papermill": {
     "duration": 1725.550544,
     "end_time": "2025-09-09T15:51:10.785760",
     "exception": false,
     "start_time": "2025-09-09T15:22:25.235216",
     "status": "completed"
    },
    "tags": []
   },
   "outputs": [
    {
     "name": "stdout",
     "output_type": "stream",
     "text": [
      "                                             reads.in reads.out\n",
      "012024-BEL-CBC-T1-557-SSID_S56_R1_16S.fastq    189570    175359\n",
      "012024-BEL-CBC-T1-563-PSTR_S68_R1_16S.fastq     98511     89002\n",
      "012024-BEL-CBC-T2-601-OFAV_S58_R1_16S.fastq    280308    263276\n",
      "012024-BEL-CBC-T2-605-SSID_S83_R1_16S.fastq      1116       924\n",
      "012024-BEL-CBC-T3-627-PAST_S81_R1_16S.fastq      6549      5112\n",
      "012024-BEL-CBC-T3-631-MCAV_S61_R1_16S.fastq    536790    494756\n",
      "012024-BEL-CBC-T3-633-MCAV_S69_R1_16S.fastq    163169    154646\n",
      "012024-BEL-CBC-T3-637-SSID_S70_R1_16S.fastq     22749     21087\n",
      "012024-BEL-CBC-T4-661-PSTR_S71_R1_16S.fastq    464328    425153\n",
      "012024-BEL-CBC-T4-663-PSTR_S82_R1_16S.fastq      1295      1039\n",
      "022024-BEL-CBC-T1-775-OANN_S93_R1_16S.fastq      2146      1732\n",
      "022024-BEL-CBC-T1-776-PSTR_S59_R1_16S.fastq    115016    104031\n",
      "022024-BEL-CBC-T2-804-OFAV_S87_R1_16S.fastq      5900      4830\n",
      "022024-BEL-CBC-T2-814-MCAV_S1_R1_16S.fastq       3376      2794\n",
      "022024-BEL-CBC-T3-851-PSTR_S13_R1_16S.fastq    647444    550445\n",
      "022024-BEL-CBC-T4-874-OFAV_S89_R1_16S.fastq      2133      1766\n",
      "022024-BEL-CBC-T4-875-MCAV_S76_R1_16S.fastq    198640    188376\n",
      "042024-BEL-CBC-T1-927-PSTR_S67_R1_16S.fastq     61333     57598\n",
      "042024-BEL-CBC-T2-1014-OFAV_S95_R1_16S.fastq     2258      1900\n",
      "042024-BEL-CBC-T2-1018-PAST_S15_R1_16S.fastq  2381999   2239539\n",
      "042024-BEL-CBC-T2-1026-OFAV_S91_R1_16S.fastq      680       592\n",
      "042024-BEL-CBC-T2-1144-MCAV_S3_R1_16S.fastq       751       622\n",
      "042024-BEL-CBC-T3-960-OFAV_S4_R1_16S.fastq        487       397\n",
      "042024-BEL-CBC-T4-1046-PSTR_S60_R1_16S.fastq   205803    158090\n",
      "042024-BEL-CBC-T4-1047-MCAV_S92_R1_16S.fastq      478       392\n",
      "052022-BEL-CBC-T1-2-SSID_S8_R1_16S.fastq         1016       796\n",
      "052022-BEL-CBC-T2-1-SSID_S57_R1_16S.fastq      580209    537638\n",
      "052022-BEL-CBC-T2-71-OFAV_S21_R1_16S.fastq       2606      2114\n",
      "052022-BEL-CBC-T2-9-PAST_S23_R1_16S.fastq        2943      2459\n",
      "052022-BEL-CBC-T3-11-PAST_S19_R1_16S.fastq        540       426\n",
      "052022-BEL-CBC-T3-13-MCAV_S5_R1_16S.fastq        3730      2996\n",
      "052022-BEL-CBC-T3-19-MCAV_S6_R1_16S.fastq        1347      1083\n",
      "052022-BEL-CBC-T3-66-OFAV_S40_R1_16S.fastq     107989     96814\n",
      "052022-BEL-CBC-T3-8-PAST_S17_R1_16S.fastq        2442      1902\n",
      "062019-BEL-CBC-T1-21-PAST_S16_R1_16S.fastq      46776     40162\n",
      "062019-BEL-CBC-T1-22-MCAV_S18_R1_16S.fastq        705       587\n",
      "062019-BEL-CBC-T2-18-MCAV_S79_R1_16S.fastq      63110     58377\n",
      "062019-BEL-CBC-T3-1-MCAV_S48_R1_16S.fastq       88225     82910\n",
      "062024-BEL-CBC-T1-1347-OANN_S65_R1_16S.fastq   123368    116352\n",
      "062024-BEL-CBC-T1-1353-MCAV_S86_R1_16S.fastq     3135      2488\n",
      "062024-BEL-CBC-T2-1375-SSID_S33_R1_16S.fastq  9815885   9239604\n",
      "062024-BEL-CBC-T2-1396-MCAV_S49_R1_16S.fastq   919507    871747\n",
      "062024-BEL-CBC-T3-1415-MCAV_S50_R1_16S.fastq   196009    184588\n",
      "062024-BEL-CBC-T3-1433-PSTR_S2_R1_16S.fastq      1443      1292\n",
      "062024-BEL-CBC-T3-1439-OFAV_S41_R1_16S.fastq     2626      2198\n",
      "062024-BEL-CBC-T3-1442-OFAV_S35_R1_16S.fastq   628275    592349\n",
      "082024-BEL-CBC-T1-1479-PAST_S47_R1_16S.fastq     3366      2969\n",
      "082024-BEL-CBC-T1-1482-OANN_S36_R1_16S.fastq   123299    114540\n",
      "082024-BEL-CBC-T2-1510-PAST_S94_R1_16S.fastq     1340      1120\n",
      "082024-BEL-CBC-T3-1554-OANN_S14_R1_16S.fastq   928732    840011\n",
      "082024-BEL-CBC-T3-1558-MCAV_S34_R1_16S.fastq   330412    308088\n",
      "082024-BEL-CBC-T3-1560-PSTR_S54_R1_16S.fastq   412870    387466\n",
      "082024-BEL-CBC-T3-1561-MCAV_S38_R1_16S.fastq   419863    391091\n",
      "082024-BEL-CBC-T3-1562-OFAV_S31_R1_16S.fastq  6252156   5933767\n",
      "082024-BEL-CBC-T4-1606-PSTR_S25_R1_16S.fastq   275304    256348\n",
      "082024-BEL-CBC-T4-1607-PSTR_S90_R1_16S.fastq      441       367\n",
      "082024-BEL-CBC-T4-1609-OFAV_S12_R1_16S.fastq   983222    932394\n",
      "092023-BEL-CBC-T1-171-PAST_S42_R1_16S.fastq      1556      1398\n",
      "092023-BEL-CBC-T1-175-PAST_S7_R1_16S.fastq       3420      2852\n",
      "092023-BEL-CBC-T2-174-SSID_S46_R1_16S.fastq      2321      2063\n",
      "092023-BEL-CBC-T2-181-PAST_S63_R1_16S.fastq    864136    782181\n",
      "092023-BEL-CBC-T2-184-MCAV_S37_R1_16S.fastq  11706940  10962487\n",
      "092023-BEL-CBC-T3-171-OFAV_S78_R1_16S.fastq   2039540   1922952\n",
      "092023-BEL-CBC-T3-173-OFAV_S84_R1_16S.fastq      2186      1742\n",
      "092023-BEL-CBC-T3-178-PAST_S74_R1_16S.fastq    768250    714495\n",
      "092023-BEL-CBC-T3-195-PSTR_S66_R1_16S.fastq     46134     43218\n",
      "092023-BEL-CBC-T4-92-PSTR_S43_R1_16S.fastq        623       500\n",
      "092023-BEL-CBC-T4-94-MCAV_S85_R1_16S.fastq       6222      4829\n",
      "102019-BEL-CBC-T1-29-PSTR_S22_R1_16S.fastq       1479      1225\n",
      "112023-BEL-CBC-T1-276-MCAV_S26_R1_16S.fastq    150280    141602\n",
      "112023-BEL-CBC-T2-304-OFAV_S72_R1_16S.fastq    801290    744380\n",
      "112023-BEL-CBC-T2-307-SSID_S62_R1_16S.fastq    849647    794125\n",
      "112023-BEL-CBC-T2-310-MCAV_S55_R1_16S.fastq    466146    415350\n",
      "112023-BEL-CBC-T3-352-PAST_S30_R1_16S.fastq    853171    709347\n",
      "112023-BEL-CBC-T3-355-PSTR_S10_R1_16S.fastq    100623     94015\n",
      "112023-BEL-CBC-T4-399-MCAV_S9_R1_16S.fastq     265563    240294\n",
      "112023-BEL-CBC-T4-401-MCAV_S53_R1_16S.fastq    267630    252243\n",
      "122022-BEL-CBC-T3-123-PAST_S20_R1_16S.fastq       528       429\n",
      "122022-BEL-CBC-T3-124-PAST_S64_R1_16S.fastq    531846    416042\n",
      "122022-BEL-CBC-T3-126-SSID_S77_R1_16S.fastq    449752    388877\n",
      "122022-BEL-CBC-T3-127-OFAV_S32_R1_16S.fastq    883470    823510\n",
      "122022-BEL-CBC-T3-141-PSTR_S80_R1_16S.fastq    642773    603880\n",
      "122022-BEL-CBC-T3-142-MCAV_S24_R1_16S.fastq     37542     34751\n",
      "122023-BEL-CBC-T1-507-PAST_S51_R1_16S.fastq    536020    492982\n",
      "122023-BEL-CBC-T1-508-SSID_S75_R1_16S.fastq    400350    379134\n",
      "122023-BEL-CBC-T2-513-SSID_S45_R1_16S.fastq      2606      2170\n",
      "122023-BEL-CBC-T2-515-PAST_S73_R1_16S.fastq    332780    311305\n",
      "122023-BEL-CBC-T2-518-MCAV_S27_R1_16S.fastq    171458    160835\n",
      "122023-BEL-CBC-T2-522-MCAV_S88_R1_16S.fastq      2040      1557\n",
      "122023-BEL-CBC-T3-524-OFAV_S39_R1_16S.fastq    474846    443097\n",
      "122023-BEL-CBC-T3-525-PAST_S29_R1_16S.fastq    588421    539732\n",
      "122023-BEL-CBC-T3-526-SSID_S11_R1_16S.fastq    176648    164150\n",
      "122023-BEL-CBC-T3-531-PSTR_S28_R1_16S.fastq    171959    160331\n",
      "122023-BEL-CBC-T3-532-MCAV_S52_R1_16S.fastq    552104    507495\n",
      "122023-BEL-CBC-T4-539-MCAV_S44_R1_16S.fastq       784       682\n",
      "Negative_S96_R1_16S.fastq                         667       537\n",
      "Undetermined_S0_R1_16S.fastq                  1026032    540104\n"
     ]
    }
   ],
   "source": [
    "# actually filtering and trimming sequences\n",
    "# if too few reads passing the filter consider relaxing maxEE\n",
    "out <- filterAndTrim(fnFs, filtFs, fnRs, filtRs, truncLen=c(250,230),\n",
    "              maxN=0, maxEE=c(2,2), truncQ=2, rm.phix=TRUE,\n",
    "              compress=TRUE, multithread=TRUE, verbose=TRUE) # On Windows set multithread=FALSE\n",
    "print(out)"
   ]
  },
  {
   "cell_type": "code",
   "execution_count": 15,
   "id": "fa5c58da-ecda-4a5e-b1e1-9ed72c8050fe",
   "metadata": {
    "execution": {
     "iopub.execute_input": "2025-09-09T15:51:10.903180Z",
     "iopub.status.busy": "2025-09-09T15:51:10.901626Z",
     "iopub.status.idle": "2025-09-09T15:51:10.923685Z",
     "shell.execute_reply": "2025-09-09T15:51:10.921324Z"
    },
    "papermill": {
     "duration": 0.131872,
     "end_time": "2025-09-09T15:51:10.926565",
     "exception": false,
     "start_time": "2025-09-09T15:51:10.794693",
     "status": "completed"
    },
    "tags": []
   },
   "outputs": [],
   "source": [
    "#make a file of the outputs of 16S reads with tube label species\n",
    "write.csv(out, file=\"/work/pi_sarah_gignouxwolfsohn_uml_edu/caroline/outputs/16Sreads.csv\")"
   ]
  },
  {
   "cell_type": "code",
   "execution_count": 16,
   "id": "66a2dc0b-5520-4650-ac8b-40b5e0613821",
   "metadata": {
    "execution": {
     "iopub.execute_input": "2025-09-09T15:51:10.958203Z",
     "iopub.status.busy": "2025-09-09T15:51:10.955721Z",
     "iopub.status.idle": "2025-09-09T15:51:10.976613Z",
     "shell.execute_reply": "2025-09-09T15:51:10.974920Z"
    },
    "papermill": {
     "duration": 0.036218,
     "end_time": "2025-09-09T15:51:10.978775",
     "exception": false,
     "start_time": "2025-09-09T15:51:10.942557",
     "status": "completed"
    },
    "tags": []
   },
   "outputs": [],
   "source": [
    "#use this file to add columns to pcr_split\n",
    "reads=read.csv(\"/work/pi_sarah_gignouxwolfsohn_uml_edu/caroline/outputs/16Sreads.csv\")"
   ]
  },
  {
   "cell_type": "code",
   "execution_count": 17,
   "id": "5b0d5a2c-57ad-4974-85c6-9c4cd743e22f",
   "metadata": {
    "execution": {
     "iopub.execute_input": "2025-09-09T15:51:11.008074Z",
     "iopub.status.busy": "2025-09-09T15:51:11.006074Z",
     "iopub.status.idle": "2025-09-09T15:51:11.074675Z",
     "shell.execute_reply": "2025-09-09T15:51:11.072914Z"
    },
    "papermill": {
     "duration": 0.08492,
     "end_time": "2025-09-09T15:51:11.076813",
     "exception": false,
     "start_time": "2025-09-09T15:51:10.991893",
     "status": "completed"
    },
    "tags": []
   },
   "outputs": [
    {
     "data": {
      "text/html": [
       "<table class=\"dataframe\">\n",
       "<caption>A data.frame: 6 × 3</caption>\n",
       "<thead>\n",
       "\t<tr><th></th><th scope=col>reads.in</th><th scope=col>reads.out</th><th scope=col>Tubelabel_species</th></tr>\n",
       "\t<tr><th></th><th scope=col>&lt;int&gt;</th><th scope=col>&lt;int&gt;</th><th scope=col>&lt;chr&gt;</th></tr>\n",
       "</thead>\n",
       "<tbody>\n",
       "\t<tr><th scope=row>1</th><td>189570</td><td>175359</td><td>012024_BEL_CBC_T1_557_SSID</td></tr>\n",
       "\t<tr><th scope=row>2</th><td> 98511</td><td> 89002</td><td>012024_BEL_CBC_T1_563_PSTR</td></tr>\n",
       "\t<tr><th scope=row>3</th><td>280308</td><td>263276</td><td>012024_BEL_CBC_T2_601_OFAV</td></tr>\n",
       "\t<tr><th scope=row>4</th><td>  1116</td><td>   924</td><td>012024_BEL_CBC_T2_605_SSID</td></tr>\n",
       "\t<tr><th scope=row>5</th><td>  6549</td><td>  5112</td><td>012024_BEL_CBC_T3_627_PAST</td></tr>\n",
       "\t<tr><th scope=row>6</th><td>536790</td><td>494756</td><td>012024_BEL_CBC_T3_631_MCAV</td></tr>\n",
       "</tbody>\n",
       "</table>\n"
      ],
      "text/latex": [
       "A data.frame: 6 × 3\n",
       "\\begin{tabular}{r|lll}\n",
       "  & reads.in & reads.out & Tubelabel\\_species\\\\\n",
       "  & <int> & <int> & <chr>\\\\\n",
       "\\hline\n",
       "\t1 & 189570 & 175359 & 012024\\_BEL\\_CBC\\_T1\\_557\\_SSID\\\\\n",
       "\t2 &  98511 &  89002 & 012024\\_BEL\\_CBC\\_T1\\_563\\_PSTR\\\\\n",
       "\t3 & 280308 & 263276 & 012024\\_BEL\\_CBC\\_T2\\_601\\_OFAV\\\\\n",
       "\t4 &   1116 &    924 & 012024\\_BEL\\_CBC\\_T2\\_605\\_SSID\\\\\n",
       "\t5 &   6549 &   5112 & 012024\\_BEL\\_CBC\\_T3\\_627\\_PAST\\\\\n",
       "\t6 & 536790 & 494756 & 012024\\_BEL\\_CBC\\_T3\\_631\\_MCAV\\\\\n",
       "\\end{tabular}\n"
      ],
      "text/markdown": [
       "\n",
       "A data.frame: 6 × 3\n",
       "\n",
       "| <!--/--> | reads.in &lt;int&gt; | reads.out &lt;int&gt; | Tubelabel_species &lt;chr&gt; |\n",
       "|---|---|---|---|\n",
       "| 1 | 189570 | 175359 | 012024_BEL_CBC_T1_557_SSID |\n",
       "| 2 |  98511 |  89002 | 012024_BEL_CBC_T1_563_PSTR |\n",
       "| 3 | 280308 | 263276 | 012024_BEL_CBC_T2_601_OFAV |\n",
       "| 4 |   1116 |    924 | 012024_BEL_CBC_T2_605_SSID |\n",
       "| 5 |   6549 |   5112 | 012024_BEL_CBC_T3_627_PAST |\n",
       "| 6 | 536790 | 494756 | 012024_BEL_CBC_T3_631_MCAV |\n",
       "\n"
      ],
      "text/plain": [
       "  reads.in reads.out Tubelabel_species         \n",
       "1 189570   175359    012024_BEL_CBC_T1_557_SSID\n",
       "2  98511    89002    012024_BEL_CBC_T1_563_PSTR\n",
       "3 280308   263276    012024_BEL_CBC_T2_601_OFAV\n",
       "4   1116      924    012024_BEL_CBC_T2_605_SSID\n",
       "5   6549     5112    012024_BEL_CBC_T3_627_PAST\n",
       "6 536790   494756    012024_BEL_CBC_T3_631_MCAV"
      ]
     },
     "metadata": {},
     "output_type": "display_data"
    }
   ],
   "source": [
    "#change format of tubelabel_species exactly match pcr_clean \n",
    "# Extract and reformat filename to \"Tubelabel_species\"\n",
    "reads <- reads %>%\n",
    "  mutate(\n",
    "    Tubelabel_species = gsub(\"-\", \"_\", sub(\"(_S\\\\d+_R\\\\d+_16S\\\\.fastq)$\", \"\", X))\n",
    "  )\n",
    "\n",
    "#no need to use old sequence file column\n",
    "reads = reads[c(\"reads.in\", \"reads.out\", \"Tubelabel_species\")]\n",
    "# View the new data frame\n",
    "head(reads)"
   ]
  },
  {
   "cell_type": "code",
   "execution_count": 18,
   "id": "ee1e5248-2cb2-4a9f-aced-eb299d8e4cc7",
   "metadata": {
    "execution": {
     "iopub.execute_input": "2025-09-09T15:51:11.106052Z",
     "iopub.status.busy": "2025-09-09T15:51:11.103690Z",
     "iopub.status.idle": "2025-09-09T15:51:11.136218Z",
     "shell.execute_reply": "2025-09-09T15:51:11.134490Z"
    },
    "papermill": {
     "duration": 0.045947,
     "end_time": "2025-09-09T15:51:11.138262",
     "exception": false,
     "start_time": "2025-09-09T15:51:11.092315",
     "status": "completed"
    },
    "tags": []
   },
   "outputs": [
    {
     "data": {
      "text/html": [
       "<table class=\"dataframe\">\n",
       "<caption>A data.frame: 6 × 4</caption>\n",
       "<thead>\n",
       "\t<tr><th></th><th scope=col>Tubelabel_species</th><th scope=col>double</th><th scope=col>reads.in</th><th scope=col>reads.out</th></tr>\n",
       "\t<tr><th></th><th scope=col>&lt;chr&gt;</th><th scope=col>&lt;dbl&gt;</th><th scope=col>&lt;int&gt;</th><th scope=col>&lt;int&gt;</th></tr>\n",
       "</thead>\n",
       "<tbody>\n",
       "\t<tr><th scope=row>1</th><td>012024_BEL_CBC_T1_557_SSID</td><td>1</td><td>189570</td><td>175359</td></tr>\n",
       "\t<tr><th scope=row>2</th><td>012024_BEL_CBC_T1_563_PSTR</td><td>0</td><td> 98511</td><td> 89002</td></tr>\n",
       "\t<tr><th scope=row>3</th><td>012024_BEL_CBC_T2_601_OFAV</td><td>0</td><td>280308</td><td>263276</td></tr>\n",
       "\t<tr><th scope=row>4</th><td>012024_BEL_CBC_T2_605_SSID</td><td>1</td><td>  1116</td><td>   924</td></tr>\n",
       "\t<tr><th scope=row>5</th><td>012024_BEL_CBC_T3_627_PAST</td><td>1</td><td>  6549</td><td>  5112</td></tr>\n",
       "\t<tr><th scope=row>6</th><td>012024_BEL_CBC_T3_631_MCAV</td><td>0</td><td>536790</td><td>494756</td></tr>\n",
       "</tbody>\n",
       "</table>\n"
      ],
      "text/latex": [
       "A data.frame: 6 × 4\n",
       "\\begin{tabular}{r|llll}\n",
       "  & Tubelabel\\_species & double & reads.in & reads.out\\\\\n",
       "  & <chr> & <dbl> & <int> & <int>\\\\\n",
       "\\hline\n",
       "\t1 & 012024\\_BEL\\_CBC\\_T1\\_557\\_SSID & 1 & 189570 & 175359\\\\\n",
       "\t2 & 012024\\_BEL\\_CBC\\_T1\\_563\\_PSTR & 0 &  98511 &  89002\\\\\n",
       "\t3 & 012024\\_BEL\\_CBC\\_T2\\_601\\_OFAV & 0 & 280308 & 263276\\\\\n",
       "\t4 & 012024\\_BEL\\_CBC\\_T2\\_605\\_SSID & 1 &   1116 &    924\\\\\n",
       "\t5 & 012024\\_BEL\\_CBC\\_T3\\_627\\_PAST & 1 &   6549 &   5112\\\\\n",
       "\t6 & 012024\\_BEL\\_CBC\\_T3\\_631\\_MCAV & 0 & 536790 & 494756\\\\\n",
       "\\end{tabular}\n"
      ],
      "text/markdown": [
       "\n",
       "A data.frame: 6 × 4\n",
       "\n",
       "| <!--/--> | Tubelabel_species &lt;chr&gt; | double &lt;dbl&gt; | reads.in &lt;int&gt; | reads.out &lt;int&gt; |\n",
       "|---|---|---|---|---|\n",
       "| 1 | 012024_BEL_CBC_T1_557_SSID | 1 | 189570 | 175359 |\n",
       "| 2 | 012024_BEL_CBC_T1_563_PSTR | 0 |  98511 |  89002 |\n",
       "| 3 | 012024_BEL_CBC_T2_601_OFAV | 0 | 280308 | 263276 |\n",
       "| 4 | 012024_BEL_CBC_T2_605_SSID | 1 |   1116 |    924 |\n",
       "| 5 | 012024_BEL_CBC_T3_627_PAST | 1 |   6549 |   5112 |\n",
       "| 6 | 012024_BEL_CBC_T3_631_MCAV | 0 | 536790 | 494756 |\n",
       "\n"
      ],
      "text/plain": [
       "  Tubelabel_species          double reads.in reads.out\n",
       "1 012024_BEL_CBC_T1_557_SSID 1      189570   175359   \n",
       "2 012024_BEL_CBC_T1_563_PSTR 0       98511    89002   \n",
       "3 012024_BEL_CBC_T2_601_OFAV 0      280308   263276   \n",
       "4 012024_BEL_CBC_T2_605_SSID 1        1116      924   \n",
       "5 012024_BEL_CBC_T3_627_PAST 1        6549     5112   \n",
       "6 012024_BEL_CBC_T3_631_MCAV 0      536790   494756   "
      ]
     },
     "metadata": {},
     "output_type": "display_data"
    }
   ],
   "source": [
    "# inner join \n",
    "reads_doubleband <- merge(x=pcr_clean,y=reads, \n",
    "                by=\"Tubelabel_species\")\n",
    "head(reads_doubleband)"
   ]
  },
  {
   "cell_type": "code",
   "execution_count": 19,
   "id": "fa07e87b-4d8f-469e-8c49-0320b6eb06ca",
   "metadata": {
    "execution": {
     "iopub.execute_input": "2025-09-09T15:51:11.163686Z",
     "iopub.status.busy": "2025-09-09T15:51:11.161842Z",
     "iopub.status.idle": "2025-09-09T15:51:11.181776Z",
     "shell.execute_reply": "2025-09-09T15:51:11.180073Z"
    },
    "papermill": {
     "duration": 0.031763,
     "end_time": "2025-09-09T15:51:11.183842",
     "exception": false,
     "start_time": "2025-09-09T15:51:11.152079",
     "status": "completed"
    },
    "tags": []
   },
   "outputs": [],
   "source": [
    "#make spreadsheet with # of reads and double banding status\n",
    "write.csv(reads_doubleband, file=\"/work/pi_sarah_gignouxwolfsohn_uml_edu/caroline/outputs/16Sreads_doubleband.csv\")"
   ]
  },
  {
   "cell_type": "code",
   "execution_count": 1,
   "id": "419fbfb7-0e86-4790-9785-740a666e2c13",
   "metadata": {},
   "outputs": [],
   "source": [
    "reads_double=read.csv(\"/work/pi_sarah_gignouxwolfsohn_uml_edu/caroline/outputs/16Sreads_doubleband.csv\")"
   ]
  },
  {
   "cell_type": "code",
   "execution_count": 2,
   "id": "b17702bf-7ee0-4586-bc49-71212d950921",
   "metadata": {},
   "outputs": [],
   "source": [
    "#new column with total number of reads\n",
    "reads_double$total.reads <- reads_double$reads.in + reads_double$reads.out"
   ]
  },
  {
   "cell_type": "code",
   "execution_count": 4,
   "id": "5ecf99b6-8622-4bfe-960d-112f85ad0592",
   "metadata": {},
   "outputs": [
    {
     "data": {
      "text/html": [
       "<table class=\"dataframe\">\n",
       "<caption>A data.frame: 6 × 6</caption>\n",
       "<thead>\n",
       "\t<tr><th></th><th scope=col>X</th><th scope=col>Tubelabel_species</th><th scope=col>double</th><th scope=col>reads.in</th><th scope=col>reads.out</th><th scope=col>total.reads</th></tr>\n",
       "\t<tr><th></th><th scope=col>&lt;int&gt;</th><th scope=col>&lt;chr&gt;</th><th scope=col>&lt;int&gt;</th><th scope=col>&lt;int&gt;</th><th scope=col>&lt;int&gt;</th><th scope=col>&lt;int&gt;</th></tr>\n",
       "</thead>\n",
       "<tbody>\n",
       "\t<tr><th scope=row>1</th><td>1</td><td>012024_BEL_CBC_T1_557_SSID</td><td>1</td><td>189570</td><td>175359</td><td> 364929</td></tr>\n",
       "\t<tr><th scope=row>2</th><td>2</td><td>012024_BEL_CBC_T1_563_PSTR</td><td>0</td><td> 98511</td><td> 89002</td><td> 187513</td></tr>\n",
       "\t<tr><th scope=row>3</th><td>3</td><td>012024_BEL_CBC_T2_601_OFAV</td><td>0</td><td>280308</td><td>263276</td><td> 543584</td></tr>\n",
       "\t<tr><th scope=row>4</th><td>4</td><td>012024_BEL_CBC_T2_605_SSID</td><td>1</td><td>  1116</td><td>   924</td><td>   2040</td></tr>\n",
       "\t<tr><th scope=row>5</th><td>5</td><td>012024_BEL_CBC_T3_627_PAST</td><td>1</td><td>  6549</td><td>  5112</td><td>  11661</td></tr>\n",
       "\t<tr><th scope=row>6</th><td>6</td><td>012024_BEL_CBC_T3_631_MCAV</td><td>0</td><td>536790</td><td>494756</td><td>1031546</td></tr>\n",
       "</tbody>\n",
       "</table>\n"
      ],
      "text/latex": [
       "A data.frame: 6 × 6\n",
       "\\begin{tabular}{r|llllll}\n",
       "  & X & Tubelabel\\_species & double & reads.in & reads.out & total.reads\\\\\n",
       "  & <int> & <chr> & <int> & <int> & <int> & <int>\\\\\n",
       "\\hline\n",
       "\t1 & 1 & 012024\\_BEL\\_CBC\\_T1\\_557\\_SSID & 1 & 189570 & 175359 &  364929\\\\\n",
       "\t2 & 2 & 012024\\_BEL\\_CBC\\_T1\\_563\\_PSTR & 0 &  98511 &  89002 &  187513\\\\\n",
       "\t3 & 3 & 012024\\_BEL\\_CBC\\_T2\\_601\\_OFAV & 0 & 280308 & 263276 &  543584\\\\\n",
       "\t4 & 4 & 012024\\_BEL\\_CBC\\_T2\\_605\\_SSID & 1 &   1116 &    924 &    2040\\\\\n",
       "\t5 & 5 & 012024\\_BEL\\_CBC\\_T3\\_627\\_PAST & 1 &   6549 &   5112 &   11661\\\\\n",
       "\t6 & 6 & 012024\\_BEL\\_CBC\\_T3\\_631\\_MCAV & 0 & 536790 & 494756 & 1031546\\\\\n",
       "\\end{tabular}\n"
      ],
      "text/markdown": [
       "\n",
       "A data.frame: 6 × 6\n",
       "\n",
       "| <!--/--> | X &lt;int&gt; | Tubelabel_species &lt;chr&gt; | double &lt;int&gt; | reads.in &lt;int&gt; | reads.out &lt;int&gt; | total.reads &lt;int&gt; |\n",
       "|---|---|---|---|---|---|---|\n",
       "| 1 | 1 | 012024_BEL_CBC_T1_557_SSID | 1 | 189570 | 175359 |  364929 |\n",
       "| 2 | 2 | 012024_BEL_CBC_T1_563_PSTR | 0 |  98511 |  89002 |  187513 |\n",
       "| 3 | 3 | 012024_BEL_CBC_T2_601_OFAV | 0 | 280308 | 263276 |  543584 |\n",
       "| 4 | 4 | 012024_BEL_CBC_T2_605_SSID | 1 |   1116 |    924 |    2040 |\n",
       "| 5 | 5 | 012024_BEL_CBC_T3_627_PAST | 1 |   6549 |   5112 |   11661 |\n",
       "| 6 | 6 | 012024_BEL_CBC_T3_631_MCAV | 0 | 536790 | 494756 | 1031546 |\n",
       "\n"
      ],
      "text/plain": [
       "  X Tubelabel_species          double reads.in reads.out total.reads\n",
       "1 1 012024_BEL_CBC_T1_557_SSID 1      189570   175359     364929    \n",
       "2 2 012024_BEL_CBC_T1_563_PSTR 0       98511    89002     187513    \n",
       "3 3 012024_BEL_CBC_T2_601_OFAV 0      280308   263276     543584    \n",
       "4 4 012024_BEL_CBC_T2_605_SSID 1        1116      924       2040    \n",
       "5 5 012024_BEL_CBC_T3_627_PAST 1        6549     5112      11661    \n",
       "6 6 012024_BEL_CBC_T3_631_MCAV 0      536790   494756    1031546    "
      ]
     },
     "metadata": {},
     "output_type": "display_data"
    }
   ],
   "source": [
    "head(reads_double)"
   ]
  },
  {
   "cell_type": "code",
   "execution_count": 5,
   "id": "e1c7a7cb-cf34-4262-a7b4-b9eb314d8466",
   "metadata": {},
   "outputs": [
    {
     "name": "stderr",
     "output_type": "stream",
     "text": [
      "Loading required package: tidyr\n",
      "\n",
      "Loading required package: dplyr\n",
      "\n",
      "\n",
      "Attaching package: ‘dplyr’\n",
      "\n",
      "\n",
      "The following objects are masked from ‘package:stats’:\n",
      "\n",
      "    filter, lag\n",
      "\n",
      "\n",
      "The following objects are masked from ‘package:base’:\n",
      "\n",
      "    intersect, setdiff, setequal, union\n",
      "\n",
      "\n",
      "Loading required package: reshape2\n",
      "\n",
      "\n",
      "Attaching package: ‘reshape2’\n",
      "\n",
      "\n",
      "The following object is masked from ‘package:tidyr’:\n",
      "\n",
      "    smiths\n",
      "\n",
      "\n",
      "Loading required package: ggplot2\n",
      "\n"
     ]
    }
   ],
   "source": [
    "require(tidyr)\n",
    "require(dplyr)\n",
    "require(reshape2)\n",
    "require(ggplot2)"
   ]
  },
  {
   "cell_type": "code",
   "execution_count": 6,
   "id": "a4912061-c2c6-424e-b319-bbe7d67c9a92",
   "metadata": {},
   "outputs": [
    {
     "data": {
      "image/png": "[encoded data removed]",
      "text/plain": [
       "plot without title"
      ]
     },
     "metadata": {
      "image/png": {
       "height": 420,
       "width": 420
      }
     },
     "output_type": "display_data"
    }
   ],
   "source": [
    "#using a violin plot to visualize the distribution of length of reads (y) and y or no double banding (x)\n",
    "ggplot(reads_double, aes(x = factor(double), y = total.reads)) +\n",
    "  geom_violin(trim = FALSE, fill = \"lightblue\") +\n",
    "  geom_boxplot(width = 0.1) +\n",
    "  labs(x = \"Double Banding (0 = No, 1 = Yes)\", y = \"Total Reads\",\n",
    "       title = \"Distribution of Total Reads by Double Banding\") +\n",
    "  theme_minimal()"
   ]
  },
  {
   "cell_type": "code",
   "execution_count": 7,
   "id": "2bb3759c-7657-42d1-a21f-77f366c17e9d",
   "metadata": {},
   "outputs": [
    {
     "data": {
      "text/plain": [
       "\n",
       "\tWelch Two Sample t-test\n",
       "\n",
       "data:  total.reads by double\n",
       "t = -1.0375, df = 18.881, p-value = 0.3126\n",
       "alternative hypothesis: true difference in means between group 0 and group 1 is not equal to 0\n",
       "95 percent confidence interval:\n",
       " -3591341  1211592\n",
       "sample estimates:\n",
       "mean in group 0 mean in group 1 \n",
       "       853923.3       2043797.6 \n"
      ]
     },
     "metadata": {},
     "output_type": "display_data"
    },
    {
     "data": {
      "text/plain": [
       "\n",
       "\tWilcoxon rank sum test with continuity correction\n",
       "\n",
       "data:  total.reads by double\n",
       "W = 461, p-value = 0.04385\n",
       "alternative hypothesis: true location shift is not equal to 0\n"
      ]
     },
     "metadata": {},
     "output_type": "display_data"
    }
   ],
   "source": [
    "#statistical tests\n",
    "\n",
    "# t-test (if data is normally distributed)\n",
    "t.test(total.reads ~ double, data = reads_double)\n",
    "\n",
    "# Wilcoxon Test (more robust, my data is not normally distributed)\n",
    "wilcox.test(total.reads ~ double, data = reads_double)"
   ]
  },
  {
   "cell_type": "code",
   "execution_count": null,
   "id": "36ec864c-6710-4b65-887a-ce213a57c64c",
   "metadata": {},
   "outputs": [],
   "source": []
  }
 ],
 "metadata": {
  "kernelspec": {
   "display_name": "R [conda env:dada2]",
   "language": "R",
   "name": "dada2"
  },
  "language_info": {
   "codemirror_mode": "r",
   "file_extension": ".r",
   "mimetype": "text/x-r-source",
   "name": "R",
   "pygments_lexer": "r",
   "version": "4.3.3"
  },
  "papermill": {
   "default_parameters": {},
   "duration": 1767.607108,
   "end_time": "2025-09-09T15:51:11.423190",
   "environment_variables": {},
   "exception": null,
   "input_path": "16S_reads_vs_doubleband.ipynb",
   "output_path": "./outputs/16Sreads_doubleband_output.ipynb",
   "parameters": {},
   "start_time": "2025-09-09T15:21:43.816082",
   "version": "2.6.0"
  }
 },
 "nbformat": 4,
 "nbformat_minor": 5
}
