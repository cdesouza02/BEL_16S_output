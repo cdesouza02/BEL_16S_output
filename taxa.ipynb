{
 "cells": [
  {
   "cell_type": "code",
   "execution_count": null,
   "id": "e5b68140-712b-4f9c-a497-4166dee7d259",
   "metadata": {},
   "outputs": [],
   "source": []
  },
  {
   "cell_type": "code",
   "execution_count": null,
   "id": "e7a44e0e-65cb-4cd1-af62-e3e6ded2beaf",
   "metadata": {},
   "outputs": [],
   "source": [
    "require(data.table)\n",
    "require(dplyr)\n",
    "require(tidyverse)\n",
    "require(dada2)\n",
    "require(phyloseq)\n",
    "require(genefilter)\n",
    "require(ggplot2)\n",
    "require(vegan)\n",
    "require(RColorBrewer)\n",
    "require(metacoder)\n",
    "options(repr.plot.width=20, repr.plot.height=15)\n",
    "supressWarnings()"
   ]
  },
  {
   "cell_type": "code",
   "execution_count": null,
   "id": "ab9f2c31-1964-440b-8419-58c6c741b9ab",
   "metadata": {},
   "outputs": [],
   "source": [
    "ps<-readRDS(file = \"/work/pi_sarah_gignouxwolfsohn_uml_edu/caroline/RDS/ps.rds\")\n",
    "#removing any taxa that don't show up in any samples to speed up the process\n",
    "ps <- prune_taxa(taxa_sums(ps) > 0, ps)"
   ]
  },
  {
   "cell_type": "code",
   "execution_count": null,
   "id": "7bae6d67-f493-4d15-a033-56837582e17f",
   "metadata": {},
   "outputs": [],
   "source": [
    "#normalizing ps by converting rawcounts into relative abundances\n",
    "#so samples with more reads wont be over represented\n",
    "#using ps bc only to the count data (OTU table), while preserving the rest of the object\n",
    "ps_norm = transform_sample_counts(ps, function(x) 1E6 * x / sum(x))"
   ]
  },
  {
   "cell_type": "code",
   "execution_count": null,
   "id": "1660e60b-fa6b-432a-ac71-dd02fbd12311",
   "metadata": {},
   "outputs": [],
   "source": [
    "#isolate just bacteria\n",
    "ps_norm_bac=subset_taxa(ps_norm, Kingdom==\"Bacteria\")\n",
    "ps_norm_bac"
   ]
  },
  {
   "cell_type": "code",
   "execution_count": null,
   "id": "e25d3a2e-955a-4df8-adcc-476a39f5478e",
   "metadata": {},
   "outputs": [],
   "source": [
    "#remove chloroplast order\n",
    "ps_norm_nochlo=subset_taxa(ps_norm_bac, Order!=\"Chloroplast\")\n",
    "ps_norm_nochlo"
   ]
  },
  {
   "cell_type": "code",
   "execution_count": null,
   "id": "84efd311-4c38-47b5-8af7-1eee2e1f09df",
   "metadata": {},
   "outputs": [],
   "source": [
    "theme_set(theme_bw())"
   ]
  },
  {
   "cell_type": "code",
   "execution_count": null,
   "id": "4fd9766a-89b3-4d10-9c57-8e2179206f31",
   "metadata": {},
   "outputs": [],
   "source": [
    "#choosing plot colors \n",
    "mycolors= colorRampPalette(brewer.pal(8, \"Set3\"))(4)"
   ]
  },
  {
   "cell_type": "code",
   "execution_count": null,
   "id": "f8d25cbe-ae46-46de-ab00-6b8fab3a47f6",
   "metadata": {},
   "outputs": [],
   "source": [
    "ps_norm_bac_glom=tax_glom(ps_norm_bac, taxrank"
   ]
  },
  {
   "cell_type": "code",
   "execution_count": null,
   "id": "31a68fc0-f5fa-4bc7-8c05-ff2b939dc80a",
   "metadata": {},
   "outputs": [],
   "source": [
    "#plot after removing chloroplast\n",
    "top100 <- names(sort(taxa_sums(ps_norm_nochlo), decreasing=TRUE))[1:100] \n",
    "#ps.top20 <- transform_sample_counts(ps_norm, function(OTU) OTU/sum(OTU)) \n",
    "ps.top100 <- prune_taxa(top100, ps_norm_nochlo) \n",
    "plot_bar(ps.top100, fill=\"Order\") + facet_wrap(~species, scales=\"free_x\")"
   ]
  }
 ],
 "metadata": {
  "kernelspec": {
   "display_name": "R (phyloseq)",
   "language": "R",
   "name": "phyloseq"
  },
  "language_info": {
   "codemirror_mode": "r",
   "file_extension": ".r",
   "mimetype": "text/x-r-source",
   "name": "R",
   "pygments_lexer": "r",
   "version": "4.2.3"
  }
 },
 "nbformat": 4,
 "nbformat_minor": 5
}
